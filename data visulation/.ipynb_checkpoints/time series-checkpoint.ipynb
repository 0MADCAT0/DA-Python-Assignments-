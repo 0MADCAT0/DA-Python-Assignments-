{
 "cells": [
  {
   "cell_type": "code",
   "execution_count": 1,
   "metadata": {},
   "outputs": [],
   "source": [
    "from pandas_datareader import data\n",
    "from datetime import datetime\n",
    "import matplotlib.pyplot as plt"
   ]
  },
  {
   "cell_type": "code",
   "execution_count": 2,
   "metadata": {},
   "outputs": [],
   "source": [
    "start = datetime(2020, 1, 1)\n",
    "end = datetime(2020, 8, 30)"
   ]
  },
  {
   "cell_type": "code",
   "execution_count": 3,
   "metadata": {},
   "outputs": [],
   "source": [
    "f = data.DataReader(name=\"AAPL\", data_source=\"av-daily\", start=start, end=end, api_key = \"CI1UUA44YI12JAB3\")"
   ]
  },
  {
   "cell_type": "code",
   "execution_count": 4,
   "metadata": {},
   "outputs": [
    {
     "data": {
      "text/html": [
       "<div>\n",
       "<style scoped>\n",
       "    .dataframe tbody tr th:only-of-type {\n",
       "        vertical-align: middle;\n",
       "    }\n",
       "\n",
       "    .dataframe tbody tr th {\n",
       "        vertical-align: top;\n",
       "    }\n",
       "\n",
       "    .dataframe thead th {\n",
       "        text-align: right;\n",
       "    }\n",
       "</style>\n",
       "<table border=\"1\" class=\"dataframe\">\n",
       "  <thead>\n",
       "    <tr style=\"text-align: right;\">\n",
       "      <th></th>\n",
       "      <th>open</th>\n",
       "      <th>high</th>\n",
       "      <th>low</th>\n",
       "      <th>close</th>\n",
       "      <th>volume</th>\n",
       "    </tr>\n",
       "  </thead>\n",
       "  <tbody>\n",
       "    <tr>\n",
       "      <th>2020-01-02</th>\n",
       "      <td>296.24</td>\n",
       "      <td>300.60</td>\n",
       "      <td>295.19</td>\n",
       "      <td>300.35</td>\n",
       "      <td>33870100</td>\n",
       "    </tr>\n",
       "    <tr>\n",
       "      <th>2020-01-03</th>\n",
       "      <td>297.15</td>\n",
       "      <td>300.58</td>\n",
       "      <td>296.50</td>\n",
       "      <td>297.43</td>\n",
       "      <td>36580700</td>\n",
       "    </tr>\n",
       "    <tr>\n",
       "      <th>2020-01-06</th>\n",
       "      <td>293.79</td>\n",
       "      <td>299.96</td>\n",
       "      <td>292.75</td>\n",
       "      <td>299.80</td>\n",
       "      <td>29596800</td>\n",
       "    </tr>\n",
       "    <tr>\n",
       "      <th>2020-01-07</th>\n",
       "      <td>299.84</td>\n",
       "      <td>300.90</td>\n",
       "      <td>297.48</td>\n",
       "      <td>298.39</td>\n",
       "      <td>27218000</td>\n",
       "    </tr>\n",
       "    <tr>\n",
       "      <th>2020-01-08</th>\n",
       "      <td>297.16</td>\n",
       "      <td>304.44</td>\n",
       "      <td>297.16</td>\n",
       "      <td>303.19</td>\n",
       "      <td>33019800</td>\n",
       "    </tr>\n",
       "  </tbody>\n",
       "</table>\n",
       "</div>"
      ],
      "text/plain": [
       "              open    high     low   close    volume\n",
       "2020-01-02  296.24  300.60  295.19  300.35  33870100\n",
       "2020-01-03  297.15  300.58  296.50  297.43  36580700\n",
       "2020-01-06  293.79  299.96  292.75  299.80  29596800\n",
       "2020-01-07  299.84  300.90  297.48  298.39  27218000\n",
       "2020-01-08  297.16  304.44  297.16  303.19  33019800"
      ]
     },
     "execution_count": 4,
     "metadata": {},
     "output_type": "execute_result"
    }
   ],
   "source": [
    "f.head()"
   ]
  },
  {
   "cell_type": "code",
   "execution_count": 5,
   "metadata": {},
   "outputs": [
    {
     "data": {
      "text/html": [
       "<div>\n",
       "<style scoped>\n",
       "    .dataframe tbody tr th:only-of-type {\n",
       "        vertical-align: middle;\n",
       "    }\n",
       "\n",
       "    .dataframe tbody tr th {\n",
       "        vertical-align: top;\n",
       "    }\n",
       "\n",
       "    .dataframe thead th {\n",
       "        text-align: right;\n",
       "    }\n",
       "</style>\n",
       "<table border=\"1\" class=\"dataframe\">\n",
       "  <thead>\n",
       "    <tr style=\"text-align: right;\">\n",
       "      <th></th>\n",
       "      <th>open</th>\n",
       "      <th>high</th>\n",
       "      <th>low</th>\n",
       "      <th>close</th>\n",
       "      <th>volume</th>\n",
       "    </tr>\n",
       "  </thead>\n",
       "  <tbody>\n",
       "    <tr>\n",
       "      <th>2020-08-24</th>\n",
       "      <td>514.7900</td>\n",
       "      <td>515.1400</td>\n",
       "      <td>495.745</td>\n",
       "      <td>503.43</td>\n",
       "      <td>86484442</td>\n",
       "    </tr>\n",
       "    <tr>\n",
       "      <th>2020-08-25</th>\n",
       "      <td>498.7900</td>\n",
       "      <td>500.7172</td>\n",
       "      <td>492.210</td>\n",
       "      <td>499.30</td>\n",
       "      <td>52873947</td>\n",
       "    </tr>\n",
       "    <tr>\n",
       "      <th>2020-08-26</th>\n",
       "      <td>504.7165</td>\n",
       "      <td>507.9700</td>\n",
       "      <td>500.330</td>\n",
       "      <td>506.09</td>\n",
       "      <td>40755567</td>\n",
       "    </tr>\n",
       "    <tr>\n",
       "      <th>2020-08-27</th>\n",
       "      <td>508.5700</td>\n",
       "      <td>509.9400</td>\n",
       "      <td>495.330</td>\n",
       "      <td>500.04</td>\n",
       "      <td>38888096</td>\n",
       "    </tr>\n",
       "    <tr>\n",
       "      <th>2020-08-28</th>\n",
       "      <td>504.0500</td>\n",
       "      <td>505.7700</td>\n",
       "      <td>498.310</td>\n",
       "      <td>499.23</td>\n",
       "      <td>46907479</td>\n",
       "    </tr>\n",
       "  </tbody>\n",
       "</table>\n",
       "</div>"
      ],
      "text/plain": [
       "                open      high      low   close    volume\n",
       "2020-08-24  514.7900  515.1400  495.745  503.43  86484442\n",
       "2020-08-25  498.7900  500.7172  492.210  499.30  52873947\n",
       "2020-08-26  504.7165  507.9700  500.330  506.09  40755567\n",
       "2020-08-27  508.5700  509.9400  495.330  500.04  38888096\n",
       "2020-08-28  504.0500  505.7700  498.310  499.23  46907479"
      ]
     },
     "execution_count": 5,
     "metadata": {},
     "output_type": "execute_result"
    }
   ],
   "source": [
    "f.tail()"
   ]
  },
  {
   "cell_type": "code",
   "execution_count": 6,
   "metadata": {},
   "outputs": [],
   "source": [
    "gogle = data.DataReader(name=\"GOOG\", data_source=\"av-daily\", start=start, end=end, api_key = \"CI1UUA44YI12JAB3\")"
   ]
  },
  {
   "cell_type": "code",
   "execution_count": 7,
   "metadata": {},
   "outputs": [
    {
     "data": {
      "text/html": [
       "<div>\n",
       "<style scoped>\n",
       "    .dataframe tbody tr th:only-of-type {\n",
       "        vertical-align: middle;\n",
       "    }\n",
       "\n",
       "    .dataframe tbody tr th {\n",
       "        vertical-align: top;\n",
       "    }\n",
       "\n",
       "    .dataframe thead th {\n",
       "        text-align: right;\n",
       "    }\n",
       "</style>\n",
       "<table border=\"1\" class=\"dataframe\">\n",
       "  <thead>\n",
       "    <tr style=\"text-align: right;\">\n",
       "      <th></th>\n",
       "      <th>open</th>\n",
       "      <th>high</th>\n",
       "      <th>low</th>\n",
       "      <th>close</th>\n",
       "      <th>volume</th>\n",
       "    </tr>\n",
       "  </thead>\n",
       "  <tbody>\n",
       "    <tr>\n",
       "      <th>2020-01-02</th>\n",
       "      <td>1341.55</td>\n",
       "      <td>1368.14</td>\n",
       "      <td>1341.55</td>\n",
       "      <td>1367.37</td>\n",
       "      <td>1406731</td>\n",
       "    </tr>\n",
       "    <tr>\n",
       "      <th>2020-01-03</th>\n",
       "      <td>1347.86</td>\n",
       "      <td>1372.50</td>\n",
       "      <td>1345.54</td>\n",
       "      <td>1360.66</td>\n",
       "      <td>1187006</td>\n",
       "    </tr>\n",
       "    <tr>\n",
       "      <th>2020-01-06</th>\n",
       "      <td>1350.00</td>\n",
       "      <td>1396.50</td>\n",
       "      <td>1350.00</td>\n",
       "      <td>1394.21</td>\n",
       "      <td>1733149</td>\n",
       "    </tr>\n",
       "    <tr>\n",
       "      <th>2020-01-07</th>\n",
       "      <td>1397.94</td>\n",
       "      <td>1402.99</td>\n",
       "      <td>1390.38</td>\n",
       "      <td>1393.34</td>\n",
       "      <td>1511693</td>\n",
       "    </tr>\n",
       "    <tr>\n",
       "      <th>2020-01-08</th>\n",
       "      <td>1392.08</td>\n",
       "      <td>1411.58</td>\n",
       "      <td>1390.84</td>\n",
       "      <td>1404.32</td>\n",
       "      <td>1529177</td>\n",
       "    </tr>\n",
       "  </tbody>\n",
       "</table>\n",
       "</div>"
      ],
      "text/plain": [
       "               open     high      low    close   volume\n",
       "2020-01-02  1341.55  1368.14  1341.55  1367.37  1406731\n",
       "2020-01-03  1347.86  1372.50  1345.54  1360.66  1187006\n",
       "2020-01-06  1350.00  1396.50  1350.00  1394.21  1733149\n",
       "2020-01-07  1397.94  1402.99  1390.38  1393.34  1511693\n",
       "2020-01-08  1392.08  1411.58  1390.84  1404.32  1529177"
      ]
     },
     "execution_count": 7,
     "metadata": {},
     "output_type": "execute_result"
    }
   ],
   "source": [
    "gogle.head()"
   ]
  },
  {
   "cell_type": "code",
   "execution_count": 8,
   "metadata": {},
   "outputs": [
    {
     "data": {
      "text/html": [
       "<div>\n",
       "<style scoped>\n",
       "    .dataframe tbody tr th:only-of-type {\n",
       "        vertical-align: middle;\n",
       "    }\n",
       "\n",
       "    .dataframe tbody tr th {\n",
       "        vertical-align: top;\n",
       "    }\n",
       "\n",
       "    .dataframe thead th {\n",
       "        text-align: right;\n",
       "    }\n",
       "</style>\n",
       "<table border=\"1\" class=\"dataframe\">\n",
       "  <thead>\n",
       "    <tr style=\"text-align: right;\">\n",
       "      <th></th>\n",
       "      <th>open</th>\n",
       "      <th>high</th>\n",
       "      <th>low</th>\n",
       "      <th>close</th>\n",
       "      <th>volume</th>\n",
       "    </tr>\n",
       "  </thead>\n",
       "  <tbody>\n",
       "    <tr>\n",
       "      <th>2020-08-24</th>\n",
       "      <td>1593.98</td>\n",
       "      <td>1614.1700</td>\n",
       "      <td>1580.57</td>\n",
       "      <td>1588.20</td>\n",
       "      <td>1410229</td>\n",
       "    </tr>\n",
       "    <tr>\n",
       "      <th>2020-08-25</th>\n",
       "      <td>1582.07</td>\n",
       "      <td>1611.6200</td>\n",
       "      <td>1582.07</td>\n",
       "      <td>1608.22</td>\n",
       "      <td>2132084</td>\n",
       "    </tr>\n",
       "    <tr>\n",
       "      <th>2020-08-26</th>\n",
       "      <td>1608.00</td>\n",
       "      <td>1659.2200</td>\n",
       "      <td>1603.60</td>\n",
       "      <td>1652.38</td>\n",
       "      <td>3581072</td>\n",
       "    </tr>\n",
       "    <tr>\n",
       "      <th>2020-08-27</th>\n",
       "      <td>1653.68</td>\n",
       "      <td>1655.0000</td>\n",
       "      <td>1625.75</td>\n",
       "      <td>1634.33</td>\n",
       "      <td>1861602</td>\n",
       "    </tr>\n",
       "    <tr>\n",
       "      <th>2020-08-28</th>\n",
       "      <td>1633.49</td>\n",
       "      <td>1647.1699</td>\n",
       "      <td>1630.75</td>\n",
       "      <td>1644.41</td>\n",
       "      <td>1499782</td>\n",
       "    </tr>\n",
       "  </tbody>\n",
       "</table>\n",
       "</div>"
      ],
      "text/plain": [
       "               open       high      low    close   volume\n",
       "2020-08-24  1593.98  1614.1700  1580.57  1588.20  1410229\n",
       "2020-08-25  1582.07  1611.6200  1582.07  1608.22  2132084\n",
       "2020-08-26  1608.00  1659.2200  1603.60  1652.38  3581072\n",
       "2020-08-27  1653.68  1655.0000  1625.75  1634.33  1861602\n",
       "2020-08-28  1633.49  1647.1699  1630.75  1644.41  1499782"
      ]
     },
     "execution_count": 8,
     "metadata": {},
     "output_type": "execute_result"
    }
   ],
   "source": [
    "gogle.tail()"
   ]
  },
  {
   "cell_type": "code",
   "execution_count": 9,
   "metadata": {},
   "outputs": [],
   "source": [
    "amz = data.DataReader(name=\"AMZN\", data_source=\"av-daily\", start=start, end=end, api_key = \"CI1UUA44YI12JAB3\")"
   ]
  },
  {
   "cell_type": "code",
   "execution_count": 10,
   "metadata": {},
   "outputs": [
    {
     "data": {
      "text/html": [
       "<div>\n",
       "<style scoped>\n",
       "    .dataframe tbody tr th:only-of-type {\n",
       "        vertical-align: middle;\n",
       "    }\n",
       "\n",
       "    .dataframe tbody tr th {\n",
       "        vertical-align: top;\n",
       "    }\n",
       "\n",
       "    .dataframe thead th {\n",
       "        text-align: right;\n",
       "    }\n",
       "</style>\n",
       "<table border=\"1\" class=\"dataframe\">\n",
       "  <thead>\n",
       "    <tr style=\"text-align: right;\">\n",
       "      <th></th>\n",
       "      <th>open</th>\n",
       "      <th>high</th>\n",
       "      <th>low</th>\n",
       "      <th>close</th>\n",
       "      <th>volume</th>\n",
       "    </tr>\n",
       "  </thead>\n",
       "  <tbody>\n",
       "    <tr>\n",
       "      <th>2020-01-02</th>\n",
       "      <td>1875.00</td>\n",
       "      <td>1898.01</td>\n",
       "      <td>1864.15</td>\n",
       "      <td>1898.01</td>\n",
       "      <td>4035910</td>\n",
       "    </tr>\n",
       "    <tr>\n",
       "      <th>2020-01-03</th>\n",
       "      <td>1864.50</td>\n",
       "      <td>1886.20</td>\n",
       "      <td>1864.50</td>\n",
       "      <td>1874.97</td>\n",
       "      <td>3766604</td>\n",
       "    </tr>\n",
       "    <tr>\n",
       "      <th>2020-01-06</th>\n",
       "      <td>1860.00</td>\n",
       "      <td>1903.69</td>\n",
       "      <td>1860.00</td>\n",
       "      <td>1902.88</td>\n",
       "      <td>4065698</td>\n",
       "    </tr>\n",
       "    <tr>\n",
       "      <th>2020-01-07</th>\n",
       "      <td>1904.50</td>\n",
       "      <td>1913.89</td>\n",
       "      <td>1892.04</td>\n",
       "      <td>1906.86</td>\n",
       "      <td>4134010</td>\n",
       "    </tr>\n",
       "    <tr>\n",
       "      <th>2020-01-08</th>\n",
       "      <td>1898.04</td>\n",
       "      <td>1911.00</td>\n",
       "      <td>1886.44</td>\n",
       "      <td>1891.97</td>\n",
       "      <td>3511966</td>\n",
       "    </tr>\n",
       "  </tbody>\n",
       "</table>\n",
       "</div>"
      ],
      "text/plain": [
       "               open     high      low    close   volume\n",
       "2020-01-02  1875.00  1898.01  1864.15  1898.01  4035910\n",
       "2020-01-03  1864.50  1886.20  1864.50  1874.97  3766604\n",
       "2020-01-06  1860.00  1903.69  1860.00  1902.88  4065698\n",
       "2020-01-07  1904.50  1913.89  1892.04  1906.86  4134010\n",
       "2020-01-08  1898.04  1911.00  1886.44  1891.97  3511966"
      ]
     },
     "execution_count": 10,
     "metadata": {},
     "output_type": "execute_result"
    }
   ],
   "source": [
    "amz.head()"
   ]
  },
  {
   "cell_type": "code",
   "execution_count": 11,
   "metadata": {},
   "outputs": [
    {
     "data": {
      "text/html": [
       "<div>\n",
       "<style scoped>\n",
       "    .dataframe tbody tr th:only-of-type {\n",
       "        vertical-align: middle;\n",
       "    }\n",
       "\n",
       "    .dataframe tbody tr th {\n",
       "        vertical-align: top;\n",
       "    }\n",
       "\n",
       "    .dataframe thead th {\n",
       "        text-align: right;\n",
       "    }\n",
       "</style>\n",
       "<table border=\"1\" class=\"dataframe\">\n",
       "  <thead>\n",
       "    <tr style=\"text-align: right;\">\n",
       "      <th></th>\n",
       "      <th>open</th>\n",
       "      <th>high</th>\n",
       "      <th>low</th>\n",
       "      <th>close</th>\n",
       "      <th>volume</th>\n",
       "    </tr>\n",
       "  </thead>\n",
       "  <tbody>\n",
       "    <tr>\n",
       "      <th>2020-08-24</th>\n",
       "      <td>3310.15</td>\n",
       "      <td>3380.3150</td>\n",
       "      <td>3257.5608</td>\n",
       "      <td>3307.46</td>\n",
       "      <td>4666258</td>\n",
       "    </tr>\n",
       "    <tr>\n",
       "      <th>2020-08-25</th>\n",
       "      <td>3294.99</td>\n",
       "      <td>3357.4000</td>\n",
       "      <td>3267.0000</td>\n",
       "      <td>3346.49</td>\n",
       "      <td>3992842</td>\n",
       "    </tr>\n",
       "    <tr>\n",
       "      <th>2020-08-26</th>\n",
       "      <td>3351.11</td>\n",
       "      <td>3451.7387</td>\n",
       "      <td>3344.5675</td>\n",
       "      <td>3441.85</td>\n",
       "      <td>6508743</td>\n",
       "    </tr>\n",
       "    <tr>\n",
       "      <th>2020-08-27</th>\n",
       "      <td>3450.05</td>\n",
       "      <td>3453.0000</td>\n",
       "      <td>3378.0000</td>\n",
       "      <td>3400.00</td>\n",
       "      <td>4264795</td>\n",
       "    </tr>\n",
       "    <tr>\n",
       "      <th>2020-08-28</th>\n",
       "      <td>3423.00</td>\n",
       "      <td>3433.3699</td>\n",
       "      <td>3386.5000</td>\n",
       "      <td>3401.80</td>\n",
       "      <td>2896978</td>\n",
       "    </tr>\n",
       "  </tbody>\n",
       "</table>\n",
       "</div>"
      ],
      "text/plain": [
       "               open       high        low    close   volume\n",
       "2020-08-24  3310.15  3380.3150  3257.5608  3307.46  4666258\n",
       "2020-08-25  3294.99  3357.4000  3267.0000  3346.49  3992842\n",
       "2020-08-26  3351.11  3451.7387  3344.5675  3441.85  6508743\n",
       "2020-08-27  3450.05  3453.0000  3378.0000  3400.00  4264795\n",
       "2020-08-28  3423.00  3433.3699  3386.5000  3401.80  2896978"
      ]
     },
     "execution_count": 11,
     "metadata": {},
     "output_type": "execute_result"
    }
   ],
   "source": [
    "amz.tail()"
   ]
  },
  {
   "cell_type": "code",
   "execution_count": 12,
   "metadata": {},
   "outputs": [
    {
     "name": "stderr",
     "output_type": "stream",
     "text": [
      "C:\\Users\\MADCAT\\anaconda3\\lib\\site-packages\\pandas\\plotting\\_matplotlib\\core.py:1235: UserWarning: FixedFormatter should only be used together with FixedLocator\n",
      "  ax.set_xticklabels(xticklabels)\n"
     ]
    },
    {
     "data": {
      "text/plain": [
       "<AxesSubplot:>"
      ]
     },
     "execution_count": 12,
     "metadata": {},
     "output_type": "execute_result"
    },
    {
     "data": {
      "image/png": "[encoded data removed]",
      "text/plain": [
       "<Figure size 432x288 with 1 Axes>"
      ]
     },
     "metadata": {
      "needs_background": "light"
     },
     "output_type": "display_data"
    }
   ],
   "source": [
    "f.plot()"
   ]
  },
  {
   "cell_type": "code",
   "execution_count": 13,
   "metadata": {},
   "outputs": [
    {
     "name": "stderr",
     "output_type": "stream",
     "text": [
      "C:\\Users\\MADCAT\\anaconda3\\lib\\site-packages\\pandas\\plotting\\_matplotlib\\core.py:1235: UserWarning: FixedFormatter should only be used together with FixedLocator\n",
      "  ax.set_xticklabels(xticklabels)\n"
     ]
    },
    {
     "data": {
      "text/plain": [
       "<AxesSubplot:>"
      ]
     },
     "execution_count": 13,
     "metadata": {},
     "output_type": "execute_result"
    },
    {
     "data": {
      "image/png": "[encoded data removed]",
      "text/plain": [
       "<Figure size 1080x504 with 1 Axes>"
      ]
     },
     "metadata": {
      "needs_background": "light"
     },
     "output_type": "display_data"
    }
   ],
   "source": [
    "f.close.plot(figsize = (15,7), marker = \"o\")"
   ]
  },
  {
   "cell_type": "code",
   "execution_count": 14,
   "metadata": {},
   "outputs": [
    {
     "name": "stderr",
     "output_type": "stream",
     "text": [
      "<ipython-input-14-4e3e632ce1bb>:7: UserWarning: FixedFormatter should only be used together with FixedLocator\n",
      "  ax.set_xticklabels(f.index, rotation=45)\n"
     ]
    },
    {
     "data": {
      "image/png": "[encoded data removed]",
      "text/plain": [
       "<Figure size 720x504 with 1 Axes>"
      ]
     },
     "metadata": {
      "needs_background": "light"
     },
     "output_type": "display_data"
    }
   ],
   "source": [
    "import matplotlib.dates as mdates\n",
    "import numpy as np\n",
    "\n",
    "fig, ax = plt.subplots(figsize=(10,7))\n",
    "\n",
    "#ax.xaxis.set_minor_locator(mdates.DayLocator(interval=1))\n",
    "ax.set_xticklabels(f.index, rotation=45)\n",
    "\n",
    "ax.xaxis.set_major_locator(mdates.DayLocator(interval=15))\n",
    "ax.xaxis.set_major_formatter(mdates.DateFormatter('%Y-%m-%d'))\n",
    "\n",
    "ax.plot(f.close.index, f.close);"
   ]
  },
  {
   "cell_type": "code",
   "execution_count": null,
   "metadata": {},
   "outputs": [],
   "source": []
  }
 ],
 "metadata": {
  "kernelspec": {
   "display_name": "Python 3",
   "language": "python",
   "name": "python3"
  },
  "language_info": {
   "codemirror_mode": {
    "name": "ipython",
    "version": 3
   },
   "file_extension": ".py",
   "mimetype": "text/x-python",
   "name": "python",
   "nbconvert_exporter": "python",
   "pygments_lexer": "ipython3",
   "version": "3.8.5"
  }
 },
 "nbformat": 4,
 "nbformat_minor": 4
}
