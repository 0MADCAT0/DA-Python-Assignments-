{
 "cells": [
  {
   "cell_type": "code",
   "execution_count": 1,
   "metadata": {},
   "outputs": [],
   "source": [
    "import pandas as pd\n",
    "import numpy as np\n",
    "\n",
    "import matplotlib.pyplot as plt \n",
    "import seaborn as sns\n",
    "\n",
    "import warnings\n",
    "warnings.filterwarnings(\"ignore\")\n",
    "warnings.warn(\"this will not show\")"
   ]
  },
  {
   "cell_type": "code",
   "execution_count": 2,
   "metadata": {},
   "outputs": [
    {
     "data": {
      "text/html": [
       "<div>\n",
       "<style scoped>\n",
       "    .dataframe tbody tr th:only-of-type {\n",
       "        vertical-align: middle;\n",
       "    }\n",
       "\n",
       "    .dataframe tbody tr th {\n",
       "        vertical-align: top;\n",
       "    }\n",
       "\n",
       "    .dataframe thead th {\n",
       "        text-align: right;\n",
       "    }\n",
       "</style>\n",
       "<table border=\"1\" class=\"dataframe\">\n",
       "  <thead>\n",
       "    <tr style=\"text-align: right;\">\n",
       "      <th></th>\n",
       "      <th>url</th>\n",
       "      <th>make_model</th>\n",
       "      <th>short_description</th>\n",
       "      <th>body_type</th>\n",
       "      <th>price</th>\n",
       "      <th>vat</th>\n",
       "      <th>km</th>\n",
       "      <th>registration</th>\n",
       "      <th>prev_owner</th>\n",
       "      <th>kW</th>\n",
       "      <th>hp</th>\n",
       "      <th>Type</th>\n",
       "      <th>Previous Owners</th>\n",
       "      <th>Next Inspection</th>\n",
       "      <th>Inspection new</th>\n",
       "      <th>Warranty</th>\n",
       "      <th>Full Service</th>\n",
       "      <th>Non-smoking Vehicle</th>\n",
       "      <th>null</th>\n",
       "      <th>Make</th>\n",
       "      <th>Model</th>\n",
       "      <th>Offer Number</th>\n",
       "      <th>First Registration</th>\n",
       "      <th>Body Color</th>\n",
       "      <th>Paint Type</th>\n",
       "      <th>Body Color Original</th>\n",
       "      <th>Upholstery</th>\n",
       "      <th>Body</th>\n",
       "      <th>Nr. of Doors</th>\n",
       "      <th>Nr. of Seats</th>\n",
       "      <th>Model Code</th>\n",
       "      <th>Gearing Type</th>\n",
       "      <th>Displacement</th>\n",
       "      <th>Cylinders</th>\n",
       "      <th>Weight</th>\n",
       "      <th>Drive chain</th>\n",
       "      <th>Fuel</th>\n",
       "      <th>Consumption</th>\n",
       "      <th>CO2 Emission</th>\n",
       "      <th>Emission Class</th>\n",
       "      <th>\\nComfort &amp; Convenience\\n</th>\n",
       "      <th>\\nEntertainment &amp; Media\\n</th>\n",
       "      <th>\\nExtras\\n</th>\n",
       "      <th>\\nSafety &amp; Security\\n</th>\n",
       "      <th>description</th>\n",
       "      <th>Emission Label</th>\n",
       "      <th>Gears</th>\n",
       "      <th>Country version</th>\n",
       "      <th>Electricity consumption</th>\n",
       "      <th>Last Service Date</th>\n",
       "      <th>Other Fuel Types</th>\n",
       "      <th>Availability</th>\n",
       "      <th>Last Timing Belt Service Date</th>\n",
       "      <th>Available from</th>\n",
       "    </tr>\n",
       "  </thead>\n",
       "  <tbody>\n",
       "    <tr>\n",
       "      <th>0</th>\n",
       "      <td>https://www.autoscout24.com//offers/audi-a1-sp...</td>\n",
       "      <td>Audi A1</td>\n",
       "      <td>Sportback 1.4 TDI S-tronic Xenon Navi Klima</td>\n",
       "      <td>Sedans</td>\n",
       "      <td>15770</td>\n",
       "      <td>VAT deductible</td>\n",
       "      <td>56,013 km</td>\n",
       "      <td>01/2016</td>\n",
       "      <td>2 previous owners</td>\n",
       "      <td>NaN</td>\n",
       "      <td>66 kW</td>\n",
       "      <td>[, Used, , Diesel (Particulate Filter)]</td>\n",
       "      <td>\\n2\\n</td>\n",
       "      <td>[\\n06/2021\\n, \\n99 g CO2/km (comb)\\n]</td>\n",
       "      <td>[\\nYes\\n, \\nEuro 6\\n]</td>\n",
       "      <td>[\\n, \\n, \\n4 (Green)\\n]</td>\n",
       "      <td>[\\n, \\n]</td>\n",
       "      <td>[\\n, \\n]</td>\n",
       "      <td>[]</td>\n",
       "      <td>\\nAudi\\n</td>\n",
       "      <td>[\\n, A1, \\n]</td>\n",
       "      <td>[\\nLR-062483\\n]</td>\n",
       "      <td>[\\n, 2016, \\n]</td>\n",
       "      <td>[\\n, Black, \\n]</td>\n",
       "      <td>[\\nMetallic\\n]</td>\n",
       "      <td>[\\nMythosschwarz\\n]</td>\n",
       "      <td>[\\nCloth, Black\\n]</td>\n",
       "      <td>[\\n, Sedans, \\n]</td>\n",
       "      <td>[\\n5\\n]</td>\n",
       "      <td>[\\n5\\n]</td>\n",
       "      <td>[\\n0588/BDF\\n]</td>\n",
       "      <td>[\\n, Automatic, \\n]</td>\n",
       "      <td>[\\n1,422 cc\\n]</td>\n",
       "      <td>[\\n3\\n]</td>\n",
       "      <td>[\\n1,220 kg\\n]</td>\n",
       "      <td>[\\nfront\\n]</td>\n",
       "      <td>[\\n, Diesel (Particulate Filter), \\n]</td>\n",
       "      <td>[[3.8 l/100 km (comb)], [4.3 l/100 km (city)],...</td>\n",
       "      <td>[\\n99 g CO2/km (comb)\\n]</td>\n",
       "      <td>[\\nEuro 6\\n]</td>\n",
       "      <td>[Air conditioning, Armrest, Automatic climate ...</td>\n",
       "      <td>[Bluetooth, Hands-free equipment, On-board com...</td>\n",
       "      <td>[Alloy wheels, Catalytic Converter, Voice Cont...</td>\n",
       "      <td>[ABS, Central door lock, Daytime running light...</td>\n",
       "      <td>[\\n, Sicherheit:,  , Deaktivierung für Beifahr...</td>\n",
       "      <td>NaN</td>\n",
       "      <td>NaN</td>\n",
       "      <td>NaN</td>\n",
       "      <td>NaN</td>\n",
       "      <td>NaN</td>\n",
       "      <td>NaN</td>\n",
       "      <td>NaN</td>\n",
       "      <td>NaN</td>\n",
       "      <td>NaN</td>\n",
       "    </tr>\n",
       "    <tr>\n",
       "      <th>1</th>\n",
       "      <td>https://www.autoscout24.com//offers/audi-a1-1-...</td>\n",
       "      <td>Audi A1</td>\n",
       "      <td>1.8 TFSI sport</td>\n",
       "      <td>Sedans</td>\n",
       "      <td>14500</td>\n",
       "      <td>Price negotiable</td>\n",
       "      <td>80,000 km</td>\n",
       "      <td>03/2017</td>\n",
       "      <td>None</td>\n",
       "      <td>NaN</td>\n",
       "      <td>141 kW</td>\n",
       "      <td>[, Used, , Gasoline]</td>\n",
       "      <td>NaN</td>\n",
       "      <td>NaN</td>\n",
       "      <td>NaN</td>\n",
       "      <td>NaN</td>\n",
       "      <td>NaN</td>\n",
       "      <td>NaN</td>\n",
       "      <td>[]</td>\n",
       "      <td>\\nAudi\\n</td>\n",
       "      <td>[\\n, A1, \\n]</td>\n",
       "      <td>NaN</td>\n",
       "      <td>[\\n, 2017, \\n]</td>\n",
       "      <td>[\\n, Red, \\n]</td>\n",
       "      <td>NaN</td>\n",
       "      <td>NaN</td>\n",
       "      <td>[\\nCloth, Grey\\n]</td>\n",
       "      <td>[\\n, Sedans, \\n]</td>\n",
       "      <td>[\\n3\\n]</td>\n",
       "      <td>[\\n4\\n]</td>\n",
       "      <td>[\\n0588/BCY\\n]</td>\n",
       "      <td>[\\n, Automatic, \\n]</td>\n",
       "      <td>[\\n1,798 cc\\n]</td>\n",
       "      <td>[\\n4\\n]</td>\n",
       "      <td>[\\n1,255 kg\\n]</td>\n",
       "      <td>[\\nfront\\n]</td>\n",
       "      <td>[\\n, Gasoline, \\n]</td>\n",
       "      <td>[[5.6 l/100 km (comb)], [7.1 l/100 km (city)],...</td>\n",
       "      <td>[\\n129 g CO2/km (comb)\\n]</td>\n",
       "      <td>[\\nEuro 6\\n]</td>\n",
       "      <td>[Air conditioning, Automatic climate control, ...</td>\n",
       "      <td>[Bluetooth, Hands-free equipment, On-board com...</td>\n",
       "      <td>[Alloy wheels, Sport seats, Sport suspension, ...</td>\n",
       "      <td>[ABS, Central door lock, Central door lock wit...</td>\n",
       "      <td>[\\nLangstreckenfahrzeug daher die hohe Kilomet...</td>\n",
       "      <td>[\\n4 (Green)\\n]</td>\n",
       "      <td>[\\n7\\n]</td>\n",
       "      <td>NaN</td>\n",
       "      <td>NaN</td>\n",
       "      <td>NaN</td>\n",
       "      <td>NaN</td>\n",
       "      <td>NaN</td>\n",
       "      <td>NaN</td>\n",
       "      <td>NaN</td>\n",
       "    </tr>\n",
       "    <tr>\n",
       "      <th>2</th>\n",
       "      <td>https://www.autoscout24.com//offers/audi-a1-sp...</td>\n",
       "      <td>Audi A1</td>\n",
       "      <td>Sportback 1.6 TDI S tronic Einparkhilfe plus+m...</td>\n",
       "      <td>Sedans</td>\n",
       "      <td>14640</td>\n",
       "      <td>VAT deductible</td>\n",
       "      <td>83,450 km</td>\n",
       "      <td>02/2016</td>\n",
       "      <td>1 previous owner</td>\n",
       "      <td>NaN</td>\n",
       "      <td>85 kW</td>\n",
       "      <td>[, Used, , Diesel (Particulate Filter)]</td>\n",
       "      <td>\\n1\\n</td>\n",
       "      <td>NaN</td>\n",
       "      <td>NaN</td>\n",
       "      <td>[\\n, \\n, \\n99 g CO2/km (comb)\\n]</td>\n",
       "      <td>NaN</td>\n",
       "      <td>NaN</td>\n",
       "      <td>[]</td>\n",
       "      <td>\\nAudi\\n</td>\n",
       "      <td>[\\n, A1, \\n]</td>\n",
       "      <td>[\\nAM-95365\\n]</td>\n",
       "      <td>[\\n, 2016, \\n]</td>\n",
       "      <td>[\\n, Black, \\n]</td>\n",
       "      <td>[\\nMetallic\\n]</td>\n",
       "      <td>[\\nmythosschwarz metallic\\n]</td>\n",
       "      <td>[\\nCloth, Black\\n]</td>\n",
       "      <td>[\\n, Sedans, \\n]</td>\n",
       "      <td>[\\n4\\n]</td>\n",
       "      <td>[\\n4\\n]</td>\n",
       "      <td>NaN</td>\n",
       "      <td>[\\n, Automatic, \\n]</td>\n",
       "      <td>[\\n1,598 cc\\n]</td>\n",
       "      <td>NaN</td>\n",
       "      <td>NaN</td>\n",
       "      <td>[\\nfront\\n]</td>\n",
       "      <td>[\\n, Diesel (Particulate Filter), \\n]</td>\n",
       "      <td>[[3.8 l/100 km (comb)], [4.4 l/100 km (city)],...</td>\n",
       "      <td>[\\n99 g CO2/km (comb)\\n]</td>\n",
       "      <td>[\\nEuro 6\\n]</td>\n",
       "      <td>[Air conditioning, Cruise control, Electrical ...</td>\n",
       "      <td>[MP3, On-board computer]</td>\n",
       "      <td>[Alloy wheels, Voice Control]</td>\n",
       "      <td>[ABS, Central door lock, Daytime running light...</td>\n",
       "      <td>[\\n, Fahrzeug-Nummer: AM-95365,  , Ehem. UPE 2...</td>\n",
       "      <td>[\\n4 (Green)\\n]</td>\n",
       "      <td>NaN</td>\n",
       "      <td>NaN</td>\n",
       "      <td>NaN</td>\n",
       "      <td>NaN</td>\n",
       "      <td>NaN</td>\n",
       "      <td>NaN</td>\n",
       "      <td>NaN</td>\n",
       "      <td>NaN</td>\n",
       "    </tr>\n",
       "    <tr>\n",
       "      <th>3</th>\n",
       "      <td>https://www.autoscout24.com//offers/audi-a1-1-...</td>\n",
       "      <td>Audi A1</td>\n",
       "      <td>1.4 TDi Design S tronic</td>\n",
       "      <td>Sedans</td>\n",
       "      <td>14500</td>\n",
       "      <td>None</td>\n",
       "      <td>73,000 km</td>\n",
       "      <td>08/2016</td>\n",
       "      <td>1 previous owner</td>\n",
       "      <td>NaN</td>\n",
       "      <td>66 kW</td>\n",
       "      <td>[, Used, , Diesel (Particulate Filter)]</td>\n",
       "      <td>\\n1\\n</td>\n",
       "      <td>NaN</td>\n",
       "      <td>NaN</td>\n",
       "      <td>NaN</td>\n",
       "      <td>[\\n, \\n, \\n99 g CO2/km (comb)\\n]</td>\n",
       "      <td>[\\n, \\n, \\nEuro 6\\n]</td>\n",
       "      <td>[]</td>\n",
       "      <td>\\nAudi\\n</td>\n",
       "      <td>[\\n, A1, \\n]</td>\n",
       "      <td>NaN</td>\n",
       "      <td>[\\n, 2016, \\n]</td>\n",
       "      <td>[\\n, Brown, \\n]</td>\n",
       "      <td>[\\nMetallic\\n]</td>\n",
       "      <td>NaN</td>\n",
       "      <td>NaN</td>\n",
       "      <td>[\\n, Sedans, \\n]</td>\n",
       "      <td>[\\n3\\n]</td>\n",
       "      <td>[\\n4\\n]</td>\n",
       "      <td>NaN</td>\n",
       "      <td>[\\n, Automatic, \\n]</td>\n",
       "      <td>[\\n1,422 cc\\n]</td>\n",
       "      <td>[\\n3\\n]</td>\n",
       "      <td>[\\n1,195 kg\\n]</td>\n",
       "      <td>NaN</td>\n",
       "      <td>[\\n, Diesel (Particulate Filter), \\n]</td>\n",
       "      <td>[[3.8 l/100 km (comb)], [4.3 l/100 km (city)],...</td>\n",
       "      <td>[\\n99 g CO2/km (comb)\\n]</td>\n",
       "      <td>[\\nEuro 6\\n]</td>\n",
       "      <td>[Air suspension, Armrest, Auxiliary heating, E...</td>\n",
       "      <td>[Bluetooth, CD player, Hands-free equipment, M...</td>\n",
       "      <td>[Alloy wheels, Sport seats, Voice Control]</td>\n",
       "      <td>[ABS, Alarm system, Central door lock with rem...</td>\n",
       "      <td>[\\nAudi A1: , - 1e eigenaar , - Perfecte staat...</td>\n",
       "      <td>NaN</td>\n",
       "      <td>[\\n6\\n]</td>\n",
       "      <td>NaN</td>\n",
       "      <td>NaN</td>\n",
       "      <td>NaN</td>\n",
       "      <td>NaN</td>\n",
       "      <td>NaN</td>\n",
       "      <td>NaN</td>\n",
       "      <td>NaN</td>\n",
       "    </tr>\n",
       "    <tr>\n",
       "      <th>4</th>\n",
       "      <td>https://www.autoscout24.com//offers/audi-a1-sp...</td>\n",
       "      <td>Audi A1</td>\n",
       "      <td>Sportback 1.4 TDI S-Tronic S-Line Ext. admired...</td>\n",
       "      <td>Sedans</td>\n",
       "      <td>16790</td>\n",
       "      <td>None</td>\n",
       "      <td>16,200 km</td>\n",
       "      <td>05/2016</td>\n",
       "      <td>1 previous owner</td>\n",
       "      <td>NaN</td>\n",
       "      <td>66 kW</td>\n",
       "      <td>[, Used, , Diesel (Particulate Filter)]</td>\n",
       "      <td>\\n1\\n</td>\n",
       "      <td>NaN</td>\n",
       "      <td>[\\nYes\\n, \\n109 g CO2/km (comb)\\n]</td>\n",
       "      <td>[\\n, \\n, \\nEuro 6\\n]</td>\n",
       "      <td>[\\n, \\n, \\n4 (Green)\\n]</td>\n",
       "      <td>[\\n, \\n]</td>\n",
       "      <td>[]</td>\n",
       "      <td>\\nAudi\\n</td>\n",
       "      <td>[\\n, A1, \\n]</td>\n",
       "      <td>[\\nC1626\\n]</td>\n",
       "      <td>[\\n, 2016, \\n]</td>\n",
       "      <td>[\\n, Black, \\n]</td>\n",
       "      <td>[\\nMetallic\\n]</td>\n",
       "      <td>[\\nMythosschwarz Metallic\\n]</td>\n",
       "      <td>[\\nCloth, Black\\n]</td>\n",
       "      <td>[\\n, Sedans, \\n]</td>\n",
       "      <td>[\\n5\\n]</td>\n",
       "      <td>[\\n5\\n]</td>\n",
       "      <td>[\\n0588/BDF\\n]</td>\n",
       "      <td>[\\n, Automatic, \\n]</td>\n",
       "      <td>[\\n1,422 cc\\n]</td>\n",
       "      <td>[\\n3\\n]</td>\n",
       "      <td>NaN</td>\n",
       "      <td>[\\nfront\\n]</td>\n",
       "      <td>[\\n, Diesel (Particulate Filter), \\n]</td>\n",
       "      <td>[[4.1 l/100 km (comb)], [4.6 l/100 km (city)],...</td>\n",
       "      <td>[\\n109 g CO2/km (comb)\\n]</td>\n",
       "      <td>[\\nEuro 6\\n]</td>\n",
       "      <td>[Air conditioning, Armrest, Automatic climate ...</td>\n",
       "      <td>[Bluetooth, CD player, Hands-free equipment, M...</td>\n",
       "      <td>[Alloy wheels, Sport package, Sport suspension...</td>\n",
       "      <td>[ABS, Central door lock, Driver-side airbag, E...</td>\n",
       "      <td>[\\n, Technik &amp; Sicherheit:, Xenon plus, Klimaa...</td>\n",
       "      <td>NaN</td>\n",
       "      <td>NaN</td>\n",
       "      <td>[\\nGermany\\n]</td>\n",
       "      <td>NaN</td>\n",
       "      <td>NaN</td>\n",
       "      <td>NaN</td>\n",
       "      <td>NaN</td>\n",
       "      <td>NaN</td>\n",
       "      <td>NaN</td>\n",
       "    </tr>\n",
       "  </tbody>\n",
       "</table>\n",
       "</div>"
      ],
      "text/plain": [
       "                                                 url make_model  \\\n",
       "0  https://www.autoscout24.com//offers/audi-a1-sp...    Audi A1   \n",
       "1  https://www.autoscout24.com//offers/audi-a1-1-...    Audi A1   \n",
       "2  https://www.autoscout24.com//offers/audi-a1-sp...    Audi A1   \n",
       "3  https://www.autoscout24.com//offers/audi-a1-1-...    Audi A1   \n",
       "4  https://www.autoscout24.com//offers/audi-a1-sp...    Audi A1   \n",
       "\n",
       "                                   short_description body_type  price  \\\n",
       "0        Sportback 1.4 TDI S-tronic Xenon Navi Klima    Sedans  15770   \n",
       "1                                     1.8 TFSI sport    Sedans  14500   \n",
       "2  Sportback 1.6 TDI S tronic Einparkhilfe plus+m...    Sedans  14640   \n",
       "3                            1.4 TDi Design S tronic    Sedans  14500   \n",
       "4  Sportback 1.4 TDI S-Tronic S-Line Ext. admired...    Sedans  16790   \n",
       "\n",
       "                vat         km registration         prev_owner  kW      hp  \\\n",
       "0    VAT deductible  56,013 km      01/2016  2 previous owners NaN   66 kW   \n",
       "1  Price negotiable  80,000 km      03/2017               None NaN  141 kW   \n",
       "2    VAT deductible  83,450 km      02/2016   1 previous owner NaN   85 kW   \n",
       "3              None  73,000 km      08/2016   1 previous owner NaN   66 kW   \n",
       "4              None  16,200 km      05/2016   1 previous owner NaN   66 kW   \n",
       "\n",
       "                                      Type Previous Owners  \\\n",
       "0  [, Used, , Diesel (Particulate Filter)]           \\n2\\n   \n",
       "1                     [, Used, , Gasoline]             NaN   \n",
       "2  [, Used, , Diesel (Particulate Filter)]           \\n1\\n   \n",
       "3  [, Used, , Diesel (Particulate Filter)]           \\n1\\n   \n",
       "4  [, Used, , Diesel (Particulate Filter)]           \\n1\\n   \n",
       "\n",
       "                         Next Inspection                      Inspection new  \\\n",
       "0  [\\n06/2021\\n, \\n99 g CO2/km (comb)\\n]               [\\nYes\\n, \\nEuro 6\\n]   \n",
       "1                                    NaN                                 NaN   \n",
       "2                                    NaN                                 NaN   \n",
       "3                                    NaN                                 NaN   \n",
       "4                                    NaN  [\\nYes\\n, \\n109 g CO2/km (comb)\\n]   \n",
       "\n",
       "                           Warranty                      Full Service  \\\n",
       "0           [\\n, \\n, \\n4 (Green)\\n]                          [\\n, \\n]   \n",
       "1                               NaN                               NaN   \n",
       "2  [\\n, \\n, \\n99 g CO2/km (comb)\\n]                               NaN   \n",
       "3                               NaN  [\\n, \\n, \\n99 g CO2/km (comb)\\n]   \n",
       "4              [\\n, \\n, \\nEuro 6\\n]           [\\n, \\n, \\n4 (Green)\\n]   \n",
       "\n",
       "    Non-smoking Vehicle null      Make         Model     Offer Number  \\\n",
       "0              [\\n, \\n]   []  \\nAudi\\n  [\\n, A1, \\n]  [\\nLR-062483\\n]   \n",
       "1                   NaN   []  \\nAudi\\n  [\\n, A1, \\n]              NaN   \n",
       "2                   NaN   []  \\nAudi\\n  [\\n, A1, \\n]   [\\nAM-95365\\n]   \n",
       "3  [\\n, \\n, \\nEuro 6\\n]   []  \\nAudi\\n  [\\n, A1, \\n]              NaN   \n",
       "4              [\\n, \\n]   []  \\nAudi\\n  [\\n, A1, \\n]      [\\nC1626\\n]   \n",
       "\n",
       "  First Registration       Body Color      Paint Type  \\\n",
       "0     [\\n, 2016, \\n]  [\\n, Black, \\n]  [\\nMetallic\\n]   \n",
       "1     [\\n, 2017, \\n]    [\\n, Red, \\n]             NaN   \n",
       "2     [\\n, 2016, \\n]  [\\n, Black, \\n]  [\\nMetallic\\n]   \n",
       "3     [\\n, 2016, \\n]  [\\n, Brown, \\n]  [\\nMetallic\\n]   \n",
       "4     [\\n, 2016, \\n]  [\\n, Black, \\n]  [\\nMetallic\\n]   \n",
       "\n",
       "            Body Color Original          Upholstery              Body  \\\n",
       "0           [\\nMythosschwarz\\n]  [\\nCloth, Black\\n]  [\\n, Sedans, \\n]   \n",
       "1                           NaN   [\\nCloth, Grey\\n]  [\\n, Sedans, \\n]   \n",
       "2  [\\nmythosschwarz metallic\\n]  [\\nCloth, Black\\n]  [\\n, Sedans, \\n]   \n",
       "3                           NaN                 NaN  [\\n, Sedans, \\n]   \n",
       "4  [\\nMythosschwarz Metallic\\n]  [\\nCloth, Black\\n]  [\\n, Sedans, \\n]   \n",
       "\n",
       "  Nr. of Doors Nr. of Seats      Model Code         Gearing Type  \\\n",
       "0      [\\n5\\n]      [\\n5\\n]  [\\n0588/BDF\\n]  [\\n, Automatic, \\n]   \n",
       "1      [\\n3\\n]      [\\n4\\n]  [\\n0588/BCY\\n]  [\\n, Automatic, \\n]   \n",
       "2      [\\n4\\n]      [\\n4\\n]             NaN  [\\n, Automatic, \\n]   \n",
       "3      [\\n3\\n]      [\\n4\\n]             NaN  [\\n, Automatic, \\n]   \n",
       "4      [\\n5\\n]      [\\n5\\n]  [\\n0588/BDF\\n]  [\\n, Automatic, \\n]   \n",
       "\n",
       "     Displacement Cylinders          Weight  Drive chain  \\\n",
       "0  [\\n1,422 cc\\n]   [\\n3\\n]  [\\n1,220 kg\\n]  [\\nfront\\n]   \n",
       "1  [\\n1,798 cc\\n]   [\\n4\\n]  [\\n1,255 kg\\n]  [\\nfront\\n]   \n",
       "2  [\\n1,598 cc\\n]       NaN             NaN  [\\nfront\\n]   \n",
       "3  [\\n1,422 cc\\n]   [\\n3\\n]  [\\n1,195 kg\\n]          NaN   \n",
       "4  [\\n1,422 cc\\n]   [\\n3\\n]             NaN  [\\nfront\\n]   \n",
       "\n",
       "                                    Fuel  \\\n",
       "0  [\\n, Diesel (Particulate Filter), \\n]   \n",
       "1                     [\\n, Gasoline, \\n]   \n",
       "2  [\\n, Diesel (Particulate Filter), \\n]   \n",
       "3  [\\n, Diesel (Particulate Filter), \\n]   \n",
       "4  [\\n, Diesel (Particulate Filter), \\n]   \n",
       "\n",
       "                                         Consumption  \\\n",
       "0  [[3.8 l/100 km (comb)], [4.3 l/100 km (city)],...   \n",
       "1  [[5.6 l/100 km (comb)], [7.1 l/100 km (city)],...   \n",
       "2  [[3.8 l/100 km (comb)], [4.4 l/100 km (city)],...   \n",
       "3  [[3.8 l/100 km (comb)], [4.3 l/100 km (city)],...   \n",
       "4  [[4.1 l/100 km (comb)], [4.6 l/100 km (city)],...   \n",
       "\n",
       "                CO2 Emission Emission Class  \\\n",
       "0   [\\n99 g CO2/km (comb)\\n]   [\\nEuro 6\\n]   \n",
       "1  [\\n129 g CO2/km (comb)\\n]   [\\nEuro 6\\n]   \n",
       "2   [\\n99 g CO2/km (comb)\\n]   [\\nEuro 6\\n]   \n",
       "3   [\\n99 g CO2/km (comb)\\n]   [\\nEuro 6\\n]   \n",
       "4  [\\n109 g CO2/km (comb)\\n]   [\\nEuro 6\\n]   \n",
       "\n",
       "                           \\nComfort & Convenience\\n  \\\n",
       "0  [Air conditioning, Armrest, Automatic climate ...   \n",
       "1  [Air conditioning, Automatic climate control, ...   \n",
       "2  [Air conditioning, Cruise control, Electrical ...   \n",
       "3  [Air suspension, Armrest, Auxiliary heating, E...   \n",
       "4  [Air conditioning, Armrest, Automatic climate ...   \n",
       "\n",
       "                           \\nEntertainment & Media\\n  \\\n",
       "0  [Bluetooth, Hands-free equipment, On-board com...   \n",
       "1  [Bluetooth, Hands-free equipment, On-board com...   \n",
       "2                           [MP3, On-board computer]   \n",
       "3  [Bluetooth, CD player, Hands-free equipment, M...   \n",
       "4  [Bluetooth, CD player, Hands-free equipment, M...   \n",
       "\n",
       "                                          \\nExtras\\n  \\\n",
       "0  [Alloy wheels, Catalytic Converter, Voice Cont...   \n",
       "1  [Alloy wheels, Sport seats, Sport suspension, ...   \n",
       "2                      [Alloy wheels, Voice Control]   \n",
       "3         [Alloy wheels, Sport seats, Voice Control]   \n",
       "4  [Alloy wheels, Sport package, Sport suspension...   \n",
       "\n",
       "                               \\nSafety & Security\\n  \\\n",
       "0  [ABS, Central door lock, Daytime running light...   \n",
       "1  [ABS, Central door lock, Central door lock wit...   \n",
       "2  [ABS, Central door lock, Daytime running light...   \n",
       "3  [ABS, Alarm system, Central door lock with rem...   \n",
       "4  [ABS, Central door lock, Driver-side airbag, E...   \n",
       "\n",
       "                                         description   Emission Label  \\\n",
       "0  [\\n, Sicherheit:,  , Deaktivierung für Beifahr...              NaN   \n",
       "1  [\\nLangstreckenfahrzeug daher die hohe Kilomet...  [\\n4 (Green)\\n]   \n",
       "2  [\\n, Fahrzeug-Nummer: AM-95365,  , Ehem. UPE 2...  [\\n4 (Green)\\n]   \n",
       "3  [\\nAudi A1: , - 1e eigenaar , - Perfecte staat...              NaN   \n",
       "4  [\\n, Technik & Sicherheit:, Xenon plus, Klimaa...              NaN   \n",
       "\n",
       "     Gears Country version Electricity consumption Last Service Date  \\\n",
       "0      NaN             NaN                     NaN               NaN   \n",
       "1  [\\n7\\n]             NaN                     NaN               NaN   \n",
       "2      NaN             NaN                     NaN               NaN   \n",
       "3  [\\n6\\n]             NaN                     NaN               NaN   \n",
       "4      NaN   [\\nGermany\\n]                     NaN               NaN   \n",
       "\n",
       "  Other Fuel Types Availability Last Timing Belt Service Date Available from  \n",
       "0              NaN          NaN                           NaN            NaN  \n",
       "1              NaN          NaN                           NaN            NaN  \n",
       "2              NaN          NaN                           NaN            NaN  \n",
       "3              NaN          NaN                           NaN            NaN  \n",
       "4              NaN          NaN                           NaN            NaN  "
      ]
     },
     "execution_count": 2,
     "metadata": {},
     "output_type": "execute_result"
    }
   ],
   "source": [
    "df = pd.read_json(\"scout_car.json\",lines=True)\n",
    "pd.set_option('display.max_columns', None)\n",
    "\n",
    "df.head()"
   ]
  },
  {
   "cell_type": "code",
   "execution_count": 3,
   "metadata": {},
   "outputs": [
    {
     "data": {
      "text/plain": [
       "(15919, 54)"
      ]
     },
     "execution_count": 3,
     "metadata": {},
     "output_type": "execute_result"
    }
   ],
   "source": [
    "df.shape"
   ]
  },
  {
   "cell_type": "code",
   "execution_count": 4,
   "metadata": {},
   "outputs": [
    {
     "data": {
      "text/plain": [
       "url                               object\n",
       "make_model                        object\n",
       "short_description                 object\n",
       "body_type                         object\n",
       "price                              int64\n",
       "vat                               object\n",
       "km                                object\n",
       "registration                      object\n",
       "prev_owner                        object\n",
       "kW                               float64\n",
       "hp                                object\n",
       "Type                              object\n",
       "Previous Owners                   object\n",
       "Next Inspection                   object\n",
       "Inspection new                    object\n",
       "Warranty                          object\n",
       "Full Service                      object\n",
       "Non-smoking Vehicle               object\n",
       "null                              object\n",
       "Make                              object\n",
       "Model                             object\n",
       "Offer Number                      object\n",
       "First Registration                object\n",
       "Body Color                        object\n",
       "Paint Type                        object\n",
       "Body Color Original               object\n",
       "Upholstery                        object\n",
       "Body                              object\n",
       "Nr. of Doors                      object\n",
       "Nr. of Seats                      object\n",
       "Model Code                        object\n",
       "Gearing Type                      object\n",
       "Displacement                      object\n",
       "Cylinders                         object\n",
       "Weight                            object\n",
       "Drive chain                       object\n",
       "Fuel                              object\n",
       "Consumption                       object\n",
       "CO2 Emission                      object\n",
       "Emission Class                    object\n",
       "\\nComfort & Convenience\\n         object\n",
       "\\nEntertainment & Media\\n         object\n",
       "\\nExtras\\n                        object\n",
       "\\nSafety & Security\\n             object\n",
       "description                       object\n",
       "Emission Label                    object\n",
       "Gears                             object\n",
       "Country version                   object\n",
       "Electricity consumption           object\n",
       "Last Service Date                 object\n",
       "Other Fuel Types                  object\n",
       "Availability                      object\n",
       "Last Timing Belt Service Date     object\n",
       "Available from                    object\n",
       "dtype: object"
      ]
     },
     "execution_count": 4,
     "metadata": {},
     "output_type": "execute_result"
    }
   ],
   "source": [
    "df.dtypes"
   ]
  },
  {
   "cell_type": "code",
   "execution_count": 5,
   "metadata": {},
   "outputs": [
    {
     "data": {
      "text/plain": [
       "(15919, 54)"
      ]
     },
     "execution_count": 5,
     "metadata": {},
     "output_type": "execute_result"
    }
   ],
   "source": [
    "df.shape"
   ]
  },
  {
   "cell_type": "code",
   "execution_count": 6,
   "metadata": {},
   "outputs": [
    {
     "data": {
      "text/plain": [
       "kW                               100.000000\n",
       "Last Timing Belt Service Date     99.899491\n",
       "Electricity consumption           99.139393\n",
       "Available from                    98.291350\n",
       "Last Service Date                 96.444500\n",
       "Availability                      96.011056\n",
       "Other Fuel Types                  94.472015\n",
       "Next Inspection                   77.793831\n",
       "Inspection new                    75.299956\n",
       "Emission Label                    74.967021\n",
       "Model Code                        68.729192\n",
       "Non-smoking Vehicle               54.915510\n",
       "Country version                   52.346253\n",
       "Full Service                      48.395000\n",
       "Weight                            43.809285\n",
       "Drive chain                       43.080596\n",
       "prev_owner                        42.892141\n",
       "Previous Owners                   41.711163\n",
       "Paint Type                        36.258559\n",
       "Cylinders                         35.680633\n",
       "Warranty                          34.047365\n",
       "Gears                             29.599849\n",
       "vat                               28.349771\n",
       "Body Color Original               23.613292\n",
       "Upholstery                        23.368302\n",
       "Offer Number                      19.944720\n",
       "Emission Class                    18.977323\n",
       "\\nExtras\\n                        18.606696\n",
       "Consumption                       11.973114\n",
       "CO2 Emission                      11.357497\n",
       "First Registration                10.032037\n",
       "\\nEntertainment & Media\\n          8.631195\n",
       "\\nSafety & Security\\n              6.168729\n",
       "Nr. of Seats                       6.137320\n",
       "\\nComfort & Convenience\\n          5.779257\n",
       "Body Color                         3.750236\n",
       "Displacement                       3.115774\n",
       "Nr. of Doors                       1.331742\n",
       "Body                               0.376908\n",
       "body_type                          0.376908\n",
       "short_description                  0.288963\n",
       "Type                               0.012564\n",
       "Fuel                               0.000000\n",
       "null                               0.000000\n",
       "Make                               0.000000\n",
       "hp                                 0.000000\n",
       "Model                              0.000000\n",
       "Gearing Type                       0.000000\n",
       "registration                       0.000000\n",
       "km                                 0.000000\n",
       "description                        0.000000\n",
       "price                              0.000000\n",
       "make_model                         0.000000\n",
       "url                                0.000000\n",
       "dtype: float64"
      ]
     },
     "execution_count": 6,
     "metadata": {},
     "output_type": "execute_result"
    }
   ],
   "source": [
    "(df.isnull().sum()/df.shape[0]*100).sort_values(ascending =False)\n"
   ]
  },
  {
   "cell_type": "code",
   "execution_count": 7,
   "metadata": {},
   "outputs": [
    {
     "data": {
      "text/plain": [
       "(15919, 53)"
      ]
     },
     "execution_count": 7,
     "metadata": {},
     "output_type": "execute_result"
    }
   ],
   "source": [
    "df.dropna(how=\"all\",axis = 1, inplace = True)\n",
    "df.shape"
   ]
  },
  {
   "cell_type": "code",
   "execution_count": 8,
   "metadata": {},
   "outputs": [],
   "source": [
    "df[[\"Last Timing Belt Service Date\"]];"
   ]
  },
  {
   "cell_type": "code",
   "execution_count": 9,
   "metadata": {},
   "outputs": [],
   "source": [
    "df.drop(columns = [\"url\", \"Last Timing Belt Service Date\", \"Last Service Date\", \"Available from\", \"Availability\"], inplace= True)"
   ]
  },
  {
   "cell_type": "code",
   "execution_count": 10,
   "metadata": {},
   "outputs": [
    {
     "name": "stdout",
     "output_type": "stream",
     "text": [
      "<class 'pandas.core.frame.DataFrame'>\n",
      "RangeIndex: 15919 entries, 0 to 15918\n",
      "Data columns (total 48 columns):\n",
      " #   Column                   Non-Null Count  Dtype \n",
      "---  ------                   --------------  ----- \n",
      " 0   make_model               15919 non-null  object\n",
      " 1   short_description        15873 non-null  object\n",
      " 2   body_type                15859 non-null  object\n",
      " 3   price                    15919 non-null  int64 \n",
      " 4   vat                      11406 non-null  object\n",
      " 5   km                       15919 non-null  object\n",
      " 6   registration             15919 non-null  object\n",
      " 7   prev_owner               9091 non-null   object\n",
      " 8   hp                       15919 non-null  object\n",
      " 9   Type                     15917 non-null  object\n",
      " 10  Previous Owners          9279 non-null   object\n",
      " 11  Next Inspection          3535 non-null   object\n",
      " 12  Inspection new           3932 non-null   object\n",
      " 13  Warranty                 10499 non-null  object\n",
      " 14  Full Service             8215 non-null   object\n",
      " 15  Non-smoking Vehicle      7177 non-null   object\n",
      " 16  null                     15919 non-null  object\n",
      " 17  Make                     15919 non-null  object\n",
      " 18  Model                    15919 non-null  object\n",
      " 19  Offer Number             12744 non-null  object\n",
      " 20  First Registration       14322 non-null  object\n",
      " 21  Body Color               15322 non-null  object\n",
      " 22  Paint Type               10147 non-null  object\n",
      " 23  Body Color Original      12160 non-null  object\n",
      " 24  Upholstery               12199 non-null  object\n",
      " 25  Body                     15859 non-null  object\n",
      " 26  Nr. of Doors             15707 non-null  object\n",
      " 27  Nr. of Seats             14942 non-null  object\n",
      " 28  Model Code               4978 non-null   object\n",
      " 29  Gearing Type             15919 non-null  object\n",
      " 30  Displacement             15423 non-null  object\n",
      " 31  Cylinders                10239 non-null  object\n",
      " 32  Weight                   8945 non-null   object\n",
      " 33  Drive chain              9061 non-null   object\n",
      " 34  Fuel                     15919 non-null  object\n",
      " 35  Consumption              14013 non-null  object\n",
      " 36  CO2 Emission             14111 non-null  object\n",
      " 37  Emission Class           12898 non-null  object\n",
      " 38  \n",
      "Comfort & Convenience\n",
      "  14999 non-null  object\n",
      " 39  \n",
      "Entertainment & Media\n",
      "  14545 non-null  object\n",
      " 40  \n",
      "Extras\n",
      "                 12957 non-null  object\n",
      " 41  \n",
      "Safety & Security\n",
      "      14937 non-null  object\n",
      " 42  description              15919 non-null  object\n",
      " 43  Emission Label           3985 non-null   object\n",
      " 44  Gears                    11207 non-null  object\n",
      " 45  Country version          7586 non-null   object\n",
      " 46  Electricity consumption  137 non-null    object\n",
      " 47  Other Fuel Types         880 non-null    object\n",
      "dtypes: int64(1), object(47)\n",
      "memory usage: 5.8+ MB\n"
     ]
    }
   ],
   "source": [
    "df.info()"
   ]
  },
  {
   "cell_type": "code",
   "execution_count": 11,
   "metadata": {},
   "outputs": [
    {
     "data": {
      "text/plain": [
       "VAT deductible      10980\n",
       "Price negotiable      426\n",
       "Name: vat, dtype: int64"
      ]
     },
     "execution_count": 11,
     "metadata": {},
     "output_type": "execute_result"
    }
   ],
   "source": [
    "df.vat.value_counts()"
   ]
  },
  {
   "cell_type": "code",
   "execution_count": 12,
   "metadata": {},
   "outputs": [
    {
     "ename": "TypeError",
     "evalue": "unhashable type: 'list'",
     "output_type": "error",
     "traceback": [
      "\u001b[1;31m---------------------------------------------------------------------------\u001b[0m",
      "\u001b[1;31mTypeError\u001b[0m                                 Traceback (most recent call last)",
      "\u001b[1;32mpandas\\_libs\\hashtable_class_helper.pxi\u001b[0m in \u001b[0;36mpandas._libs.hashtable.PyObjectHashTable.map_locations\u001b[1;34m()\u001b[0m\n",
      "\u001b[1;31mTypeError\u001b[0m: unhashable type: 'list'"
     ]
    },
    {
     "name": "stderr",
     "output_type": "stream",
     "text": [
      "Exception ignored in: 'pandas._libs.index.IndexEngine._call_map_locations'\n",
      "Traceback (most recent call last):\n",
      "  File \"pandas\\_libs\\hashtable_class_helper.pxi\", line 1709, in pandas._libs.hashtable.PyObjectHashTable.map_locations\n",
      "TypeError: unhashable type: 'list'\n"
     ]
    },
    {
     "data": {
      "text/plain": [
       "\\n04/2022\\n                               62\n",
       "\\n03/2021\\n                               38\n",
       "\\n03/2022\\n                               36\n",
       "\\n06/2021\\n                               34\n",
       "\\n01/2022\\n                               32\n",
       "                                          ..\n",
       "[\\n02/2021\\n, \\n239 g CO2/km (comb)\\n]     1\n",
       "[\\n05/2022\\n, \\nEuro 6d-TEMP\\n]            1\n",
       "[\\n12/2019\\n, \\n130 g CO2/km (comb)\\n]     1\n",
       "[\\n05/2021\\n, \\n112 g CO2/km (comb)\\n]     1\n",
       "[\\n09/2019\\n, \\n97 g CO2/km (comb)\\n]      1\n",
       "Name: Next Inspection, Length: 1399, dtype: int64"
      ]
     },
     "execution_count": 12,
     "metadata": {},
     "output_type": "execute_result"
    }
   ],
   "source": [
    "df[\"Next Inspection\"].value_counts()"
   ]
  },
  {
   "cell_type": "code",
   "execution_count": 13,
   "metadata": {},
   "outputs": [
    {
     "ename": "TypeError",
     "evalue": "unhashable type: 'list'",
     "output_type": "error",
     "traceback": [
      "\u001b[1;31m---------------------------------------------------------------------------\u001b[0m",
      "\u001b[1;31mTypeError\u001b[0m                                 Traceback (most recent call last)",
      "\u001b[1;32mpandas\\_libs\\hashtable_class_helper.pxi\u001b[0m in \u001b[0;36mpandas._libs.hashtable.PyObjectHashTable.map_locations\u001b[1;34m()\u001b[0m\n",
      "\u001b[1;31mTypeError\u001b[0m: unhashable type: 'list'"
     ]
    },
    {
     "name": "stderr",
     "output_type": "stream",
     "text": [
      "Exception ignored in: 'pandas._libs.index.IndexEngine._call_map_locations'\n",
      "Traceback (most recent call last):\n",
      "  File \"pandas\\_libs\\hashtable_class_helper.pxi\", line 1709, in pandas._libs.hashtable.PyObjectHashTable.map_locations\n",
      "TypeError: unhashable type: 'list'\n"
     ]
    },
    {
     "data": {
      "text/plain": [
       "[]    15919\n",
       "Name: null, dtype: int64"
      ]
     },
     "execution_count": 13,
     "metadata": {},
     "output_type": "execute_result"
    }
   ],
   "source": [
    "df[\"null\"].value_counts()"
   ]
  },
  {
   "cell_type": "code",
   "execution_count": 14,
   "metadata": {},
   "outputs": [
    {
     "ename": "TypeError",
     "evalue": "unhashable type: 'list'",
     "output_type": "error",
     "traceback": [
      "\u001b[1;31m---------------------------------------------------------------------------\u001b[0m",
      "\u001b[1;31mTypeError\u001b[0m                                 Traceback (most recent call last)",
      "\u001b[1;32mpandas\\_libs\\hashtable_class_helper.pxi\u001b[0m in \u001b[0;36mpandas._libs.hashtable.PyObjectHashTable.map_locations\u001b[1;34m()\u001b[0m\n",
      "\u001b[1;31mTypeError\u001b[0m: unhashable type: 'list'"
     ]
    },
    {
     "name": "stderr",
     "output_type": "stream",
     "text": [
      "Exception ignored in: 'pandas._libs.index.IndexEngine._call_map_locations'\n",
      "Traceback (most recent call last):\n",
      "  File \"pandas\\_libs\\hashtable_class_helper.pxi\", line 1709, in pandas._libs.hashtable.PyObjectHashTable.map_locations\n",
      "TypeError: unhashable type: 'list'\n"
     ]
    },
    {
     "data": {
      "text/plain": [
       "[\\n, \\n, \\n4 (Green)\\n]                                                                       2235\n",
       "[\\n, \\n, \\nEuro 6\\n]                                                                          2097\n",
       "[\\n, \\n]                                                                                      1702\n",
       "[\\n, \\n, \\nEuro 6d-TEMP\\n]                                                                     399\n",
       "\\n                                                                                             283\n",
       "                                                                                              ... \n",
       "[\\n, \\n, \\n197 g CO2/km (comb)\\n]                                                                1\n",
       "[\\n, \\n, \\n84 g CO2/km (comb)\\n]                                                                 1\n",
       "[\\n, \\n, \\n, 6 l/100 km (comb), \\n, 8 l/100 km (city), \\n, 4.9 l/100 km (country), \\n]           1\n",
       "[\\n, \\n, \\n, 5 l/100 km (comb), \\n, 5.9 l/100 km (city), \\n, 4.5 l/100 km (country), \\n]         1\n",
       "[\\n, \\n, \\n, 5.4 l/100 km (comb), \\n, 7.3 l/100 km (city), \\n, 4.2 l/100 km (country), \\n]       1\n",
       "Name: Full Service, Length: 122, dtype: int64"
      ]
     },
     "execution_count": 14,
     "metadata": {},
     "output_type": "execute_result"
    }
   ],
   "source": [
    "df[\"Full Service\"].value_counts()"
   ]
  },
  {
   "cell_type": "code",
   "execution_count": 15,
   "metadata": {},
   "outputs": [
    {
     "ename": "TypeError",
     "evalue": "unhashable type: 'list'",
     "output_type": "error",
     "traceback": [
      "\u001b[1;31m---------------------------------------------------------------------------\u001b[0m",
      "\u001b[1;31mTypeError\u001b[0m                                 Traceback (most recent call last)",
      "\u001b[1;32mpandas\\_libs\\hashtable_class_helper.pxi\u001b[0m in \u001b[0;36mpandas._libs.hashtable.PyObjectHashTable.map_locations\u001b[1;34m()\u001b[0m\n",
      "\u001b[1;31mTypeError\u001b[0m: unhashable type: 'list'"
     ]
    },
    {
     "name": "stderr",
     "output_type": "stream",
     "text": [
      "Exception ignored in: 'pandas._libs.index.IndexEngine._call_map_locations'\n",
      "Traceback (most recent call last):\n",
      "  File \"pandas\\_libs\\hashtable_class_helper.pxi\", line 1709, in pandas._libs.hashtable.PyObjectHashTable.map_locations\n",
      "TypeError: unhashable type: 'list'\n"
     ]
    },
    {
     "data": {
      "text/plain": [
       "[[3.9 l/100 km (comb)], [4.1 l/100 km (city)], [3.7 l/100 km (country)]]              304\n",
       "[[4.2 l/100 km (comb)], [5 l/100 km (city)], [3.7 l/100 km (country)]]                276\n",
       "[[5.4 l/100 km (comb)], [6.8 l/100 km (city)], [4.5 l/100 km (country)]]              257\n",
       "[[3.8 l/100 km (comb)], [4.3 l/100 km (city)], [3.5 l/100 km (country)]]              253\n",
       "[[4.7 l/100 km (comb)], [5.1 l/100 km (city)], [4.4 l/100 km (country)]]              244\n",
       "                                                                                     ... \n",
       "[[], [], [5.6 l/100 km (country)]]                                                      1\n",
       "[\\n, 6.5 l/100 km (comb), \\n, 8.1 l/100 km (city), \\n, 5.5 l/100 km (country), \\n]      1\n",
       "[[3.5 l/100 km (comb)], [3.7 l/100 km (city)], [3.3 l/100 km (country)]]                1\n",
       "[[3.9 l/100 km (comb)], [4.5 l/100 km (city)], [3.7 l/100 km (country)]]                1\n",
       "[[5.4 l/100 km (comb)], [6.1 l/100 km (city)], [5 l/100 km (country)]]                  1\n",
       "Name: Consumption, Length: 881, dtype: int64"
      ]
     },
     "execution_count": 15,
     "metadata": {},
     "output_type": "execute_result"
    }
   ],
   "source": [
    "df[\"Consumption\"].value_counts()"
   ]
  },
  {
   "cell_type": "code",
   "execution_count": 16,
   "metadata": {},
   "outputs": [
    {
     "ename": "TypeError",
     "evalue": "unhashable type: 'list'",
     "output_type": "error",
     "traceback": [
      "\u001b[1;31m---------------------------------------------------------------------------\u001b[0m",
      "\u001b[1;31mTypeError\u001b[0m                                 Traceback (most recent call last)",
      "\u001b[1;32mpandas\\_libs\\hashtable_class_helper.pxi\u001b[0m in \u001b[0;36mpandas._libs.hashtable.PyObjectHashTable.map_locations\u001b[1;34m()\u001b[0m\n",
      "\u001b[1;31mTypeError\u001b[0m: unhashable type: 'list'"
     ]
    },
    {
     "name": "stderr",
     "output_type": "stream",
     "text": [
      "Exception ignored in: 'pandas._libs.index.IndexEngine._call_map_locations'\n",
      "Traceback (most recent call last):\n",
      "  File \"pandas\\_libs\\hashtable_class_helper.pxi\", line 1709, in pandas._libs.hashtable.PyObjectHashTable.map_locations\n",
      "TypeError: unhashable type: 'list'\n"
     ]
    },
    {
     "data": {
      "text/plain": [
       "\\n1\\n                                                                                        8101\n",
       "\\n2\\n                                                                                         766\n",
       "\\n0\\n                                                                                         163\n",
       "\\n3\\n                                                                                          17\n",
       "[\\n1\\n, \\n168 g CO2/km (comb)\\n]                                                               13\n",
       "                                                                                             ... \n",
       "[\\n1\\n, \\n96 g CO2/km (comb)\\n]                                                                 1\n",
       "[\\n1\\n, \\n, 6.1 l/100 km (comb), \\n, 7.7 l/100 km (city), \\n, 5.2 l/100 km (country), \\n]       1\n",
       "[\\n1\\n, \\n, 6.2 l/100 km (comb), \\n, 7.9 l/100 km (city), \\n, 5.3 l/100 km (country), \\n]       1\n",
       "[\\n1\\n, \\n, 5.9 l/100 km (comb), \\n, 7.6 l/100 km (city), \\n, 4.9 l/100 km (country), \\n]       1\n",
       "[\\n1\\n, \\n102 g CO2/km (comb)\\n]                                                                1\n",
       "Name: Previous Owners, Length: 102, dtype: int64"
      ]
     },
     "execution_count": 16,
     "metadata": {},
     "output_type": "execute_result"
    }
   ],
   "source": [
    "df[\"Previous Owners\"].value_counts()"
   ]
  },
  {
   "cell_type": "code",
   "execution_count": 17,
   "metadata": {},
   "outputs": [
    {
     "data": {
      "text/plain": [
       "0    \\n2\\n\n",
       "1      NaN\n",
       "2    \\n1\\n\n",
       "3    \\n1\\n\n",
       "4    \\n1\\n\n",
       "Name: Previous Owners, dtype: object"
      ]
     },
     "execution_count": 17,
     "metadata": {},
     "output_type": "execute_result"
    }
   ],
   "source": [
    "df[\"Previous Owners\"].head()"
   ]
  },
  {
   "cell_type": "code",
   "execution_count": 18,
   "metadata": {},
   "outputs": [
    {
     "data": {
      "text/plain": [
       "0    2 previous owners\n",
       "1                 None\n",
       "2     1 previous owner\n",
       "3     1 previous owner\n",
       "4     1 previous owner\n",
       "Name: prev_owner, dtype: object"
      ]
     },
     "execution_count": 18,
     "metadata": {},
     "output_type": "execute_result"
    }
   ],
   "source": [
    "df[\"prev_owner\"].head()"
   ]
  },
  {
   "cell_type": "code",
   "execution_count": 19,
   "metadata": {},
   "outputs": [
    {
     "ename": "TypeError",
     "evalue": "unhashable type: 'list'",
     "output_type": "error",
     "traceback": [
      "\u001b[1;31m---------------------------------------------------------------------------\u001b[0m",
      "\u001b[1;31mTypeError\u001b[0m                                 Traceback (most recent call last)",
      "\u001b[1;32mpandas\\_libs\\hashtable_class_helper.pxi\u001b[0m in \u001b[0;36mpandas._libs.hashtable.PyObjectHashTable.map_locations\u001b[1;34m()\u001b[0m\n",
      "\u001b[1;31mTypeError\u001b[0m: unhashable type: 'list'"
     ]
    },
    {
     "name": "stderr",
     "output_type": "stream",
     "text": [
      "Exception ignored in: 'pandas._libs.index.IndexEngine._call_map_locations'\n",
      "Traceback (most recent call last):\n",
      "  File \"pandas\\_libs\\hashtable_class_helper.pxi\", line 1709, in pandas._libs.hashtable.PyObjectHashTable.map_locations\n",
      "TypeError: unhashable type: 'list'\n"
     ]
    },
    {
     "data": {
      "text/plain": [
       "[, Used, , Diesel (Particulate Filter)]                                                                                            3475\n",
       "[, Used, , Diesel]                                                                                                                 2516\n",
       "[, Used, , Gasoline]                                                                                                               2367\n",
       "[, Used, , Super 95]                                                                                                               1818\n",
       "[, Pre-registered, , Super 95]                                                                                                      500\n",
       "                                                                                                                                   ... \n",
       "[, Pre-registered, , Regular/Benzine 91 / Super 95 / Regular/Benzine E10 91 / Super E10 95 / Super Plus 98 / Super Plus E10 98]       1\n",
       "[, Pre-registered, , CNG]                                                                                                             1\n",
       "[, New, , Super 95 / Regular/Benzine 91 / Super Plus 98 / Regular/Benzine E10 91 / Super Plus E10 98 / Super E10 95]                  1\n",
       "[, Employee's car, , Super E10 95 (Particulate Filter)]                                                                               1\n",
       "[, Pre-registered, , Regular/Benzine 91 / Super 95]                                                                                   1\n",
       "Name: Type, Length: 169, dtype: int64"
      ]
     },
     "execution_count": 19,
     "metadata": {},
     "output_type": "execute_result"
    }
   ],
   "source": [
    "df[\"Type\"].value_counts()"
   ]
  },
  {
   "cell_type": "code",
   "execution_count": 20,
   "metadata": {},
   "outputs": [
    {
     "data": {
      "text/plain": [
       "0    Audi A1\n",
       "1    Audi A1\n",
       "2    Audi A1\n",
       "3    Audi A1\n",
       "4    Audi A1\n",
       "Name: make_model, dtype: object"
      ]
     },
     "execution_count": 20,
     "metadata": {},
     "output_type": "execute_result"
    }
   ],
   "source": [
    "df[\"make_model\"].head()"
   ]
  },
  {
   "cell_type": "code",
   "execution_count": 21,
   "metadata": {},
   "outputs": [
    {
     "data": {
      "text/plain": [
       "0    [\\n, A1, \\n]\n",
       "1    [\\n, A1, \\n]\n",
       "2    [\\n, A1, \\n]\n",
       "3    [\\n, A1, \\n]\n",
       "4    [\\n, A1, \\n]\n",
       "Name: Model, dtype: object"
      ]
     },
     "execution_count": 21,
     "metadata": {},
     "output_type": "execute_result"
    }
   ],
   "source": [
    "df[\"Model\"].head()"
   ]
  },
  {
   "cell_type": "code",
   "execution_count": 22,
   "metadata": {},
   "outputs": [
    {
     "data": {
      "text/plain": [
       "0    \\nAudi\\n\n",
       "1    \\nAudi\\n\n",
       "2    \\nAudi\\n\n",
       "3    \\nAudi\\n\n",
       "4    \\nAudi\\n\n",
       "Name: Make, dtype: object"
      ]
     },
     "execution_count": 22,
     "metadata": {},
     "output_type": "execute_result"
    }
   ],
   "source": [
    "df[\"Make\"].head()"
   ]
  },
  {
   "cell_type": "code",
   "execution_count": 23,
   "metadata": {},
   "outputs": [
    {
     "data": {
      "text/plain": [
       "0             [\\nLR-062483\\n]\n",
       "1                         NaN\n",
       "2              [\\nAM-95365\\n]\n",
       "3                         NaN\n",
       "4                 [\\nC1626\\n]\n",
       "                 ...         \n",
       "15914          [\\n10988301\\n]\n",
       "15915       [\\n507370_3223\\n]\n",
       "15916          [\\nEspace16\\n]\n",
       "15917           [\\n2691331\\n]\n",
       "15918    [\\nRe_30000008029\\n]\n",
       "Name: Offer Number, Length: 15919, dtype: object"
      ]
     },
     "execution_count": 23,
     "metadata": {},
     "output_type": "execute_result"
    }
   ],
   "source": [
    "df[\"Offer Number\"]"
   ]
  },
  {
   "cell_type": "code",
   "execution_count": 24,
   "metadata": {},
   "outputs": [
    {
     "data": {
      "text/plain": [
       "0                 [\\nMythosschwarz\\n]\n",
       "1                                 NaN\n",
       "2        [\\nmythosschwarz metallic\\n]\n",
       "3                                 NaN\n",
       "4        [\\nMythosschwarz Metallic\\n]\n",
       "                     ...             \n",
       "15914              [\\nGrigio scuro\\n]\n",
       "15915       [\\nStahl-Grau Metallic\\n]\n",
       "15916               [\\narktis-weiß\\n]\n",
       "15917                    [\\nGrigio\\n]\n",
       "15918    [\\nTitanium-Grau Metallic\\n]\n",
       "Name: Body Color Original, Length: 15919, dtype: object"
      ]
     },
     "execution_count": 24,
     "metadata": {},
     "output_type": "execute_result"
    }
   ],
   "source": [
    "df[\"Body Color Original\"]"
   ]
  },
  {
   "cell_type": "code",
   "execution_count": 25,
   "metadata": {},
   "outputs": [
    {
     "data": {
      "text/plain": [
       "0        [\\n, Black, \\n]\n",
       "1          [\\n, Red, \\n]\n",
       "2        [\\n, Black, \\n]\n",
       "3        [\\n, Brown, \\n]\n",
       "4        [\\n, Black, \\n]\n",
       "              ...       \n",
       "15914     [\\n, Grey, \\n]\n",
       "15915     [\\n, Grey, \\n]\n",
       "15916    [\\n, White, \\n]\n",
       "15917     [\\n, Grey, \\n]\n",
       "15918     [\\n, Grey, \\n]\n",
       "Name: Body Color, Length: 15919, dtype: object"
      ]
     },
     "execution_count": 25,
     "metadata": {},
     "output_type": "execute_result"
    }
   ],
   "source": [
    "df[\"Body Color\"]"
   ]
  },
  {
   "cell_type": "code",
   "execution_count": 26,
   "metadata": {},
   "outputs": [
    {
     "data": {
      "text/plain": [
       "0        [\\nMetallic\\n]\n",
       "1                   NaN\n",
       "2        [\\nMetallic\\n]\n",
       "3        [\\nMetallic\\n]\n",
       "4        [\\nMetallic\\n]\n",
       "              ...      \n",
       "15914    [\\nMetallic\\n]\n",
       "15915    [\\nMetallic\\n]\n",
       "15916               NaN\n",
       "15917               NaN\n",
       "15918    [\\nMetallic\\n]\n",
       "Name: Paint Type, Length: 15919, dtype: object"
      ]
     },
     "execution_count": 26,
     "metadata": {},
     "output_type": "execute_result"
    }
   ],
   "source": [
    "df[\"Paint Type\"]"
   ]
  },
  {
   "cell_type": "code",
   "execution_count": 27,
   "metadata": {},
   "outputs": [
    {
     "data": {
      "text/plain": [
       "0        [\\n0588/BDF\\n]\n",
       "1        [\\n0588/BCY\\n]\n",
       "2                   NaN\n",
       "3                   NaN\n",
       "4        [\\n0588/BDF\\n]\n",
       "              ...      \n",
       "15914               NaN\n",
       "15915    [\\n0000/000\\n]\n",
       "15916               NaN\n",
       "15917               NaN\n",
       "15918    [\\n3333/BHJ\\n]\n",
       "Name: Model Code, Length: 15919, dtype: object"
      ]
     },
     "execution_count": 27,
     "metadata": {},
     "output_type": "execute_result"
    }
   ],
   "source": [
    "df[\"Model Code\"]"
   ]
  },
  {
   "cell_type": "code",
   "execution_count": 28,
   "metadata": {},
   "outputs": [
    {
     "data": {
      "text/plain": [
       "0        [\\n1,422 cc\\n]\n",
       "1        [\\n1,798 cc\\n]\n",
       "2        [\\n1,598 cc\\n]\n",
       "3        [\\n1,422 cc\\n]\n",
       "4        [\\n1,422 cc\\n]\n",
       "              ...      \n",
       "15914    [\\n1,997 cc\\n]\n",
       "15915    [\\n1,798 cc\\n]\n",
       "15916    [\\n1,997 cc\\n]\n",
       "15917    [\\n1,997 cc\\n]\n",
       "15918    [\\n1,798 cc\\n]\n",
       "Name: Displacement, Length: 15919, dtype: object"
      ]
     },
     "execution_count": 28,
     "metadata": {},
     "output_type": "execute_result"
    }
   ],
   "source": [
    "df[\"Displacement\"]"
   ]
  },
  {
   "cell_type": "code",
   "execution_count": 29,
   "metadata": {},
   "outputs": [
    {
     "data": {
      "text/plain": [
       "0        [\\n1,220 kg\\n]\n",
       "1        [\\n1,255 kg\\n]\n",
       "2                   NaN\n",
       "3        [\\n1,195 kg\\n]\n",
       "4                   NaN\n",
       "              ...      \n",
       "15914    [\\n1,758 kg\\n]\n",
       "15915    [\\n1,708 kg\\n]\n",
       "15916               NaN\n",
       "15917    [\\n1,758 kg\\n]\n",
       "15918    [\\n1,685 kg\\n]\n",
       "Name: Weight, Length: 15919, dtype: object"
      ]
     },
     "execution_count": 29,
     "metadata": {},
     "output_type": "execute_result"
    }
   ],
   "source": [
    "df[\"Weight\"]"
   ]
  },
  {
   "cell_type": "code",
   "execution_count": 30,
   "metadata": {},
   "outputs": [
    {
     "data": {
      "text/plain": [
       "0        [\\nfront\\n]\n",
       "1        [\\nfront\\n]\n",
       "2        [\\nfront\\n]\n",
       "3                NaN\n",
       "4        [\\nfront\\n]\n",
       "            ...     \n",
       "15914    [\\nfront\\n]\n",
       "15915    [\\nfront\\n]\n",
       "15916    [\\nfront\\n]\n",
       "15917    [\\nfront\\n]\n",
       "15918      [\\n4WD\\n]\n",
       "Name: Drive chain, Length: 15919, dtype: object"
      ]
     },
     "execution_count": 30,
     "metadata": {},
     "output_type": "execute_result"
    }
   ],
   "source": [
    "df[\"Drive chain\"]"
   ]
  },
  {
   "cell_type": "code",
   "execution_count": 31,
   "metadata": {},
   "outputs": [
    {
     "data": {
      "text/plain": [
       "0        [\\n, Sicherheit:,  , Deaktivierung für Beifahr...\n",
       "1        [\\nLangstreckenfahrzeug daher die hohe Kilomet...\n",
       "2        [\\n, Fahrzeug-Nummer: AM-95365,  , Ehem. UPE 2...\n",
       "3        [\\nAudi A1: , - 1e eigenaar , - Perfecte staat...\n",
       "4        [\\n, Technik & Sicherheit:, Xenon plus, Klimaa...\n",
       "                               ...                        \n",
       "15914    [\\nVettura visionabile nella sede in Via Roma ...\n",
       "15915    [\\nDach: Panorama-Glas-Schiebedach, Lackierung...\n",
       "15916    [\\n, Getriebe:,  Automatik, Technik:,  Bordcom...\n",
       "15917    [\\nDEK:[2691331], Renault Espace Blue dCi 200C...\n",
       "15918    [\\n, Sicherheit Airbags:,  , Seitenairbag,  , ...\n",
       "Name: description, Length: 15919, dtype: object"
      ]
     },
     "execution_count": 31,
     "metadata": {},
     "output_type": "execute_result"
    }
   ],
   "source": [
    "df[\"description\"]"
   ]
  },
  {
   "cell_type": "code",
   "execution_count": 32,
   "metadata": {},
   "outputs": [
    {
     "ename": "TypeError",
     "evalue": "unhashable type: 'list'",
     "output_type": "error",
     "traceback": [
      "\u001b[1;31m---------------------------------------------------------------------------\u001b[0m",
      "\u001b[1;31mTypeError\u001b[0m                                 Traceback (most recent call last)",
      "\u001b[1;32mpandas\\_libs\\hashtable_class_helper.pxi\u001b[0m in \u001b[0;36mpandas._libs.hashtable.PyObjectHashTable.map_locations\u001b[1;34m()\u001b[0m\n",
      "\u001b[1;31mTypeError\u001b[0m: unhashable type: 'list'"
     ]
    },
    {
     "name": "stderr",
     "output_type": "stream",
     "text": [
      "Exception ignored in: 'pandas._libs.index.IndexEngine._call_map_locations'\n",
      "Traceback (most recent call last):\n",
      "  File \"pandas\\_libs\\hashtable_class_helper.pxi\", line 1709, in pandas._libs.hashtable.PyObjectHashTable.map_locations\n",
      "TypeError: unhashable type: 'list'\n"
     ]
    },
    {
     "data": {
      "text/plain": [
       "[\\nGermany\\n]           4502\n",
       "[\\nItaly\\n]             1038\n",
       "[\\nEuropean Union\\n]     507\n",
       "[\\nNetherlands\\n]        464\n",
       "[\\nSpain\\n]              325\n",
       "[\\nBelgium\\n]            314\n",
       "[\\nAustria\\n]            208\n",
       "[\\nCzech Republic\\n]      52\n",
       "[\\nPoland\\n]              49\n",
       "[\\nFrance\\n]              38\n",
       "[\\nDenmark\\n]             33\n",
       "[\\nHungary\\n]             28\n",
       "[\\nJapan\\n]                8\n",
       "[\\nCroatia\\n]              4\n",
       "[\\nSlovakia\\n]             4\n",
       "[\\nSweden\\n]               3\n",
       "[\\nBulgaria\\n]             2\n",
       "[\\nRomania\\n]              2\n",
       "[\\nSwitzerland\\n]          1\n",
       "[\\nLuxembourg\\n]           1\n",
       "[\\nSerbia\\n]               1\n",
       "[\\nSlovenia\\n]             1\n",
       "[\\nEgypt\\n]                1\n",
       "Name: Country version, dtype: int64"
      ]
     },
     "execution_count": 32,
     "metadata": {},
     "output_type": "execute_result"
    }
   ],
   "source": [
    "df[\"Country version\"].value_counts()"
   ]
  },
  {
   "cell_type": "code",
   "execution_count": 33,
   "metadata": {},
   "outputs": [
    {
     "data": {
      "text/plain": [
       "0                    NaN\n",
       "1        [\\n4 (Green)\\n]\n",
       "2        [\\n4 (Green)\\n]\n",
       "3                    NaN\n",
       "4                    NaN\n",
       "              ...       \n",
       "15914                NaN\n",
       "15915                NaN\n",
       "15916                NaN\n",
       "15917                NaN\n",
       "15918    [\\n4 (Green)\\n]\n",
       "Name: Emission Label, Length: 15919, dtype: object"
      ]
     },
     "execution_count": 33,
     "metadata": {},
     "output_type": "execute_result"
    }
   ],
   "source": [
    "df[\"Emission Label\"]"
   ]
  },
  {
   "cell_type": "code",
   "execution_count": 34,
   "metadata": {},
   "outputs": [
    {
     "data": {
      "text/plain": [
       "0              [\\nEuro 6\\n]\n",
       "1              [\\nEuro 6\\n]\n",
       "2              [\\nEuro 6\\n]\n",
       "3              [\\nEuro 6\\n]\n",
       "4              [\\nEuro 6\\n]\n",
       "                ...        \n",
       "15914                   NaN\n",
       "15915                   NaN\n",
       "15916    [\\nEuro 6d-TEMP\\n]\n",
       "15917          [\\nEuro 6\\n]\n",
       "15918          [\\nEuro 6\\n]\n",
       "Name: Emission Class, Length: 15919, dtype: object"
      ]
     },
     "execution_count": 34,
     "metadata": {},
     "output_type": "execute_result"
    }
   ],
   "source": [
    "df[\"Emission Class\"]"
   ]
  },
  {
   "cell_type": "code",
   "execution_count": 35,
   "metadata": {},
   "outputs": [],
   "source": [
    "df[df[\"Electricity consumption\"].notnull()];"
   ]
  },
  {
   "cell_type": "code",
   "execution_count": 36,
   "metadata": {},
   "outputs": [
    {
     "ename": "TypeError",
     "evalue": "unhashable type: 'list'",
     "output_type": "error",
     "traceback": [
      "\u001b[1;31m---------------------------------------------------------------------------\u001b[0m",
      "\u001b[1;31mTypeError\u001b[0m                                 Traceback (most recent call last)",
      "\u001b[1;32mpandas\\_libs\\hashtable_class_helper.pxi\u001b[0m in \u001b[0;36mpandas._libs.hashtable.PyObjectHashTable.map_locations\u001b[1;34m()\u001b[0m\n",
      "\u001b[1;31mTypeError\u001b[0m: unhashable type: 'list'"
     ]
    },
    {
     "name": "stderr",
     "output_type": "stream",
     "text": [
      "Exception ignored in: 'pandas._libs.index.IndexEngine._call_map_locations'\n",
      "Traceback (most recent call last):\n",
      "  File \"pandas\\_libs\\hashtable_class_helper.pxi\", line 1709, in pandas._libs.hashtable.PyObjectHashTable.map_locations\n",
      "TypeError: unhashable type: 'list'\n"
     ]
    },
    {
     "data": {
      "text/plain": [
       "[[], [], []]    880\n",
       "Name: Other Fuel Types, dtype: int64"
      ]
     },
     "execution_count": 36,
     "metadata": {},
     "output_type": "execute_result"
    }
   ],
   "source": [
    "df[\"Other Fuel Types\"].value_counts()"
   ]
  },
  {
   "cell_type": "code",
   "execution_count": 37,
   "metadata": {},
   "outputs": [
    {
     "name": "stdout",
     "output_type": "stream",
     "text": [
      "0        [\\n, 2016, \\n]\n",
      "1        [\\n, 2017, \\n]\n",
      "2        [\\n, 2016, \\n]\n",
      "3        [\\n, 2016, \\n]\n",
      "4        [\\n, 2016, \\n]\n",
      "              ...      \n",
      "15914               NaN\n",
      "15915    [\\n, 2019, \\n]\n",
      "15916    [\\n, 2019, \\n]\n",
      "15917    [\\n, 2019, \\n]\n",
      "15918    [\\n, 2019, \\n]\n",
      "Name: First Registration, Length: 15919, dtype: object\n",
      "------------------------------\n",
      "0        01/2016\n",
      "1        03/2017\n",
      "2        02/2016\n",
      "3        08/2016\n",
      "4        05/2016\n",
      "          ...   \n",
      "15914        -/-\n",
      "15915    01/2019\n",
      "15916    03/2019\n",
      "15917    06/2019\n",
      "15918    01/2019\n",
      "Name: registration, Length: 15919, dtype: object\n"
     ]
    }
   ],
   "source": [
    "print(df[\"First Registration\"])\n",
    "print(30*\"-\")\n",
    "print(df[\"registration\"])"
   ]
  },
  {
   "cell_type": "code",
   "execution_count": 38,
   "metadata": {},
   "outputs": [],
   "source": [
    "drop_col_list = [\"null\", \"short_description\",\"Full Service\",\"Type\", \"Previous Owners\", \"Make\", \"Model\", \n",
    "                 \"Offer Number\", \"Emission Label\", \"Body Color Original\", \"Model Code\", \"Weight\",\n",
    "                 \"description\", \"Country version\", \"Electricity consumption\", \"Other Fuel Types\", \"First Registration\", \"Body\"]"
   ]
  },
  {
   "cell_type": "code",
   "execution_count": 39,
   "metadata": {},
   "outputs": [],
   "source": [
    "df.drop(columns=drop_col_list, inplace=True)"
   ]
  },
  {
   "cell_type": "code",
   "execution_count": 40,
   "metadata": {},
   "outputs": [
    {
     "data": {
      "text/html": [
       "<div>\n",
       "<style scoped>\n",
       "    .dataframe tbody tr th:only-of-type {\n",
       "        vertical-align: middle;\n",
       "    }\n",
       "\n",
       "    .dataframe tbody tr th {\n",
       "        vertical-align: top;\n",
       "    }\n",
       "\n",
       "    .dataframe thead th {\n",
       "        text-align: right;\n",
       "    }\n",
       "</style>\n",
       "<table border=\"1\" class=\"dataframe\">\n",
       "  <thead>\n",
       "    <tr style=\"text-align: right;\">\n",
       "      <th></th>\n",
       "      <th>make_model</th>\n",
       "      <th>body_type</th>\n",
       "      <th>price</th>\n",
       "      <th>vat</th>\n",
       "      <th>km</th>\n",
       "      <th>registration</th>\n",
       "      <th>prev_owner</th>\n",
       "      <th>hp</th>\n",
       "      <th>Next Inspection</th>\n",
       "      <th>Inspection new</th>\n",
       "      <th>Warranty</th>\n",
       "      <th>Non-smoking Vehicle</th>\n",
       "      <th>Body Color</th>\n",
       "      <th>Paint Type</th>\n",
       "      <th>Upholstery</th>\n",
       "      <th>Nr. of Doors</th>\n",
       "      <th>Nr. of Seats</th>\n",
       "      <th>Gearing Type</th>\n",
       "      <th>Displacement</th>\n",
       "      <th>Cylinders</th>\n",
       "      <th>Drive chain</th>\n",
       "      <th>Fuel</th>\n",
       "      <th>Consumption</th>\n",
       "      <th>CO2 Emission</th>\n",
       "      <th>Emission Class</th>\n",
       "      <th>\\nComfort &amp; Convenience\\n</th>\n",
       "      <th>\\nEntertainment &amp; Media\\n</th>\n",
       "      <th>\\nExtras\\n</th>\n",
       "      <th>\\nSafety &amp; Security\\n</th>\n",
       "      <th>Gears</th>\n",
       "    </tr>\n",
       "  </thead>\n",
       "  <tbody>\n",
       "    <tr>\n",
       "      <th>0</th>\n",
       "      <td>Audi A1</td>\n",
       "      <td>Sedans</td>\n",
       "      <td>15770</td>\n",
       "      <td>VAT deductible</td>\n",
       "      <td>56,013 km</td>\n",
       "      <td>01/2016</td>\n",
       "      <td>2 previous owners</td>\n",
       "      <td>66 kW</td>\n",
       "      <td>[\\n06/2021\\n, \\n99 g CO2/km (comb)\\n]</td>\n",
       "      <td>[\\nYes\\n, \\nEuro 6\\n]</td>\n",
       "      <td>[\\n, \\n, \\n4 (Green)\\n]</td>\n",
       "      <td>[\\n, \\n]</td>\n",
       "      <td>[\\n, Black, \\n]</td>\n",
       "      <td>[\\nMetallic\\n]</td>\n",
       "      <td>[\\nCloth, Black\\n]</td>\n",
       "      <td>[\\n5\\n]</td>\n",
       "      <td>[\\n5\\n]</td>\n",
       "      <td>[\\n, Automatic, \\n]</td>\n",
       "      <td>[\\n1,422 cc\\n]</td>\n",
       "      <td>[\\n3\\n]</td>\n",
       "      <td>[\\nfront\\n]</td>\n",
       "      <td>[\\n, Diesel (Particulate Filter), \\n]</td>\n",
       "      <td>[[3.8 l/100 km (comb)], [4.3 l/100 km (city)],...</td>\n",
       "      <td>[\\n99 g CO2/km (comb)\\n]</td>\n",
       "      <td>[\\nEuro 6\\n]</td>\n",
       "      <td>[Air conditioning, Armrest, Automatic climate ...</td>\n",
       "      <td>[Bluetooth, Hands-free equipment, On-board com...</td>\n",
       "      <td>[Alloy wheels, Catalytic Converter, Voice Cont...</td>\n",
       "      <td>[ABS, Central door lock, Daytime running light...</td>\n",
       "      <td>NaN</td>\n",
       "    </tr>\n",
       "    <tr>\n",
       "      <th>1</th>\n",
       "      <td>Audi A1</td>\n",
       "      <td>Sedans</td>\n",
       "      <td>14500</td>\n",
       "      <td>Price negotiable</td>\n",
       "      <td>80,000 km</td>\n",
       "      <td>03/2017</td>\n",
       "      <td>None</td>\n",
       "      <td>141 kW</td>\n",
       "      <td>NaN</td>\n",
       "      <td>NaN</td>\n",
       "      <td>NaN</td>\n",
       "      <td>NaN</td>\n",
       "      <td>[\\n, Red, \\n]</td>\n",
       "      <td>NaN</td>\n",
       "      <td>[\\nCloth, Grey\\n]</td>\n",
       "      <td>[\\n3\\n]</td>\n",
       "      <td>[\\n4\\n]</td>\n",
       "      <td>[\\n, Automatic, \\n]</td>\n",
       "      <td>[\\n1,798 cc\\n]</td>\n",
       "      <td>[\\n4\\n]</td>\n",
       "      <td>[\\nfront\\n]</td>\n",
       "      <td>[\\n, Gasoline, \\n]</td>\n",
       "      <td>[[5.6 l/100 km (comb)], [7.1 l/100 km (city)],...</td>\n",
       "      <td>[\\n129 g CO2/km (comb)\\n]</td>\n",
       "      <td>[\\nEuro 6\\n]</td>\n",
       "      <td>[Air conditioning, Automatic climate control, ...</td>\n",
       "      <td>[Bluetooth, Hands-free equipment, On-board com...</td>\n",
       "      <td>[Alloy wheels, Sport seats, Sport suspension, ...</td>\n",
       "      <td>[ABS, Central door lock, Central door lock wit...</td>\n",
       "      <td>[\\n7\\n]</td>\n",
       "    </tr>\n",
       "    <tr>\n",
       "      <th>2</th>\n",
       "      <td>Audi A1</td>\n",
       "      <td>Sedans</td>\n",
       "      <td>14640</td>\n",
       "      <td>VAT deductible</td>\n",
       "      <td>83,450 km</td>\n",
       "      <td>02/2016</td>\n",
       "      <td>1 previous owner</td>\n",
       "      <td>85 kW</td>\n",
       "      <td>NaN</td>\n",
       "      <td>NaN</td>\n",
       "      <td>[\\n, \\n, \\n99 g CO2/km (comb)\\n]</td>\n",
       "      <td>NaN</td>\n",
       "      <td>[\\n, Black, \\n]</td>\n",
       "      <td>[\\nMetallic\\n]</td>\n",
       "      <td>[\\nCloth, Black\\n]</td>\n",
       "      <td>[\\n4\\n]</td>\n",
       "      <td>[\\n4\\n]</td>\n",
       "      <td>[\\n, Automatic, \\n]</td>\n",
       "      <td>[\\n1,598 cc\\n]</td>\n",
       "      <td>NaN</td>\n",
       "      <td>[\\nfront\\n]</td>\n",
       "      <td>[\\n, Diesel (Particulate Filter), \\n]</td>\n",
       "      <td>[[3.8 l/100 km (comb)], [4.4 l/100 km (city)],...</td>\n",
       "      <td>[\\n99 g CO2/km (comb)\\n]</td>\n",
       "      <td>[\\nEuro 6\\n]</td>\n",
       "      <td>[Air conditioning, Cruise control, Electrical ...</td>\n",
       "      <td>[MP3, On-board computer]</td>\n",
       "      <td>[Alloy wheels, Voice Control]</td>\n",
       "      <td>[ABS, Central door lock, Daytime running light...</td>\n",
       "      <td>NaN</td>\n",
       "    </tr>\n",
       "    <tr>\n",
       "      <th>3</th>\n",
       "      <td>Audi A1</td>\n",
       "      <td>Sedans</td>\n",
       "      <td>14500</td>\n",
       "      <td>None</td>\n",
       "      <td>73,000 km</td>\n",
       "      <td>08/2016</td>\n",
       "      <td>1 previous owner</td>\n",
       "      <td>66 kW</td>\n",
       "      <td>NaN</td>\n",
       "      <td>NaN</td>\n",
       "      <td>NaN</td>\n",
       "      <td>[\\n, \\n, \\nEuro 6\\n]</td>\n",
       "      <td>[\\n, Brown, \\n]</td>\n",
       "      <td>[\\nMetallic\\n]</td>\n",
       "      <td>NaN</td>\n",
       "      <td>[\\n3\\n]</td>\n",
       "      <td>[\\n4\\n]</td>\n",
       "      <td>[\\n, Automatic, \\n]</td>\n",
       "      <td>[\\n1,422 cc\\n]</td>\n",
       "      <td>[\\n3\\n]</td>\n",
       "      <td>NaN</td>\n",
       "      <td>[\\n, Diesel (Particulate Filter), \\n]</td>\n",
       "      <td>[[3.8 l/100 km (comb)], [4.3 l/100 km (city)],...</td>\n",
       "      <td>[\\n99 g CO2/km (comb)\\n]</td>\n",
       "      <td>[\\nEuro 6\\n]</td>\n",
       "      <td>[Air suspension, Armrest, Auxiliary heating, E...</td>\n",
       "      <td>[Bluetooth, CD player, Hands-free equipment, M...</td>\n",
       "      <td>[Alloy wheels, Sport seats, Voice Control]</td>\n",
       "      <td>[ABS, Alarm system, Central door lock with rem...</td>\n",
       "      <td>[\\n6\\n]</td>\n",
       "    </tr>\n",
       "    <tr>\n",
       "      <th>4</th>\n",
       "      <td>Audi A1</td>\n",
       "      <td>Sedans</td>\n",
       "      <td>16790</td>\n",
       "      <td>None</td>\n",
       "      <td>16,200 km</td>\n",
       "      <td>05/2016</td>\n",
       "      <td>1 previous owner</td>\n",
       "      <td>66 kW</td>\n",
       "      <td>NaN</td>\n",
       "      <td>[\\nYes\\n, \\n109 g CO2/km (comb)\\n]</td>\n",
       "      <td>[\\n, \\n, \\nEuro 6\\n]</td>\n",
       "      <td>[\\n, \\n]</td>\n",
       "      <td>[\\n, Black, \\n]</td>\n",
       "      <td>[\\nMetallic\\n]</td>\n",
       "      <td>[\\nCloth, Black\\n]</td>\n",
       "      <td>[\\n5\\n]</td>\n",
       "      <td>[\\n5\\n]</td>\n",
       "      <td>[\\n, Automatic, \\n]</td>\n",
       "      <td>[\\n1,422 cc\\n]</td>\n",
       "      <td>[\\n3\\n]</td>\n",
       "      <td>[\\nfront\\n]</td>\n",
       "      <td>[\\n, Diesel (Particulate Filter), \\n]</td>\n",
       "      <td>[[4.1 l/100 km (comb)], [4.6 l/100 km (city)],...</td>\n",
       "      <td>[\\n109 g CO2/km (comb)\\n]</td>\n",
       "      <td>[\\nEuro 6\\n]</td>\n",
       "      <td>[Air conditioning, Armrest, Automatic climate ...</td>\n",
       "      <td>[Bluetooth, CD player, Hands-free equipment, M...</td>\n",
       "      <td>[Alloy wheels, Sport package, Sport suspension...</td>\n",
       "      <td>[ABS, Central door lock, Driver-side airbag, E...</td>\n",
       "      <td>NaN</td>\n",
       "    </tr>\n",
       "  </tbody>\n",
       "</table>\n",
       "</div>"
      ],
      "text/plain": [
       "  make_model body_type  price               vat         km registration  \\\n",
       "0    Audi A1    Sedans  15770    VAT deductible  56,013 km      01/2016   \n",
       "1    Audi A1    Sedans  14500  Price negotiable  80,000 km      03/2017   \n",
       "2    Audi A1    Sedans  14640    VAT deductible  83,450 km      02/2016   \n",
       "3    Audi A1    Sedans  14500              None  73,000 km      08/2016   \n",
       "4    Audi A1    Sedans  16790              None  16,200 km      05/2016   \n",
       "\n",
       "          prev_owner      hp                        Next Inspection  \\\n",
       "0  2 previous owners   66 kW  [\\n06/2021\\n, \\n99 g CO2/km (comb)\\n]   \n",
       "1               None  141 kW                                    NaN   \n",
       "2   1 previous owner   85 kW                                    NaN   \n",
       "3   1 previous owner   66 kW                                    NaN   \n",
       "4   1 previous owner   66 kW                                    NaN   \n",
       "\n",
       "                       Inspection new                          Warranty  \\\n",
       "0               [\\nYes\\n, \\nEuro 6\\n]           [\\n, \\n, \\n4 (Green)\\n]   \n",
       "1                                 NaN                               NaN   \n",
       "2                                 NaN  [\\n, \\n, \\n99 g CO2/km (comb)\\n]   \n",
       "3                                 NaN                               NaN   \n",
       "4  [\\nYes\\n, \\n109 g CO2/km (comb)\\n]              [\\n, \\n, \\nEuro 6\\n]   \n",
       "\n",
       "    Non-smoking Vehicle       Body Color      Paint Type          Upholstery  \\\n",
       "0              [\\n, \\n]  [\\n, Black, \\n]  [\\nMetallic\\n]  [\\nCloth, Black\\n]   \n",
       "1                   NaN    [\\n, Red, \\n]             NaN   [\\nCloth, Grey\\n]   \n",
       "2                   NaN  [\\n, Black, \\n]  [\\nMetallic\\n]  [\\nCloth, Black\\n]   \n",
       "3  [\\n, \\n, \\nEuro 6\\n]  [\\n, Brown, \\n]  [\\nMetallic\\n]                 NaN   \n",
       "4              [\\n, \\n]  [\\n, Black, \\n]  [\\nMetallic\\n]  [\\nCloth, Black\\n]   \n",
       "\n",
       "  Nr. of Doors Nr. of Seats         Gearing Type    Displacement Cylinders  \\\n",
       "0      [\\n5\\n]      [\\n5\\n]  [\\n, Automatic, \\n]  [\\n1,422 cc\\n]   [\\n3\\n]   \n",
       "1      [\\n3\\n]      [\\n4\\n]  [\\n, Automatic, \\n]  [\\n1,798 cc\\n]   [\\n4\\n]   \n",
       "2      [\\n4\\n]      [\\n4\\n]  [\\n, Automatic, \\n]  [\\n1,598 cc\\n]       NaN   \n",
       "3      [\\n3\\n]      [\\n4\\n]  [\\n, Automatic, \\n]  [\\n1,422 cc\\n]   [\\n3\\n]   \n",
       "4      [\\n5\\n]      [\\n5\\n]  [\\n, Automatic, \\n]  [\\n1,422 cc\\n]   [\\n3\\n]   \n",
       "\n",
       "   Drive chain                                   Fuel  \\\n",
       "0  [\\nfront\\n]  [\\n, Diesel (Particulate Filter), \\n]   \n",
       "1  [\\nfront\\n]                     [\\n, Gasoline, \\n]   \n",
       "2  [\\nfront\\n]  [\\n, Diesel (Particulate Filter), \\n]   \n",
       "3          NaN  [\\n, Diesel (Particulate Filter), \\n]   \n",
       "4  [\\nfront\\n]  [\\n, Diesel (Particulate Filter), \\n]   \n",
       "\n",
       "                                         Consumption  \\\n",
       "0  [[3.8 l/100 km (comb)], [4.3 l/100 km (city)],...   \n",
       "1  [[5.6 l/100 km (comb)], [7.1 l/100 km (city)],...   \n",
       "2  [[3.8 l/100 km (comb)], [4.4 l/100 km (city)],...   \n",
       "3  [[3.8 l/100 km (comb)], [4.3 l/100 km (city)],...   \n",
       "4  [[4.1 l/100 km (comb)], [4.6 l/100 km (city)],...   \n",
       "\n",
       "                CO2 Emission Emission Class  \\\n",
       "0   [\\n99 g CO2/km (comb)\\n]   [\\nEuro 6\\n]   \n",
       "1  [\\n129 g CO2/km (comb)\\n]   [\\nEuro 6\\n]   \n",
       "2   [\\n99 g CO2/km (comb)\\n]   [\\nEuro 6\\n]   \n",
       "3   [\\n99 g CO2/km (comb)\\n]   [\\nEuro 6\\n]   \n",
       "4  [\\n109 g CO2/km (comb)\\n]   [\\nEuro 6\\n]   \n",
       "\n",
       "                           \\nComfort & Convenience\\n  \\\n",
       "0  [Air conditioning, Armrest, Automatic climate ...   \n",
       "1  [Air conditioning, Automatic climate control, ...   \n",
       "2  [Air conditioning, Cruise control, Electrical ...   \n",
       "3  [Air suspension, Armrest, Auxiliary heating, E...   \n",
       "4  [Air conditioning, Armrest, Automatic climate ...   \n",
       "\n",
       "                           \\nEntertainment & Media\\n  \\\n",
       "0  [Bluetooth, Hands-free equipment, On-board com...   \n",
       "1  [Bluetooth, Hands-free equipment, On-board com...   \n",
       "2                           [MP3, On-board computer]   \n",
       "3  [Bluetooth, CD player, Hands-free equipment, M...   \n",
       "4  [Bluetooth, CD player, Hands-free equipment, M...   \n",
       "\n",
       "                                          \\nExtras\\n  \\\n",
       "0  [Alloy wheels, Catalytic Converter, Voice Cont...   \n",
       "1  [Alloy wheels, Sport seats, Sport suspension, ...   \n",
       "2                      [Alloy wheels, Voice Control]   \n",
       "3         [Alloy wheels, Sport seats, Voice Control]   \n",
       "4  [Alloy wheels, Sport package, Sport suspension...   \n",
       "\n",
       "                               \\nSafety & Security\\n    Gears  \n",
       "0  [ABS, Central door lock, Daytime running light...      NaN  \n",
       "1  [ABS, Central door lock, Central door lock wit...  [\\n7\\n]  \n",
       "2  [ABS, Central door lock, Daytime running light...      NaN  \n",
       "3  [ABS, Alarm system, Central door lock with rem...  [\\n6\\n]  \n",
       "4  [ABS, Central door lock, Driver-side airbag, E...      NaN  "
      ]
     },
     "execution_count": 40,
     "metadata": {},
     "output_type": "execute_result"
    }
   ],
   "source": [
    "pd.set_option('display.max_columns', None)\n",
    "df.head()"
   ]
  },
  {
   "cell_type": "code",
   "execution_count": 41,
   "metadata": {},
   "outputs": [],
   "source": [
    "def show_nans(df, limit):\n",
    "    missing = df.isnull().sum()*100/df.shape[0]\n",
    "    return missing.loc[lambda x : x > limit] "
   ]
  },
  {
   "cell_type": "code",
   "execution_count": 42,
   "metadata": {},
   "outputs": [
    {
     "data": {
      "text/plain": [
       "Next Inspection        77.793831\n",
       "Inspection new         75.299956\n",
       "Non-smoking Vehicle    54.915510\n",
       "dtype: float64"
      ]
     },
     "execution_count": 42,
     "metadata": {},
     "output_type": "execute_result"
    }
   ],
   "source": [
    "show_nans(df,50)"
   ]
  },
  {
   "cell_type": "code",
   "execution_count": 43,
   "metadata": {},
   "outputs": [],
   "source": [
    "def Nan_to_list(data, column_name):\n",
    "    NaN_rows = data[column_name].isnull()\n",
    "    # Change the type of NaNs from 'float' to (empty) 'list'\n",
    "    data.loc[NaN_rows, column_name] = data.loc[NaN_rows, column_name].apply(lambda x: [])"
   ]
  },
  {
   "cell_type": "code",
   "execution_count": 44,
   "metadata": {},
   "outputs": [],
   "source": [
    "def unique_values(data, column_name):\n",
    "    unique_vals = set()\n",
    "    for rows in data[column_name]:\n",
    "        unique_vals.update(rows)\n",
    "    return list(unique_vals)"
   ]
  },
  {
   "cell_type": "code",
   "execution_count": 45,
   "metadata": {},
   "outputs": [
    {
     "data": {
      "text/plain": [
       "0.1292166593378981"
      ]
     },
     "execution_count": 45,
     "metadata": {},
     "output_type": "execute_result"
    }
   ],
   "source": [
    "df.Warranty.str.contains(\"months\").sum()/df.shape[0]"
   ]
  },
  {
   "cell_type": "code",
   "execution_count": 46,
   "metadata": {},
   "outputs": [
    {
     "ename": "TypeError",
     "evalue": "unhashable type: 'list'",
     "output_type": "error",
     "traceback": [
      "\u001b[1;31m---------------------------------------------------------------------------\u001b[0m",
      "\u001b[1;31mTypeError\u001b[0m                                 Traceback (most recent call last)",
      "\u001b[1;32mpandas\\_libs\\hashtable_class_helper.pxi\u001b[0m in \u001b[0;36mpandas._libs.hashtable.PyObjectHashTable.map_locations\u001b[1;34m()\u001b[0m\n",
      "\u001b[1;31mTypeError\u001b[0m: unhashable type: 'list'"
     ]
    },
    {
     "name": "stderr",
     "output_type": "stream",
     "text": [
      "Exception ignored in: 'pandas._libs.index.IndexEngine._call_map_locations'\n",
      "Traceback (most recent call last):\n",
      "  File \"pandas\\_libs\\hashtable_class_helper.pxi\", line 1709, in pandas._libs.hashtable.PyObjectHashTable.map_locations\n",
      "TypeError: unhashable type: 'list'\n"
     ]
    },
    {
     "data": {
      "text/plain": [
       "[\\n120 g CO2/km (comb)\\n]       740\n",
       "[[], [], []]                    628\n",
       "[\\n99 g CO2/km (comb)\\n]        545\n",
       "[\\n97 g CO2/km (comb)\\n]        537\n",
       "[\\n104 g CO2/km (comb)\\n]       501\n",
       "                               ... \n",
       "[\\n13,983 g CO2/km (comb)\\n]      1\n",
       "[\\n331 g CO2/km (comb)\\n]         1\n",
       "[\\n990 g CO2/km (comb)\\n]         1\n",
       "[\\n14,457 g CO2/km (comb)\\n]      1\n",
       "[\\n190 g CO2/km (comb)\\n]         1\n",
       "Name: CO2 Emission, Length: 123, dtype: int64"
      ]
     },
     "execution_count": 46,
     "metadata": {},
     "output_type": "execute_result"
    }
   ],
   "source": [
    "df[\"CO2 Emission\"].value_counts()"
   ]
  },
  {
   "cell_type": "code",
   "execution_count": 47,
   "metadata": {},
   "outputs": [],
   "source": [
    "drop_col_list2 = [\"Next Inspection\", \"Inspection new\", \"Non-smoking Vehicle\", \"Warranty\", \"CO2 Emission\"]"
   ]
  },
  {
   "cell_type": "code",
   "execution_count": 48,
   "metadata": {},
   "outputs": [],
   "source": [
    "df.drop(columns=drop_col_list2, inplace=True)"
   ]
  },
  {
   "cell_type": "code",
   "execution_count": 49,
   "metadata": {},
   "outputs": [
    {
     "data": {
      "text/html": [
       "<div>\n",
       "<style scoped>\n",
       "    .dataframe tbody tr th:only-of-type {\n",
       "        vertical-align: middle;\n",
       "    }\n",
       "\n",
       "    .dataframe tbody tr th {\n",
       "        vertical-align: top;\n",
       "    }\n",
       "\n",
       "    .dataframe thead th {\n",
       "        text-align: right;\n",
       "    }\n",
       "</style>\n",
       "<table border=\"1\" class=\"dataframe\">\n",
       "  <thead>\n",
       "    <tr style=\"text-align: right;\">\n",
       "      <th></th>\n",
       "      <th>make_model</th>\n",
       "      <th>body_type</th>\n",
       "      <th>price</th>\n",
       "      <th>vat</th>\n",
       "      <th>km</th>\n",
       "      <th>registration</th>\n",
       "      <th>prev_owner</th>\n",
       "      <th>hp</th>\n",
       "      <th>Body Color</th>\n",
       "      <th>Paint Type</th>\n",
       "      <th>Upholstery</th>\n",
       "      <th>Nr. of Doors</th>\n",
       "      <th>Nr. of Seats</th>\n",
       "      <th>Gearing Type</th>\n",
       "      <th>Displacement</th>\n",
       "      <th>Cylinders</th>\n",
       "      <th>Drive chain</th>\n",
       "      <th>Fuel</th>\n",
       "      <th>Consumption</th>\n",
       "      <th>Emission Class</th>\n",
       "      <th>\\nComfort &amp; Convenience\\n</th>\n",
       "      <th>\\nEntertainment &amp; Media\\n</th>\n",
       "      <th>\\nExtras\\n</th>\n",
       "      <th>\\nSafety &amp; Security\\n</th>\n",
       "      <th>Gears</th>\n",
       "    </tr>\n",
       "  </thead>\n",
       "  <tbody>\n",
       "    <tr>\n",
       "      <th>0</th>\n",
       "      <td>Audi A1</td>\n",
       "      <td>Sedans</td>\n",
       "      <td>15770</td>\n",
       "      <td>VAT deductible</td>\n",
       "      <td>56,013 km</td>\n",
       "      <td>01/2016</td>\n",
       "      <td>2 previous owners</td>\n",
       "      <td>66 kW</td>\n",
       "      <td>[\\n, Black, \\n]</td>\n",
       "      <td>[\\nMetallic\\n]</td>\n",
       "      <td>[\\nCloth, Black\\n]</td>\n",
       "      <td>[\\n5\\n]</td>\n",
       "      <td>[\\n5\\n]</td>\n",
       "      <td>[\\n, Automatic, \\n]</td>\n",
       "      <td>[\\n1,422 cc\\n]</td>\n",
       "      <td>[\\n3\\n]</td>\n",
       "      <td>[\\nfront\\n]</td>\n",
       "      <td>[\\n, Diesel (Particulate Filter), \\n]</td>\n",
       "      <td>[[3.8 l/100 km (comb)], [4.3 l/100 km (city)],...</td>\n",
       "      <td>[\\nEuro 6\\n]</td>\n",
       "      <td>[Air conditioning, Armrest, Automatic climate ...</td>\n",
       "      <td>[Bluetooth, Hands-free equipment, On-board com...</td>\n",
       "      <td>[Alloy wheels, Catalytic Converter, Voice Cont...</td>\n",
       "      <td>[ABS, Central door lock, Daytime running light...</td>\n",
       "      <td>NaN</td>\n",
       "    </tr>\n",
       "    <tr>\n",
       "      <th>1</th>\n",
       "      <td>Audi A1</td>\n",
       "      <td>Sedans</td>\n",
       "      <td>14500</td>\n",
       "      <td>Price negotiable</td>\n",
       "      <td>80,000 km</td>\n",
       "      <td>03/2017</td>\n",
       "      <td>None</td>\n",
       "      <td>141 kW</td>\n",
       "      <td>[\\n, Red, \\n]</td>\n",
       "      <td>NaN</td>\n",
       "      <td>[\\nCloth, Grey\\n]</td>\n",
       "      <td>[\\n3\\n]</td>\n",
       "      <td>[\\n4\\n]</td>\n",
       "      <td>[\\n, Automatic, \\n]</td>\n",
       "      <td>[\\n1,798 cc\\n]</td>\n",
       "      <td>[\\n4\\n]</td>\n",
       "      <td>[\\nfront\\n]</td>\n",
       "      <td>[\\n, Gasoline, \\n]</td>\n",
       "      <td>[[5.6 l/100 km (comb)], [7.1 l/100 km (city)],...</td>\n",
       "      <td>[\\nEuro 6\\n]</td>\n",
       "      <td>[Air conditioning, Automatic climate control, ...</td>\n",
       "      <td>[Bluetooth, Hands-free equipment, On-board com...</td>\n",
       "      <td>[Alloy wheels, Sport seats, Sport suspension, ...</td>\n",
       "      <td>[ABS, Central door lock, Central door lock wit...</td>\n",
       "      <td>[\\n7\\n]</td>\n",
       "    </tr>\n",
       "    <tr>\n",
       "      <th>2</th>\n",
       "      <td>Audi A1</td>\n",
       "      <td>Sedans</td>\n",
       "      <td>14640</td>\n",
       "      <td>VAT deductible</td>\n",
       "      <td>83,450 km</td>\n",
       "      <td>02/2016</td>\n",
       "      <td>1 previous owner</td>\n",
       "      <td>85 kW</td>\n",
       "      <td>[\\n, Black, \\n]</td>\n",
       "      <td>[\\nMetallic\\n]</td>\n",
       "      <td>[\\nCloth, Black\\n]</td>\n",
       "      <td>[\\n4\\n]</td>\n",
       "      <td>[\\n4\\n]</td>\n",
       "      <td>[\\n, Automatic, \\n]</td>\n",
       "      <td>[\\n1,598 cc\\n]</td>\n",
       "      <td>NaN</td>\n",
       "      <td>[\\nfront\\n]</td>\n",
       "      <td>[\\n, Diesel (Particulate Filter), \\n]</td>\n",
       "      <td>[[3.8 l/100 km (comb)], [4.4 l/100 km (city)],...</td>\n",
       "      <td>[\\nEuro 6\\n]</td>\n",
       "      <td>[Air conditioning, Cruise control, Electrical ...</td>\n",
       "      <td>[MP3, On-board computer]</td>\n",
       "      <td>[Alloy wheels, Voice Control]</td>\n",
       "      <td>[ABS, Central door lock, Daytime running light...</td>\n",
       "      <td>NaN</td>\n",
       "    </tr>\n",
       "    <tr>\n",
       "      <th>3</th>\n",
       "      <td>Audi A1</td>\n",
       "      <td>Sedans</td>\n",
       "      <td>14500</td>\n",
       "      <td>None</td>\n",
       "      <td>73,000 km</td>\n",
       "      <td>08/2016</td>\n",
       "      <td>1 previous owner</td>\n",
       "      <td>66 kW</td>\n",
       "      <td>[\\n, Brown, \\n]</td>\n",
       "      <td>[\\nMetallic\\n]</td>\n",
       "      <td>NaN</td>\n",
       "      <td>[\\n3\\n]</td>\n",
       "      <td>[\\n4\\n]</td>\n",
       "      <td>[\\n, Automatic, \\n]</td>\n",
       "      <td>[\\n1,422 cc\\n]</td>\n",
       "      <td>[\\n3\\n]</td>\n",
       "      <td>NaN</td>\n",
       "      <td>[\\n, Diesel (Particulate Filter), \\n]</td>\n",
       "      <td>[[3.8 l/100 km (comb)], [4.3 l/100 km (city)],...</td>\n",
       "      <td>[\\nEuro 6\\n]</td>\n",
       "      <td>[Air suspension, Armrest, Auxiliary heating, E...</td>\n",
       "      <td>[Bluetooth, CD player, Hands-free equipment, M...</td>\n",
       "      <td>[Alloy wheels, Sport seats, Voice Control]</td>\n",
       "      <td>[ABS, Alarm system, Central door lock with rem...</td>\n",
       "      <td>[\\n6\\n]</td>\n",
       "    </tr>\n",
       "    <tr>\n",
       "      <th>4</th>\n",
       "      <td>Audi A1</td>\n",
       "      <td>Sedans</td>\n",
       "      <td>16790</td>\n",
       "      <td>None</td>\n",
       "      <td>16,200 km</td>\n",
       "      <td>05/2016</td>\n",
       "      <td>1 previous owner</td>\n",
       "      <td>66 kW</td>\n",
       "      <td>[\\n, Black, \\n]</td>\n",
       "      <td>[\\nMetallic\\n]</td>\n",
       "      <td>[\\nCloth, Black\\n]</td>\n",
       "      <td>[\\n5\\n]</td>\n",
       "      <td>[\\n5\\n]</td>\n",
       "      <td>[\\n, Automatic, \\n]</td>\n",
       "      <td>[\\n1,422 cc\\n]</td>\n",
       "      <td>[\\n3\\n]</td>\n",
       "      <td>[\\nfront\\n]</td>\n",
       "      <td>[\\n, Diesel (Particulate Filter), \\n]</td>\n",
       "      <td>[[4.1 l/100 km (comb)], [4.6 l/100 km (city)],...</td>\n",
       "      <td>[\\nEuro 6\\n]</td>\n",
       "      <td>[Air conditioning, Armrest, Automatic climate ...</td>\n",
       "      <td>[Bluetooth, CD player, Hands-free equipment, M...</td>\n",
       "      <td>[Alloy wheels, Sport package, Sport suspension...</td>\n",
       "      <td>[ABS, Central door lock, Driver-side airbag, E...</td>\n",
       "      <td>NaN</td>\n",
       "    </tr>\n",
       "  </tbody>\n",
       "</table>\n",
       "</div>"
      ],
      "text/plain": [
       "  make_model body_type  price               vat         km registration  \\\n",
       "0    Audi A1    Sedans  15770    VAT deductible  56,013 km      01/2016   \n",
       "1    Audi A1    Sedans  14500  Price negotiable  80,000 km      03/2017   \n",
       "2    Audi A1    Sedans  14640    VAT deductible  83,450 km      02/2016   \n",
       "3    Audi A1    Sedans  14500              None  73,000 km      08/2016   \n",
       "4    Audi A1    Sedans  16790              None  16,200 km      05/2016   \n",
       "\n",
       "          prev_owner      hp       Body Color      Paint Type  \\\n",
       "0  2 previous owners   66 kW  [\\n, Black, \\n]  [\\nMetallic\\n]   \n",
       "1               None  141 kW    [\\n, Red, \\n]             NaN   \n",
       "2   1 previous owner   85 kW  [\\n, Black, \\n]  [\\nMetallic\\n]   \n",
       "3   1 previous owner   66 kW  [\\n, Brown, \\n]  [\\nMetallic\\n]   \n",
       "4   1 previous owner   66 kW  [\\n, Black, \\n]  [\\nMetallic\\n]   \n",
       "\n",
       "           Upholstery Nr. of Doors Nr. of Seats         Gearing Type  \\\n",
       "0  [\\nCloth, Black\\n]      [\\n5\\n]      [\\n5\\n]  [\\n, Automatic, \\n]   \n",
       "1   [\\nCloth, Grey\\n]      [\\n3\\n]      [\\n4\\n]  [\\n, Automatic, \\n]   \n",
       "2  [\\nCloth, Black\\n]      [\\n4\\n]      [\\n4\\n]  [\\n, Automatic, \\n]   \n",
       "3                 NaN      [\\n3\\n]      [\\n4\\n]  [\\n, Automatic, \\n]   \n",
       "4  [\\nCloth, Black\\n]      [\\n5\\n]      [\\n5\\n]  [\\n, Automatic, \\n]   \n",
       "\n",
       "     Displacement Cylinders  Drive chain  \\\n",
       "0  [\\n1,422 cc\\n]   [\\n3\\n]  [\\nfront\\n]   \n",
       "1  [\\n1,798 cc\\n]   [\\n4\\n]  [\\nfront\\n]   \n",
       "2  [\\n1,598 cc\\n]       NaN  [\\nfront\\n]   \n",
       "3  [\\n1,422 cc\\n]   [\\n3\\n]          NaN   \n",
       "4  [\\n1,422 cc\\n]   [\\n3\\n]  [\\nfront\\n]   \n",
       "\n",
       "                                    Fuel  \\\n",
       "0  [\\n, Diesel (Particulate Filter), \\n]   \n",
       "1                     [\\n, Gasoline, \\n]   \n",
       "2  [\\n, Diesel (Particulate Filter), \\n]   \n",
       "3  [\\n, Diesel (Particulate Filter), \\n]   \n",
       "4  [\\n, Diesel (Particulate Filter), \\n]   \n",
       "\n",
       "                                         Consumption Emission Class  \\\n",
       "0  [[3.8 l/100 km (comb)], [4.3 l/100 km (city)],...   [\\nEuro 6\\n]   \n",
       "1  [[5.6 l/100 km (comb)], [7.1 l/100 km (city)],...   [\\nEuro 6\\n]   \n",
       "2  [[3.8 l/100 km (comb)], [4.4 l/100 km (city)],...   [\\nEuro 6\\n]   \n",
       "3  [[3.8 l/100 km (comb)], [4.3 l/100 km (city)],...   [\\nEuro 6\\n]   \n",
       "4  [[4.1 l/100 km (comb)], [4.6 l/100 km (city)],...   [\\nEuro 6\\n]   \n",
       "\n",
       "                           \\nComfort & Convenience\\n  \\\n",
       "0  [Air conditioning, Armrest, Automatic climate ...   \n",
       "1  [Air conditioning, Automatic climate control, ...   \n",
       "2  [Air conditioning, Cruise control, Electrical ...   \n",
       "3  [Air suspension, Armrest, Auxiliary heating, E...   \n",
       "4  [Air conditioning, Armrest, Automatic climate ...   \n",
       "\n",
       "                           \\nEntertainment & Media\\n  \\\n",
       "0  [Bluetooth, Hands-free equipment, On-board com...   \n",
       "1  [Bluetooth, Hands-free equipment, On-board com...   \n",
       "2                           [MP3, On-board computer]   \n",
       "3  [Bluetooth, CD player, Hands-free equipment, M...   \n",
       "4  [Bluetooth, CD player, Hands-free equipment, M...   \n",
       "\n",
       "                                          \\nExtras\\n  \\\n",
       "0  [Alloy wheels, Catalytic Converter, Voice Cont...   \n",
       "1  [Alloy wheels, Sport seats, Sport suspension, ...   \n",
       "2                      [Alloy wheels, Voice Control]   \n",
       "3         [Alloy wheels, Sport seats, Voice Control]   \n",
       "4  [Alloy wheels, Sport package, Sport suspension...   \n",
       "\n",
       "                               \\nSafety & Security\\n    Gears  \n",
       "0  [ABS, Central door lock, Daytime running light...      NaN  \n",
       "1  [ABS, Central door lock, Central door lock wit...  [\\n7\\n]  \n",
       "2  [ABS, Central door lock, Daytime running light...      NaN  \n",
       "3  [ABS, Alarm system, Central door lock with rem...  [\\n6\\n]  \n",
       "4  [ABS, Central door lock, Driver-side airbag, E...      NaN  "
      ]
     },
     "execution_count": 49,
     "metadata": {},
     "output_type": "execute_result"
    }
   ],
   "source": [
    "df.head()"
   ]
  },
  {
   "cell_type": "code",
   "execution_count": 50,
   "metadata": {},
   "outputs": [
    {
     "data": {
      "text/plain": [
       "(15919, 25)"
      ]
     },
     "execution_count": 50,
     "metadata": {},
     "output_type": "execute_result"
    }
   ],
   "source": [
    "df.shape"
   ]
  },
  {
   "cell_type": "code",
   "execution_count": 51,
   "metadata": {},
   "outputs": [
    {
     "data": {
      "text/plain": [
       "3175     None\n",
       "3255     None\n",
       "3975     None\n",
       "3997     None\n",
       "4206     None\n",
       "4297     None\n",
       "4298     None\n",
       "5718     None\n",
       "5938     None\n",
       "5940     None\n",
       "6920     None\n",
       "6922     None\n",
       "6927     None\n",
       "7709     None\n",
       "8408     None\n",
       "8584     None\n",
       "10837    None\n",
       "10838    None\n",
       "10857    None\n",
       "13430    None\n",
       "13470    None\n",
       "13576    None\n",
       "13703    None\n",
       "13725    None\n",
       "13852    None\n",
       "13900    None\n",
       "14107    None\n",
       "14124    None\n",
       "14127    None\n",
       "14134    None\n",
       "14135    None\n",
       "14480    None\n",
       "14869    None\n",
       "14870    None\n",
       "14928    None\n",
       "14990    None\n",
       "15058    None\n",
       "15059    None\n",
       "15060    None\n",
       "15124    None\n",
       "15269    None\n",
       "15275    None\n",
       "15289    None\n",
       "15307    None\n",
       "15378    None\n",
       "15437    None\n",
       "15452    None\n",
       "15456    None\n",
       "15457    None\n",
       "15488    None\n",
       "15489    None\n",
       "15491    None\n",
       "15499    None\n",
       "15544    None\n",
       "15556    None\n",
       "15589    None\n",
       "15696    None\n",
       "15712    None\n",
       "15736    None\n",
       "15770    None\n",
       "Name: body_type, dtype: object"
      ]
     },
     "execution_count": 51,
     "metadata": {},
     "output_type": "execute_result"
    }
   ],
   "source": [
    "df[df.body_type.isnull() == True][\"body_type\"]"
   ]
  },
  {
   "cell_type": "code",
   "execution_count": 52,
   "metadata": {},
   "outputs": [],
   "source": [
    "df[\"body_type\"].ffill(inplace=True)"
   ]
  },
  {
   "cell_type": "code",
   "execution_count": 53,
   "metadata": {},
   "outputs": [
    {
     "data": {
      "text/plain": [
       "Sedans           7922\n",
       "Station wagon    3563\n",
       "Compact          3161\n",
       "Van               800\n",
       "Other             292\n",
       "Transporter        91\n",
       "Off-Road           57\n",
       "Coupe              25\n",
       "Convertible         8\n",
       "Name: body_type, dtype: int64"
      ]
     },
     "execution_count": 53,
     "metadata": {},
     "output_type": "execute_result"
    }
   ],
   "source": [
    "df[\"body_type\"].value_counts()"
   ]
  },
  {
   "cell_type": "code",
   "execution_count": 54,
   "metadata": {},
   "outputs": [
    {
     "data": {
      "text/plain": [
       "Int64Index([14961, 15197, 15276, 15302, 15303, 15353, 15788, 15789], dtype='int64')"
      ]
     },
     "execution_count": 54,
     "metadata": {},
     "output_type": "execute_result"
    }
   ],
   "source": [
    "a = df[(df[\"make_model\"] == \"Renault Espace\")&(df[\"body_type\"] == \"Other\")][\"body_type\"].apply(lambda x : \"Van\")\n",
    "a.index "
   ]
  },
  {
   "cell_type": "code",
   "execution_count": 55,
   "metadata": {},
   "outputs": [
    {
     "data": {
      "text/plain": [
       "Int64Index([14928, 14929, 14930, 14931, 14932, 14933, 14934, 14935, 14936,\n",
       "            14937,\n",
       "            ...\n",
       "            15909, 15910, 15911, 15912, 15913, 15914, 15915, 15916, 15917,\n",
       "            15918],\n",
       "           dtype='int64', length=991)"
      ]
     },
     "execution_count": 55,
     "metadata": {},
     "output_type": "execute_result"
    }
   ],
   "source": [
    "a = df[(df[\"make_model\"] == \"Renault Espace\")][\"body_type\"].apply(lambda x : \"Van\")\n",
    "a.index"
   ]
  },
  {
   "cell_type": "code",
   "execution_count": 56,
   "metadata": {},
   "outputs": [],
   "source": [
    "for i in a.index:\n",
    "    df.loc[i,\"body_type\"] = \"Van\""
   ]
  },
  {
   "cell_type": "code",
   "execution_count": 57,
   "metadata": {},
   "outputs": [
    {
     "data": {
      "text/plain": [
       "Van    991\n",
       "Name: body_type, dtype: int64"
      ]
     },
     "execution_count": 57,
     "metadata": {},
     "output_type": "execute_result"
    }
   ],
   "source": [
    "df[(df[\"make_model\"] == \"Renault Espace\")][\"body_type\"].value_counts()"
   ]
  },
  {
   "cell_type": "code",
   "execution_count": 58,
   "metadata": {},
   "outputs": [
    {
     "data": {
      "text/plain": [
       "Series([], Name: body_type, dtype: object)"
      ]
     },
     "execution_count": 58,
     "metadata": {},
     "output_type": "execute_result"
    }
   ],
   "source": [
    "df[(df[\"make_model\"] == \"Renault Espace\")&(df[\"body_type\"] == \"Other\")][\"body_type\"]"
   ]
  },
  {
   "cell_type": "code",
   "execution_count": null,
   "metadata": {},
   "outputs": [],
   "source": []
  },
  {
   "cell_type": "code",
   "execution_count": null,
   "metadata": {},
   "outputs": [],
   "source": []
  },
  {
   "cell_type": "code",
   "execution_count": 59,
   "metadata": {},
   "outputs": [
    {
     "data": {
      "text/plain": [
       "array(['Audi A1', 'Audi A2', 'Audi A3', 'Opel Astra', 'Opel Corsa',\n",
       "       'Opel Insignia', 'Renault Clio', 'Renault Duster',\n",
       "       'Renault Espace'], dtype=object)"
      ]
     },
     "execution_count": 59,
     "metadata": {},
     "output_type": "execute_result"
    }
   ],
   "source": [
    "i = df[\"make_model\"].unique()\n",
    "i"
   ]
  },
  {
   "cell_type": "code",
   "execution_count": 60,
   "metadata": {},
   "outputs": [
    {
     "data": {
      "text/plain": [
       "MultiIndex([(       'Audi A1',        'Sedans'),\n",
       "            (       'Audi A1',       'Compact'),\n",
       "            (       'Audi A1', 'Station wagon'),\n",
       "            (       'Audi A1',         'Other'),\n",
       "            (       'Audi A1',         'Coupe'),\n",
       "            (       'Audi A1',           'Van'),\n",
       "            (       'Audi A2',      'Off-Road'),\n",
       "            (       'Audi A3',        'Sedans'),\n",
       "            (       'Audi A3', 'Station wagon'),\n",
       "            (       'Audi A3',       'Compact'),\n",
       "            (       'Audi A3',         'Other'),\n",
       "            (       'Audi A3',   'Convertible'),\n",
       "            (       'Audi A3',         'Coupe'),\n",
       "            (    'Opel Astra', 'Station wagon'),\n",
       "            (    'Opel Astra',        'Sedans'),\n",
       "            (    'Opel Astra',       'Compact'),\n",
       "            (    'Opel Astra',         'Other'),\n",
       "            (    'Opel Astra',         'Coupe'),\n",
       "            (    'Opel Astra',      'Off-Road'),\n",
       "            (    'Opel Corsa',       'Compact'),\n",
       "            (    'Opel Corsa',        'Sedans'),\n",
       "            (    'Opel Corsa',         'Other'),\n",
       "            (    'Opel Corsa',         'Coupe'),\n",
       "            (    'Opel Corsa',   'Transporter'),\n",
       "            (    'Opel Corsa',      'Off-Road'),\n",
       "            (    'Opel Corsa',           'Van'),\n",
       "            ( 'Opel Insignia', 'Station wagon'),\n",
       "            ( 'Opel Insignia',        'Sedans'),\n",
       "            ( 'Opel Insignia',         'Other'),\n",
       "            ( 'Opel Insignia',       'Compact'),\n",
       "            ( 'Opel Insignia',      'Off-Road'),\n",
       "            ( 'Opel Insignia',         'Coupe'),\n",
       "            ( 'Opel Insignia',           'Van'),\n",
       "            (  'Renault Clio',        'Sedans'),\n",
       "            (  'Renault Clio',       'Compact'),\n",
       "            (  'Renault Clio', 'Station wagon'),\n",
       "            (  'Renault Clio',         'Other'),\n",
       "            (  'Renault Clio',   'Transporter'),\n",
       "            (  'Renault Clio',      'Off-Road'),\n",
       "            (  'Renault Clio',           'Van'),\n",
       "            (  'Renault Clio',         'Coupe'),\n",
       "            ('Renault Duster',      'Off-Road'),\n",
       "            ('Renault Espace',           'Van')],\n",
       "           names=['make_model', 'body_type'])"
      ]
     },
     "execution_count": 60,
     "metadata": {},
     "output_type": "execute_result"
    }
   ],
   "source": [
    "adf = pd.DataFrame(df.groupby(\"make_model\")[\"body_type\"].value_counts().loc[i]).index\n",
    "adf"
   ]
  },
  {
   "cell_type": "code",
   "execution_count": 61,
   "metadata": {},
   "outputs": [],
   "source": [
    "x =0\n",
    "a = []\n",
    "for i in df[\"make_model\"].unique():\n",
    "    a.append(df[(df[\"make_model\"] == i)&(df[\"body_type\"] == \"Other\")][\"body_type\"].apply(\n",
    "        lambda x : pd.DataFrame(df.groupby(\"make_model\")[\"body_type\"].value_counts().loc[i]).index[0]))\n",
    "    \n",
    "a;\n"
   ]
  },
  {
   "cell_type": "code",
   "execution_count": 62,
   "metadata": {},
   "outputs": [],
   "source": [
    "for i in range(len(a)):\n",
    "    for x in a[i].index:\n",
    "        df.loc[x,\"body_type\"] = a[i].iloc[0]"
   ]
  },
  {
   "cell_type": "code",
   "execution_count": 63,
   "metadata": {},
   "outputs": [
    {
     "data": {
      "text/plain": [
       "Series([], Name: body_type, dtype: object)"
      ]
     },
     "execution_count": 63,
     "metadata": {},
     "output_type": "execute_result"
    }
   ],
   "source": [
    "df[(df[\"make_model\"] == \"Audi A1\")&(df[\"body_type\"] == \"Other\")][\"body_type\"]"
   ]
  },
  {
   "cell_type": "code",
   "execution_count": 64,
   "metadata": {},
   "outputs": [
    {
     "data": {
      "text/plain": [
       "Sedans           7982\n",
       "Station wagon    3586\n",
       "Compact          3239\n",
       "Van               997\n",
       "Off-Road           48\n",
       "Transporter        36\n",
       "Coupe              23\n",
       "Convertible         8\n",
       "Name: body_type, dtype: int64"
      ]
     },
     "execution_count": 64,
     "metadata": {},
     "output_type": "execute_result"
    }
   ],
   "source": [
    "df.body_type.value_counts()"
   ]
  },
  {
   "cell_type": "code",
   "execution_count": 65,
   "metadata": {},
   "outputs": [
    {
     "data": {
      "text/html": [
       "<div>\n",
       "<style scoped>\n",
       "    .dataframe tbody tr th:only-of-type {\n",
       "        vertical-align: middle;\n",
       "    }\n",
       "\n",
       "    .dataframe tbody tr th {\n",
       "        vertical-align: top;\n",
       "    }\n",
       "\n",
       "    .dataframe thead th {\n",
       "        text-align: right;\n",
       "    }\n",
       "</style>\n",
       "<table border=\"1\" class=\"dataframe\">\n",
       "  <thead>\n",
       "    <tr style=\"text-align: right;\">\n",
       "      <th></th>\n",
       "      <th>make_model</th>\n",
       "      <th>body_type</th>\n",
       "      <th>price</th>\n",
       "      <th>vat</th>\n",
       "      <th>km</th>\n",
       "      <th>registration</th>\n",
       "      <th>prev_owner</th>\n",
       "      <th>hp</th>\n",
       "      <th>Body Color</th>\n",
       "      <th>Paint Type</th>\n",
       "      <th>Upholstery</th>\n",
       "      <th>Nr. of Doors</th>\n",
       "      <th>Nr. of Seats</th>\n",
       "      <th>Gearing Type</th>\n",
       "      <th>Displacement</th>\n",
       "      <th>Cylinders</th>\n",
       "      <th>Drive chain</th>\n",
       "      <th>Fuel</th>\n",
       "      <th>Consumption</th>\n",
       "      <th>Emission Class</th>\n",
       "      <th>\\nComfort &amp; Convenience\\n</th>\n",
       "      <th>\\nEntertainment &amp; Media\\n</th>\n",
       "      <th>\\nExtras\\n</th>\n",
       "      <th>\\nSafety &amp; Security\\n</th>\n",
       "      <th>Gears</th>\n",
       "    </tr>\n",
       "  </thead>\n",
       "  <tbody>\n",
       "    <tr>\n",
       "      <th>2614</th>\n",
       "      <td>Audi A2</td>\n",
       "      <td>Off-Road</td>\n",
       "      <td>28200</td>\n",
       "      <td>VAT deductible</td>\n",
       "      <td>26,166 km</td>\n",
       "      <td>10/2018</td>\n",
       "      <td>1 previous owner</td>\n",
       "      <td>85 kW</td>\n",
       "      <td>[\\n, Grey, \\n]</td>\n",
       "      <td>[\\nMetallic\\n]</td>\n",
       "      <td>[\\nCloth, Black\\n]</td>\n",
       "      <td>[\\n5\\n]</td>\n",
       "      <td>[\\n5\\n]</td>\n",
       "      <td>[\\n, Manual, \\n]</td>\n",
       "      <td>[\\n1,598 cc\\n]</td>\n",
       "      <td>NaN</td>\n",
       "      <td>[\\nfront\\n]</td>\n",
       "      <td>[\\n, Diesel (Particulate Filter), \\n]</td>\n",
       "      <td>[[4.9 l/100 km (comb)], [5.6 l/100 km (city)],...</td>\n",
       "      <td>[\\nEuro 6\\n]</td>\n",
       "      <td>[Air conditioning, Armrest, Automatic climate ...</td>\n",
       "      <td>[Bluetooth, CD player, Hands-free equipment, M...</td>\n",
       "      <td>[Alloy wheels]</td>\n",
       "      <td>[ABS, Adaptive Cruise Control, Central door lo...</td>\n",
       "      <td>NaN</td>\n",
       "    </tr>\n",
       "  </tbody>\n",
       "</table>\n",
       "</div>"
      ],
      "text/plain": [
       "     make_model body_type  price             vat         km registration  \\\n",
       "2614    Audi A2  Off-Road  28200  VAT deductible  26,166 km      10/2018   \n",
       "\n",
       "            prev_owner     hp      Body Color      Paint Type  \\\n",
       "2614  1 previous owner  85 kW  [\\n, Grey, \\n]  [\\nMetallic\\n]   \n",
       "\n",
       "              Upholstery Nr. of Doors Nr. of Seats      Gearing Type  \\\n",
       "2614  [\\nCloth, Black\\n]      [\\n5\\n]      [\\n5\\n]  [\\n, Manual, \\n]   \n",
       "\n",
       "        Displacement Cylinders  Drive chain  \\\n",
       "2614  [\\n1,598 cc\\n]       NaN  [\\nfront\\n]   \n",
       "\n",
       "                                       Fuel  \\\n",
       "2614  [\\n, Diesel (Particulate Filter), \\n]   \n",
       "\n",
       "                                            Consumption Emission Class  \\\n",
       "2614  [[4.9 l/100 km (comb)], [5.6 l/100 km (city)],...   [\\nEuro 6\\n]   \n",
       "\n",
       "                              \\nComfort & Convenience\\n  \\\n",
       "2614  [Air conditioning, Armrest, Automatic climate ...   \n",
       "\n",
       "                              \\nEntertainment & Media\\n      \\nExtras\\n  \\\n",
       "2614  [Bluetooth, CD player, Hands-free equipment, M...  [Alloy wheels]   \n",
       "\n",
       "                                  \\nSafety & Security\\n Gears  \n",
       "2614  [ABS, Adaptive Cruise Control, Central door lo...   NaN  "
      ]
     },
     "execution_count": 65,
     "metadata": {},
     "output_type": "execute_result"
    }
   ],
   "source": [
    "df[df[\"make_model\"]==\"Audi A2\"]"
   ]
  },
  {
   "cell_type": "code",
   "execution_count": 66,
   "metadata": {},
   "outputs": [
    {
     "data": {
      "text/plain": [
       "Audi A3           3097\n",
       "Audi A1           2614\n",
       "Opel Insignia     2598\n",
       "Opel Astra        2526\n",
       "Opel Corsa        2219\n",
       "Renault Clio      1839\n",
       "Renault Espace     991\n",
       "Renault Duster      34\n",
       "Audi A2              1\n",
       "Name: make_model, dtype: int64"
      ]
     },
     "execution_count": 66,
     "metadata": {},
     "output_type": "execute_result"
    }
   ],
   "source": [
    "df.make_model.value_counts(dropna =False)"
   ]
  },
  {
   "cell_type": "code",
   "execution_count": 67,
   "metadata": {},
   "outputs": [
    {
     "data": {
      "text/plain": [
       "Off-Road    34\n",
       "Name: body_type, dtype: int64"
      ]
     },
     "execution_count": 67,
     "metadata": {},
     "output_type": "execute_result"
    }
   ],
   "source": [
    "df[df[\"make_model\"]==\"Renault Duster\"][\"body_type\"].value_counts()"
   ]
  },
  {
   "cell_type": "code",
   "execution_count": null,
   "metadata": {},
   "outputs": [],
   "source": []
  },
  {
   "cell_type": "code",
   "execution_count": 68,
   "metadata": {},
   "outputs": [
    {
     "data": {
      "text/html": [
       "<div>\n",
       "<style scoped>\n",
       "    .dataframe tbody tr th:only-of-type {\n",
       "        vertical-align: middle;\n",
       "    }\n",
       "\n",
       "    .dataframe tbody tr th {\n",
       "        vertical-align: top;\n",
       "    }\n",
       "\n",
       "    .dataframe thead th {\n",
       "        text-align: right;\n",
       "    }\n",
       "</style>\n",
       "<table border=\"1\" class=\"dataframe\">\n",
       "  <thead>\n",
       "    <tr style=\"text-align: right;\">\n",
       "      <th></th>\n",
       "      <th>make_model</th>\n",
       "      <th>body_type</th>\n",
       "      <th>price</th>\n",
       "      <th>vat</th>\n",
       "      <th>km</th>\n",
       "      <th>registration</th>\n",
       "      <th>prev_owner</th>\n",
       "      <th>hp</th>\n",
       "      <th>Body Color</th>\n",
       "      <th>Paint Type</th>\n",
       "      <th>Upholstery</th>\n",
       "      <th>Nr. of Doors</th>\n",
       "      <th>Nr. of Seats</th>\n",
       "      <th>Gearing Type</th>\n",
       "      <th>Displacement</th>\n",
       "      <th>Cylinders</th>\n",
       "      <th>Drive chain</th>\n",
       "      <th>Fuel</th>\n",
       "      <th>Consumption</th>\n",
       "      <th>Emission Class</th>\n",
       "      <th>\\nComfort &amp; Convenience\\n</th>\n",
       "      <th>\\nEntertainment &amp; Media\\n</th>\n",
       "      <th>\\nExtras\\n</th>\n",
       "      <th>\\nSafety &amp; Security\\n</th>\n",
       "      <th>Gears</th>\n",
       "    </tr>\n",
       "  </thead>\n",
       "  <tbody>\n",
       "    <tr>\n",
       "      <th>0</th>\n",
       "      <td>Audi A1</td>\n",
       "      <td>Sedans</td>\n",
       "      <td>15770</td>\n",
       "      <td>VAT deductible</td>\n",
       "      <td>56,013 km</td>\n",
       "      <td>01/2016</td>\n",
       "      <td>2 previous owners</td>\n",
       "      <td>66 kW</td>\n",
       "      <td>[\\n, Black, \\n]</td>\n",
       "      <td>[\\nMetallic\\n]</td>\n",
       "      <td>[\\nCloth, Black\\n]</td>\n",
       "      <td>[\\n5\\n]</td>\n",
       "      <td>[\\n5\\n]</td>\n",
       "      <td>[\\n, Automatic, \\n]</td>\n",
       "      <td>[\\n1,422 cc\\n]</td>\n",
       "      <td>[\\n3\\n]</td>\n",
       "      <td>[\\nfront\\n]</td>\n",
       "      <td>[\\n, Diesel (Particulate Filter), \\n]</td>\n",
       "      <td>[[3.8 l/100 km (comb)], [4.3 l/100 km (city)],...</td>\n",
       "      <td>[\\nEuro 6\\n]</td>\n",
       "      <td>[Air conditioning, Armrest, Automatic climate ...</td>\n",
       "      <td>[Bluetooth, Hands-free equipment, On-board com...</td>\n",
       "      <td>[Alloy wheels, Catalytic Converter, Voice Cont...</td>\n",
       "      <td>[ABS, Central door lock, Daytime running light...</td>\n",
       "      <td>NaN</td>\n",
       "    </tr>\n",
       "    <tr>\n",
       "      <th>1</th>\n",
       "      <td>Audi A1</td>\n",
       "      <td>Sedans</td>\n",
       "      <td>14500</td>\n",
       "      <td>Price negotiable</td>\n",
       "      <td>80,000 km</td>\n",
       "      <td>03/2017</td>\n",
       "      <td>None</td>\n",
       "      <td>141 kW</td>\n",
       "      <td>[\\n, Red, \\n]</td>\n",
       "      <td>NaN</td>\n",
       "      <td>[\\nCloth, Grey\\n]</td>\n",
       "      <td>[\\n3\\n]</td>\n",
       "      <td>[\\n4\\n]</td>\n",
       "      <td>[\\n, Automatic, \\n]</td>\n",
       "      <td>[\\n1,798 cc\\n]</td>\n",
       "      <td>[\\n4\\n]</td>\n",
       "      <td>[\\nfront\\n]</td>\n",
       "      <td>[\\n, Gasoline, \\n]</td>\n",
       "      <td>[[5.6 l/100 km (comb)], [7.1 l/100 km (city)],...</td>\n",
       "      <td>[\\nEuro 6\\n]</td>\n",
       "      <td>[Air conditioning, Automatic climate control, ...</td>\n",
       "      <td>[Bluetooth, Hands-free equipment, On-board com...</td>\n",
       "      <td>[Alloy wheels, Sport seats, Sport suspension, ...</td>\n",
       "      <td>[ABS, Central door lock, Central door lock wit...</td>\n",
       "      <td>[\\n7\\n]</td>\n",
       "    </tr>\n",
       "    <tr>\n",
       "      <th>2</th>\n",
       "      <td>Audi A1</td>\n",
       "      <td>Sedans</td>\n",
       "      <td>14640</td>\n",
       "      <td>VAT deductible</td>\n",
       "      <td>83,450 km</td>\n",
       "      <td>02/2016</td>\n",
       "      <td>1 previous owner</td>\n",
       "      <td>85 kW</td>\n",
       "      <td>[\\n, Black, \\n]</td>\n",
       "      <td>[\\nMetallic\\n]</td>\n",
       "      <td>[\\nCloth, Black\\n]</td>\n",
       "      <td>[\\n4\\n]</td>\n",
       "      <td>[\\n4\\n]</td>\n",
       "      <td>[\\n, Automatic, \\n]</td>\n",
       "      <td>[\\n1,598 cc\\n]</td>\n",
       "      <td>NaN</td>\n",
       "      <td>[\\nfront\\n]</td>\n",
       "      <td>[\\n, Diesel (Particulate Filter), \\n]</td>\n",
       "      <td>[[3.8 l/100 km (comb)], [4.4 l/100 km (city)],...</td>\n",
       "      <td>[\\nEuro 6\\n]</td>\n",
       "      <td>[Air conditioning, Cruise control, Electrical ...</td>\n",
       "      <td>[MP3, On-board computer]</td>\n",
       "      <td>[Alloy wheels, Voice Control]</td>\n",
       "      <td>[ABS, Central door lock, Daytime running light...</td>\n",
       "      <td>NaN</td>\n",
       "    </tr>\n",
       "    <tr>\n",
       "      <th>3</th>\n",
       "      <td>Audi A1</td>\n",
       "      <td>Sedans</td>\n",
       "      <td>14500</td>\n",
       "      <td>None</td>\n",
       "      <td>73,000 km</td>\n",
       "      <td>08/2016</td>\n",
       "      <td>1 previous owner</td>\n",
       "      <td>66 kW</td>\n",
       "      <td>[\\n, Brown, \\n]</td>\n",
       "      <td>[\\nMetallic\\n]</td>\n",
       "      <td>NaN</td>\n",
       "      <td>[\\n3\\n]</td>\n",
       "      <td>[\\n4\\n]</td>\n",
       "      <td>[\\n, Automatic, \\n]</td>\n",
       "      <td>[\\n1,422 cc\\n]</td>\n",
       "      <td>[\\n3\\n]</td>\n",
       "      <td>NaN</td>\n",
       "      <td>[\\n, Diesel (Particulate Filter), \\n]</td>\n",
       "      <td>[[3.8 l/100 km (comb)], [4.3 l/100 km (city)],...</td>\n",
       "      <td>[\\nEuro 6\\n]</td>\n",
       "      <td>[Air suspension, Armrest, Auxiliary heating, E...</td>\n",
       "      <td>[Bluetooth, CD player, Hands-free equipment, M...</td>\n",
       "      <td>[Alloy wheels, Sport seats, Voice Control]</td>\n",
       "      <td>[ABS, Alarm system, Central door lock with rem...</td>\n",
       "      <td>[\\n6\\n]</td>\n",
       "    </tr>\n",
       "    <tr>\n",
       "      <th>4</th>\n",
       "      <td>Audi A1</td>\n",
       "      <td>Sedans</td>\n",
       "      <td>16790</td>\n",
       "      <td>None</td>\n",
       "      <td>16,200 km</td>\n",
       "      <td>05/2016</td>\n",
       "      <td>1 previous owner</td>\n",
       "      <td>66 kW</td>\n",
       "      <td>[\\n, Black, \\n]</td>\n",
       "      <td>[\\nMetallic\\n]</td>\n",
       "      <td>[\\nCloth, Black\\n]</td>\n",
       "      <td>[\\n5\\n]</td>\n",
       "      <td>[\\n5\\n]</td>\n",
       "      <td>[\\n, Automatic, \\n]</td>\n",
       "      <td>[\\n1,422 cc\\n]</td>\n",
       "      <td>[\\n3\\n]</td>\n",
       "      <td>[\\nfront\\n]</td>\n",
       "      <td>[\\n, Diesel (Particulate Filter), \\n]</td>\n",
       "      <td>[[4.1 l/100 km (comb)], [4.6 l/100 km (city)],...</td>\n",
       "      <td>[\\nEuro 6\\n]</td>\n",
       "      <td>[Air conditioning, Armrest, Automatic climate ...</td>\n",
       "      <td>[Bluetooth, CD player, Hands-free equipment, M...</td>\n",
       "      <td>[Alloy wheels, Sport package, Sport suspension...</td>\n",
       "      <td>[ABS, Central door lock, Driver-side airbag, E...</td>\n",
       "      <td>NaN</td>\n",
       "    </tr>\n",
       "  </tbody>\n",
       "</table>\n",
       "</div>"
      ],
      "text/plain": [
       "  make_model body_type  price               vat         km registration  \\\n",
       "0    Audi A1    Sedans  15770    VAT deductible  56,013 km      01/2016   \n",
       "1    Audi A1    Sedans  14500  Price negotiable  80,000 km      03/2017   \n",
       "2    Audi A1    Sedans  14640    VAT deductible  83,450 km      02/2016   \n",
       "3    Audi A1    Sedans  14500              None  73,000 km      08/2016   \n",
       "4    Audi A1    Sedans  16790              None  16,200 km      05/2016   \n",
       "\n",
       "          prev_owner      hp       Body Color      Paint Type  \\\n",
       "0  2 previous owners   66 kW  [\\n, Black, \\n]  [\\nMetallic\\n]   \n",
       "1               None  141 kW    [\\n, Red, \\n]             NaN   \n",
       "2   1 previous owner   85 kW  [\\n, Black, \\n]  [\\nMetallic\\n]   \n",
       "3   1 previous owner   66 kW  [\\n, Brown, \\n]  [\\nMetallic\\n]   \n",
       "4   1 previous owner   66 kW  [\\n, Black, \\n]  [\\nMetallic\\n]   \n",
       "\n",
       "           Upholstery Nr. of Doors Nr. of Seats         Gearing Type  \\\n",
       "0  [\\nCloth, Black\\n]      [\\n5\\n]      [\\n5\\n]  [\\n, Automatic, \\n]   \n",
       "1   [\\nCloth, Grey\\n]      [\\n3\\n]      [\\n4\\n]  [\\n, Automatic, \\n]   \n",
       "2  [\\nCloth, Black\\n]      [\\n4\\n]      [\\n4\\n]  [\\n, Automatic, \\n]   \n",
       "3                 NaN      [\\n3\\n]      [\\n4\\n]  [\\n, Automatic, \\n]   \n",
       "4  [\\nCloth, Black\\n]      [\\n5\\n]      [\\n5\\n]  [\\n, Automatic, \\n]   \n",
       "\n",
       "     Displacement Cylinders  Drive chain  \\\n",
       "0  [\\n1,422 cc\\n]   [\\n3\\n]  [\\nfront\\n]   \n",
       "1  [\\n1,798 cc\\n]   [\\n4\\n]  [\\nfront\\n]   \n",
       "2  [\\n1,598 cc\\n]       NaN  [\\nfront\\n]   \n",
       "3  [\\n1,422 cc\\n]   [\\n3\\n]          NaN   \n",
       "4  [\\n1,422 cc\\n]   [\\n3\\n]  [\\nfront\\n]   \n",
       "\n",
       "                                    Fuel  \\\n",
       "0  [\\n, Diesel (Particulate Filter), \\n]   \n",
       "1                     [\\n, Gasoline, \\n]   \n",
       "2  [\\n, Diesel (Particulate Filter), \\n]   \n",
       "3  [\\n, Diesel (Particulate Filter), \\n]   \n",
       "4  [\\n, Diesel (Particulate Filter), \\n]   \n",
       "\n",
       "                                         Consumption Emission Class  \\\n",
       "0  [[3.8 l/100 km (comb)], [4.3 l/100 km (city)],...   [\\nEuro 6\\n]   \n",
       "1  [[5.6 l/100 km (comb)], [7.1 l/100 km (city)],...   [\\nEuro 6\\n]   \n",
       "2  [[3.8 l/100 km (comb)], [4.4 l/100 km (city)],...   [\\nEuro 6\\n]   \n",
       "3  [[3.8 l/100 km (comb)], [4.3 l/100 km (city)],...   [\\nEuro 6\\n]   \n",
       "4  [[4.1 l/100 km (comb)], [4.6 l/100 km (city)],...   [\\nEuro 6\\n]   \n",
       "\n",
       "                           \\nComfort & Convenience\\n  \\\n",
       "0  [Air conditioning, Armrest, Automatic climate ...   \n",
       "1  [Air conditioning, Automatic climate control, ...   \n",
       "2  [Air conditioning, Cruise control, Electrical ...   \n",
       "3  [Air suspension, Armrest, Auxiliary heating, E...   \n",
       "4  [Air conditioning, Armrest, Automatic climate ...   \n",
       "\n",
       "                           \\nEntertainment & Media\\n  \\\n",
       "0  [Bluetooth, Hands-free equipment, On-board com...   \n",
       "1  [Bluetooth, Hands-free equipment, On-board com...   \n",
       "2                           [MP3, On-board computer]   \n",
       "3  [Bluetooth, CD player, Hands-free equipment, M...   \n",
       "4  [Bluetooth, CD player, Hands-free equipment, M...   \n",
       "\n",
       "                                          \\nExtras\\n  \\\n",
       "0  [Alloy wheels, Catalytic Converter, Voice Cont...   \n",
       "1  [Alloy wheels, Sport seats, Sport suspension, ...   \n",
       "2                      [Alloy wheels, Voice Control]   \n",
       "3         [Alloy wheels, Sport seats, Voice Control]   \n",
       "4  [Alloy wheels, Sport package, Sport suspension...   \n",
       "\n",
       "                               \\nSafety & Security\\n    Gears  \n",
       "0  [ABS, Central door lock, Daytime running light...      NaN  \n",
       "1  [ABS, Central door lock, Central door lock wit...  [\\n7\\n]  \n",
       "2  [ABS, Central door lock, Daytime running light...      NaN  \n",
       "3  [ABS, Alarm system, Central door lock with rem...  [\\n6\\n]  \n",
       "4  [ABS, Central door lock, Driver-side airbag, E...      NaN  "
      ]
     },
     "execution_count": 68,
     "metadata": {},
     "output_type": "execute_result"
    }
   ],
   "source": [
    "df.head()"
   ]
  },
  {
   "cell_type": "code",
   "execution_count": null,
   "metadata": {},
   "outputs": [],
   "source": []
  },
  {
   "cell_type": "code",
   "execution_count": 69,
   "metadata": {},
   "outputs": [
    {
     "data": {
      "text/plain": [
       "(15919, 25)"
      ]
     },
     "execution_count": 69,
     "metadata": {},
     "output_type": "execute_result"
    }
   ],
   "source": [
    "df.shape"
   ]
  },
  {
   "cell_type": "code",
   "execution_count": 70,
   "metadata": {},
   "outputs": [
    {
     "data": {
      "text/plain": [
       "dtype('int64')"
      ]
     },
     "execution_count": 70,
     "metadata": {},
     "output_type": "execute_result"
    }
   ],
   "source": [
    "df.price.dtypes"
   ]
  },
  {
   "cell_type": "code",
   "execution_count": 71,
   "metadata": {},
   "outputs": [
    {
     "data": {
      "text/plain": [
       "VAT deductible      10980\n",
       "Price negotiable      426\n",
       "Name: vat, dtype: int64"
      ]
     },
     "execution_count": 71,
     "metadata": {},
     "output_type": "execute_result"
    }
   ],
   "source": [
    "df[\"vat\"].value_counts()"
   ]
  },
  {
   "cell_type": "code",
   "execution_count": 72,
   "metadata": {},
   "outputs": [],
   "source": [
    "def vat_change(x):\n",
    "    if x == \"VAT deductible\" or x == \"Price negotiable\" :\n",
    "        return True\n",
    "    else:\n",
    "        return False"
   ]
  },
  {
   "cell_type": "code",
   "execution_count": 73,
   "metadata": {},
   "outputs": [],
   "source": [
    "df[\"vat\"] = df[\"vat\"].apply(lambda x: vat_change(x))"
   ]
  },
  {
   "cell_type": "code",
   "execution_count": 74,
   "metadata": {},
   "outputs": [
    {
     "data": {
      "text/html": [
       "<div>\n",
       "<style scoped>\n",
       "    .dataframe tbody tr th:only-of-type {\n",
       "        vertical-align: middle;\n",
       "    }\n",
       "\n",
       "    .dataframe tbody tr th {\n",
       "        vertical-align: top;\n",
       "    }\n",
       "\n",
       "    .dataframe thead th {\n",
       "        text-align: right;\n",
       "    }\n",
       "</style>\n",
       "<table border=\"1\" class=\"dataframe\">\n",
       "  <thead>\n",
       "    <tr style=\"text-align: right;\">\n",
       "      <th></th>\n",
       "      <th>make_model</th>\n",
       "      <th>body_type</th>\n",
       "      <th>price</th>\n",
       "      <th>vat</th>\n",
       "      <th>km</th>\n",
       "      <th>registration</th>\n",
       "      <th>prev_owner</th>\n",
       "      <th>hp</th>\n",
       "      <th>Body Color</th>\n",
       "      <th>Paint Type</th>\n",
       "      <th>Upholstery</th>\n",
       "      <th>Nr. of Doors</th>\n",
       "      <th>Nr. of Seats</th>\n",
       "      <th>Gearing Type</th>\n",
       "      <th>Displacement</th>\n",
       "      <th>Cylinders</th>\n",
       "      <th>Drive chain</th>\n",
       "      <th>Fuel</th>\n",
       "      <th>Consumption</th>\n",
       "      <th>Emission Class</th>\n",
       "      <th>\\nComfort &amp; Convenience\\n</th>\n",
       "      <th>\\nEntertainment &amp; Media\\n</th>\n",
       "      <th>\\nExtras\\n</th>\n",
       "      <th>\\nSafety &amp; Security\\n</th>\n",
       "      <th>Gears</th>\n",
       "    </tr>\n",
       "  </thead>\n",
       "  <tbody>\n",
       "    <tr>\n",
       "      <th>0</th>\n",
       "      <td>Audi A1</td>\n",
       "      <td>Sedans</td>\n",
       "      <td>15770</td>\n",
       "      <td>True</td>\n",
       "      <td>56,013 km</td>\n",
       "      <td>01/2016</td>\n",
       "      <td>2 previous owners</td>\n",
       "      <td>66 kW</td>\n",
       "      <td>[\\n, Black, \\n]</td>\n",
       "      <td>[\\nMetallic\\n]</td>\n",
       "      <td>[\\nCloth, Black\\n]</td>\n",
       "      <td>[\\n5\\n]</td>\n",
       "      <td>[\\n5\\n]</td>\n",
       "      <td>[\\n, Automatic, \\n]</td>\n",
       "      <td>[\\n1,422 cc\\n]</td>\n",
       "      <td>[\\n3\\n]</td>\n",
       "      <td>[\\nfront\\n]</td>\n",
       "      <td>[\\n, Diesel (Particulate Filter), \\n]</td>\n",
       "      <td>[[3.8 l/100 km (comb)], [4.3 l/100 km (city)],...</td>\n",
       "      <td>[\\nEuro 6\\n]</td>\n",
       "      <td>[Air conditioning, Armrest, Automatic climate ...</td>\n",
       "      <td>[Bluetooth, Hands-free equipment, On-board com...</td>\n",
       "      <td>[Alloy wheels, Catalytic Converter, Voice Cont...</td>\n",
       "      <td>[ABS, Central door lock, Daytime running light...</td>\n",
       "      <td>NaN</td>\n",
       "    </tr>\n",
       "    <tr>\n",
       "      <th>1</th>\n",
       "      <td>Audi A1</td>\n",
       "      <td>Sedans</td>\n",
       "      <td>14500</td>\n",
       "      <td>True</td>\n",
       "      <td>80,000 km</td>\n",
       "      <td>03/2017</td>\n",
       "      <td>None</td>\n",
       "      <td>141 kW</td>\n",
       "      <td>[\\n, Red, \\n]</td>\n",
       "      <td>NaN</td>\n",
       "      <td>[\\nCloth, Grey\\n]</td>\n",
       "      <td>[\\n3\\n]</td>\n",
       "      <td>[\\n4\\n]</td>\n",
       "      <td>[\\n, Automatic, \\n]</td>\n",
       "      <td>[\\n1,798 cc\\n]</td>\n",
       "      <td>[\\n4\\n]</td>\n",
       "      <td>[\\nfront\\n]</td>\n",
       "      <td>[\\n, Gasoline, \\n]</td>\n",
       "      <td>[[5.6 l/100 km (comb)], [7.1 l/100 km (city)],...</td>\n",
       "      <td>[\\nEuro 6\\n]</td>\n",
       "      <td>[Air conditioning, Automatic climate control, ...</td>\n",
       "      <td>[Bluetooth, Hands-free equipment, On-board com...</td>\n",
       "      <td>[Alloy wheels, Sport seats, Sport suspension, ...</td>\n",
       "      <td>[ABS, Central door lock, Central door lock wit...</td>\n",
       "      <td>[\\n7\\n]</td>\n",
       "    </tr>\n",
       "    <tr>\n",
       "      <th>2</th>\n",
       "      <td>Audi A1</td>\n",
       "      <td>Sedans</td>\n",
       "      <td>14640</td>\n",
       "      <td>True</td>\n",
       "      <td>83,450 km</td>\n",
       "      <td>02/2016</td>\n",
       "      <td>1 previous owner</td>\n",
       "      <td>85 kW</td>\n",
       "      <td>[\\n, Black, \\n]</td>\n",
       "      <td>[\\nMetallic\\n]</td>\n",
       "      <td>[\\nCloth, Black\\n]</td>\n",
       "      <td>[\\n4\\n]</td>\n",
       "      <td>[\\n4\\n]</td>\n",
       "      <td>[\\n, Automatic, \\n]</td>\n",
       "      <td>[\\n1,598 cc\\n]</td>\n",
       "      <td>NaN</td>\n",
       "      <td>[\\nfront\\n]</td>\n",
       "      <td>[\\n, Diesel (Particulate Filter), \\n]</td>\n",
       "      <td>[[3.8 l/100 km (comb)], [4.4 l/100 km (city)],...</td>\n",
       "      <td>[\\nEuro 6\\n]</td>\n",
       "      <td>[Air conditioning, Cruise control, Electrical ...</td>\n",
       "      <td>[MP3, On-board computer]</td>\n",
       "      <td>[Alloy wheels, Voice Control]</td>\n",
       "      <td>[ABS, Central door lock, Daytime running light...</td>\n",
       "      <td>NaN</td>\n",
       "    </tr>\n",
       "    <tr>\n",
       "      <th>3</th>\n",
       "      <td>Audi A1</td>\n",
       "      <td>Sedans</td>\n",
       "      <td>14500</td>\n",
       "      <td>False</td>\n",
       "      <td>73,000 km</td>\n",
       "      <td>08/2016</td>\n",
       "      <td>1 previous owner</td>\n",
       "      <td>66 kW</td>\n",
       "      <td>[\\n, Brown, \\n]</td>\n",
       "      <td>[\\nMetallic\\n]</td>\n",
       "      <td>NaN</td>\n",
       "      <td>[\\n3\\n]</td>\n",
       "      <td>[\\n4\\n]</td>\n",
       "      <td>[\\n, Automatic, \\n]</td>\n",
       "      <td>[\\n1,422 cc\\n]</td>\n",
       "      <td>[\\n3\\n]</td>\n",
       "      <td>NaN</td>\n",
       "      <td>[\\n, Diesel (Particulate Filter), \\n]</td>\n",
       "      <td>[[3.8 l/100 km (comb)], [4.3 l/100 km (city)],...</td>\n",
       "      <td>[\\nEuro 6\\n]</td>\n",
       "      <td>[Air suspension, Armrest, Auxiliary heating, E...</td>\n",
       "      <td>[Bluetooth, CD player, Hands-free equipment, M...</td>\n",
       "      <td>[Alloy wheels, Sport seats, Voice Control]</td>\n",
       "      <td>[ABS, Alarm system, Central door lock with rem...</td>\n",
       "      <td>[\\n6\\n]</td>\n",
       "    </tr>\n",
       "    <tr>\n",
       "      <th>4</th>\n",
       "      <td>Audi A1</td>\n",
       "      <td>Sedans</td>\n",
       "      <td>16790</td>\n",
       "      <td>False</td>\n",
       "      <td>16,200 km</td>\n",
       "      <td>05/2016</td>\n",
       "      <td>1 previous owner</td>\n",
       "      <td>66 kW</td>\n",
       "      <td>[\\n, Black, \\n]</td>\n",
       "      <td>[\\nMetallic\\n]</td>\n",
       "      <td>[\\nCloth, Black\\n]</td>\n",
       "      <td>[\\n5\\n]</td>\n",
       "      <td>[\\n5\\n]</td>\n",
       "      <td>[\\n, Automatic, \\n]</td>\n",
       "      <td>[\\n1,422 cc\\n]</td>\n",
       "      <td>[\\n3\\n]</td>\n",
       "      <td>[\\nfront\\n]</td>\n",
       "      <td>[\\n, Diesel (Particulate Filter), \\n]</td>\n",
       "      <td>[[4.1 l/100 km (comb)], [4.6 l/100 km (city)],...</td>\n",
       "      <td>[\\nEuro 6\\n]</td>\n",
       "      <td>[Air conditioning, Armrest, Automatic climate ...</td>\n",
       "      <td>[Bluetooth, CD player, Hands-free equipment, M...</td>\n",
       "      <td>[Alloy wheels, Sport package, Sport suspension...</td>\n",
       "      <td>[ABS, Central door lock, Driver-side airbag, E...</td>\n",
       "      <td>NaN</td>\n",
       "    </tr>\n",
       "  </tbody>\n",
       "</table>\n",
       "</div>"
      ],
      "text/plain": [
       "  make_model body_type  price    vat         km registration  \\\n",
       "0    Audi A1    Sedans  15770   True  56,013 km      01/2016   \n",
       "1    Audi A1    Sedans  14500   True  80,000 km      03/2017   \n",
       "2    Audi A1    Sedans  14640   True  83,450 km      02/2016   \n",
       "3    Audi A1    Sedans  14500  False  73,000 km      08/2016   \n",
       "4    Audi A1    Sedans  16790  False  16,200 km      05/2016   \n",
       "\n",
       "          prev_owner      hp       Body Color      Paint Type  \\\n",
       "0  2 previous owners   66 kW  [\\n, Black, \\n]  [\\nMetallic\\n]   \n",
       "1               None  141 kW    [\\n, Red, \\n]             NaN   \n",
       "2   1 previous owner   85 kW  [\\n, Black, \\n]  [\\nMetallic\\n]   \n",
       "3   1 previous owner   66 kW  [\\n, Brown, \\n]  [\\nMetallic\\n]   \n",
       "4   1 previous owner   66 kW  [\\n, Black, \\n]  [\\nMetallic\\n]   \n",
       "\n",
       "           Upholstery Nr. of Doors Nr. of Seats         Gearing Type  \\\n",
       "0  [\\nCloth, Black\\n]      [\\n5\\n]      [\\n5\\n]  [\\n, Automatic, \\n]   \n",
       "1   [\\nCloth, Grey\\n]      [\\n3\\n]      [\\n4\\n]  [\\n, Automatic, \\n]   \n",
       "2  [\\nCloth, Black\\n]      [\\n4\\n]      [\\n4\\n]  [\\n, Automatic, \\n]   \n",
       "3                 NaN      [\\n3\\n]      [\\n4\\n]  [\\n, Automatic, \\n]   \n",
       "4  [\\nCloth, Black\\n]      [\\n5\\n]      [\\n5\\n]  [\\n, Automatic, \\n]   \n",
       "\n",
       "     Displacement Cylinders  Drive chain  \\\n",
       "0  [\\n1,422 cc\\n]   [\\n3\\n]  [\\nfront\\n]   \n",
       "1  [\\n1,798 cc\\n]   [\\n4\\n]  [\\nfront\\n]   \n",
       "2  [\\n1,598 cc\\n]       NaN  [\\nfront\\n]   \n",
       "3  [\\n1,422 cc\\n]   [\\n3\\n]          NaN   \n",
       "4  [\\n1,422 cc\\n]   [\\n3\\n]  [\\nfront\\n]   \n",
       "\n",
       "                                    Fuel  \\\n",
       "0  [\\n, Diesel (Particulate Filter), \\n]   \n",
       "1                     [\\n, Gasoline, \\n]   \n",
       "2  [\\n, Diesel (Particulate Filter), \\n]   \n",
       "3  [\\n, Diesel (Particulate Filter), \\n]   \n",
       "4  [\\n, Diesel (Particulate Filter), \\n]   \n",
       "\n",
       "                                         Consumption Emission Class  \\\n",
       "0  [[3.8 l/100 km (comb)], [4.3 l/100 km (city)],...   [\\nEuro 6\\n]   \n",
       "1  [[5.6 l/100 km (comb)], [7.1 l/100 km (city)],...   [\\nEuro 6\\n]   \n",
       "2  [[3.8 l/100 km (comb)], [4.4 l/100 km (city)],...   [\\nEuro 6\\n]   \n",
       "3  [[3.8 l/100 km (comb)], [4.3 l/100 km (city)],...   [\\nEuro 6\\n]   \n",
       "4  [[4.1 l/100 km (comb)], [4.6 l/100 km (city)],...   [\\nEuro 6\\n]   \n",
       "\n",
       "                           \\nComfort & Convenience\\n  \\\n",
       "0  [Air conditioning, Armrest, Automatic climate ...   \n",
       "1  [Air conditioning, Automatic climate control, ...   \n",
       "2  [Air conditioning, Cruise control, Electrical ...   \n",
       "3  [Air suspension, Armrest, Auxiliary heating, E...   \n",
       "4  [Air conditioning, Armrest, Automatic climate ...   \n",
       "\n",
       "                           \\nEntertainment & Media\\n  \\\n",
       "0  [Bluetooth, Hands-free equipment, On-board com...   \n",
       "1  [Bluetooth, Hands-free equipment, On-board com...   \n",
       "2                           [MP3, On-board computer]   \n",
       "3  [Bluetooth, CD player, Hands-free equipment, M...   \n",
       "4  [Bluetooth, CD player, Hands-free equipment, M...   \n",
       "\n",
       "                                          \\nExtras\\n  \\\n",
       "0  [Alloy wheels, Catalytic Converter, Voice Cont...   \n",
       "1  [Alloy wheels, Sport seats, Sport suspension, ...   \n",
       "2                      [Alloy wheels, Voice Control]   \n",
       "3         [Alloy wheels, Sport seats, Voice Control]   \n",
       "4  [Alloy wheels, Sport package, Sport suspension...   \n",
       "\n",
       "                               \\nSafety & Security\\n    Gears  \n",
       "0  [ABS, Central door lock, Daytime running light...      NaN  \n",
       "1  [ABS, Central door lock, Central door lock wit...  [\\n7\\n]  \n",
       "2  [ABS, Central door lock, Daytime running light...      NaN  \n",
       "3  [ABS, Alarm system, Central door lock with rem...  [\\n6\\n]  \n",
       "4  [ABS, Central door lock, Driver-side airbag, E...      NaN  "
      ]
     },
     "execution_count": 74,
     "metadata": {},
     "output_type": "execute_result"
    }
   ],
   "source": [
    "df.head()"
   ]
  },
  {
   "cell_type": "code",
   "execution_count": 75,
   "metadata": {},
   "outputs": [
    {
     "data": {
      "text/plain": [
       "'56,013 km'"
      ]
     },
     "execution_count": 75,
     "metadata": {},
     "output_type": "execute_result"
    }
   ],
   "source": [
    "df[\"km\"][0]"
   ]
  },
  {
   "cell_type": "code",
   "execution_count": 76,
   "metadata": {},
   "outputs": [],
   "source": [
    "df[\"km\"].replace(\"- km\",\"0 km\",inplace = True)"
   ]
  },
  {
   "cell_type": "code",
   "execution_count": 77,
   "metadata": {},
   "outputs": [
    {
     "data": {
      "text/plain": [
       "10 km         1045\n",
       "0 km          1043\n",
       "1 km           367\n",
       "5 km           170\n",
       "50 km          148\n",
       "              ... \n",
       "76,867 km        1\n",
       "48,880 km        1\n",
       "145,444 km       1\n",
       "60,648 km        1\n",
       "6,332 km         1\n",
       "Name: km, Length: 6689, dtype: int64"
      ]
     },
     "execution_count": 77,
     "metadata": {},
     "output_type": "execute_result"
    }
   ],
   "source": [
    "df[\"km\"].value_counts()"
   ]
  },
  {
   "cell_type": "code",
   "execution_count": 78,
   "metadata": {},
   "outputs": [
    {
     "data": {
      "text/plain": [
       "0        56,013\n",
       "1        80,000\n",
       "2        83,450\n",
       "3        73,000\n",
       "4        16,200\n",
       "          ...  \n",
       "15914         0\n",
       "15915     9,900\n",
       "15916        15\n",
       "15917        10\n",
       "15918         0\n",
       "Name: km, Length: 15919, dtype: object"
      ]
     },
     "execution_count": 78,
     "metadata": {},
     "output_type": "execute_result"
    }
   ],
   "source": [
    "a = df[\"km\"].str.strip(\" km\")\n",
    "\n",
    "a"
   ]
  },
  {
   "cell_type": "code",
   "execution_count": 79,
   "metadata": {},
   "outputs": [
    {
     "data": {
      "text/plain": [
       "0        [56, 013]\n",
       "1        [80, 000]\n",
       "2        [83, 450]\n",
       "3        [73, 000]\n",
       "4        [16, 200]\n",
       "           ...    \n",
       "15914          [0]\n",
       "15915     [9, 900]\n",
       "15916         [15]\n",
       "15917         [10]\n",
       "15918          [0]\n",
       "Name: km, Length: 15919, dtype: object"
      ]
     },
     "execution_count": 79,
     "metadata": {},
     "output_type": "execute_result"
    }
   ],
   "source": [
    "x = a.apply(lambda x : x.split(\",\"))\n",
    "x "
   ]
  },
  {
   "cell_type": "code",
   "execution_count": 80,
   "metadata": {},
   "outputs": [
    {
     "data": {
      "text/plain": [
       "0        56013\n",
       "1        80000\n",
       "2        83450\n",
       "3        73000\n",
       "4        16200\n",
       "         ...  \n",
       "15914        0\n",
       "15915     9900\n",
       "15916       15\n",
       "15917       10\n",
       "15918        0\n",
       "Name: km, Length: 15919, dtype: object"
      ]
     },
     "execution_count": 80,
     "metadata": {},
     "output_type": "execute_result"
    }
   ],
   "source": [
    "z = x.apply(lambda i: \"\".join(i))\n",
    "z"
   ]
  },
  {
   "cell_type": "code",
   "execution_count": 81,
   "metadata": {},
   "outputs": [],
   "source": [
    "df[\"km\"]= pd.to_numeric(z)"
   ]
  },
  {
   "cell_type": "code",
   "execution_count": 82,
   "metadata": {},
   "outputs": [
    {
     "data": {
      "text/plain": [
       "0        56013\n",
       "1        80000\n",
       "2        83450\n",
       "3        73000\n",
       "4        16200\n",
       "         ...  \n",
       "15914        0\n",
       "15915     9900\n",
       "15916       15\n",
       "15917       10\n",
       "15918        0\n",
       "Name: km, Length: 15919, dtype: int64"
      ]
     },
     "execution_count": 82,
     "metadata": {},
     "output_type": "execute_result"
    }
   ],
   "source": [
    "df[\"km\"]"
   ]
  },
  {
   "cell_type": "code",
   "execution_count": 83,
   "metadata": {},
   "outputs": [
    {
     "data": {
      "text/plain": [
       "10        1045\n",
       "0         1043\n",
       "1          367\n",
       "5          170\n",
       "50         148\n",
       "          ... \n",
       "20615        1\n",
       "141448       1\n",
       "8329         1\n",
       "84108        1\n",
       "16364        1\n",
       "Name: km, Length: 6689, dtype: int64"
      ]
     },
     "execution_count": 83,
     "metadata": {},
     "output_type": "execute_result"
    }
   ],
   "source": [
    "df.km.value_counts(dropna=False)"
   ]
  },
  {
   "cell_type": "code",
   "execution_count": 84,
   "metadata": {},
   "outputs": [],
   "source": [
    "# pd.to_numeric(df[\"km\"].str.strip(\" km\").apply(lambda x : x.split(\",\")).apply(lambda x : \"\".join(x)))"
   ]
  },
  {
   "cell_type": "code",
   "execution_count": 85,
   "metadata": {},
   "outputs": [
    {
     "data": {
      "text/html": [
       "<div>\n",
       "<style scoped>\n",
       "    .dataframe tbody tr th:only-of-type {\n",
       "        vertical-align: middle;\n",
       "    }\n",
       "\n",
       "    .dataframe tbody tr th {\n",
       "        vertical-align: top;\n",
       "    }\n",
       "\n",
       "    .dataframe thead th {\n",
       "        text-align: right;\n",
       "    }\n",
       "</style>\n",
       "<table border=\"1\" class=\"dataframe\">\n",
       "  <thead>\n",
       "    <tr style=\"text-align: right;\">\n",
       "      <th></th>\n",
       "      <th>make_model</th>\n",
       "      <th>body_type</th>\n",
       "      <th>price</th>\n",
       "      <th>vat</th>\n",
       "      <th>km</th>\n",
       "      <th>registration</th>\n",
       "      <th>prev_owner</th>\n",
       "      <th>hp</th>\n",
       "      <th>Body Color</th>\n",
       "      <th>Paint Type</th>\n",
       "      <th>Upholstery</th>\n",
       "      <th>Nr. of Doors</th>\n",
       "      <th>Nr. of Seats</th>\n",
       "      <th>Gearing Type</th>\n",
       "      <th>Displacement</th>\n",
       "      <th>Cylinders</th>\n",
       "      <th>Drive chain</th>\n",
       "      <th>Fuel</th>\n",
       "      <th>Consumption</th>\n",
       "      <th>Emission Class</th>\n",
       "      <th>\\nComfort &amp; Convenience\\n</th>\n",
       "      <th>\\nEntertainment &amp; Media\\n</th>\n",
       "      <th>\\nExtras\\n</th>\n",
       "      <th>\\nSafety &amp; Security\\n</th>\n",
       "      <th>Gears</th>\n",
       "    </tr>\n",
       "  </thead>\n",
       "  <tbody>\n",
       "    <tr>\n",
       "      <th>0</th>\n",
       "      <td>Audi A1</td>\n",
       "      <td>Sedans</td>\n",
       "      <td>15770</td>\n",
       "      <td>True</td>\n",
       "      <td>56013</td>\n",
       "      <td>01/2016</td>\n",
       "      <td>2 previous owners</td>\n",
       "      <td>66 kW</td>\n",
       "      <td>[\\n, Black, \\n]</td>\n",
       "      <td>[\\nMetallic\\n]</td>\n",
       "      <td>[\\nCloth, Black\\n]</td>\n",
       "      <td>[\\n5\\n]</td>\n",
       "      <td>[\\n5\\n]</td>\n",
       "      <td>[\\n, Automatic, \\n]</td>\n",
       "      <td>[\\n1,422 cc\\n]</td>\n",
       "      <td>[\\n3\\n]</td>\n",
       "      <td>[\\nfront\\n]</td>\n",
       "      <td>[\\n, Diesel (Particulate Filter), \\n]</td>\n",
       "      <td>[[3.8 l/100 km (comb)], [4.3 l/100 km (city)],...</td>\n",
       "      <td>[\\nEuro 6\\n]</td>\n",
       "      <td>[Air conditioning, Armrest, Automatic climate ...</td>\n",
       "      <td>[Bluetooth, Hands-free equipment, On-board com...</td>\n",
       "      <td>[Alloy wheels, Catalytic Converter, Voice Cont...</td>\n",
       "      <td>[ABS, Central door lock, Daytime running light...</td>\n",
       "      <td>NaN</td>\n",
       "    </tr>\n",
       "    <tr>\n",
       "      <th>1</th>\n",
       "      <td>Audi A1</td>\n",
       "      <td>Sedans</td>\n",
       "      <td>14500</td>\n",
       "      <td>True</td>\n",
       "      <td>80000</td>\n",
       "      <td>03/2017</td>\n",
       "      <td>None</td>\n",
       "      <td>141 kW</td>\n",
       "      <td>[\\n, Red, \\n]</td>\n",
       "      <td>NaN</td>\n",
       "      <td>[\\nCloth, Grey\\n]</td>\n",
       "      <td>[\\n3\\n]</td>\n",
       "      <td>[\\n4\\n]</td>\n",
       "      <td>[\\n, Automatic, \\n]</td>\n",
       "      <td>[\\n1,798 cc\\n]</td>\n",
       "      <td>[\\n4\\n]</td>\n",
       "      <td>[\\nfront\\n]</td>\n",
       "      <td>[\\n, Gasoline, \\n]</td>\n",
       "      <td>[[5.6 l/100 km (comb)], [7.1 l/100 km (city)],...</td>\n",
       "      <td>[\\nEuro 6\\n]</td>\n",
       "      <td>[Air conditioning, Automatic climate control, ...</td>\n",
       "      <td>[Bluetooth, Hands-free equipment, On-board com...</td>\n",
       "      <td>[Alloy wheels, Sport seats, Sport suspension, ...</td>\n",
       "      <td>[ABS, Central door lock, Central door lock wit...</td>\n",
       "      <td>[\\n7\\n]</td>\n",
       "    </tr>\n",
       "    <tr>\n",
       "      <th>2</th>\n",
       "      <td>Audi A1</td>\n",
       "      <td>Sedans</td>\n",
       "      <td>14640</td>\n",
       "      <td>True</td>\n",
       "      <td>83450</td>\n",
       "      <td>02/2016</td>\n",
       "      <td>1 previous owner</td>\n",
       "      <td>85 kW</td>\n",
       "      <td>[\\n, Black, \\n]</td>\n",
       "      <td>[\\nMetallic\\n]</td>\n",
       "      <td>[\\nCloth, Black\\n]</td>\n",
       "      <td>[\\n4\\n]</td>\n",
       "      <td>[\\n4\\n]</td>\n",
       "      <td>[\\n, Automatic, \\n]</td>\n",
       "      <td>[\\n1,598 cc\\n]</td>\n",
       "      <td>NaN</td>\n",
       "      <td>[\\nfront\\n]</td>\n",
       "      <td>[\\n, Diesel (Particulate Filter), \\n]</td>\n",
       "      <td>[[3.8 l/100 km (comb)], [4.4 l/100 km (city)],...</td>\n",
       "      <td>[\\nEuro 6\\n]</td>\n",
       "      <td>[Air conditioning, Cruise control, Electrical ...</td>\n",
       "      <td>[MP3, On-board computer]</td>\n",
       "      <td>[Alloy wheels, Voice Control]</td>\n",
       "      <td>[ABS, Central door lock, Daytime running light...</td>\n",
       "      <td>NaN</td>\n",
       "    </tr>\n",
       "    <tr>\n",
       "      <th>3</th>\n",
       "      <td>Audi A1</td>\n",
       "      <td>Sedans</td>\n",
       "      <td>14500</td>\n",
       "      <td>False</td>\n",
       "      <td>73000</td>\n",
       "      <td>08/2016</td>\n",
       "      <td>1 previous owner</td>\n",
       "      <td>66 kW</td>\n",
       "      <td>[\\n, Brown, \\n]</td>\n",
       "      <td>[\\nMetallic\\n]</td>\n",
       "      <td>NaN</td>\n",
       "      <td>[\\n3\\n]</td>\n",
       "      <td>[\\n4\\n]</td>\n",
       "      <td>[\\n, Automatic, \\n]</td>\n",
       "      <td>[\\n1,422 cc\\n]</td>\n",
       "      <td>[\\n3\\n]</td>\n",
       "      <td>NaN</td>\n",
       "      <td>[\\n, Diesel (Particulate Filter), \\n]</td>\n",
       "      <td>[[3.8 l/100 km (comb)], [4.3 l/100 km (city)],...</td>\n",
       "      <td>[\\nEuro 6\\n]</td>\n",
       "      <td>[Air suspension, Armrest, Auxiliary heating, E...</td>\n",
       "      <td>[Bluetooth, CD player, Hands-free equipment, M...</td>\n",
       "      <td>[Alloy wheels, Sport seats, Voice Control]</td>\n",
       "      <td>[ABS, Alarm system, Central door lock with rem...</td>\n",
       "      <td>[\\n6\\n]</td>\n",
       "    </tr>\n",
       "    <tr>\n",
       "      <th>4</th>\n",
       "      <td>Audi A1</td>\n",
       "      <td>Sedans</td>\n",
       "      <td>16790</td>\n",
       "      <td>False</td>\n",
       "      <td>16200</td>\n",
       "      <td>05/2016</td>\n",
       "      <td>1 previous owner</td>\n",
       "      <td>66 kW</td>\n",
       "      <td>[\\n, Black, \\n]</td>\n",
       "      <td>[\\nMetallic\\n]</td>\n",
       "      <td>[\\nCloth, Black\\n]</td>\n",
       "      <td>[\\n5\\n]</td>\n",
       "      <td>[\\n5\\n]</td>\n",
       "      <td>[\\n, Automatic, \\n]</td>\n",
       "      <td>[\\n1,422 cc\\n]</td>\n",
       "      <td>[\\n3\\n]</td>\n",
       "      <td>[\\nfront\\n]</td>\n",
       "      <td>[\\n, Diesel (Particulate Filter), \\n]</td>\n",
       "      <td>[[4.1 l/100 km (comb)], [4.6 l/100 km (city)],...</td>\n",
       "      <td>[\\nEuro 6\\n]</td>\n",
       "      <td>[Air conditioning, Armrest, Automatic climate ...</td>\n",
       "      <td>[Bluetooth, CD player, Hands-free equipment, M...</td>\n",
       "      <td>[Alloy wheels, Sport package, Sport suspension...</td>\n",
       "      <td>[ABS, Central door lock, Driver-side airbag, E...</td>\n",
       "      <td>NaN</td>\n",
       "    </tr>\n",
       "  </tbody>\n",
       "</table>\n",
       "</div>"
      ],
      "text/plain": [
       "  make_model body_type  price    vat     km registration         prev_owner  \\\n",
       "0    Audi A1    Sedans  15770   True  56013      01/2016  2 previous owners   \n",
       "1    Audi A1    Sedans  14500   True  80000      03/2017               None   \n",
       "2    Audi A1    Sedans  14640   True  83450      02/2016   1 previous owner   \n",
       "3    Audi A1    Sedans  14500  False  73000      08/2016   1 previous owner   \n",
       "4    Audi A1    Sedans  16790  False  16200      05/2016   1 previous owner   \n",
       "\n",
       "       hp       Body Color      Paint Type          Upholstery Nr. of Doors  \\\n",
       "0   66 kW  [\\n, Black, \\n]  [\\nMetallic\\n]  [\\nCloth, Black\\n]      [\\n5\\n]   \n",
       "1  141 kW    [\\n, Red, \\n]             NaN   [\\nCloth, Grey\\n]      [\\n3\\n]   \n",
       "2   85 kW  [\\n, Black, \\n]  [\\nMetallic\\n]  [\\nCloth, Black\\n]      [\\n4\\n]   \n",
       "3   66 kW  [\\n, Brown, \\n]  [\\nMetallic\\n]                 NaN      [\\n3\\n]   \n",
       "4   66 kW  [\\n, Black, \\n]  [\\nMetallic\\n]  [\\nCloth, Black\\n]      [\\n5\\n]   \n",
       "\n",
       "  Nr. of Seats         Gearing Type    Displacement Cylinders  Drive chain  \\\n",
       "0      [\\n5\\n]  [\\n, Automatic, \\n]  [\\n1,422 cc\\n]   [\\n3\\n]  [\\nfront\\n]   \n",
       "1      [\\n4\\n]  [\\n, Automatic, \\n]  [\\n1,798 cc\\n]   [\\n4\\n]  [\\nfront\\n]   \n",
       "2      [\\n4\\n]  [\\n, Automatic, \\n]  [\\n1,598 cc\\n]       NaN  [\\nfront\\n]   \n",
       "3      [\\n4\\n]  [\\n, Automatic, \\n]  [\\n1,422 cc\\n]   [\\n3\\n]          NaN   \n",
       "4      [\\n5\\n]  [\\n, Automatic, \\n]  [\\n1,422 cc\\n]   [\\n3\\n]  [\\nfront\\n]   \n",
       "\n",
       "                                    Fuel  \\\n",
       "0  [\\n, Diesel (Particulate Filter), \\n]   \n",
       "1                     [\\n, Gasoline, \\n]   \n",
       "2  [\\n, Diesel (Particulate Filter), \\n]   \n",
       "3  [\\n, Diesel (Particulate Filter), \\n]   \n",
       "4  [\\n, Diesel (Particulate Filter), \\n]   \n",
       "\n",
       "                                         Consumption Emission Class  \\\n",
       "0  [[3.8 l/100 km (comb)], [4.3 l/100 km (city)],...   [\\nEuro 6\\n]   \n",
       "1  [[5.6 l/100 km (comb)], [7.1 l/100 km (city)],...   [\\nEuro 6\\n]   \n",
       "2  [[3.8 l/100 km (comb)], [4.4 l/100 km (city)],...   [\\nEuro 6\\n]   \n",
       "3  [[3.8 l/100 km (comb)], [4.3 l/100 km (city)],...   [\\nEuro 6\\n]   \n",
       "4  [[4.1 l/100 km (comb)], [4.6 l/100 km (city)],...   [\\nEuro 6\\n]   \n",
       "\n",
       "                           \\nComfort & Convenience\\n  \\\n",
       "0  [Air conditioning, Armrest, Automatic climate ...   \n",
       "1  [Air conditioning, Automatic climate control, ...   \n",
       "2  [Air conditioning, Cruise control, Electrical ...   \n",
       "3  [Air suspension, Armrest, Auxiliary heating, E...   \n",
       "4  [Air conditioning, Armrest, Automatic climate ...   \n",
       "\n",
       "                           \\nEntertainment & Media\\n  \\\n",
       "0  [Bluetooth, Hands-free equipment, On-board com...   \n",
       "1  [Bluetooth, Hands-free equipment, On-board com...   \n",
       "2                           [MP3, On-board computer]   \n",
       "3  [Bluetooth, CD player, Hands-free equipment, M...   \n",
       "4  [Bluetooth, CD player, Hands-free equipment, M...   \n",
       "\n",
       "                                          \\nExtras\\n  \\\n",
       "0  [Alloy wheels, Catalytic Converter, Voice Cont...   \n",
       "1  [Alloy wheels, Sport seats, Sport suspension, ...   \n",
       "2                      [Alloy wheels, Voice Control]   \n",
       "3         [Alloy wheels, Sport seats, Voice Control]   \n",
       "4  [Alloy wheels, Sport package, Sport suspension...   \n",
       "\n",
       "                               \\nSafety & Security\\n    Gears  \n",
       "0  [ABS, Central door lock, Daytime running light...      NaN  \n",
       "1  [ABS, Central door lock, Central door lock wit...  [\\n7\\n]  \n",
       "2  [ABS, Central door lock, Daytime running light...      NaN  \n",
       "3  [ABS, Alarm system, Central door lock with rem...  [\\n6\\n]  \n",
       "4  [ABS, Central door lock, Driver-side airbag, E...      NaN  "
      ]
     },
     "execution_count": 85,
     "metadata": {},
     "output_type": "execute_result"
    }
   ],
   "source": [
    "df.head()"
   ]
  },
  {
   "cell_type": "code",
   "execution_count": 86,
   "metadata": {},
   "outputs": [],
   "source": [
    "df[\"registration\"].value_counts();"
   ]
  },
  {
   "cell_type": "code",
   "execution_count": 87,
   "metadata": {},
   "outputs": [
    {
     "data": {
      "text/plain": [
       "Series([], Name: registration, dtype: object)"
      ]
     },
     "execution_count": 87,
     "metadata": {},
     "output_type": "execute_result"
    }
   ],
   "source": [
    "def re_chg(x):\n",
    "    if x == '-/-':\n",
    "        return '01/2020'\n",
    "    else:\n",
    "        return x\n",
    "df['registration']= df['registration'].apply(lambda x:re_chg(x))\n",
    "df[df['registration']== '-/-']['registration']\n"
   ]
  },
  {
   "cell_type": "code",
   "execution_count": 88,
   "metadata": {},
   "outputs": [
    {
     "data": {
      "text/plain": [
       "0        [01, 2016]\n",
       "1        [03, 2017]\n",
       "2        [02, 2016]\n",
       "3        [08, 2016]\n",
       "4        [05, 2016]\n",
       "            ...    \n",
       "15914    [01, 2020]\n",
       "15915    [01, 2019]\n",
       "15916    [03, 2019]\n",
       "15917    [06, 2019]\n",
       "15918    [01, 2019]\n",
       "Name: registration, Length: 15919, dtype: object"
      ]
     },
     "execution_count": 88,
     "metadata": {},
     "output_type": "execute_result"
    }
   ],
   "source": [
    "a = df['registration'].str.split('/')\n",
    "a"
   ]
  },
  {
   "cell_type": "code",
   "execution_count": 89,
   "metadata": {},
   "outputs": [
    {
     "data": {
      "text/plain": [
       "[2016, 2017, 2016, 2016, 2016]"
      ]
     },
     "execution_count": 89,
     "metadata": {},
     "output_type": "execute_result"
    }
   ],
   "source": [
    "newlist = []\n",
    "for i in range(len(a)):\n",
    "    newlist.append(int(a.iloc[i][1]))\n",
    "newlist[0:5]   "
   ]
  },
  {
   "cell_type": "code",
   "execution_count": 90,
   "metadata": {},
   "outputs": [],
   "source": [
    "df[\"year\"] = newlist"
   ]
  },
  {
   "cell_type": "code",
   "execution_count": 91,
   "metadata": {},
   "outputs": [],
   "source": [
    "df[\"age\"] = 2020 - df.year"
   ]
  },
  {
   "cell_type": "code",
   "execution_count": 92,
   "metadata": {},
   "outputs": [
    {
     "data": {
      "text/html": [
       "<div>\n",
       "<style scoped>\n",
       "    .dataframe tbody tr th:only-of-type {\n",
       "        vertical-align: middle;\n",
       "    }\n",
       "\n",
       "    .dataframe tbody tr th {\n",
       "        vertical-align: top;\n",
       "    }\n",
       "\n",
       "    .dataframe thead th {\n",
       "        text-align: right;\n",
       "    }\n",
       "</style>\n",
       "<table border=\"1\" class=\"dataframe\">\n",
       "  <thead>\n",
       "    <tr style=\"text-align: right;\">\n",
       "      <th></th>\n",
       "      <th>make_model</th>\n",
       "      <th>body_type</th>\n",
       "      <th>price</th>\n",
       "      <th>vat</th>\n",
       "      <th>km</th>\n",
       "      <th>registration</th>\n",
       "      <th>prev_owner</th>\n",
       "      <th>hp</th>\n",
       "      <th>Body Color</th>\n",
       "      <th>Paint Type</th>\n",
       "      <th>Upholstery</th>\n",
       "      <th>Nr. of Doors</th>\n",
       "      <th>Nr. of Seats</th>\n",
       "      <th>Gearing Type</th>\n",
       "      <th>Displacement</th>\n",
       "      <th>Cylinders</th>\n",
       "      <th>Drive chain</th>\n",
       "      <th>Fuel</th>\n",
       "      <th>Consumption</th>\n",
       "      <th>Emission Class</th>\n",
       "      <th>\\nComfort &amp; Convenience\\n</th>\n",
       "      <th>\\nEntertainment &amp; Media\\n</th>\n",
       "      <th>\\nExtras\\n</th>\n",
       "      <th>\\nSafety &amp; Security\\n</th>\n",
       "      <th>Gears</th>\n",
       "      <th>year</th>\n",
       "      <th>age</th>\n",
       "    </tr>\n",
       "  </thead>\n",
       "  <tbody>\n",
       "    <tr>\n",
       "      <th>0</th>\n",
       "      <td>Audi A1</td>\n",
       "      <td>Sedans</td>\n",
       "      <td>15770</td>\n",
       "      <td>True</td>\n",
       "      <td>56013</td>\n",
       "      <td>01/2016</td>\n",
       "      <td>2 previous owners</td>\n",
       "      <td>66 kW</td>\n",
       "      <td>[\\n, Black, \\n]</td>\n",
       "      <td>[\\nMetallic\\n]</td>\n",
       "      <td>[\\nCloth, Black\\n]</td>\n",
       "      <td>[\\n5\\n]</td>\n",
       "      <td>[\\n5\\n]</td>\n",
       "      <td>[\\n, Automatic, \\n]</td>\n",
       "      <td>[\\n1,422 cc\\n]</td>\n",
       "      <td>[\\n3\\n]</td>\n",
       "      <td>[\\nfront\\n]</td>\n",
       "      <td>[\\n, Diesel (Particulate Filter), \\n]</td>\n",
       "      <td>[[3.8 l/100 km (comb)], [4.3 l/100 km (city)],...</td>\n",
       "      <td>[\\nEuro 6\\n]</td>\n",
       "      <td>[Air conditioning, Armrest, Automatic climate ...</td>\n",
       "      <td>[Bluetooth, Hands-free equipment, On-board com...</td>\n",
       "      <td>[Alloy wheels, Catalytic Converter, Voice Cont...</td>\n",
       "      <td>[ABS, Central door lock, Daytime running light...</td>\n",
       "      <td>NaN</td>\n",
       "      <td>2016</td>\n",
       "      <td>4</td>\n",
       "    </tr>\n",
       "    <tr>\n",
       "      <th>1</th>\n",
       "      <td>Audi A1</td>\n",
       "      <td>Sedans</td>\n",
       "      <td>14500</td>\n",
       "      <td>True</td>\n",
       "      <td>80000</td>\n",
       "      <td>03/2017</td>\n",
       "      <td>None</td>\n",
       "      <td>141 kW</td>\n",
       "      <td>[\\n, Red, \\n]</td>\n",
       "      <td>NaN</td>\n",
       "      <td>[\\nCloth, Grey\\n]</td>\n",
       "      <td>[\\n3\\n]</td>\n",
       "      <td>[\\n4\\n]</td>\n",
       "      <td>[\\n, Automatic, \\n]</td>\n",
       "      <td>[\\n1,798 cc\\n]</td>\n",
       "      <td>[\\n4\\n]</td>\n",
       "      <td>[\\nfront\\n]</td>\n",
       "      <td>[\\n, Gasoline, \\n]</td>\n",
       "      <td>[[5.6 l/100 km (comb)], [7.1 l/100 km (city)],...</td>\n",
       "      <td>[\\nEuro 6\\n]</td>\n",
       "      <td>[Air conditioning, Automatic climate control, ...</td>\n",
       "      <td>[Bluetooth, Hands-free equipment, On-board com...</td>\n",
       "      <td>[Alloy wheels, Sport seats, Sport suspension, ...</td>\n",
       "      <td>[ABS, Central door lock, Central door lock wit...</td>\n",
       "      <td>[\\n7\\n]</td>\n",
       "      <td>2017</td>\n",
       "      <td>3</td>\n",
       "    </tr>\n",
       "    <tr>\n",
       "      <th>2</th>\n",
       "      <td>Audi A1</td>\n",
       "      <td>Sedans</td>\n",
       "      <td>14640</td>\n",
       "      <td>True</td>\n",
       "      <td>83450</td>\n",
       "      <td>02/2016</td>\n",
       "      <td>1 previous owner</td>\n",
       "      <td>85 kW</td>\n",
       "      <td>[\\n, Black, \\n]</td>\n",
       "      <td>[\\nMetallic\\n]</td>\n",
       "      <td>[\\nCloth, Black\\n]</td>\n",
       "      <td>[\\n4\\n]</td>\n",
       "      <td>[\\n4\\n]</td>\n",
       "      <td>[\\n, Automatic, \\n]</td>\n",
       "      <td>[\\n1,598 cc\\n]</td>\n",
       "      <td>NaN</td>\n",
       "      <td>[\\nfront\\n]</td>\n",
       "      <td>[\\n, Diesel (Particulate Filter), \\n]</td>\n",
       "      <td>[[3.8 l/100 km (comb)], [4.4 l/100 km (city)],...</td>\n",
       "      <td>[\\nEuro 6\\n]</td>\n",
       "      <td>[Air conditioning, Cruise control, Electrical ...</td>\n",
       "      <td>[MP3, On-board computer]</td>\n",
       "      <td>[Alloy wheels, Voice Control]</td>\n",
       "      <td>[ABS, Central door lock, Daytime running light...</td>\n",
       "      <td>NaN</td>\n",
       "      <td>2016</td>\n",
       "      <td>4</td>\n",
       "    </tr>\n",
       "    <tr>\n",
       "      <th>3</th>\n",
       "      <td>Audi A1</td>\n",
       "      <td>Sedans</td>\n",
       "      <td>14500</td>\n",
       "      <td>False</td>\n",
       "      <td>73000</td>\n",
       "      <td>08/2016</td>\n",
       "      <td>1 previous owner</td>\n",
       "      <td>66 kW</td>\n",
       "      <td>[\\n, Brown, \\n]</td>\n",
       "      <td>[\\nMetallic\\n]</td>\n",
       "      <td>NaN</td>\n",
       "      <td>[\\n3\\n]</td>\n",
       "      <td>[\\n4\\n]</td>\n",
       "      <td>[\\n, Automatic, \\n]</td>\n",
       "      <td>[\\n1,422 cc\\n]</td>\n",
       "      <td>[\\n3\\n]</td>\n",
       "      <td>NaN</td>\n",
       "      <td>[\\n, Diesel (Particulate Filter), \\n]</td>\n",
       "      <td>[[3.8 l/100 km (comb)], [4.3 l/100 km (city)],...</td>\n",
       "      <td>[\\nEuro 6\\n]</td>\n",
       "      <td>[Air suspension, Armrest, Auxiliary heating, E...</td>\n",
       "      <td>[Bluetooth, CD player, Hands-free equipment, M...</td>\n",
       "      <td>[Alloy wheels, Sport seats, Voice Control]</td>\n",
       "      <td>[ABS, Alarm system, Central door lock with rem...</td>\n",
       "      <td>[\\n6\\n]</td>\n",
       "      <td>2016</td>\n",
       "      <td>4</td>\n",
       "    </tr>\n",
       "    <tr>\n",
       "      <th>4</th>\n",
       "      <td>Audi A1</td>\n",
       "      <td>Sedans</td>\n",
       "      <td>16790</td>\n",
       "      <td>False</td>\n",
       "      <td>16200</td>\n",
       "      <td>05/2016</td>\n",
       "      <td>1 previous owner</td>\n",
       "      <td>66 kW</td>\n",
       "      <td>[\\n, Black, \\n]</td>\n",
       "      <td>[\\nMetallic\\n]</td>\n",
       "      <td>[\\nCloth, Black\\n]</td>\n",
       "      <td>[\\n5\\n]</td>\n",
       "      <td>[\\n5\\n]</td>\n",
       "      <td>[\\n, Automatic, \\n]</td>\n",
       "      <td>[\\n1,422 cc\\n]</td>\n",
       "      <td>[\\n3\\n]</td>\n",
       "      <td>[\\nfront\\n]</td>\n",
       "      <td>[\\n, Diesel (Particulate Filter), \\n]</td>\n",
       "      <td>[[4.1 l/100 km (comb)], [4.6 l/100 km (city)],...</td>\n",
       "      <td>[\\nEuro 6\\n]</td>\n",
       "      <td>[Air conditioning, Armrest, Automatic climate ...</td>\n",
       "      <td>[Bluetooth, CD player, Hands-free equipment, M...</td>\n",
       "      <td>[Alloy wheels, Sport package, Sport suspension...</td>\n",
       "      <td>[ABS, Central door lock, Driver-side airbag, E...</td>\n",
       "      <td>NaN</td>\n",
       "      <td>2016</td>\n",
       "      <td>4</td>\n",
       "    </tr>\n",
       "  </tbody>\n",
       "</table>\n",
       "</div>"
      ],
      "text/plain": [
       "  make_model body_type  price    vat     km registration         prev_owner  \\\n",
       "0    Audi A1    Sedans  15770   True  56013      01/2016  2 previous owners   \n",
       "1    Audi A1    Sedans  14500   True  80000      03/2017               None   \n",
       "2    Audi A1    Sedans  14640   True  83450      02/2016   1 previous owner   \n",
       "3    Audi A1    Sedans  14500  False  73000      08/2016   1 previous owner   \n",
       "4    Audi A1    Sedans  16790  False  16200      05/2016   1 previous owner   \n",
       "\n",
       "       hp       Body Color      Paint Type          Upholstery Nr. of Doors  \\\n",
       "0   66 kW  [\\n, Black, \\n]  [\\nMetallic\\n]  [\\nCloth, Black\\n]      [\\n5\\n]   \n",
       "1  141 kW    [\\n, Red, \\n]             NaN   [\\nCloth, Grey\\n]      [\\n3\\n]   \n",
       "2   85 kW  [\\n, Black, \\n]  [\\nMetallic\\n]  [\\nCloth, Black\\n]      [\\n4\\n]   \n",
       "3   66 kW  [\\n, Brown, \\n]  [\\nMetallic\\n]                 NaN      [\\n3\\n]   \n",
       "4   66 kW  [\\n, Black, \\n]  [\\nMetallic\\n]  [\\nCloth, Black\\n]      [\\n5\\n]   \n",
       "\n",
       "  Nr. of Seats         Gearing Type    Displacement Cylinders  Drive chain  \\\n",
       "0      [\\n5\\n]  [\\n, Automatic, \\n]  [\\n1,422 cc\\n]   [\\n3\\n]  [\\nfront\\n]   \n",
       "1      [\\n4\\n]  [\\n, Automatic, \\n]  [\\n1,798 cc\\n]   [\\n4\\n]  [\\nfront\\n]   \n",
       "2      [\\n4\\n]  [\\n, Automatic, \\n]  [\\n1,598 cc\\n]       NaN  [\\nfront\\n]   \n",
       "3      [\\n4\\n]  [\\n, Automatic, \\n]  [\\n1,422 cc\\n]   [\\n3\\n]          NaN   \n",
       "4      [\\n5\\n]  [\\n, Automatic, \\n]  [\\n1,422 cc\\n]   [\\n3\\n]  [\\nfront\\n]   \n",
       "\n",
       "                                    Fuel  \\\n",
       "0  [\\n, Diesel (Particulate Filter), \\n]   \n",
       "1                     [\\n, Gasoline, \\n]   \n",
       "2  [\\n, Diesel (Particulate Filter), \\n]   \n",
       "3  [\\n, Diesel (Particulate Filter), \\n]   \n",
       "4  [\\n, Diesel (Particulate Filter), \\n]   \n",
       "\n",
       "                                         Consumption Emission Class  \\\n",
       "0  [[3.8 l/100 km (comb)], [4.3 l/100 km (city)],...   [\\nEuro 6\\n]   \n",
       "1  [[5.6 l/100 km (comb)], [7.1 l/100 km (city)],...   [\\nEuro 6\\n]   \n",
       "2  [[3.8 l/100 km (comb)], [4.4 l/100 km (city)],...   [\\nEuro 6\\n]   \n",
       "3  [[3.8 l/100 km (comb)], [4.3 l/100 km (city)],...   [\\nEuro 6\\n]   \n",
       "4  [[4.1 l/100 km (comb)], [4.6 l/100 km (city)],...   [\\nEuro 6\\n]   \n",
       "\n",
       "                           \\nComfort & Convenience\\n  \\\n",
       "0  [Air conditioning, Armrest, Automatic climate ...   \n",
       "1  [Air conditioning, Automatic climate control, ...   \n",
       "2  [Air conditioning, Cruise control, Electrical ...   \n",
       "3  [Air suspension, Armrest, Auxiliary heating, E...   \n",
       "4  [Air conditioning, Armrest, Automatic climate ...   \n",
       "\n",
       "                           \\nEntertainment & Media\\n  \\\n",
       "0  [Bluetooth, Hands-free equipment, On-board com...   \n",
       "1  [Bluetooth, Hands-free equipment, On-board com...   \n",
       "2                           [MP3, On-board computer]   \n",
       "3  [Bluetooth, CD player, Hands-free equipment, M...   \n",
       "4  [Bluetooth, CD player, Hands-free equipment, M...   \n",
       "\n",
       "                                          \\nExtras\\n  \\\n",
       "0  [Alloy wheels, Catalytic Converter, Voice Cont...   \n",
       "1  [Alloy wheels, Sport seats, Sport suspension, ...   \n",
       "2                      [Alloy wheels, Voice Control]   \n",
       "3         [Alloy wheels, Sport seats, Voice Control]   \n",
       "4  [Alloy wheels, Sport package, Sport suspension...   \n",
       "\n",
       "                               \\nSafety & Security\\n    Gears  year  age  \n",
       "0  [ABS, Central door lock, Daytime running light...      NaN  2016    4  \n",
       "1  [ABS, Central door lock, Central door lock wit...  [\\n7\\n]  2017    3  \n",
       "2  [ABS, Central door lock, Daytime running light...      NaN  2016    4  \n",
       "3  [ABS, Alarm system, Central door lock with rem...  [\\n6\\n]  2016    4  \n",
       "4  [ABS, Central door lock, Driver-side airbag, E...      NaN  2016    4  "
      ]
     },
     "execution_count": 92,
     "metadata": {},
     "output_type": "execute_result"
    }
   ],
   "source": [
    "df.head()"
   ]
  },
  {
   "cell_type": "code",
   "execution_count": 93,
   "metadata": {},
   "outputs": [],
   "source": [
    "df.drop(columns=[\"registration\", \"year\"], inplace= True)"
   ]
  },
  {
   "cell_type": "code",
   "execution_count": 94,
   "metadata": {},
   "outputs": [
    {
     "name": "stdout",
     "output_type": "stream",
     "text": [
      "<class 'pandas.core.frame.DataFrame'>\n",
      "RangeIndex: 15919 entries, 0 to 15918\n",
      "Data columns (total 25 columns):\n",
      " #   Column                   Non-Null Count  Dtype \n",
      "---  ------                   --------------  ----- \n",
      " 0   make_model               15919 non-null  object\n",
      " 1   body_type                15919 non-null  object\n",
      " 2   price                    15919 non-null  int64 \n",
      " 3   vat                      15919 non-null  bool  \n",
      " 4   km                       15919 non-null  int64 \n",
      " 5   prev_owner               9091 non-null   object\n",
      " 6   hp                       15919 non-null  object\n",
      " 7   Body Color               15322 non-null  object\n",
      " 8   Paint Type               10147 non-null  object\n",
      " 9   Upholstery               12199 non-null  object\n",
      " 10  Nr. of Doors             15707 non-null  object\n",
      " 11  Nr. of Seats             14942 non-null  object\n",
      " 12  Gearing Type             15919 non-null  object\n",
      " 13  Displacement             15423 non-null  object\n",
      " 14  Cylinders                10239 non-null  object\n",
      " 15  Drive chain              9061 non-null   object\n",
      " 16  Fuel                     15919 non-null  object\n",
      " 17  Consumption              14013 non-null  object\n",
      " 18  Emission Class           12898 non-null  object\n",
      " 19  \n",
      "Comfort & Convenience\n",
      "  14999 non-null  object\n",
      " 20  \n",
      "Entertainment & Media\n",
      "  14545 non-null  object\n",
      " 21  \n",
      "Extras\n",
      "                 12957 non-null  object\n",
      " 22  \n",
      "Safety & Security\n",
      "      14937 non-null  object\n",
      " 23  Gears                    11207 non-null  object\n",
      " 24  age                      15919 non-null  int64 \n",
      "dtypes: bool(1), int64(3), object(21)\n",
      "memory usage: 2.9+ MB\n"
     ]
    }
   ],
   "source": [
    "df.info()"
   ]
  },
  {
   "cell_type": "code",
   "execution_count": 95,
   "metadata": {},
   "outputs": [
    {
     "data": {
      "text/plain": [
       "1 previous owner     8294\n",
       "NaN                  6828\n",
       "2 previous owners     778\n",
       "3 previous owners      17\n",
       "4 previous owners       2\n",
       "Name: prev_owner, dtype: int64"
      ]
     },
     "execution_count": 95,
     "metadata": {},
     "output_type": "execute_result"
    }
   ],
   "source": [
    "df[\"prev_owner\"].value_counts(dropna=False)"
   ]
  },
  {
   "cell_type": "code",
   "execution_count": 96,
   "metadata": {},
   "outputs": [
    {
     "data": {
      "text/plain": [
       "2641"
      ]
     },
     "execution_count": 96,
     "metadata": {},
     "output_type": "execute_result"
    }
   ],
   "source": [
    "df[(df[\"prev_owner\"].isnull())&(df[\"km\"] < 1000)][\"km\"].value_counts().sum()"
   ]
  },
  {
   "cell_type": "code",
   "execution_count": 97,
   "metadata": {},
   "outputs": [],
   "source": [
    "a = df[(df[\"prev_owner\"].isnull())&(df[\"km\"] < 1000)].index\n"
   ]
  },
  {
   "cell_type": "code",
   "execution_count": 98,
   "metadata": {},
   "outputs": [
    {
     "data": {
      "text/plain": [
       "Int64Index([  122,   710,   733,   734,   741,   743,   869,   946,   960,\n",
       "              974,\n",
       "            ...\n",
       "            15901, 15902, 15903, 15904, 15906, 15907, 15908, 15912, 15914,\n",
       "            15917],\n",
       "           dtype='int64', length=2641)"
      ]
     },
     "execution_count": 98,
     "metadata": {},
     "output_type": "execute_result"
    }
   ],
   "source": [
    "a"
   ]
  },
  {
   "cell_type": "code",
   "execution_count": null,
   "metadata": {},
   "outputs": [],
   "source": []
  },
  {
   "cell_type": "code",
   "execution_count": 99,
   "metadata": {},
   "outputs": [
    {
     "data": {
      "text/plain": [
       "0        False\n",
       "1         True\n",
       "2        False\n",
       "3        False\n",
       "4        False\n",
       "         ...  \n",
       "15914     True\n",
       "15915    False\n",
       "15916    False\n",
       "15917     True\n",
       "15918    False\n",
       "Name: prev_owner, Length: 15919, dtype: bool"
      ]
     },
     "execution_count": 99,
     "metadata": {},
     "output_type": "execute_result"
    }
   ],
   "source": [
    "df[\"prev_owner\"].isnull()"
   ]
  },
  {
   "cell_type": "code",
   "execution_count": 100,
   "metadata": {},
   "outputs": [
    {
     "data": {
      "text/plain": [
       "1 previous owner     8294\n",
       "NaN                  6828\n",
       "2 previous owners     778\n",
       "3 previous owners      17\n",
       "4 previous owners       2\n",
       "Name: prev_owner, dtype: int64"
      ]
     },
     "execution_count": 100,
     "metadata": {},
     "output_type": "execute_result"
    }
   ],
   "source": [
    "df.prev_owner.value_counts(dropna= False)"
   ]
  },
  {
   "cell_type": "code",
   "execution_count": 101,
   "metadata": {},
   "outputs": [
    {
     "data": {
      "text/plain": [
       "122      None\n",
       "710      None\n",
       "733      None\n",
       "734      None\n",
       "741      None\n",
       "         ... \n",
       "15907    None\n",
       "15908    None\n",
       "15912    None\n",
       "15914    None\n",
       "15917    None\n",
       "Name: prev_owner, Length: 2641, dtype: object"
      ]
     },
     "execution_count": 101,
     "metadata": {},
     "output_type": "execute_result"
    }
   ],
   "source": [
    "df[(df[\"prev_owner\"].isnull())&(df[\"km\"] < 1000)][\"prev_owner\"]"
   ]
  },
  {
   "cell_type": "code",
   "execution_count": 102,
   "metadata": {},
   "outputs": [],
   "source": [
    "a = df[(df[\"prev_owner\"].isnull())&(df[\"km\"] < 1000)][\"prev_owner\"]"
   ]
  },
  {
   "cell_type": "code",
   "execution_count": null,
   "metadata": {},
   "outputs": [],
   "source": []
  },
  {
   "cell_type": "code",
   "execution_count": 103,
   "metadata": {},
   "outputs": [
    {
     "data": {
      "text/plain": [
       "1 previous owner     8294\n",
       "NaN                  6828\n",
       "2 previous owners     778\n",
       "3 previous owners      17\n",
       "4 previous owners       2\n",
       "Name: prev_owner, dtype: int64"
      ]
     },
     "execution_count": 103,
     "metadata": {},
     "output_type": "execute_result"
    }
   ],
   "source": [
    "df.prev_owner.value_counts(dropna= False)"
   ]
  },
  {
   "cell_type": "code",
   "execution_count": 104,
   "metadata": {},
   "outputs": [],
   "source": [
    "a = zip(df[(df[\"prev_owner\"].isnull())&(df[\"km\"] < 1000)][\"prev_owner\"].index, df[(df[\"prev_owner\"].isnull())&(df[\"km\"] < 1000)][\"prev_owner\"].fillna(\"ahmet\"))\n"
   ]
  },
  {
   "cell_type": "code",
   "execution_count": 105,
   "metadata": {},
   "outputs": [
    {
     "data": {
      "text/plain": [
       "<zip at 0x13759a77040>"
      ]
     },
     "execution_count": 105,
     "metadata": {},
     "output_type": "execute_result"
    }
   ],
   "source": [
    "a"
   ]
  },
  {
   "cell_type": "code",
   "execution_count": 106,
   "metadata": {},
   "outputs": [],
   "source": [
    "# df[\"prev_owner\"].map(dict(a))"
   ]
  },
  {
   "cell_type": "code",
   "execution_count": 107,
   "metadata": {},
   "outputs": [
    {
     "data": {
      "text/plain": [
       "1 previous owner     8294\n",
       "NaN                  6828\n",
       "2 previous owners     778\n",
       "3 previous owners      17\n",
       "4 previous owners       2\n",
       "Name: prev_owner, dtype: int64"
      ]
     },
     "execution_count": 107,
     "metadata": {},
     "output_type": "execute_result"
    }
   ],
   "source": [
    "df.prev_owner.value_counts(dropna= False)"
   ]
  },
  {
   "cell_type": "code",
   "execution_count": 108,
   "metadata": {},
   "outputs": [],
   "source": [
    "newcarindx= list(df[(df[\"prev_owner\"].isnull())&(df[\"km\"] <= 1000)].index)\n",
    "newcarindx1= list(df[(df[\"prev_owner\"].isnull())&(df[\"km\"] > 1000)].index)"
   ]
  },
  {
   "cell_type": "code",
   "execution_count": 109,
   "metadata": {},
   "outputs": [],
   "source": [
    "df.loc[newcarindx, \"prev_owner\"] =  df.loc[newcarindx, \"prev_owner\"].apply(lambda x :\"0\")\n",
    "df.loc[newcarindx1, \"prev_owner\"] =  df.loc[newcarindx1, \"prev_owner\"].apply(lambda x :\"1 previous owner\")"
   ]
  },
  {
   "cell_type": "code",
   "execution_count": 110,
   "metadata": {},
   "outputs": [
    {
     "data": {
      "text/plain": [
       "1 previous owner     12451\n",
       "0                     2671\n",
       "2 previous owners      778\n",
       "3 previous owners       17\n",
       "4 previous owners        2\n",
       "Name: prev_owner, dtype: int64"
      ]
     },
     "execution_count": 110,
     "metadata": {},
     "output_type": "execute_result"
    }
   ],
   "source": [
    "df.prev_owner.value_counts(dropna= False)"
   ]
  },
  {
   "cell_type": "code",
   "execution_count": 111,
   "metadata": {},
   "outputs": [],
   "source": [
    "a = tuple(df.prev_owner.str.split(\" \"))"
   ]
  },
  {
   "cell_type": "code",
   "execution_count": 112,
   "metadata": {},
   "outputs": [
    {
     "data": {
      "text/plain": [
       "15919"
      ]
     },
     "execution_count": 112,
     "metadata": {},
     "output_type": "execute_result"
    }
   ],
   "source": [
    "len(a)"
   ]
  },
  {
   "cell_type": "code",
   "execution_count": 113,
   "metadata": {},
   "outputs": [
    {
     "data": {
      "text/plain": [
       "2"
      ]
     },
     "execution_count": 113,
     "metadata": {},
     "output_type": "execute_result"
    }
   ],
   "source": [
    "ownerlst = []\n",
    "for x in range (len(a)):\n",
    "    ownerlst.append(int(a[x][0]))\n",
    "ownerlst[0]    "
   ]
  },
  {
   "cell_type": "code",
   "execution_count": 114,
   "metadata": {},
   "outputs": [],
   "source": [
    "df.prev_owner = ownerlst"
   ]
  },
  {
   "cell_type": "code",
   "execution_count": 115,
   "metadata": {},
   "outputs": [
    {
     "data": {
      "text/html": [
       "<div>\n",
       "<style scoped>\n",
       "    .dataframe tbody tr th:only-of-type {\n",
       "        vertical-align: middle;\n",
       "    }\n",
       "\n",
       "    .dataframe tbody tr th {\n",
       "        vertical-align: top;\n",
       "    }\n",
       "\n",
       "    .dataframe thead th {\n",
       "        text-align: right;\n",
       "    }\n",
       "</style>\n",
       "<table border=\"1\" class=\"dataframe\">\n",
       "  <thead>\n",
       "    <tr style=\"text-align: right;\">\n",
       "      <th></th>\n",
       "      <th>make_model</th>\n",
       "      <th>body_type</th>\n",
       "      <th>price</th>\n",
       "      <th>vat</th>\n",
       "      <th>km</th>\n",
       "      <th>prev_owner</th>\n",
       "      <th>hp</th>\n",
       "      <th>Body Color</th>\n",
       "      <th>Paint Type</th>\n",
       "      <th>Upholstery</th>\n",
       "      <th>Nr. of Doors</th>\n",
       "      <th>Nr. of Seats</th>\n",
       "      <th>Gearing Type</th>\n",
       "      <th>Displacement</th>\n",
       "      <th>Cylinders</th>\n",
       "      <th>Drive chain</th>\n",
       "      <th>Fuel</th>\n",
       "      <th>Consumption</th>\n",
       "      <th>Emission Class</th>\n",
       "      <th>\\nComfort &amp; Convenience\\n</th>\n",
       "      <th>\\nEntertainment &amp; Media\\n</th>\n",
       "      <th>\\nExtras\\n</th>\n",
       "      <th>\\nSafety &amp; Security\\n</th>\n",
       "      <th>Gears</th>\n",
       "      <th>age</th>\n",
       "    </tr>\n",
       "  </thead>\n",
       "  <tbody>\n",
       "    <tr>\n",
       "      <th>0</th>\n",
       "      <td>Audi A1</td>\n",
       "      <td>Sedans</td>\n",
       "      <td>15770</td>\n",
       "      <td>True</td>\n",
       "      <td>56013</td>\n",
       "      <td>2</td>\n",
       "      <td>66 kW</td>\n",
       "      <td>[\\n, Black, \\n]</td>\n",
       "      <td>[\\nMetallic\\n]</td>\n",
       "      <td>[\\nCloth, Black\\n]</td>\n",
       "      <td>[\\n5\\n]</td>\n",
       "      <td>[\\n5\\n]</td>\n",
       "      <td>[\\n, Automatic, \\n]</td>\n",
       "      <td>[\\n1,422 cc\\n]</td>\n",
       "      <td>[\\n3\\n]</td>\n",
       "      <td>[\\nfront\\n]</td>\n",
       "      <td>[\\n, Diesel (Particulate Filter), \\n]</td>\n",
       "      <td>[[3.8 l/100 km (comb)], [4.3 l/100 km (city)],...</td>\n",
       "      <td>[\\nEuro 6\\n]</td>\n",
       "      <td>[Air conditioning, Armrest, Automatic climate ...</td>\n",
       "      <td>[Bluetooth, Hands-free equipment, On-board com...</td>\n",
       "      <td>[Alloy wheels, Catalytic Converter, Voice Cont...</td>\n",
       "      <td>[ABS, Central door lock, Daytime running light...</td>\n",
       "      <td>NaN</td>\n",
       "      <td>4</td>\n",
       "    </tr>\n",
       "    <tr>\n",
       "      <th>1</th>\n",
       "      <td>Audi A1</td>\n",
       "      <td>Sedans</td>\n",
       "      <td>14500</td>\n",
       "      <td>True</td>\n",
       "      <td>80000</td>\n",
       "      <td>1</td>\n",
       "      <td>141 kW</td>\n",
       "      <td>[\\n, Red, \\n]</td>\n",
       "      <td>NaN</td>\n",
       "      <td>[\\nCloth, Grey\\n]</td>\n",
       "      <td>[\\n3\\n]</td>\n",
       "      <td>[\\n4\\n]</td>\n",
       "      <td>[\\n, Automatic, \\n]</td>\n",
       "      <td>[\\n1,798 cc\\n]</td>\n",
       "      <td>[\\n4\\n]</td>\n",
       "      <td>[\\nfront\\n]</td>\n",
       "      <td>[\\n, Gasoline, \\n]</td>\n",
       "      <td>[[5.6 l/100 km (comb)], [7.1 l/100 km (city)],...</td>\n",
       "      <td>[\\nEuro 6\\n]</td>\n",
       "      <td>[Air conditioning, Automatic climate control, ...</td>\n",
       "      <td>[Bluetooth, Hands-free equipment, On-board com...</td>\n",
       "      <td>[Alloy wheels, Sport seats, Sport suspension, ...</td>\n",
       "      <td>[ABS, Central door lock, Central door lock wit...</td>\n",
       "      <td>[\\n7\\n]</td>\n",
       "      <td>3</td>\n",
       "    </tr>\n",
       "    <tr>\n",
       "      <th>2</th>\n",
       "      <td>Audi A1</td>\n",
       "      <td>Sedans</td>\n",
       "      <td>14640</td>\n",
       "      <td>True</td>\n",
       "      <td>83450</td>\n",
       "      <td>1</td>\n",
       "      <td>85 kW</td>\n",
       "      <td>[\\n, Black, \\n]</td>\n",
       "      <td>[\\nMetallic\\n]</td>\n",
       "      <td>[\\nCloth, Black\\n]</td>\n",
       "      <td>[\\n4\\n]</td>\n",
       "      <td>[\\n4\\n]</td>\n",
       "      <td>[\\n, Automatic, \\n]</td>\n",
       "      <td>[\\n1,598 cc\\n]</td>\n",
       "      <td>NaN</td>\n",
       "      <td>[\\nfront\\n]</td>\n",
       "      <td>[\\n, Diesel (Particulate Filter), \\n]</td>\n",
       "      <td>[[3.8 l/100 km (comb)], [4.4 l/100 km (city)],...</td>\n",
       "      <td>[\\nEuro 6\\n]</td>\n",
       "      <td>[Air conditioning, Cruise control, Electrical ...</td>\n",
       "      <td>[MP3, On-board computer]</td>\n",
       "      <td>[Alloy wheels, Voice Control]</td>\n",
       "      <td>[ABS, Central door lock, Daytime running light...</td>\n",
       "      <td>NaN</td>\n",
       "      <td>4</td>\n",
       "    </tr>\n",
       "    <tr>\n",
       "      <th>3</th>\n",
       "      <td>Audi A1</td>\n",
       "      <td>Sedans</td>\n",
       "      <td>14500</td>\n",
       "      <td>False</td>\n",
       "      <td>73000</td>\n",
       "      <td>1</td>\n",
       "      <td>66 kW</td>\n",
       "      <td>[\\n, Brown, \\n]</td>\n",
       "      <td>[\\nMetallic\\n]</td>\n",
       "      <td>NaN</td>\n",
       "      <td>[\\n3\\n]</td>\n",
       "      <td>[\\n4\\n]</td>\n",
       "      <td>[\\n, Automatic, \\n]</td>\n",
       "      <td>[\\n1,422 cc\\n]</td>\n",
       "      <td>[\\n3\\n]</td>\n",
       "      <td>NaN</td>\n",
       "      <td>[\\n, Diesel (Particulate Filter), \\n]</td>\n",
       "      <td>[[3.8 l/100 km (comb)], [4.3 l/100 km (city)],...</td>\n",
       "      <td>[\\nEuro 6\\n]</td>\n",
       "      <td>[Air suspension, Armrest, Auxiliary heating, E...</td>\n",
       "      <td>[Bluetooth, CD player, Hands-free equipment, M...</td>\n",
       "      <td>[Alloy wheels, Sport seats, Voice Control]</td>\n",
       "      <td>[ABS, Alarm system, Central door lock with rem...</td>\n",
       "      <td>[\\n6\\n]</td>\n",
       "      <td>4</td>\n",
       "    </tr>\n",
       "    <tr>\n",
       "      <th>4</th>\n",
       "      <td>Audi A1</td>\n",
       "      <td>Sedans</td>\n",
       "      <td>16790</td>\n",
       "      <td>False</td>\n",
       "      <td>16200</td>\n",
       "      <td>1</td>\n",
       "      <td>66 kW</td>\n",
       "      <td>[\\n, Black, \\n]</td>\n",
       "      <td>[\\nMetallic\\n]</td>\n",
       "      <td>[\\nCloth, Black\\n]</td>\n",
       "      <td>[\\n5\\n]</td>\n",
       "      <td>[\\n5\\n]</td>\n",
       "      <td>[\\n, Automatic, \\n]</td>\n",
       "      <td>[\\n1,422 cc\\n]</td>\n",
       "      <td>[\\n3\\n]</td>\n",
       "      <td>[\\nfront\\n]</td>\n",
       "      <td>[\\n, Diesel (Particulate Filter), \\n]</td>\n",
       "      <td>[[4.1 l/100 km (comb)], [4.6 l/100 km (city)],...</td>\n",
       "      <td>[\\nEuro 6\\n]</td>\n",
       "      <td>[Air conditioning, Armrest, Automatic climate ...</td>\n",
       "      <td>[Bluetooth, CD player, Hands-free equipment, M...</td>\n",
       "      <td>[Alloy wheels, Sport package, Sport suspension...</td>\n",
       "      <td>[ABS, Central door lock, Driver-side airbag, E...</td>\n",
       "      <td>NaN</td>\n",
       "      <td>4</td>\n",
       "    </tr>\n",
       "  </tbody>\n",
       "</table>\n",
       "</div>"
      ],
      "text/plain": [
       "  make_model body_type  price    vat     km  prev_owner      hp  \\\n",
       "0    Audi A1    Sedans  15770   True  56013           2   66 kW   \n",
       "1    Audi A1    Sedans  14500   True  80000           1  141 kW   \n",
       "2    Audi A1    Sedans  14640   True  83450           1   85 kW   \n",
       "3    Audi A1    Sedans  14500  False  73000           1   66 kW   \n",
       "4    Audi A1    Sedans  16790  False  16200           1   66 kW   \n",
       "\n",
       "        Body Color      Paint Type          Upholstery Nr. of Doors  \\\n",
       "0  [\\n, Black, \\n]  [\\nMetallic\\n]  [\\nCloth, Black\\n]      [\\n5\\n]   \n",
       "1    [\\n, Red, \\n]             NaN   [\\nCloth, Grey\\n]      [\\n3\\n]   \n",
       "2  [\\n, Black, \\n]  [\\nMetallic\\n]  [\\nCloth, Black\\n]      [\\n4\\n]   \n",
       "3  [\\n, Brown, \\n]  [\\nMetallic\\n]                 NaN      [\\n3\\n]   \n",
       "4  [\\n, Black, \\n]  [\\nMetallic\\n]  [\\nCloth, Black\\n]      [\\n5\\n]   \n",
       "\n",
       "  Nr. of Seats         Gearing Type    Displacement Cylinders  Drive chain  \\\n",
       "0      [\\n5\\n]  [\\n, Automatic, \\n]  [\\n1,422 cc\\n]   [\\n3\\n]  [\\nfront\\n]   \n",
       "1      [\\n4\\n]  [\\n, Automatic, \\n]  [\\n1,798 cc\\n]   [\\n4\\n]  [\\nfront\\n]   \n",
       "2      [\\n4\\n]  [\\n, Automatic, \\n]  [\\n1,598 cc\\n]       NaN  [\\nfront\\n]   \n",
       "3      [\\n4\\n]  [\\n, Automatic, \\n]  [\\n1,422 cc\\n]   [\\n3\\n]          NaN   \n",
       "4      [\\n5\\n]  [\\n, Automatic, \\n]  [\\n1,422 cc\\n]   [\\n3\\n]  [\\nfront\\n]   \n",
       "\n",
       "                                    Fuel  \\\n",
       "0  [\\n, Diesel (Particulate Filter), \\n]   \n",
       "1                     [\\n, Gasoline, \\n]   \n",
       "2  [\\n, Diesel (Particulate Filter), \\n]   \n",
       "3  [\\n, Diesel (Particulate Filter), \\n]   \n",
       "4  [\\n, Diesel (Particulate Filter), \\n]   \n",
       "\n",
       "                                         Consumption Emission Class  \\\n",
       "0  [[3.8 l/100 km (comb)], [4.3 l/100 km (city)],...   [\\nEuro 6\\n]   \n",
       "1  [[5.6 l/100 km (comb)], [7.1 l/100 km (city)],...   [\\nEuro 6\\n]   \n",
       "2  [[3.8 l/100 km (comb)], [4.4 l/100 km (city)],...   [\\nEuro 6\\n]   \n",
       "3  [[3.8 l/100 km (comb)], [4.3 l/100 km (city)],...   [\\nEuro 6\\n]   \n",
       "4  [[4.1 l/100 km (comb)], [4.6 l/100 km (city)],...   [\\nEuro 6\\n]   \n",
       "\n",
       "                           \\nComfort & Convenience\\n  \\\n",
       "0  [Air conditioning, Armrest, Automatic climate ...   \n",
       "1  [Air conditioning, Automatic climate control, ...   \n",
       "2  [Air conditioning, Cruise control, Electrical ...   \n",
       "3  [Air suspension, Armrest, Auxiliary heating, E...   \n",
       "4  [Air conditioning, Armrest, Automatic climate ...   \n",
       "\n",
       "                           \\nEntertainment & Media\\n  \\\n",
       "0  [Bluetooth, Hands-free equipment, On-board com...   \n",
       "1  [Bluetooth, Hands-free equipment, On-board com...   \n",
       "2                           [MP3, On-board computer]   \n",
       "3  [Bluetooth, CD player, Hands-free equipment, M...   \n",
       "4  [Bluetooth, CD player, Hands-free equipment, M...   \n",
       "\n",
       "                                          \\nExtras\\n  \\\n",
       "0  [Alloy wheels, Catalytic Converter, Voice Cont...   \n",
       "1  [Alloy wheels, Sport seats, Sport suspension, ...   \n",
       "2                      [Alloy wheels, Voice Control]   \n",
       "3         [Alloy wheels, Sport seats, Voice Control]   \n",
       "4  [Alloy wheels, Sport package, Sport suspension...   \n",
       "\n",
       "                               \\nSafety & Security\\n    Gears  age  \n",
       "0  [ABS, Central door lock, Daytime running light...      NaN    4  \n",
       "1  [ABS, Central door lock, Central door lock wit...  [\\n7\\n]    3  \n",
       "2  [ABS, Central door lock, Daytime running light...      NaN    4  \n",
       "3  [ABS, Alarm system, Central door lock with rem...  [\\n6\\n]    4  \n",
       "4  [ABS, Central door lock, Driver-side airbag, E...      NaN    4  "
      ]
     },
     "execution_count": 115,
     "metadata": {},
     "output_type": "execute_result"
    }
   ],
   "source": [
    "df.head()"
   ]
  },
  {
   "cell_type": "code",
   "execution_count": 116,
   "metadata": {},
   "outputs": [
    {
     "name": "stdout",
     "output_type": "stream",
     "text": [
      "<class 'pandas.core.frame.DataFrame'>\n",
      "RangeIndex: 15919 entries, 0 to 15918\n",
      "Data columns (total 25 columns):\n",
      " #   Column                   Non-Null Count  Dtype \n",
      "---  ------                   --------------  ----- \n",
      " 0   make_model               15919 non-null  object\n",
      " 1   body_type                15919 non-null  object\n",
      " 2   price                    15919 non-null  int64 \n",
      " 3   vat                      15919 non-null  bool  \n",
      " 4   km                       15919 non-null  int64 \n",
      " 5   prev_owner               15919 non-null  int64 \n",
      " 6   hp                       15919 non-null  object\n",
      " 7   Body Color               15322 non-null  object\n",
      " 8   Paint Type               10147 non-null  object\n",
      " 9   Upholstery               12199 non-null  object\n",
      " 10  Nr. of Doors             15707 non-null  object\n",
      " 11  Nr. of Seats             14942 non-null  object\n",
      " 12  Gearing Type             15919 non-null  object\n",
      " 13  Displacement             15423 non-null  object\n",
      " 14  Cylinders                10239 non-null  object\n",
      " 15  Drive chain              9061 non-null   object\n",
      " 16  Fuel                     15919 non-null  object\n",
      " 17  Consumption              14013 non-null  object\n",
      " 18  Emission Class           12898 non-null  object\n",
      " 19  \n",
      "Comfort & Convenience\n",
      "  14999 non-null  object\n",
      " 20  \n",
      "Entertainment & Media\n",
      "  14545 non-null  object\n",
      " 21  \n",
      "Extras\n",
      "                 12957 non-null  object\n",
      " 22  \n",
      "Safety & Security\n",
      "      14937 non-null  object\n",
      " 23  Gears                    11207 non-null  object\n",
      " 24  age                      15919 non-null  int64 \n",
      "dtypes: bool(1), int64(4), object(20)\n",
      "memory usage: 2.9+ MB\n"
     ]
    }
   ],
   "source": [
    "df.info()"
   ]
  },
  {
   "cell_type": "code",
   "execution_count": 117,
   "metadata": {},
   "outputs": [
    {
     "data": {
      "text/plain": [
       "85 kW     2542\n",
       "66 kW     2122\n",
       "81 kW     1402\n",
       "100 kW    1308\n",
       "110 kW    1112\n",
       "          ... \n",
       "4 kW         1\n",
       "75 kW        1\n",
       "132 kW       1\n",
       "115 kW       1\n",
       "84 kW        1\n",
       "Name: hp, Length: 81, dtype: int64"
      ]
     },
     "execution_count": 117,
     "metadata": {},
     "output_type": "execute_result"
    }
   ],
   "source": [
    "df.hp.value_counts(dropna=False)"
   ]
  },
  {
   "cell_type": "code",
   "execution_count": 118,
   "metadata": {},
   "outputs": [
    {
     "data": {
      "text/plain": [
       "0"
      ]
     },
     "execution_count": 118,
     "metadata": {},
     "output_type": "execute_result"
    }
   ],
   "source": [
    "df.hp.isnull().sum()"
   ]
  },
  {
   "cell_type": "code",
   "execution_count": null,
   "metadata": {},
   "outputs": [],
   "source": []
  },
  {
   "cell_type": "code",
   "execution_count": 119,
   "metadata": {
    "scrolled": true
   },
   "outputs": [
    {
     "data": {
      "text/html": [
       "<div>\n",
       "<style scoped>\n",
       "    .dataframe tbody tr th:only-of-type {\n",
       "        vertical-align: middle;\n",
       "    }\n",
       "\n",
       "    .dataframe tbody tr th {\n",
       "        vertical-align: top;\n",
       "    }\n",
       "\n",
       "    .dataframe thead th {\n",
       "        text-align: right;\n",
       "    }\n",
       "</style>\n",
       "<table border=\"1\" class=\"dataframe\">\n",
       "  <thead>\n",
       "    <tr style=\"text-align: right;\">\n",
       "      <th></th>\n",
       "      <th>make_model</th>\n",
       "      <th>body_type</th>\n",
       "      <th>price</th>\n",
       "      <th>vat</th>\n",
       "      <th>km</th>\n",
       "      <th>prev_owner</th>\n",
       "      <th>hp</th>\n",
       "      <th>Body Color</th>\n",
       "      <th>Paint Type</th>\n",
       "      <th>Upholstery</th>\n",
       "      <th>Nr. of Doors</th>\n",
       "      <th>Nr. of Seats</th>\n",
       "      <th>Gearing Type</th>\n",
       "      <th>Displacement</th>\n",
       "      <th>Cylinders</th>\n",
       "      <th>Drive chain</th>\n",
       "      <th>Fuel</th>\n",
       "      <th>Consumption</th>\n",
       "      <th>Emission Class</th>\n",
       "      <th>\\nComfort &amp; Convenience\\n</th>\n",
       "      <th>\\nEntertainment &amp; Media\\n</th>\n",
       "      <th>\\nExtras\\n</th>\n",
       "      <th>\\nSafety &amp; Security\\n</th>\n",
       "      <th>Gears</th>\n",
       "      <th>age</th>\n",
       "    </tr>\n",
       "  </thead>\n",
       "  <tbody>\n",
       "    <tr>\n",
       "      <th>1269</th>\n",
       "      <td>Audi A1</td>\n",
       "      <td>Compact</td>\n",
       "      <td>15500</td>\n",
       "      <td>False</td>\n",
       "      <td>11284</td>\n",
       "      <td>1</td>\n",
       "      <td>- kW</td>\n",
       "      <td>[\\n, Blue, \\n]</td>\n",
       "      <td>NaN</td>\n",
       "      <td>NaN</td>\n",
       "      <td>[\\n5\\n]</td>\n",
       "      <td>NaN</td>\n",
       "      <td>[\\n, Manual, \\n]</td>\n",
       "      <td>NaN</td>\n",
       "      <td>NaN</td>\n",
       "      <td>NaN</td>\n",
       "      <td>[\\n, Diesel, \\n]</td>\n",
       "      <td>NaN</td>\n",
       "      <td>NaN</td>\n",
       "      <td>NaN</td>\n",
       "      <td>NaN</td>\n",
       "      <td>NaN</td>\n",
       "      <td>NaN</td>\n",
       "      <td>NaN</td>\n",
       "      <td>2</td>\n",
       "    </tr>\n",
       "    <tr>\n",
       "      <th>2500</th>\n",
       "      <td>Audi A1</td>\n",
       "      <td>Compact</td>\n",
       "      <td>22750</td>\n",
       "      <td>True</td>\n",
       "      <td>10</td>\n",
       "      <td>0</td>\n",
       "      <td>- kW</td>\n",
       "      <td>[\\n, White, \\n]</td>\n",
       "      <td>NaN</td>\n",
       "      <td>[\\nOther, Black\\n]</td>\n",
       "      <td>[\\n4\\n]</td>\n",
       "      <td>[\\n5\\n]</td>\n",
       "      <td>[\\n, Manual, \\n]</td>\n",
       "      <td>[\\n999 cc\\n]</td>\n",
       "      <td>[\\n3\\n]</td>\n",
       "      <td>[\\nfront\\n]</td>\n",
       "      <td>[\\n, Super 95, \\n]</td>\n",
       "      <td>[[4.7 l/100 km (comb)], [5.9 l/100 km (city)],...</td>\n",
       "      <td>[\\nEuro 6\\n]</td>\n",
       "      <td>[Air conditioning, Armrest, Automatic climate ...</td>\n",
       "      <td>[Bluetooth, CD player, Hands-free equipment, M...</td>\n",
       "      <td>[Touch screen, Voice Control]</td>\n",
       "      <td>[ABS, Central door lock, Daytime running light...</td>\n",
       "      <td>[\\n5\\n]</td>\n",
       "      <td>0</td>\n",
       "    </tr>\n",
       "    <tr>\n",
       "      <th>4259</th>\n",
       "      <td>Audi A3</td>\n",
       "      <td>Compact</td>\n",
       "      <td>18700</td>\n",
       "      <td>False</td>\n",
       "      <td>16316</td>\n",
       "      <td>1</td>\n",
       "      <td>- kW</td>\n",
       "      <td>[\\n, Grey, \\n]</td>\n",
       "      <td>NaN</td>\n",
       "      <td>NaN</td>\n",
       "      <td>[\\n5\\n]</td>\n",
       "      <td>NaN</td>\n",
       "      <td>[\\n, Manual, \\n]</td>\n",
       "      <td>NaN</td>\n",
       "      <td>NaN</td>\n",
       "      <td>NaN</td>\n",
       "      <td>[\\n, Diesel, \\n]</td>\n",
       "      <td>NaN</td>\n",
       "      <td>NaN</td>\n",
       "      <td>NaN</td>\n",
       "      <td>NaN</td>\n",
       "      <td>NaN</td>\n",
       "      <td>NaN</td>\n",
       "      <td>NaN</td>\n",
       "      <td>2</td>\n",
       "    </tr>\n",
       "    <tr>\n",
       "      <th>7177</th>\n",
       "      <td>Opel Astra</td>\n",
       "      <td>Sedans</td>\n",
       "      <td>18200</td>\n",
       "      <td>True</td>\n",
       "      <td>3260</td>\n",
       "      <td>1</td>\n",
       "      <td>- kW</td>\n",
       "      <td>[\\n, Black, \\n]</td>\n",
       "      <td>[\\nUni/basic\\n]</td>\n",
       "      <td>[\\nCloth, Black\\n]</td>\n",
       "      <td>NaN</td>\n",
       "      <td>NaN</td>\n",
       "      <td>[\\n, Automatic, \\n]</td>\n",
       "      <td>NaN</td>\n",
       "      <td>NaN</td>\n",
       "      <td>NaN</td>\n",
       "      <td>[\\n, Gasoline, \\n]</td>\n",
       "      <td>NaN</td>\n",
       "      <td>NaN</td>\n",
       "      <td>[Air conditioning, Cruise control, Electrical ...</td>\n",
       "      <td>[Bluetooth, MP3, On-board computer]</td>\n",
       "      <td>[Alloy wheels]</td>\n",
       "      <td>[ABS, Central door lock, Driver-side airbag, E...</td>\n",
       "      <td>NaN</td>\n",
       "      <td>1</td>\n",
       "    </tr>\n",
       "    <tr>\n",
       "      <th>7670</th>\n",
       "      <td>Opel Astra</td>\n",
       "      <td>Compact</td>\n",
       "      <td>31246</td>\n",
       "      <td>True</td>\n",
       "      <td>10</td>\n",
       "      <td>0</td>\n",
       "      <td>- kW</td>\n",
       "      <td>[\\n, Grey, \\n]</td>\n",
       "      <td>[\\nMetallic\\n]</td>\n",
       "      <td>[\\nCloth, Black\\n]</td>\n",
       "      <td>[\\n5\\n]</td>\n",
       "      <td>[\\n5\\n]</td>\n",
       "      <td>[\\n, Automatic, \\n]</td>\n",
       "      <td>[\\n1,398 cc\\n]</td>\n",
       "      <td>[\\n4\\n]</td>\n",
       "      <td>NaN</td>\n",
       "      <td>[\\n, Gasoline, \\n]</td>\n",
       "      <td>NaN</td>\n",
       "      <td>NaN</td>\n",
       "      <td>[Air conditioning, Armrest, Automatic climate ...</td>\n",
       "      <td>[Hands-free equipment, On-board computer, Radio]</td>\n",
       "      <td>[Touch screen]</td>\n",
       "      <td>[Central door lock, Daytime running lights, Dr...</td>\n",
       "      <td>[\\n6\\n]</td>\n",
       "      <td>1</td>\n",
       "    </tr>\n",
       "    <tr>\n",
       "      <th>...</th>\n",
       "      <td>...</td>\n",
       "      <td>...</td>\n",
       "      <td>...</td>\n",
       "      <td>...</td>\n",
       "      <td>...</td>\n",
       "      <td>...</td>\n",
       "      <td>...</td>\n",
       "      <td>...</td>\n",
       "      <td>...</td>\n",
       "      <td>...</td>\n",
       "      <td>...</td>\n",
       "      <td>...</td>\n",
       "      <td>...</td>\n",
       "      <td>...</td>\n",
       "      <td>...</td>\n",
       "      <td>...</td>\n",
       "      <td>...</td>\n",
       "      <td>...</td>\n",
       "      <td>...</td>\n",
       "      <td>...</td>\n",
       "      <td>...</td>\n",
       "      <td>...</td>\n",
       "      <td>...</td>\n",
       "      <td>...</td>\n",
       "      <td>...</td>\n",
       "    </tr>\n",
       "    <tr>\n",
       "      <th>15641</th>\n",
       "      <td>Renault Espace</td>\n",
       "      <td>Van</td>\n",
       "      <td>29300</td>\n",
       "      <td>True</td>\n",
       "      <td>56585</td>\n",
       "      <td>1</td>\n",
       "      <td>- kW</td>\n",
       "      <td>[\\n, Grey, \\n]</td>\n",
       "      <td>NaN</td>\n",
       "      <td>NaN</td>\n",
       "      <td>[\\n5\\n]</td>\n",
       "      <td>NaN</td>\n",
       "      <td>[\\n, Automatic, \\n]</td>\n",
       "      <td>NaN</td>\n",
       "      <td>NaN</td>\n",
       "      <td>NaN</td>\n",
       "      <td>[\\n, Diesel, \\n]</td>\n",
       "      <td>[[4.6 l/100 km (comb)], [], []]</td>\n",
       "      <td>NaN</td>\n",
       "      <td>[Cruise control, Power windows]</td>\n",
       "      <td>NaN</td>\n",
       "      <td>[Alloy wheels]</td>\n",
       "      <td>[ABS, Driver-side airbag, Passenger-side airba...</td>\n",
       "      <td>NaN</td>\n",
       "      <td>3</td>\n",
       "    </tr>\n",
       "    <tr>\n",
       "      <th>15647</th>\n",
       "      <td>Renault Espace</td>\n",
       "      <td>Van</td>\n",
       "      <td>28490</td>\n",
       "      <td>True</td>\n",
       "      <td>51776</td>\n",
       "      <td>1</td>\n",
       "      <td>- kW</td>\n",
       "      <td>[\\n, Violet, \\n]</td>\n",
       "      <td>[\\nMetallic\\n]</td>\n",
       "      <td>NaN</td>\n",
       "      <td>[\\n5\\n]</td>\n",
       "      <td>NaN</td>\n",
       "      <td>[\\n, Automatic, \\n]</td>\n",
       "      <td>NaN</td>\n",
       "      <td>NaN</td>\n",
       "      <td>NaN</td>\n",
       "      <td>[\\n, Diesel, \\n]</td>\n",
       "      <td>[[4.6 l/100 km (comb)], [], []]</td>\n",
       "      <td>NaN</td>\n",
       "      <td>NaN</td>\n",
       "      <td>NaN</td>\n",
       "      <td>NaN</td>\n",
       "      <td>NaN</td>\n",
       "      <td>NaN</td>\n",
       "      <td>3</td>\n",
       "    </tr>\n",
       "    <tr>\n",
       "      <th>15684</th>\n",
       "      <td>Renault Espace</td>\n",
       "      <td>Van</td>\n",
       "      <td>38900</td>\n",
       "      <td>True</td>\n",
       "      <td>3000</td>\n",
       "      <td>1</td>\n",
       "      <td>- kW</td>\n",
       "      <td>[\\n, Grey, \\n]</td>\n",
       "      <td>NaN</td>\n",
       "      <td>NaN</td>\n",
       "      <td>[\\n5\\n]</td>\n",
       "      <td>NaN</td>\n",
       "      <td>[\\n, Automatic, \\n]</td>\n",
       "      <td>NaN</td>\n",
       "      <td>NaN</td>\n",
       "      <td>NaN</td>\n",
       "      <td>[\\n, Gasoline, \\n]</td>\n",
       "      <td>[[7.4 l/100 km (comb)], [], []]</td>\n",
       "      <td>NaN</td>\n",
       "      <td>[Cruise control, Power windows]</td>\n",
       "      <td>NaN</td>\n",
       "      <td>[Alloy wheels]</td>\n",
       "      <td>[ABS, Driver-side airbag, Passenger-side airba...</td>\n",
       "      <td>NaN</td>\n",
       "      <td>1</td>\n",
       "    </tr>\n",
       "    <tr>\n",
       "      <th>15791</th>\n",
       "      <td>Renault Espace</td>\n",
       "      <td>Van</td>\n",
       "      <td>33990</td>\n",
       "      <td>True</td>\n",
       "      <td>10803</td>\n",
       "      <td>1</td>\n",
       "      <td>- kW</td>\n",
       "      <td>[\\n, Grey, \\n]</td>\n",
       "      <td>NaN</td>\n",
       "      <td>NaN</td>\n",
       "      <td>[\\n5\\n]</td>\n",
       "      <td>NaN</td>\n",
       "      <td>[\\n, Automatic, \\n]</td>\n",
       "      <td>NaN</td>\n",
       "      <td>NaN</td>\n",
       "      <td>NaN</td>\n",
       "      <td>[\\n, Diesel, \\n]</td>\n",
       "      <td>[[4.6 l/100 km (comb)], [], []]</td>\n",
       "      <td>NaN</td>\n",
       "      <td>NaN</td>\n",
       "      <td>NaN</td>\n",
       "      <td>NaN</td>\n",
       "      <td>NaN</td>\n",
       "      <td>NaN</td>\n",
       "      <td>2</td>\n",
       "    </tr>\n",
       "    <tr>\n",
       "      <th>15906</th>\n",
       "      <td>Renault Espace</td>\n",
       "      <td>Van</td>\n",
       "      <td>39990</td>\n",
       "      <td>True</td>\n",
       "      <td>10</td>\n",
       "      <td>0</td>\n",
       "      <td>- kW</td>\n",
       "      <td>[\\n, White, \\n]</td>\n",
       "      <td>NaN</td>\n",
       "      <td>NaN</td>\n",
       "      <td>[\\n5\\n]</td>\n",
       "      <td>NaN</td>\n",
       "      <td>[\\n, Automatic, \\n]</td>\n",
       "      <td>NaN</td>\n",
       "      <td>NaN</td>\n",
       "      <td>NaN</td>\n",
       "      <td>[\\n, Gasoline, \\n]</td>\n",
       "      <td>[[7.4 l/100 km (comb)], [], []]</td>\n",
       "      <td>NaN</td>\n",
       "      <td>[Cruise control, Power windows]</td>\n",
       "      <td>NaN</td>\n",
       "      <td>[Alloy wheels]</td>\n",
       "      <td>[ABS, Driver-side airbag, Passenger-side airba...</td>\n",
       "      <td>NaN</td>\n",
       "      <td>1</td>\n",
       "    </tr>\n",
       "  </tbody>\n",
       "</table>\n",
       "<p>88 rows × 25 columns</p>\n",
       "</div>"
      ],
      "text/plain": [
       "           make_model body_type  price    vat     km  prev_owner    hp  \\\n",
       "1269          Audi A1   Compact  15500  False  11284           1  - kW   \n",
       "2500          Audi A1   Compact  22750   True     10           0  - kW   \n",
       "4259          Audi A3   Compact  18700  False  16316           1  - kW   \n",
       "7177       Opel Astra    Sedans  18200   True   3260           1  - kW   \n",
       "7670       Opel Astra   Compact  31246   True     10           0  - kW   \n",
       "...               ...       ...    ...    ...    ...         ...   ...   \n",
       "15641  Renault Espace       Van  29300   True  56585           1  - kW   \n",
       "15647  Renault Espace       Van  28490   True  51776           1  - kW   \n",
       "15684  Renault Espace       Van  38900   True   3000           1  - kW   \n",
       "15791  Renault Espace       Van  33990   True  10803           1  - kW   \n",
       "15906  Renault Espace       Van  39990   True     10           0  - kW   \n",
       "\n",
       "             Body Color       Paint Type          Upholstery Nr. of Doors  \\\n",
       "1269     [\\n, Blue, \\n]              NaN                 NaN      [\\n5\\n]   \n",
       "2500    [\\n, White, \\n]              NaN  [\\nOther, Black\\n]      [\\n4\\n]   \n",
       "4259     [\\n, Grey, \\n]              NaN                 NaN      [\\n5\\n]   \n",
       "7177    [\\n, Black, \\n]  [\\nUni/basic\\n]  [\\nCloth, Black\\n]          NaN   \n",
       "7670     [\\n, Grey, \\n]   [\\nMetallic\\n]  [\\nCloth, Black\\n]      [\\n5\\n]   \n",
       "...                 ...              ...                 ...          ...   \n",
       "15641    [\\n, Grey, \\n]              NaN                 NaN      [\\n5\\n]   \n",
       "15647  [\\n, Violet, \\n]   [\\nMetallic\\n]                 NaN      [\\n5\\n]   \n",
       "15684    [\\n, Grey, \\n]              NaN                 NaN      [\\n5\\n]   \n",
       "15791    [\\n, Grey, \\n]              NaN                 NaN      [\\n5\\n]   \n",
       "15906   [\\n, White, \\n]              NaN                 NaN      [\\n5\\n]   \n",
       "\n",
       "      Nr. of Seats         Gearing Type    Displacement Cylinders  \\\n",
       "1269           NaN     [\\n, Manual, \\n]             NaN       NaN   \n",
       "2500       [\\n5\\n]     [\\n, Manual, \\n]    [\\n999 cc\\n]   [\\n3\\n]   \n",
       "4259           NaN     [\\n, Manual, \\n]             NaN       NaN   \n",
       "7177           NaN  [\\n, Automatic, \\n]             NaN       NaN   \n",
       "7670       [\\n5\\n]  [\\n, Automatic, \\n]  [\\n1,398 cc\\n]   [\\n4\\n]   \n",
       "...            ...                  ...             ...       ...   \n",
       "15641          NaN  [\\n, Automatic, \\n]             NaN       NaN   \n",
       "15647          NaN  [\\n, Automatic, \\n]             NaN       NaN   \n",
       "15684          NaN  [\\n, Automatic, \\n]             NaN       NaN   \n",
       "15791          NaN  [\\n, Automatic, \\n]             NaN       NaN   \n",
       "15906          NaN  [\\n, Automatic, \\n]             NaN       NaN   \n",
       "\n",
       "       Drive chain                Fuel  \\\n",
       "1269           NaN    [\\n, Diesel, \\n]   \n",
       "2500   [\\nfront\\n]  [\\n, Super 95, \\n]   \n",
       "4259           NaN    [\\n, Diesel, \\n]   \n",
       "7177           NaN  [\\n, Gasoline, \\n]   \n",
       "7670           NaN  [\\n, Gasoline, \\n]   \n",
       "...            ...                 ...   \n",
       "15641          NaN    [\\n, Diesel, \\n]   \n",
       "15647          NaN    [\\n, Diesel, \\n]   \n",
       "15684          NaN  [\\n, Gasoline, \\n]   \n",
       "15791          NaN    [\\n, Diesel, \\n]   \n",
       "15906          NaN  [\\n, Gasoline, \\n]   \n",
       "\n",
       "                                             Consumption Emission Class  \\\n",
       "1269                                                 NaN            NaN   \n",
       "2500   [[4.7 l/100 km (comb)], [5.9 l/100 km (city)],...   [\\nEuro 6\\n]   \n",
       "4259                                                 NaN            NaN   \n",
       "7177                                                 NaN            NaN   \n",
       "7670                                                 NaN            NaN   \n",
       "...                                                  ...            ...   \n",
       "15641                    [[4.6 l/100 km (comb)], [], []]            NaN   \n",
       "15647                    [[4.6 l/100 km (comb)], [], []]            NaN   \n",
       "15684                    [[7.4 l/100 km (comb)], [], []]            NaN   \n",
       "15791                    [[4.6 l/100 km (comb)], [], []]            NaN   \n",
       "15906                    [[7.4 l/100 km (comb)], [], []]            NaN   \n",
       "\n",
       "                               \\nComfort & Convenience\\n  \\\n",
       "1269                                                 NaN   \n",
       "2500   [Air conditioning, Armrest, Automatic climate ...   \n",
       "4259                                                 NaN   \n",
       "7177   [Air conditioning, Cruise control, Electrical ...   \n",
       "7670   [Air conditioning, Armrest, Automatic climate ...   \n",
       "...                                                  ...   \n",
       "15641                    [Cruise control, Power windows]   \n",
       "15647                                                NaN   \n",
       "15684                    [Cruise control, Power windows]   \n",
       "15791                                                NaN   \n",
       "15906                    [Cruise control, Power windows]   \n",
       "\n",
       "                               \\nEntertainment & Media\\n  \\\n",
       "1269                                                 NaN   \n",
       "2500   [Bluetooth, CD player, Hands-free equipment, M...   \n",
       "4259                                                 NaN   \n",
       "7177                 [Bluetooth, MP3, On-board computer]   \n",
       "7670    [Hands-free equipment, On-board computer, Radio]   \n",
       "...                                                  ...   \n",
       "15641                                                NaN   \n",
       "15647                                                NaN   \n",
       "15684                                                NaN   \n",
       "15791                                                NaN   \n",
       "15906                                                NaN   \n",
       "\n",
       "                          \\nExtras\\n  \\\n",
       "1269                             NaN   \n",
       "2500   [Touch screen, Voice Control]   \n",
       "4259                             NaN   \n",
       "7177                  [Alloy wheels]   \n",
       "7670                  [Touch screen]   \n",
       "...                              ...   \n",
       "15641                 [Alloy wheels]   \n",
       "15647                            NaN   \n",
       "15684                 [Alloy wheels]   \n",
       "15791                            NaN   \n",
       "15906                 [Alloy wheels]   \n",
       "\n",
       "                                   \\nSafety & Security\\n    Gears  age  \n",
       "1269                                                 NaN      NaN    2  \n",
       "2500   [ABS, Central door lock, Daytime running light...  [\\n5\\n]    0  \n",
       "4259                                                 NaN      NaN    2  \n",
       "7177   [ABS, Central door lock, Driver-side airbag, E...      NaN    1  \n",
       "7670   [Central door lock, Daytime running lights, Dr...  [\\n6\\n]    1  \n",
       "...                                                  ...      ...  ...  \n",
       "15641  [ABS, Driver-side airbag, Passenger-side airba...      NaN    3  \n",
       "15647                                                NaN      NaN    3  \n",
       "15684  [ABS, Driver-side airbag, Passenger-side airba...      NaN    1  \n",
       "15791                                                NaN      NaN    2  \n",
       "15906  [ABS, Driver-side airbag, Passenger-side airba...      NaN    1  \n",
       "\n",
       "[88 rows x 25 columns]"
      ]
     },
     "execution_count": 119,
     "metadata": {},
     "output_type": "execute_result"
    }
   ],
   "source": [
    "df[df[\"hp\"] == \"- kW\"]"
   ]
  },
  {
   "cell_type": "code",
   "execution_count": 120,
   "metadata": {},
   "outputs": [
    {
     "data": {
      "text/plain": [
       "'66 kW'"
      ]
     },
     "execution_count": 120,
     "metadata": {},
     "output_type": "execute_result"
    }
   ],
   "source": [
    "df.hp.iloc[0]"
   ]
  },
  {
   "cell_type": "code",
   "execution_count": 121,
   "metadata": {},
   "outputs": [],
   "source": [
    "df.hp = df[\"hp\"].str.strip(\" kW\")"
   ]
  },
  {
   "cell_type": "code",
   "execution_count": 122,
   "metadata": {},
   "outputs": [
    {
     "data": {
      "text/plain": [
       "85     2542\n",
       "66     2122\n",
       "81     1402\n",
       "100    1308\n",
       "110    1112\n",
       "       ... \n",
       "163       1\n",
       "195       1\n",
       "9         1\n",
       "239       1\n",
       "115       1\n",
       "Name: hp, Length: 81, dtype: int64"
      ]
     },
     "execution_count": 122,
     "metadata": {},
     "output_type": "execute_result"
    }
   ],
   "source": [
    "df.hp.value_counts(dropna=False)"
   ]
  },
  {
   "cell_type": "code",
   "execution_count": 123,
   "metadata": {},
   "outputs": [],
   "source": [
    "def fill_most(oto, group_col, col_name):\n",
    "    for group in list(oto[group_col].unique()):\n",
    "        grp_inx = list(oto[oto[group_col]==group][col_name].index)\n",
    "        oto[col_name].iloc[grp_inx] = oto[col_name].iloc[grp_inx].fillna(oto[oto[group_col]==group][col_name].mode())"
   ]
  },
  {
   "cell_type": "code",
   "execution_count": 124,
   "metadata": {},
   "outputs": [],
   "source": [
    "fill_most(df,\"make_model\",\"hp\")"
   ]
  },
  {
   "cell_type": "code",
   "execution_count": 125,
   "metadata": {},
   "outputs": [
    {
     "data": {
      "text/plain": [
       "Int64Index([ 1269,  2500,  4259,  7177,  7670,  8269, 10167, 10586, 10909,\n",
       "            10910, 11012, 11013, 11163, 11183, 11237, 12450, 12767, 13144,\n",
       "            13158, 13198, 13271, 13397, 13422, 13471, 13474, 13476, 13481,\n",
       "            13488, 13566, 13570, 13572, 13633, 13646, 13647, 13648, 13649,\n",
       "            13726, 13729, 13733, 13742, 13864, 13951, 14048, 14050, 14057,\n",
       "            14059, 14894, 14895, 14896, 14897, 14898, 14899, 14900, 14901,\n",
       "            14942, 14960, 14963, 15009, 15044, 15047, 15056, 15097, 15112,\n",
       "            15115, 15126, 15128, 15129, 15140, 15142, 15261, 15303, 15347,\n",
       "            15435, 15438, 15439, 15461, 15462, 15468, 15472, 15496, 15546,\n",
       "            15562, 15623, 15641, 15647, 15684, 15791, 15906],\n",
       "           dtype='int64')"
      ]
     },
     "execution_count": 125,
     "metadata": {},
     "output_type": "execute_result"
    }
   ],
   "source": [
    "df[df.hp == \"-\"].index"
   ]
  },
  {
   "cell_type": "code",
   "execution_count": 126,
   "metadata": {},
   "outputs": [
    {
     "data": {
      "text/plain": [
       "'85'"
      ]
     },
     "execution_count": 126,
     "metadata": {},
     "output_type": "execute_result"
    }
   ],
   "source": [
    "pd.DataFrame(df.groupby(\"make_model\")[\"hp\"].value_counts().loc[\"Audi A1\"]).index[0]"
   ]
  },
  {
   "cell_type": "code",
   "execution_count": null,
   "metadata": {},
   "outputs": [],
   "source": []
  },
  {
   "cell_type": "code",
   "execution_count": 127,
   "metadata": {},
   "outputs": [],
   "source": [
    "x =0\n",
    "a = []\n",
    "for i in df[\"make_model\"].unique():\n",
    "    a.append(df[(df[\"make_model\"] == i)&(df[\"hp\"] == \"-\")][\"hp\"].apply(\n",
    "        lambda x : pd.DataFrame(df.groupby(\"make_model\")[\"hp\"].value_counts().loc[i]).index[0]))"
   ]
  },
  {
   "cell_type": "code",
   "execution_count": 128,
   "metadata": {},
   "outputs": [
    {
     "data": {
      "text/plain": [
       "'85'"
      ]
     },
     "execution_count": 128,
     "metadata": {},
     "output_type": "execute_result"
    }
   ],
   "source": [
    "a[0].iloc[0]"
   ]
  },
  {
   "cell_type": "code",
   "execution_count": 129,
   "metadata": {},
   "outputs": [],
   "source": [
    "for i in range(len(a)):\n",
    "    for x in a[i].index:\n",
    "        df.loc[x,\"hp\"] = a[i].iloc[0]"
   ]
  },
  {
   "cell_type": "code",
   "execution_count": null,
   "metadata": {},
   "outputs": [],
   "source": []
  },
  {
   "cell_type": "code",
   "execution_count": 130,
   "metadata": {},
   "outputs": [],
   "source": [
    "# df[\"hp\"].replace(\"-\", ? ,inplace = False) how to use must be searched"
   ]
  },
  {
   "cell_type": "code",
   "execution_count": null,
   "metadata": {},
   "outputs": [],
   "source": []
  },
  {
   "cell_type": "code",
   "execution_count": 131,
   "metadata": {},
   "outputs": [
    {
     "data": {
      "text/plain": [
       "85     2545\n",
       "66     2124\n",
       "81     1402\n",
       "100    1318\n",
       "110    1114\n",
       "       ... \n",
       "163       1\n",
       "195       1\n",
       "9         1\n",
       "239       1\n",
       "115       1\n",
       "Name: hp, Length: 80, dtype: int64"
      ]
     },
     "execution_count": 131,
     "metadata": {},
     "output_type": "execute_result"
    }
   ],
   "source": [
    "df.hp.value_counts(dropna=False)"
   ]
  },
  {
   "cell_type": "code",
   "execution_count": 132,
   "metadata": {},
   "outputs": [
    {
     "data": {
      "text/plain": [
       "Int64Index([], dtype='int64')"
      ]
     },
     "execution_count": 132,
     "metadata": {},
     "output_type": "execute_result"
    }
   ],
   "source": [
    "df[df.hp == \"-\"].index"
   ]
  },
  {
   "cell_type": "code",
   "execution_count": 133,
   "metadata": {},
   "outputs": [
    {
     "data": {
      "text/plain": [
       "0"
      ]
     },
     "execution_count": 133,
     "metadata": {},
     "output_type": "execute_result"
    }
   ],
   "source": [
    "df.hp.isnull().sum()"
   ]
  },
  {
   "cell_type": "code",
   "execution_count": 134,
   "metadata": {},
   "outputs": [
    {
     "data": {
      "text/plain": [
       "'85'"
      ]
     },
     "execution_count": 134,
     "metadata": {},
     "output_type": "execute_result"
    }
   ],
   "source": [
    "df.hp.iloc[1269]"
   ]
  },
  {
   "cell_type": "code",
   "execution_count": 135,
   "metadata": {},
   "outputs": [],
   "source": [
    "df.hp = df.hp.astype(\"int\")"
   ]
  },
  {
   "cell_type": "code",
   "execution_count": 136,
   "metadata": {},
   "outputs": [
    {
     "data": {
      "text/plain": [
       "<AxesSubplot:xlabel='make_model', ylabel='hp'>"
      ]
     },
     "execution_count": 136,
     "metadata": {},
     "output_type": "execute_result"
    },
    {
     "data": {
      "image/png": "[encoded data removed]",
      "text/plain": [
       "<Figure size 1080x504 with 1 Axes>"
      ]
     },
     "metadata": {
      "needs_background": "light"
     },
     "output_type": "display_data"
    }
   ],
   "source": [
    "fig = plt.figure(figsize=(15,7))\n",
    "sns.boxplot(\"make_model\",\"hp\",data =df)\n"
   ]
  },
  {
   "cell_type": "code",
   "execution_count": 137,
   "metadata": {},
   "outputs": [
    {
     "data": {
      "text/html": [
       "<div>\n",
       "<style scoped>\n",
       "    .dataframe tbody tr th:only-of-type {\n",
       "        vertical-align: middle;\n",
       "    }\n",
       "\n",
       "    .dataframe tbody tr th {\n",
       "        vertical-align: top;\n",
       "    }\n",
       "\n",
       "    .dataframe thead th {\n",
       "        text-align: right;\n",
       "    }\n",
       "</style>\n",
       "<table border=\"1\" class=\"dataframe\">\n",
       "  <thead>\n",
       "    <tr style=\"text-align: right;\">\n",
       "      <th></th>\n",
       "      <th>price</th>\n",
       "      <th>vat</th>\n",
       "      <th>km</th>\n",
       "      <th>prev_owner</th>\n",
       "      <th>hp</th>\n",
       "      <th>age</th>\n",
       "    </tr>\n",
       "  </thead>\n",
       "  <tbody>\n",
       "    <tr>\n",
       "      <th>price</th>\n",
       "      <td>1.000000</td>\n",
       "      <td>0.127228</td>\n",
       "      <td>-0.400100</td>\n",
       "      <td>-0.297714</td>\n",
       "      <td>0.694658</td>\n",
       "      <td>-0.470204</td>\n",
       "    </tr>\n",
       "    <tr>\n",
       "      <th>vat</th>\n",
       "      <td>0.127228</td>\n",
       "      <td>1.000000</td>\n",
       "      <td>-0.088297</td>\n",
       "      <td>-0.124329</td>\n",
       "      <td>0.062999</td>\n",
       "      <td>-0.214986</td>\n",
       "    </tr>\n",
       "    <tr>\n",
       "      <th>km</th>\n",
       "      <td>-0.400100</td>\n",
       "      <td>-0.088297</td>\n",
       "      <td>1.000000</td>\n",
       "      <td>0.347403</td>\n",
       "      <td>-0.001072</td>\n",
       "      <td>0.733766</td>\n",
       "    </tr>\n",
       "    <tr>\n",
       "      <th>prev_owner</th>\n",
       "      <td>-0.297714</td>\n",
       "      <td>-0.124329</td>\n",
       "      <td>0.347403</td>\n",
       "      <td>1.000000</td>\n",
       "      <td>-0.055321</td>\n",
       "      <td>0.619164</td>\n",
       "    </tr>\n",
       "    <tr>\n",
       "      <th>hp</th>\n",
       "      <td>0.694658</td>\n",
       "      <td>0.062999</td>\n",
       "      <td>-0.001072</td>\n",
       "      <td>-0.055321</td>\n",
       "      <td>1.000000</td>\n",
       "      <td>-0.092068</td>\n",
       "    </tr>\n",
       "    <tr>\n",
       "      <th>age</th>\n",
       "      <td>-0.470204</td>\n",
       "      <td>-0.214986</td>\n",
       "      <td>0.733766</td>\n",
       "      <td>0.619164</td>\n",
       "      <td>-0.092068</td>\n",
       "      <td>1.000000</td>\n",
       "    </tr>\n",
       "  </tbody>\n",
       "</table>\n",
       "</div>"
      ],
      "text/plain": [
       "               price       vat        km  prev_owner        hp       age\n",
       "price       1.000000  0.127228 -0.400100   -0.297714  0.694658 -0.470204\n",
       "vat         0.127228  1.000000 -0.088297   -0.124329  0.062999 -0.214986\n",
       "km         -0.400100 -0.088297  1.000000    0.347403 -0.001072  0.733766\n",
       "prev_owner -0.297714 -0.124329  0.347403    1.000000 -0.055321  0.619164\n",
       "hp          0.694658  0.062999 -0.001072   -0.055321  1.000000 -0.092068\n",
       "age        -0.470204 -0.214986  0.733766    0.619164 -0.092068  1.000000"
      ]
     },
     "execution_count": 137,
     "metadata": {},
     "output_type": "execute_result"
    }
   ],
   "source": [
    "df.corr()"
   ]
  },
  {
   "cell_type": "code",
   "execution_count": 138,
   "metadata": {},
   "outputs": [
    {
     "name": "stdout",
     "output_type": "stream",
     "text": [
      "<class 'pandas.core.frame.DataFrame'>\n",
      "RangeIndex: 15919 entries, 0 to 15918\n",
      "Data columns (total 25 columns):\n",
      " #   Column                   Non-Null Count  Dtype \n",
      "---  ------                   --------------  ----- \n",
      " 0   make_model               15919 non-null  object\n",
      " 1   body_type                15919 non-null  object\n",
      " 2   price                    15919 non-null  int64 \n",
      " 3   vat                      15919 non-null  bool  \n",
      " 4   km                       15919 non-null  int64 \n",
      " 5   prev_owner               15919 non-null  int64 \n",
      " 6   hp                       15919 non-null  int32 \n",
      " 7   Body Color               15322 non-null  object\n",
      " 8   Paint Type               10147 non-null  object\n",
      " 9   Upholstery               12199 non-null  object\n",
      " 10  Nr. of Doors             15707 non-null  object\n",
      " 11  Nr. of Seats             14942 non-null  object\n",
      " 12  Gearing Type             15919 non-null  object\n",
      " 13  Displacement             15423 non-null  object\n",
      " 14  Cylinders                10239 non-null  object\n",
      " 15  Drive chain              9061 non-null   object\n",
      " 16  Fuel                     15919 non-null  object\n",
      " 17  Consumption              14013 non-null  object\n",
      " 18  Emission Class           12898 non-null  object\n",
      " 19  \n",
      "Comfort & Convenience\n",
      "  14999 non-null  object\n",
      " 20  \n",
      "Entertainment & Media\n",
      "  14545 non-null  object\n",
      " 21  \n",
      "Extras\n",
      "                 12957 non-null  object\n",
      " 22  \n",
      "Safety & Security\n",
      "      14937 non-null  object\n",
      " 23  Gears                    11207 non-null  object\n",
      " 24  age                      15919 non-null  int64 \n",
      "dtypes: bool(1), int32(1), int64(4), object(19)\n",
      "memory usage: 2.9+ MB\n"
     ]
    }
   ],
   "source": [
    "df.info()"
   ]
  },
  {
   "cell_type": "code",
   "execution_count": 139,
   "metadata": {},
   "outputs": [],
   "source": [
    "# df[\"Next Inspection\"] = [\"\".join(item).strip() if type(item) == list else item for item in df[\"Next Inspection\"]]"
   ]
  },
  {
   "cell_type": "code",
   "execution_count": 140,
   "metadata": {},
   "outputs": [
    {
     "ename": "TypeError",
     "evalue": "unhashable type: 'list'",
     "output_type": "error",
     "traceback": [
      "\u001b[1;31m---------------------------------------------------------------------------\u001b[0m",
      "\u001b[1;31mTypeError\u001b[0m                                 Traceback (most recent call last)",
      "\u001b[1;32mpandas\\_libs\\hashtable_class_helper.pxi\u001b[0m in \u001b[0;36mpandas._libs.hashtable.PyObjectHashTable.map_locations\u001b[1;34m()\u001b[0m\n",
      "\u001b[1;31mTypeError\u001b[0m: unhashable type: 'list'"
     ]
    },
    {
     "name": "stderr",
     "output_type": "stream",
     "text": [
      "Exception ignored in: 'pandas._libs.index.IndexEngine._call_map_locations'\n",
      "Traceback (most recent call last):\n",
      "  File \"pandas\\_libs\\hashtable_class_helper.pxi\", line 1709, in pandas._libs.hashtable.PyObjectHashTable.map_locations\n",
      "TypeError: unhashable type: 'list'\n"
     ]
    },
    {
     "data": {
      "text/plain": [
       "[\\n, Black, \\n]     3745\n",
       "[\\n, Grey, \\n]      3505\n",
       "[\\n, White, \\n]     3406\n",
       "[\\n, Silver, \\n]    1647\n",
       "[\\n, Blue, \\n]      1431\n",
       "[\\n, Red, \\n]        957\n",
       "[\\n, Brown, \\n]      289\n",
       "[\\n, Green, \\n]      154\n",
       "[\\n, Beige, \\n]      108\n",
       "[\\n, Yellow, \\n]      51\n",
       "[\\n, Violet, \\n]      18\n",
       "[\\n, Bronze, \\n]       6\n",
       "[\\n, Orange, \\n]       3\n",
       "[\\n, Gold, \\n]         2\n",
       "Name: Body Color, dtype: int64"
      ]
     },
     "execution_count": 140,
     "metadata": {},
     "output_type": "execute_result"
    }
   ],
   "source": [
    "df[\"Body Color\"].value_counts()"
   ]
  },
  {
   "cell_type": "code",
   "execution_count": 141,
   "metadata": {},
   "outputs": [],
   "source": [
    "df[\"Body Color\"] = [\"\".join(item).strip() if type(item) == list else item for item in df[\"Body Color\"]]"
   ]
  },
  {
   "cell_type": "code",
   "execution_count": 142,
   "metadata": {},
   "outputs": [
    {
     "data": {
      "text/plain": [
       "Black     3745\n",
       "Grey      3505\n",
       "White     3406\n",
       "Silver    1647\n",
       "Blue      1431\n",
       "Red        957\n",
       "NaN        597\n",
       "Brown      289\n",
       "Green      154\n",
       "Beige      108\n",
       "Yellow      51\n",
       "Violet      18\n",
       "Bronze       6\n",
       "Orange       3\n",
       "Gold         2\n",
       "Name: Body Color, dtype: int64"
      ]
     },
     "execution_count": 142,
     "metadata": {},
     "output_type": "execute_result"
    }
   ],
   "source": [
    "df[\"Body Color\"].value_counts(dropna= False)"
   ]
  },
  {
   "cell_type": "code",
   "execution_count": 143,
   "metadata": {},
   "outputs": [
    {
     "data": {
      "text/plain": [
       "0    Black\n",
       "1      Red\n",
       "2    Black\n",
       "3    Brown\n",
       "4    Black\n",
       "Name: Body Color, dtype: object"
      ]
     },
     "execution_count": 143,
     "metadata": {},
     "output_type": "execute_result"
    }
   ],
   "source": [
    "df[\"Body Color\"].head()"
   ]
  },
  {
   "cell_type": "code",
   "execution_count": 144,
   "metadata": {},
   "outputs": [],
   "source": [
    "fill_most(df, \"make_model\", \"Body Color\")"
   ]
  },
  {
   "cell_type": "code",
   "execution_count": 145,
   "metadata": {},
   "outputs": [],
   "source": [
    "df[\"Body Color\"]= df.groupby(\"make_model\")[\"Body Color\"].ffill().bfill()"
   ]
  },
  {
   "cell_type": "code",
   "execution_count": 146,
   "metadata": {},
   "outputs": [
    {
     "data": {
      "text/plain": [
       "Black     3877\n",
       "Grey      3614\n",
       "White     3531\n",
       "Silver    1705\n",
       "Blue      1535\n",
       "Red        998\n",
       "Brown      298\n",
       "Green      163\n",
       "Beige      114\n",
       "Yellow      54\n",
       "Violet      19\n",
       "Bronze       6\n",
       "Orange       3\n",
       "Gold         2\n",
       "Name: Body Color, dtype: int64"
      ]
     },
     "execution_count": 146,
     "metadata": {},
     "output_type": "execute_result"
    }
   ],
   "source": [
    "df[\"Body Color\"].value_counts(dropna=False)"
   ]
  },
  {
   "cell_type": "code",
   "execution_count": 147,
   "metadata": {},
   "outputs": [
    {
     "data": {
      "text/html": [
       "<div>\n",
       "<style scoped>\n",
       "    .dataframe tbody tr th:only-of-type {\n",
       "        vertical-align: middle;\n",
       "    }\n",
       "\n",
       "    .dataframe tbody tr th {\n",
       "        vertical-align: top;\n",
       "    }\n",
       "\n",
       "    .dataframe thead th {\n",
       "        text-align: right;\n",
       "    }\n",
       "</style>\n",
       "<table border=\"1\" class=\"dataframe\">\n",
       "  <thead>\n",
       "    <tr style=\"text-align: right;\">\n",
       "      <th></th>\n",
       "      <th>make_model</th>\n",
       "      <th>body_type</th>\n",
       "      <th>price</th>\n",
       "      <th>vat</th>\n",
       "      <th>km</th>\n",
       "      <th>prev_owner</th>\n",
       "      <th>hp</th>\n",
       "      <th>Body Color</th>\n",
       "      <th>Paint Type</th>\n",
       "      <th>Upholstery</th>\n",
       "      <th>Nr. of Doors</th>\n",
       "      <th>Nr. of Seats</th>\n",
       "      <th>Gearing Type</th>\n",
       "      <th>Displacement</th>\n",
       "      <th>Cylinders</th>\n",
       "      <th>Drive chain</th>\n",
       "      <th>Fuel</th>\n",
       "      <th>Consumption</th>\n",
       "      <th>Emission Class</th>\n",
       "      <th>\\nComfort &amp; Convenience\\n</th>\n",
       "      <th>\\nEntertainment &amp; Media\\n</th>\n",
       "      <th>\\nExtras\\n</th>\n",
       "      <th>\\nSafety &amp; Security\\n</th>\n",
       "      <th>Gears</th>\n",
       "      <th>age</th>\n",
       "    </tr>\n",
       "  </thead>\n",
       "  <tbody>\n",
       "    <tr>\n",
       "      <th>0</th>\n",
       "      <td>Audi A1</td>\n",
       "      <td>Sedans</td>\n",
       "      <td>15770</td>\n",
       "      <td>True</td>\n",
       "      <td>56013</td>\n",
       "      <td>2</td>\n",
       "      <td>66</td>\n",
       "      <td>Black</td>\n",
       "      <td>[\\nMetallic\\n]</td>\n",
       "      <td>[\\nCloth, Black\\n]</td>\n",
       "      <td>[\\n5\\n]</td>\n",
       "      <td>[\\n5\\n]</td>\n",
       "      <td>[\\n, Automatic, \\n]</td>\n",
       "      <td>[\\n1,422 cc\\n]</td>\n",
       "      <td>[\\n3\\n]</td>\n",
       "      <td>[\\nfront\\n]</td>\n",
       "      <td>[\\n, Diesel (Particulate Filter), \\n]</td>\n",
       "      <td>[[3.8 l/100 km (comb)], [4.3 l/100 km (city)],...</td>\n",
       "      <td>[\\nEuro 6\\n]</td>\n",
       "      <td>[Air conditioning, Armrest, Automatic climate ...</td>\n",
       "      <td>[Bluetooth, Hands-free equipment, On-board com...</td>\n",
       "      <td>[Alloy wheels, Catalytic Converter, Voice Cont...</td>\n",
       "      <td>[ABS, Central door lock, Daytime running light...</td>\n",
       "      <td>NaN</td>\n",
       "      <td>4</td>\n",
       "    </tr>\n",
       "    <tr>\n",
       "      <th>1</th>\n",
       "      <td>Audi A1</td>\n",
       "      <td>Sedans</td>\n",
       "      <td>14500</td>\n",
       "      <td>True</td>\n",
       "      <td>80000</td>\n",
       "      <td>1</td>\n",
       "      <td>141</td>\n",
       "      <td>Red</td>\n",
       "      <td>NaN</td>\n",
       "      <td>[\\nCloth, Grey\\n]</td>\n",
       "      <td>[\\n3\\n]</td>\n",
       "      <td>[\\n4\\n]</td>\n",
       "      <td>[\\n, Automatic, \\n]</td>\n",
       "      <td>[\\n1,798 cc\\n]</td>\n",
       "      <td>[\\n4\\n]</td>\n",
       "      <td>[\\nfront\\n]</td>\n",
       "      <td>[\\n, Gasoline, \\n]</td>\n",
       "      <td>[[5.6 l/100 km (comb)], [7.1 l/100 km (city)],...</td>\n",
       "      <td>[\\nEuro 6\\n]</td>\n",
       "      <td>[Air conditioning, Automatic climate control, ...</td>\n",
       "      <td>[Bluetooth, Hands-free equipment, On-board com...</td>\n",
       "      <td>[Alloy wheels, Sport seats, Sport suspension, ...</td>\n",
       "      <td>[ABS, Central door lock, Central door lock wit...</td>\n",
       "      <td>[\\n7\\n]</td>\n",
       "      <td>3</td>\n",
       "    </tr>\n",
       "    <tr>\n",
       "      <th>2</th>\n",
       "      <td>Audi A1</td>\n",
       "      <td>Sedans</td>\n",
       "      <td>14640</td>\n",
       "      <td>True</td>\n",
       "      <td>83450</td>\n",
       "      <td>1</td>\n",
       "      <td>85</td>\n",
       "      <td>Black</td>\n",
       "      <td>[\\nMetallic\\n]</td>\n",
       "      <td>[\\nCloth, Black\\n]</td>\n",
       "      <td>[\\n4\\n]</td>\n",
       "      <td>[\\n4\\n]</td>\n",
       "      <td>[\\n, Automatic, \\n]</td>\n",
       "      <td>[\\n1,598 cc\\n]</td>\n",
       "      <td>NaN</td>\n",
       "      <td>[\\nfront\\n]</td>\n",
       "      <td>[\\n, Diesel (Particulate Filter), \\n]</td>\n",
       "      <td>[[3.8 l/100 km (comb)], [4.4 l/100 km (city)],...</td>\n",
       "      <td>[\\nEuro 6\\n]</td>\n",
       "      <td>[Air conditioning, Cruise control, Electrical ...</td>\n",
       "      <td>[MP3, On-board computer]</td>\n",
       "      <td>[Alloy wheels, Voice Control]</td>\n",
       "      <td>[ABS, Central door lock, Daytime running light...</td>\n",
       "      <td>NaN</td>\n",
       "      <td>4</td>\n",
       "    </tr>\n",
       "    <tr>\n",
       "      <th>3</th>\n",
       "      <td>Audi A1</td>\n",
       "      <td>Sedans</td>\n",
       "      <td>14500</td>\n",
       "      <td>False</td>\n",
       "      <td>73000</td>\n",
       "      <td>1</td>\n",
       "      <td>66</td>\n",
       "      <td>Brown</td>\n",
       "      <td>[\\nMetallic\\n]</td>\n",
       "      <td>NaN</td>\n",
       "      <td>[\\n3\\n]</td>\n",
       "      <td>[\\n4\\n]</td>\n",
       "      <td>[\\n, Automatic, \\n]</td>\n",
       "      <td>[\\n1,422 cc\\n]</td>\n",
       "      <td>[\\n3\\n]</td>\n",
       "      <td>NaN</td>\n",
       "      <td>[\\n, Diesel (Particulate Filter), \\n]</td>\n",
       "      <td>[[3.8 l/100 km (comb)], [4.3 l/100 km (city)],...</td>\n",
       "      <td>[\\nEuro 6\\n]</td>\n",
       "      <td>[Air suspension, Armrest, Auxiliary heating, E...</td>\n",
       "      <td>[Bluetooth, CD player, Hands-free equipment, M...</td>\n",
       "      <td>[Alloy wheels, Sport seats, Voice Control]</td>\n",
       "      <td>[ABS, Alarm system, Central door lock with rem...</td>\n",
       "      <td>[\\n6\\n]</td>\n",
       "      <td>4</td>\n",
       "    </tr>\n",
       "    <tr>\n",
       "      <th>4</th>\n",
       "      <td>Audi A1</td>\n",
       "      <td>Sedans</td>\n",
       "      <td>16790</td>\n",
       "      <td>False</td>\n",
       "      <td>16200</td>\n",
       "      <td>1</td>\n",
       "      <td>66</td>\n",
       "      <td>Black</td>\n",
       "      <td>[\\nMetallic\\n]</td>\n",
       "      <td>[\\nCloth, Black\\n]</td>\n",
       "      <td>[\\n5\\n]</td>\n",
       "      <td>[\\n5\\n]</td>\n",
       "      <td>[\\n, Automatic, \\n]</td>\n",
       "      <td>[\\n1,422 cc\\n]</td>\n",
       "      <td>[\\n3\\n]</td>\n",
       "      <td>[\\nfront\\n]</td>\n",
       "      <td>[\\n, Diesel (Particulate Filter), \\n]</td>\n",
       "      <td>[[4.1 l/100 km (comb)], [4.6 l/100 km (city)],...</td>\n",
       "      <td>[\\nEuro 6\\n]</td>\n",
       "      <td>[Air conditioning, Armrest, Automatic climate ...</td>\n",
       "      <td>[Bluetooth, CD player, Hands-free equipment, M...</td>\n",
       "      <td>[Alloy wheels, Sport package, Sport suspension...</td>\n",
       "      <td>[ABS, Central door lock, Driver-side airbag, E...</td>\n",
       "      <td>NaN</td>\n",
       "      <td>4</td>\n",
       "    </tr>\n",
       "  </tbody>\n",
       "</table>\n",
       "</div>"
      ],
      "text/plain": [
       "  make_model body_type  price    vat     km  prev_owner   hp Body Color  \\\n",
       "0    Audi A1    Sedans  15770   True  56013           2   66      Black   \n",
       "1    Audi A1    Sedans  14500   True  80000           1  141        Red   \n",
       "2    Audi A1    Sedans  14640   True  83450           1   85      Black   \n",
       "3    Audi A1    Sedans  14500  False  73000           1   66      Brown   \n",
       "4    Audi A1    Sedans  16790  False  16200           1   66      Black   \n",
       "\n",
       "       Paint Type          Upholstery Nr. of Doors Nr. of Seats  \\\n",
       "0  [\\nMetallic\\n]  [\\nCloth, Black\\n]      [\\n5\\n]      [\\n5\\n]   \n",
       "1             NaN   [\\nCloth, Grey\\n]      [\\n3\\n]      [\\n4\\n]   \n",
       "2  [\\nMetallic\\n]  [\\nCloth, Black\\n]      [\\n4\\n]      [\\n4\\n]   \n",
       "3  [\\nMetallic\\n]                 NaN      [\\n3\\n]      [\\n4\\n]   \n",
       "4  [\\nMetallic\\n]  [\\nCloth, Black\\n]      [\\n5\\n]      [\\n5\\n]   \n",
       "\n",
       "          Gearing Type    Displacement Cylinders  Drive chain  \\\n",
       "0  [\\n, Automatic, \\n]  [\\n1,422 cc\\n]   [\\n3\\n]  [\\nfront\\n]   \n",
       "1  [\\n, Automatic, \\n]  [\\n1,798 cc\\n]   [\\n4\\n]  [\\nfront\\n]   \n",
       "2  [\\n, Automatic, \\n]  [\\n1,598 cc\\n]       NaN  [\\nfront\\n]   \n",
       "3  [\\n, Automatic, \\n]  [\\n1,422 cc\\n]   [\\n3\\n]          NaN   \n",
       "4  [\\n, Automatic, \\n]  [\\n1,422 cc\\n]   [\\n3\\n]  [\\nfront\\n]   \n",
       "\n",
       "                                    Fuel  \\\n",
       "0  [\\n, Diesel (Particulate Filter), \\n]   \n",
       "1                     [\\n, Gasoline, \\n]   \n",
       "2  [\\n, Diesel (Particulate Filter), \\n]   \n",
       "3  [\\n, Diesel (Particulate Filter), \\n]   \n",
       "4  [\\n, Diesel (Particulate Filter), \\n]   \n",
       "\n",
       "                                         Consumption Emission Class  \\\n",
       "0  [[3.8 l/100 km (comb)], [4.3 l/100 km (city)],...   [\\nEuro 6\\n]   \n",
       "1  [[5.6 l/100 km (comb)], [7.1 l/100 km (city)],...   [\\nEuro 6\\n]   \n",
       "2  [[3.8 l/100 km (comb)], [4.4 l/100 km (city)],...   [\\nEuro 6\\n]   \n",
       "3  [[3.8 l/100 km (comb)], [4.3 l/100 km (city)],...   [\\nEuro 6\\n]   \n",
       "4  [[4.1 l/100 km (comb)], [4.6 l/100 km (city)],...   [\\nEuro 6\\n]   \n",
       "\n",
       "                           \\nComfort & Convenience\\n  \\\n",
       "0  [Air conditioning, Armrest, Automatic climate ...   \n",
       "1  [Air conditioning, Automatic climate control, ...   \n",
       "2  [Air conditioning, Cruise control, Electrical ...   \n",
       "3  [Air suspension, Armrest, Auxiliary heating, E...   \n",
       "4  [Air conditioning, Armrest, Automatic climate ...   \n",
       "\n",
       "                           \\nEntertainment & Media\\n  \\\n",
       "0  [Bluetooth, Hands-free equipment, On-board com...   \n",
       "1  [Bluetooth, Hands-free equipment, On-board com...   \n",
       "2                           [MP3, On-board computer]   \n",
       "3  [Bluetooth, CD player, Hands-free equipment, M...   \n",
       "4  [Bluetooth, CD player, Hands-free equipment, M...   \n",
       "\n",
       "                                          \\nExtras\\n  \\\n",
       "0  [Alloy wheels, Catalytic Converter, Voice Cont...   \n",
       "1  [Alloy wheels, Sport seats, Sport suspension, ...   \n",
       "2                      [Alloy wheels, Voice Control]   \n",
       "3         [Alloy wheels, Sport seats, Voice Control]   \n",
       "4  [Alloy wheels, Sport package, Sport suspension...   \n",
       "\n",
       "                               \\nSafety & Security\\n    Gears  age  \n",
       "0  [ABS, Central door lock, Daytime running light...      NaN    4  \n",
       "1  [ABS, Central door lock, Central door lock wit...  [\\n7\\n]    3  \n",
       "2  [ABS, Central door lock, Daytime running light...      NaN    4  \n",
       "3  [ABS, Alarm system, Central door lock with rem...  [\\n6\\n]    4  \n",
       "4  [ABS, Central door lock, Driver-side airbag, E...      NaN    4  "
      ]
     },
     "execution_count": 147,
     "metadata": {},
     "output_type": "execute_result"
    }
   ],
   "source": [
    "df.head()"
   ]
  },
  {
   "cell_type": "code",
   "execution_count": 148,
   "metadata": {},
   "outputs": [
    {
     "ename": "TypeError",
     "evalue": "unhashable type: 'list'",
     "output_type": "error",
     "traceback": [
      "\u001b[1;31m---------------------------------------------------------------------------\u001b[0m",
      "\u001b[1;31mTypeError\u001b[0m                                 Traceback (most recent call last)",
      "\u001b[1;32mpandas\\_libs\\hashtable_class_helper.pxi\u001b[0m in \u001b[0;36mpandas._libs.hashtable.PyObjectHashTable.map_locations\u001b[1;34m()\u001b[0m\n",
      "\u001b[1;31mTypeError\u001b[0m: unhashable type: 'list'"
     ]
    },
    {
     "name": "stderr",
     "output_type": "stream",
     "text": [
      "Exception ignored in: 'pandas._libs.index.IndexEngine._call_map_locations'\n",
      "Traceback (most recent call last):\n",
      "  File \"pandas\\_libs\\hashtable_class_helper.pxi\", line 1709, in pandas._libs.hashtable.PyObjectHashTable.map_locations\n",
      "TypeError: unhashable type: 'list'\n"
     ]
    },
    {
     "data": {
      "text/plain": [
       "[\\nMetallic\\n]       9794\n",
       "NaN                  5772\n",
       "[\\nUni/basic\\n]       347\n",
       "[\\nPerl effect\\n]       6\n",
       "Name: Paint Type, dtype: int64"
      ]
     },
     "execution_count": 148,
     "metadata": {},
     "output_type": "execute_result"
    }
   ],
   "source": [
    "df[\"Paint Type\"].value_counts(dropna=False)"
   ]
  },
  {
   "cell_type": "code",
   "execution_count": 149,
   "metadata": {},
   "outputs": [],
   "source": [
    "df[\"Paint Type\"] = [\"\".join(item).strip() if type(item) == list else item for item in df[\"Paint Type\"]]"
   ]
  },
  {
   "cell_type": "code",
   "execution_count": 150,
   "metadata": {},
   "outputs": [
    {
     "data": {
      "text/plain": [
       "Metallic       9794\n",
       "NaN            5772\n",
       "Uni/basic       347\n",
       "Perl effect       6\n",
       "Name: Paint Type, dtype: int64"
      ]
     },
     "execution_count": 150,
     "metadata": {},
     "output_type": "execute_result"
    }
   ],
   "source": [
    "df[\"Paint Type\"].value_counts(dropna=False)"
   ]
  },
  {
   "cell_type": "code",
   "execution_count": 151,
   "metadata": {},
   "outputs": [],
   "source": [
    "fill_most(df, \"make_model\", \"Paint Type\")"
   ]
  },
  {
   "cell_type": "code",
   "execution_count": 152,
   "metadata": {},
   "outputs": [
    {
     "data": {
      "text/plain": [
       "Metallic       9794\n",
       "NaN            5772\n",
       "Uni/basic       347\n",
       "Perl effect       6\n",
       "Name: Paint Type, dtype: int64"
      ]
     },
     "execution_count": 152,
     "metadata": {},
     "output_type": "execute_result"
    }
   ],
   "source": [
    "df[\"Paint Type\"].value_counts(dropna=False)"
   ]
  },
  {
   "cell_type": "code",
   "execution_count": 153,
   "metadata": {},
   "outputs": [
    {
     "data": {
      "text/plain": [
       "<AxesSubplot:ylabel='make_model,Paint Type'>"
      ]
     },
     "execution_count": 153,
     "metadata": {},
     "output_type": "execute_result"
    },
    {
     "data": {
      "image/png": "[encoded data removed]",
      "text/plain": [
       "<Figure size 1080x504 with 1 Axes>"
      ]
     },
     "metadata": {
      "needs_background": "light"
     },
     "output_type": "display_data"
    }
   ],
   "source": [
    "df.groupby(\"make_model\")[\"Paint Type\"].value_counts(dropna=False).plot.barh(figsize=(15,7))"
   ]
  },
  {
   "cell_type": "code",
   "execution_count": 154,
   "metadata": {},
   "outputs": [],
   "source": [
    "df[\"Paint Type\"]= df.groupby(\"make_model\")[\"Paint Type\"].ffill().bfill()"
   ]
  },
  {
   "cell_type": "code",
   "execution_count": 155,
   "metadata": {},
   "outputs": [
    {
     "data": {
      "text/plain": [
       "<AxesSubplot:ylabel='make_model,Paint Type'>"
      ]
     },
     "execution_count": 155,
     "metadata": {},
     "output_type": "execute_result"
    },
    {
     "data": {
      "image/png": "[encoded data removed]",
      "text/plain": [
       "<Figure size 1080x504 with 1 Axes>"
      ]
     },
     "metadata": {
      "needs_background": "light"
     },
     "output_type": "display_data"
    }
   ],
   "source": [
    "df.groupby(\"make_model\")[\"Paint Type\"].value_counts(dropna=False).plot.barh(figsize= (15,7))"
   ]
  },
  {
   "cell_type": "code",
   "execution_count": 156,
   "metadata": {},
   "outputs": [
    {
     "data": {
      "text/html": [
       "<div>\n",
       "<style scoped>\n",
       "    .dataframe tbody tr th:only-of-type {\n",
       "        vertical-align: middle;\n",
       "    }\n",
       "\n",
       "    .dataframe tbody tr th {\n",
       "        vertical-align: top;\n",
       "    }\n",
       "\n",
       "    .dataframe thead th {\n",
       "        text-align: right;\n",
       "    }\n",
       "</style>\n",
       "<table border=\"1\" class=\"dataframe\">\n",
       "  <thead>\n",
       "    <tr style=\"text-align: right;\">\n",
       "      <th></th>\n",
       "      <th>make_model</th>\n",
       "      <th>body_type</th>\n",
       "      <th>price</th>\n",
       "      <th>vat</th>\n",
       "      <th>km</th>\n",
       "      <th>prev_owner</th>\n",
       "      <th>hp</th>\n",
       "      <th>Body Color</th>\n",
       "      <th>Paint Type</th>\n",
       "      <th>Upholstery</th>\n",
       "      <th>Nr. of Doors</th>\n",
       "      <th>Nr. of Seats</th>\n",
       "      <th>Gearing Type</th>\n",
       "      <th>Displacement</th>\n",
       "      <th>Cylinders</th>\n",
       "      <th>Drive chain</th>\n",
       "      <th>Fuel</th>\n",
       "      <th>Consumption</th>\n",
       "      <th>Emission Class</th>\n",
       "      <th>\\nComfort &amp; Convenience\\n</th>\n",
       "      <th>\\nEntertainment &amp; Media\\n</th>\n",
       "      <th>\\nExtras\\n</th>\n",
       "      <th>\\nSafety &amp; Security\\n</th>\n",
       "      <th>Gears</th>\n",
       "      <th>age</th>\n",
       "    </tr>\n",
       "  </thead>\n",
       "  <tbody>\n",
       "    <tr>\n",
       "      <th>0</th>\n",
       "      <td>Audi A1</td>\n",
       "      <td>Sedans</td>\n",
       "      <td>15770</td>\n",
       "      <td>True</td>\n",
       "      <td>56013</td>\n",
       "      <td>2</td>\n",
       "      <td>66</td>\n",
       "      <td>Black</td>\n",
       "      <td>Metallic</td>\n",
       "      <td>[\\nCloth, Black\\n]</td>\n",
       "      <td>[\\n5\\n]</td>\n",
       "      <td>[\\n5\\n]</td>\n",
       "      <td>[\\n, Automatic, \\n]</td>\n",
       "      <td>[\\n1,422 cc\\n]</td>\n",
       "      <td>[\\n3\\n]</td>\n",
       "      <td>[\\nfront\\n]</td>\n",
       "      <td>[\\n, Diesel (Particulate Filter), \\n]</td>\n",
       "      <td>[[3.8 l/100 km (comb)], [4.3 l/100 km (city)],...</td>\n",
       "      <td>[\\nEuro 6\\n]</td>\n",
       "      <td>[Air conditioning, Armrest, Automatic climate ...</td>\n",
       "      <td>[Bluetooth, Hands-free equipment, On-board com...</td>\n",
       "      <td>[Alloy wheels, Catalytic Converter, Voice Cont...</td>\n",
       "      <td>[ABS, Central door lock, Daytime running light...</td>\n",
       "      <td>NaN</td>\n",
       "      <td>4</td>\n",
       "    </tr>\n",
       "    <tr>\n",
       "      <th>1</th>\n",
       "      <td>Audi A1</td>\n",
       "      <td>Sedans</td>\n",
       "      <td>14500</td>\n",
       "      <td>True</td>\n",
       "      <td>80000</td>\n",
       "      <td>1</td>\n",
       "      <td>141</td>\n",
       "      <td>Red</td>\n",
       "      <td>Metallic</td>\n",
       "      <td>[\\nCloth, Grey\\n]</td>\n",
       "      <td>[\\n3\\n]</td>\n",
       "      <td>[\\n4\\n]</td>\n",
       "      <td>[\\n, Automatic, \\n]</td>\n",
       "      <td>[\\n1,798 cc\\n]</td>\n",
       "      <td>[\\n4\\n]</td>\n",
       "      <td>[\\nfront\\n]</td>\n",
       "      <td>[\\n, Gasoline, \\n]</td>\n",
       "      <td>[[5.6 l/100 km (comb)], [7.1 l/100 km (city)],...</td>\n",
       "      <td>[\\nEuro 6\\n]</td>\n",
       "      <td>[Air conditioning, Automatic climate control, ...</td>\n",
       "      <td>[Bluetooth, Hands-free equipment, On-board com...</td>\n",
       "      <td>[Alloy wheels, Sport seats, Sport suspension, ...</td>\n",
       "      <td>[ABS, Central door lock, Central door lock wit...</td>\n",
       "      <td>[\\n7\\n]</td>\n",
       "      <td>3</td>\n",
       "    </tr>\n",
       "    <tr>\n",
       "      <th>2</th>\n",
       "      <td>Audi A1</td>\n",
       "      <td>Sedans</td>\n",
       "      <td>14640</td>\n",
       "      <td>True</td>\n",
       "      <td>83450</td>\n",
       "      <td>1</td>\n",
       "      <td>85</td>\n",
       "      <td>Black</td>\n",
       "      <td>Metallic</td>\n",
       "      <td>[\\nCloth, Black\\n]</td>\n",
       "      <td>[\\n4\\n]</td>\n",
       "      <td>[\\n4\\n]</td>\n",
       "      <td>[\\n, Automatic, \\n]</td>\n",
       "      <td>[\\n1,598 cc\\n]</td>\n",
       "      <td>NaN</td>\n",
       "      <td>[\\nfront\\n]</td>\n",
       "      <td>[\\n, Diesel (Particulate Filter), \\n]</td>\n",
       "      <td>[[3.8 l/100 km (comb)], [4.4 l/100 km (city)],...</td>\n",
       "      <td>[\\nEuro 6\\n]</td>\n",
       "      <td>[Air conditioning, Cruise control, Electrical ...</td>\n",
       "      <td>[MP3, On-board computer]</td>\n",
       "      <td>[Alloy wheels, Voice Control]</td>\n",
       "      <td>[ABS, Central door lock, Daytime running light...</td>\n",
       "      <td>NaN</td>\n",
       "      <td>4</td>\n",
       "    </tr>\n",
       "    <tr>\n",
       "      <th>3</th>\n",
       "      <td>Audi A1</td>\n",
       "      <td>Sedans</td>\n",
       "      <td>14500</td>\n",
       "      <td>False</td>\n",
       "      <td>73000</td>\n",
       "      <td>1</td>\n",
       "      <td>66</td>\n",
       "      <td>Brown</td>\n",
       "      <td>Metallic</td>\n",
       "      <td>NaN</td>\n",
       "      <td>[\\n3\\n]</td>\n",
       "      <td>[\\n4\\n]</td>\n",
       "      <td>[\\n, Automatic, \\n]</td>\n",
       "      <td>[\\n1,422 cc\\n]</td>\n",
       "      <td>[\\n3\\n]</td>\n",
       "      <td>NaN</td>\n",
       "      <td>[\\n, Diesel (Particulate Filter), \\n]</td>\n",
       "      <td>[[3.8 l/100 km (comb)], [4.3 l/100 km (city)],...</td>\n",
       "      <td>[\\nEuro 6\\n]</td>\n",
       "      <td>[Air suspension, Armrest, Auxiliary heating, E...</td>\n",
       "      <td>[Bluetooth, CD player, Hands-free equipment, M...</td>\n",
       "      <td>[Alloy wheels, Sport seats, Voice Control]</td>\n",
       "      <td>[ABS, Alarm system, Central door lock with rem...</td>\n",
       "      <td>[\\n6\\n]</td>\n",
       "      <td>4</td>\n",
       "    </tr>\n",
       "    <tr>\n",
       "      <th>4</th>\n",
       "      <td>Audi A1</td>\n",
       "      <td>Sedans</td>\n",
       "      <td>16790</td>\n",
       "      <td>False</td>\n",
       "      <td>16200</td>\n",
       "      <td>1</td>\n",
       "      <td>66</td>\n",
       "      <td>Black</td>\n",
       "      <td>Metallic</td>\n",
       "      <td>[\\nCloth, Black\\n]</td>\n",
       "      <td>[\\n5\\n]</td>\n",
       "      <td>[\\n5\\n]</td>\n",
       "      <td>[\\n, Automatic, \\n]</td>\n",
       "      <td>[\\n1,422 cc\\n]</td>\n",
       "      <td>[\\n3\\n]</td>\n",
       "      <td>[\\nfront\\n]</td>\n",
       "      <td>[\\n, Diesel (Particulate Filter), \\n]</td>\n",
       "      <td>[[4.1 l/100 km (comb)], [4.6 l/100 km (city)],...</td>\n",
       "      <td>[\\nEuro 6\\n]</td>\n",
       "      <td>[Air conditioning, Armrest, Automatic climate ...</td>\n",
       "      <td>[Bluetooth, CD player, Hands-free equipment, M...</td>\n",
       "      <td>[Alloy wheels, Sport package, Sport suspension...</td>\n",
       "      <td>[ABS, Central door lock, Driver-side airbag, E...</td>\n",
       "      <td>NaN</td>\n",
       "      <td>4</td>\n",
       "    </tr>\n",
       "  </tbody>\n",
       "</table>\n",
       "</div>"
      ],
      "text/plain": [
       "  make_model body_type  price    vat     km  prev_owner   hp Body Color  \\\n",
       "0    Audi A1    Sedans  15770   True  56013           2   66      Black   \n",
       "1    Audi A1    Sedans  14500   True  80000           1  141        Red   \n",
       "2    Audi A1    Sedans  14640   True  83450           1   85      Black   \n",
       "3    Audi A1    Sedans  14500  False  73000           1   66      Brown   \n",
       "4    Audi A1    Sedans  16790  False  16200           1   66      Black   \n",
       "\n",
       "  Paint Type          Upholstery Nr. of Doors Nr. of Seats  \\\n",
       "0   Metallic  [\\nCloth, Black\\n]      [\\n5\\n]      [\\n5\\n]   \n",
       "1   Metallic   [\\nCloth, Grey\\n]      [\\n3\\n]      [\\n4\\n]   \n",
       "2   Metallic  [\\nCloth, Black\\n]      [\\n4\\n]      [\\n4\\n]   \n",
       "3   Metallic                 NaN      [\\n3\\n]      [\\n4\\n]   \n",
       "4   Metallic  [\\nCloth, Black\\n]      [\\n5\\n]      [\\n5\\n]   \n",
       "\n",
       "          Gearing Type    Displacement Cylinders  Drive chain  \\\n",
       "0  [\\n, Automatic, \\n]  [\\n1,422 cc\\n]   [\\n3\\n]  [\\nfront\\n]   \n",
       "1  [\\n, Automatic, \\n]  [\\n1,798 cc\\n]   [\\n4\\n]  [\\nfront\\n]   \n",
       "2  [\\n, Automatic, \\n]  [\\n1,598 cc\\n]       NaN  [\\nfront\\n]   \n",
       "3  [\\n, Automatic, \\n]  [\\n1,422 cc\\n]   [\\n3\\n]          NaN   \n",
       "4  [\\n, Automatic, \\n]  [\\n1,422 cc\\n]   [\\n3\\n]  [\\nfront\\n]   \n",
       "\n",
       "                                    Fuel  \\\n",
       "0  [\\n, Diesel (Particulate Filter), \\n]   \n",
       "1                     [\\n, Gasoline, \\n]   \n",
       "2  [\\n, Diesel (Particulate Filter), \\n]   \n",
       "3  [\\n, Diesel (Particulate Filter), \\n]   \n",
       "4  [\\n, Diesel (Particulate Filter), \\n]   \n",
       "\n",
       "                                         Consumption Emission Class  \\\n",
       "0  [[3.8 l/100 km (comb)], [4.3 l/100 km (city)],...   [\\nEuro 6\\n]   \n",
       "1  [[5.6 l/100 km (comb)], [7.1 l/100 km (city)],...   [\\nEuro 6\\n]   \n",
       "2  [[3.8 l/100 km (comb)], [4.4 l/100 km (city)],...   [\\nEuro 6\\n]   \n",
       "3  [[3.8 l/100 km (comb)], [4.3 l/100 km (city)],...   [\\nEuro 6\\n]   \n",
       "4  [[4.1 l/100 km (comb)], [4.6 l/100 km (city)],...   [\\nEuro 6\\n]   \n",
       "\n",
       "                           \\nComfort & Convenience\\n  \\\n",
       "0  [Air conditioning, Armrest, Automatic climate ...   \n",
       "1  [Air conditioning, Automatic climate control, ...   \n",
       "2  [Air conditioning, Cruise control, Electrical ...   \n",
       "3  [Air suspension, Armrest, Auxiliary heating, E...   \n",
       "4  [Air conditioning, Armrest, Automatic climate ...   \n",
       "\n",
       "                           \\nEntertainment & Media\\n  \\\n",
       "0  [Bluetooth, Hands-free equipment, On-board com...   \n",
       "1  [Bluetooth, Hands-free equipment, On-board com...   \n",
       "2                           [MP3, On-board computer]   \n",
       "3  [Bluetooth, CD player, Hands-free equipment, M...   \n",
       "4  [Bluetooth, CD player, Hands-free equipment, M...   \n",
       "\n",
       "                                          \\nExtras\\n  \\\n",
       "0  [Alloy wheels, Catalytic Converter, Voice Cont...   \n",
       "1  [Alloy wheels, Sport seats, Sport suspension, ...   \n",
       "2                      [Alloy wheels, Voice Control]   \n",
       "3         [Alloy wheels, Sport seats, Voice Control]   \n",
       "4  [Alloy wheels, Sport package, Sport suspension...   \n",
       "\n",
       "                               \\nSafety & Security\\n    Gears  age  \n",
       "0  [ABS, Central door lock, Daytime running light...      NaN    4  \n",
       "1  [ABS, Central door lock, Central door lock wit...  [\\n7\\n]    3  \n",
       "2  [ABS, Central door lock, Daytime running light...      NaN    4  \n",
       "3  [ABS, Alarm system, Central door lock with rem...  [\\n6\\n]    4  \n",
       "4  [ABS, Central door lock, Driver-side airbag, E...      NaN    4  "
      ]
     },
     "execution_count": 156,
     "metadata": {},
     "output_type": "execute_result"
    }
   ],
   "source": [
    "df.head()"
   ]
  },
  {
   "cell_type": "code",
   "execution_count": 157,
   "metadata": {},
   "outputs": [
    {
     "data": {
      "text/html": [
       "<div>\n",
       "<style scoped>\n",
       "    .dataframe tbody tr th:only-of-type {\n",
       "        vertical-align: middle;\n",
       "    }\n",
       "\n",
       "    .dataframe tbody tr th {\n",
       "        vertical-align: top;\n",
       "    }\n",
       "\n",
       "    .dataframe thead th {\n",
       "        text-align: right;\n",
       "    }\n",
       "</style>\n",
       "<table border=\"1\" class=\"dataframe\">\n",
       "  <thead>\n",
       "    <tr style=\"text-align: right;\">\n",
       "      <th></th>\n",
       "      <th>price</th>\n",
       "      <th>km</th>\n",
       "      <th>prev_owner</th>\n",
       "      <th>hp</th>\n",
       "      <th>age</th>\n",
       "    </tr>\n",
       "  </thead>\n",
       "  <tbody>\n",
       "    <tr>\n",
       "      <th>count</th>\n",
       "      <td>15919.000000</td>\n",
       "      <td>15919.000000</td>\n",
       "      <td>15919.000000</td>\n",
       "      <td>15919.000000</td>\n",
       "      <td>15919.000000</td>\n",
       "    </tr>\n",
       "    <tr>\n",
       "      <th>mean</th>\n",
       "      <td>18019.896727</td>\n",
       "      <td>31934.685219</td>\n",
       "      <td>0.883598</td>\n",
       "      <td>88.371066</td>\n",
       "      <td>2.287330</td>\n",
       "    </tr>\n",
       "    <tr>\n",
       "      <th>std</th>\n",
       "      <td>7386.169409</td>\n",
       "      <td>37089.141710</td>\n",
       "      <td>0.456646</td>\n",
       "      <td>26.838798</td>\n",
       "      <td>1.275469</td>\n",
       "    </tr>\n",
       "    <tr>\n",
       "      <th>min</th>\n",
       "      <td>13.000000</td>\n",
       "      <td>0.000000</td>\n",
       "      <td>0.000000</td>\n",
       "      <td>1.000000</td>\n",
       "      <td>0.000000</td>\n",
       "    </tr>\n",
       "    <tr>\n",
       "      <th>25%</th>\n",
       "      <td>12850.000000</td>\n",
       "      <td>1557.500000</td>\n",
       "      <td>1.000000</td>\n",
       "      <td>66.000000</td>\n",
       "      <td>1.000000</td>\n",
       "    </tr>\n",
       "    <tr>\n",
       "      <th>50%</th>\n",
       "      <td>16900.000000</td>\n",
       "      <td>20400.000000</td>\n",
       "      <td>1.000000</td>\n",
       "      <td>85.000000</td>\n",
       "      <td>2.000000</td>\n",
       "    </tr>\n",
       "    <tr>\n",
       "      <th>75%</th>\n",
       "      <td>21900.000000</td>\n",
       "      <td>46898.500000</td>\n",
       "      <td>1.000000</td>\n",
       "      <td>101.000000</td>\n",
       "      <td>3.000000</td>\n",
       "    </tr>\n",
       "    <tr>\n",
       "      <th>max</th>\n",
       "      <td>74600.000000</td>\n",
       "      <td>317000.000000</td>\n",
       "      <td>4.000000</td>\n",
       "      <td>294.000000</td>\n",
       "      <td>4.000000</td>\n",
       "    </tr>\n",
       "  </tbody>\n",
       "</table>\n",
       "</div>"
      ],
      "text/plain": [
       "              price             km    prev_owner            hp           age\n",
       "count  15919.000000   15919.000000  15919.000000  15919.000000  15919.000000\n",
       "mean   18019.896727   31934.685219      0.883598     88.371066      2.287330\n",
       "std     7386.169409   37089.141710      0.456646     26.838798      1.275469\n",
       "min       13.000000       0.000000      0.000000      1.000000      0.000000\n",
       "25%    12850.000000    1557.500000      1.000000     66.000000      1.000000\n",
       "50%    16900.000000   20400.000000      1.000000     85.000000      2.000000\n",
       "75%    21900.000000   46898.500000      1.000000    101.000000      3.000000\n",
       "max    74600.000000  317000.000000      4.000000    294.000000      4.000000"
      ]
     },
     "execution_count": 157,
     "metadata": {},
     "output_type": "execute_result"
    }
   ],
   "source": [
    "df.describe()"
   ]
  },
  {
   "cell_type": "code",
   "execution_count": 158,
   "metadata": {},
   "outputs": [
    {
     "data": {
      "text/plain": [
       "<AxesSubplot:xlabel='hp', ylabel='price'>"
      ]
     },
     "execution_count": 158,
     "metadata": {},
     "output_type": "execute_result"
    },
    {
     "data": {
      "image/png": "[encoded data removed]",
      "text/plain": [
       "<Figure size 1080x504 with 1 Axes>"
      ]
     },
     "metadata": {
      "needs_background": "light"
     },
     "output_type": "display_data"
    }
   ],
   "source": [
    "fig = plt.figure(figsize=(15,7))\n",
    "sns.scatterplot(\"hp\",\"price\",data=df)"
   ]
  },
  {
   "cell_type": "code",
   "execution_count": 159,
   "metadata": {},
   "outputs": [
    {
     "data": {
      "text/html": [
       "<div>\n",
       "<style scoped>\n",
       "    .dataframe tbody tr th:only-of-type {\n",
       "        vertical-align: middle;\n",
       "    }\n",
       "\n",
       "    .dataframe tbody tr th {\n",
       "        vertical-align: top;\n",
       "    }\n",
       "\n",
       "    .dataframe thead th {\n",
       "        text-align: right;\n",
       "    }\n",
       "</style>\n",
       "<table border=\"1\" class=\"dataframe\">\n",
       "  <thead>\n",
       "    <tr style=\"text-align: right;\">\n",
       "      <th></th>\n",
       "      <th>make_model</th>\n",
       "      <th>body_type</th>\n",
       "      <th>price</th>\n",
       "      <th>vat</th>\n",
       "      <th>km</th>\n",
       "      <th>prev_owner</th>\n",
       "      <th>hp</th>\n",
       "      <th>Body Color</th>\n",
       "      <th>Paint Type</th>\n",
       "      <th>Upholstery</th>\n",
       "      <th>Nr. of Doors</th>\n",
       "      <th>Nr. of Seats</th>\n",
       "      <th>Gearing Type</th>\n",
       "      <th>Displacement</th>\n",
       "      <th>Cylinders</th>\n",
       "      <th>Drive chain</th>\n",
       "      <th>Fuel</th>\n",
       "      <th>Consumption</th>\n",
       "      <th>Emission Class</th>\n",
       "      <th>\\nComfort &amp; Convenience\\n</th>\n",
       "      <th>\\nEntertainment &amp; Media\\n</th>\n",
       "      <th>\\nExtras\\n</th>\n",
       "      <th>\\nSafety &amp; Security\\n</th>\n",
       "      <th>Gears</th>\n",
       "      <th>age</th>\n",
       "    </tr>\n",
       "  </thead>\n",
       "  <tbody>\n",
       "    <tr>\n",
       "      <th>3587</th>\n",
       "      <td>Audi A3</td>\n",
       "      <td>Sedans</td>\n",
       "      <td>64900</td>\n",
       "      <td>False</td>\n",
       "      <td>35000</td>\n",
       "      <td>1</td>\n",
       "      <td>294</td>\n",
       "      <td>Grey</td>\n",
       "      <td>Metallic</td>\n",
       "      <td>NaN</td>\n",
       "      <td>[\\n5\\n]</td>\n",
       "      <td>[\\n5\\n]</td>\n",
       "      <td>[\\n, Semi-automatic, \\n]</td>\n",
       "      <td>[\\n2,480 cc\\n]</td>\n",
       "      <td>[\\n5\\n]</td>\n",
       "      <td>NaN</td>\n",
       "      <td>[\\n, Gasoline, \\n]</td>\n",
       "      <td>[[8.3 l/100 km (comb)], [11.3 l/100 km (city)]...</td>\n",
       "      <td>[\\nEuro 6\\n]</td>\n",
       "      <td>[Air conditioning, Seat ventilation, Split rea...</td>\n",
       "      <td>[Radio]</td>\n",
       "      <td>[Alloy wheels]</td>\n",
       "      <td>[Adaptive Cruise Control, Alarm system, Centra...</td>\n",
       "      <td>[\\n7\\n]</td>\n",
       "      <td>2</td>\n",
       "    </tr>\n",
       "    <tr>\n",
       "      <th>3590</th>\n",
       "      <td>Audi A3</td>\n",
       "      <td>Sedans</td>\n",
       "      <td>62900</td>\n",
       "      <td>False</td>\n",
       "      <td>700</td>\n",
       "      <td>0</td>\n",
       "      <td>294</td>\n",
       "      <td>Grey</td>\n",
       "      <td>Metallic</td>\n",
       "      <td>NaN</td>\n",
       "      <td>[\\n5\\n]</td>\n",
       "      <td>[\\n5\\n]</td>\n",
       "      <td>[\\n, Semi-automatic, \\n]</td>\n",
       "      <td>[\\n2,480 cc\\n]</td>\n",
       "      <td>[\\n5\\n]</td>\n",
       "      <td>NaN</td>\n",
       "      <td>[\\n, Gasoline, \\n]</td>\n",
       "      <td>[[8.3 l/100 km (comb)], [11.3 l/100 km (city)]...</td>\n",
       "      <td>[\\nEuro 6d-TEMP\\n]</td>\n",
       "      <td>[Air conditioning, Seat ventilation, Split rea...</td>\n",
       "      <td>[Bluetooth, Radio]</td>\n",
       "      <td>[Alloy wheels]</td>\n",
       "      <td>[ABS, Adaptive Cruise Control, Alarm system, C...</td>\n",
       "      <td>[\\n7\\n]</td>\n",
       "      <td>1</td>\n",
       "    </tr>\n",
       "    <tr>\n",
       "      <th>3592</th>\n",
       "      <td>Audi A3</td>\n",
       "      <td>Sedans</td>\n",
       "      <td>56900</td>\n",
       "      <td>False</td>\n",
       "      <td>5200</td>\n",
       "      <td>1</td>\n",
       "      <td>294</td>\n",
       "      <td>Grey</td>\n",
       "      <td>Metallic</td>\n",
       "      <td>[\\nFull leather, Black\\n]</td>\n",
       "      <td>[\\n5\\n]</td>\n",
       "      <td>[\\n5\\n]</td>\n",
       "      <td>[\\n, Semi-automatic, \\n]</td>\n",
       "      <td>[\\n2,480 cc\\n]</td>\n",
       "      <td>[\\n5\\n]</td>\n",
       "      <td>[\\n4WD\\n]</td>\n",
       "      <td>[\\n, Gasoline, \\n]</td>\n",
       "      <td>[[8.3 l/100 km (comb)], [11.3 l/100 km (city)]...</td>\n",
       "      <td>[\\nEuro 6\\n]</td>\n",
       "      <td>[Air conditioning, Air suspension, Armrest, Au...</td>\n",
       "      <td>[Bluetooth, CD player, Digital radio, Hands-fr...</td>\n",
       "      <td>[Alloy wheels, Shift paddles, Sport package, S...</td>\n",
       "      <td>[ABS, Adaptive Cruise Control, Adaptive headli...</td>\n",
       "      <td>[\\n7\\n]</td>\n",
       "      <td>2</td>\n",
       "    </tr>\n",
       "    <tr>\n",
       "      <th>3593</th>\n",
       "      <td>Audi A3</td>\n",
       "      <td>Sedans</td>\n",
       "      <td>58500</td>\n",
       "      <td>False</td>\n",
       "      <td>10000</td>\n",
       "      <td>1</td>\n",
       "      <td>294</td>\n",
       "      <td>White</td>\n",
       "      <td>Metallic</td>\n",
       "      <td>NaN</td>\n",
       "      <td>[\\n5\\n]</td>\n",
       "      <td>[\\n5\\n]</td>\n",
       "      <td>[\\n, Semi-automatic, \\n]</td>\n",
       "      <td>[\\n2,480 cc\\n]</td>\n",
       "      <td>[\\n5\\n]</td>\n",
       "      <td>NaN</td>\n",
       "      <td>[\\n, Gasoline, \\n]</td>\n",
       "      <td>[[8.3 l/100 km (comb)], [11.3 l/100 km (city)]...</td>\n",
       "      <td>[\\nEuro 6\\n]</td>\n",
       "      <td>[Air conditioning, Seat ventilation, Split rea...</td>\n",
       "      <td>[Radio]</td>\n",
       "      <td>[Alloy wheels]</td>\n",
       "      <td>[Adaptive Cruise Control, Alarm system, Centra...</td>\n",
       "      <td>[\\n7\\n]</td>\n",
       "      <td>2</td>\n",
       "    </tr>\n",
       "    <tr>\n",
       "      <th>3594</th>\n",
       "      <td>Audi A3</td>\n",
       "      <td>Sedans</td>\n",
       "      <td>58990</td>\n",
       "      <td>True</td>\n",
       "      <td>7500</td>\n",
       "      <td>1</td>\n",
       "      <td>228</td>\n",
       "      <td>Blue</td>\n",
       "      <td>Metallic</td>\n",
       "      <td>[\\nFull leather, Black\\n]</td>\n",
       "      <td>[\\n5\\n]</td>\n",
       "      <td>[\\n5\\n]</td>\n",
       "      <td>[\\n, Semi-automatic, \\n]</td>\n",
       "      <td>[\\n1,984 cc\\n]</td>\n",
       "      <td>NaN</td>\n",
       "      <td>[\\n4WD\\n]</td>\n",
       "      <td>[\\n, Gasoline, \\n]</td>\n",
       "      <td>[[6.5 l/100 km (comb)], [], []]</td>\n",
       "      <td>[\\nEuro 6\\n]</td>\n",
       "      <td>[Air conditioning, Automatic climate control, ...</td>\n",
       "      <td>[Bluetooth, CD player, Hands-free equipment, O...</td>\n",
       "      <td>[Alloy wheels, Sport package, Sport seats, Spo...</td>\n",
       "      <td>[ABS, Adaptive Cruise Control, Adaptive headli...</td>\n",
       "      <td>[\\n7\\n]</td>\n",
       "      <td>2</td>\n",
       "    </tr>\n",
       "  </tbody>\n",
       "</table>\n",
       "</div>"
      ],
      "text/plain": [
       "     make_model body_type  price    vat     km  prev_owner   hp Body Color  \\\n",
       "3587    Audi A3    Sedans  64900  False  35000           1  294       Grey   \n",
       "3590    Audi A3    Sedans  62900  False    700           0  294       Grey   \n",
       "3592    Audi A3    Sedans  56900  False   5200           1  294       Grey   \n",
       "3593    Audi A3    Sedans  58500  False  10000           1  294      White   \n",
       "3594    Audi A3    Sedans  58990   True   7500           1  228       Blue   \n",
       "\n",
       "     Paint Type                 Upholstery Nr. of Doors Nr. of Seats  \\\n",
       "3587   Metallic                        NaN      [\\n5\\n]      [\\n5\\n]   \n",
       "3590   Metallic                        NaN      [\\n5\\n]      [\\n5\\n]   \n",
       "3592   Metallic  [\\nFull leather, Black\\n]      [\\n5\\n]      [\\n5\\n]   \n",
       "3593   Metallic                        NaN      [\\n5\\n]      [\\n5\\n]   \n",
       "3594   Metallic  [\\nFull leather, Black\\n]      [\\n5\\n]      [\\n5\\n]   \n",
       "\n",
       "                  Gearing Type    Displacement Cylinders Drive chain  \\\n",
       "3587  [\\n, Semi-automatic, \\n]  [\\n2,480 cc\\n]   [\\n5\\n]         NaN   \n",
       "3590  [\\n, Semi-automatic, \\n]  [\\n2,480 cc\\n]   [\\n5\\n]         NaN   \n",
       "3592  [\\n, Semi-automatic, \\n]  [\\n2,480 cc\\n]   [\\n5\\n]   [\\n4WD\\n]   \n",
       "3593  [\\n, Semi-automatic, \\n]  [\\n2,480 cc\\n]   [\\n5\\n]         NaN   \n",
       "3594  [\\n, Semi-automatic, \\n]  [\\n1,984 cc\\n]       NaN   [\\n4WD\\n]   \n",
       "\n",
       "                    Fuel                                        Consumption  \\\n",
       "3587  [\\n, Gasoline, \\n]  [[8.3 l/100 km (comb)], [11.3 l/100 km (city)]...   \n",
       "3590  [\\n, Gasoline, \\n]  [[8.3 l/100 km (comb)], [11.3 l/100 km (city)]...   \n",
       "3592  [\\n, Gasoline, \\n]  [[8.3 l/100 km (comb)], [11.3 l/100 km (city)]...   \n",
       "3593  [\\n, Gasoline, \\n]  [[8.3 l/100 km (comb)], [11.3 l/100 km (city)]...   \n",
       "3594  [\\n, Gasoline, \\n]                    [[6.5 l/100 km (comb)], [], []]   \n",
       "\n",
       "          Emission Class                          \\nComfort & Convenience\\n  \\\n",
       "3587        [\\nEuro 6\\n]  [Air conditioning, Seat ventilation, Split rea...   \n",
       "3590  [\\nEuro 6d-TEMP\\n]  [Air conditioning, Seat ventilation, Split rea...   \n",
       "3592        [\\nEuro 6\\n]  [Air conditioning, Air suspension, Armrest, Au...   \n",
       "3593        [\\nEuro 6\\n]  [Air conditioning, Seat ventilation, Split rea...   \n",
       "3594        [\\nEuro 6\\n]  [Air conditioning, Automatic climate control, ...   \n",
       "\n",
       "                              \\nEntertainment & Media\\n  \\\n",
       "3587                                            [Radio]   \n",
       "3590                                 [Bluetooth, Radio]   \n",
       "3592  [Bluetooth, CD player, Digital radio, Hands-fr...   \n",
       "3593                                            [Radio]   \n",
       "3594  [Bluetooth, CD player, Hands-free equipment, O...   \n",
       "\n",
       "                                             \\nExtras\\n  \\\n",
       "3587                                     [Alloy wheels]   \n",
       "3590                                     [Alloy wheels]   \n",
       "3592  [Alloy wheels, Shift paddles, Sport package, S...   \n",
       "3593                                     [Alloy wheels]   \n",
       "3594  [Alloy wheels, Sport package, Sport seats, Spo...   \n",
       "\n",
       "                                  \\nSafety & Security\\n    Gears  age  \n",
       "3587  [Adaptive Cruise Control, Alarm system, Centra...  [\\n7\\n]    2  \n",
       "3590  [ABS, Adaptive Cruise Control, Alarm system, C...  [\\n7\\n]    1  \n",
       "3592  [ABS, Adaptive Cruise Control, Adaptive headli...  [\\n7\\n]    2  \n",
       "3593  [Adaptive Cruise Control, Alarm system, Centra...  [\\n7\\n]    2  \n",
       "3594  [ABS, Adaptive Cruise Control, Adaptive headli...  [\\n7\\n]    2  "
      ]
     },
     "execution_count": 159,
     "metadata": {},
     "output_type": "execute_result"
    }
   ],
   "source": [
    "df[(df.hp > 200)&(df.make_model == \"Audi A3\")].head()\n"
   ]
  },
  {
   "cell_type": "code",
   "execution_count": 160,
   "metadata": {
    "scrolled": true
   },
   "outputs": [
    {
     "ename": "TypeError",
     "evalue": "unhashable type: 'list'",
     "output_type": "error",
     "traceback": [
      "\u001b[1;31m---------------------------------------------------------------------------\u001b[0m",
      "\u001b[1;31mTypeError\u001b[0m                                 Traceback (most recent call last)",
      "\u001b[1;32mpandas\\_libs\\hashtable_class_helper.pxi\u001b[0m in \u001b[0;36mpandas._libs.hashtable.PyObjectHashTable.map_locations\u001b[1;34m()\u001b[0m\n",
      "\u001b[1;31mTypeError\u001b[0m: unhashable type: 'list'"
     ]
    },
    {
     "name": "stderr",
     "output_type": "stream",
     "text": [
      "Exception ignored in: 'pandas._libs.index.IndexEngine._call_map_locations'\n",
      "Traceback (most recent call last):\n",
      "  File \"pandas\\_libs\\hashtable_class_helper.pxi\", line 1709, in pandas._libs.hashtable.PyObjectHashTable.map_locations\n",
      "TypeError: unhashable type: 'list'\n"
     ]
    },
    {
     "data": {
      "text/plain": [
       "[\\nCloth, Black\\n]           5821\n",
       "NaN                          3720\n",
       "[\\nPart leather, Black\\n]    1121\n",
       "[\\nCloth\\n]                  1005\n",
       "[\\nCloth, Grey\\n]             891\n",
       "[\\nCloth, Other\\n]            639\n",
       "[\\nFull leather, Black\\n]     575\n",
       "[\\nBlack\\n]                   491\n",
       "[\\nGrey\\n]                    273\n",
       "[\\nOther, Other\\n]            182\n",
       "[\\nPart leather\\n]            140\n",
       "[\\nFull leather\\n]            139\n",
       "[\\nFull leather, Brown\\n]     116\n",
       "[\\nPart leather, Grey\\n]      116\n",
       "[\\nOther, Black\\n]            110\n",
       "[\\nFull leather, Other\\n]      72\n",
       "[\\nFull leather, Grey\\n]       67\n",
       "[\\nPart leather, Other\\n]      65\n",
       "[\\nOther\\n]                    56\n",
       "[\\nPart leather, Brown\\n]      50\n",
       "[\\nalcantara, Black\\n]         47\n",
       "[\\nVelour, Black\\n]            36\n",
       "[\\nFull leather, Beige\\n]      36\n",
       "[\\nCloth, Brown\\n]             28\n",
       "[\\nVelour\\n]                   16\n",
       "[\\nOther, Grey\\n]              15\n",
       "[\\nCloth, Beige\\n]             13\n",
       "[\\nCloth, Blue\\n]              12\n",
       "[\\nBrown\\n]                    12\n",
       "[\\nVelour, Grey\\n]              8\n",
       "[\\nCloth, White\\n]              8\n",
       "[\\nalcantara, Grey\\n]           6\n",
       "[\\nCloth, Red\\n]                5\n",
       "[\\nOther, Yellow\\n]             4\n",
       "[\\nBeige\\n]                     3\n",
       "[\\nPart leather, Red\\n]         3\n",
       "[\\nPart leather, Beige\\n]       2\n",
       "[\\nFull leather, Blue\\n]        2\n",
       "[\\nalcantara\\n]                 2\n",
       "[\\nWhite\\n]                     2\n",
       "[\\nPart leather, White\\n]       2\n",
       "[\\nalcantara, Other\\n]          2\n",
       "[\\nBlue\\n]                      2\n",
       "[\\nOther, Brown\\n]              1\n",
       "[\\nFull leather, Red\\n]         1\n",
       "[\\nFull leather, White\\n]       1\n",
       "[\\nCloth, Orange\\n]             1\n",
       "Name: Upholstery, dtype: int64"
      ]
     },
     "execution_count": 160,
     "metadata": {},
     "output_type": "execute_result"
    }
   ],
   "source": [
    "df.Upholstery.value_counts(dropna=False)"
   ]
  },
  {
   "cell_type": "code",
   "execution_count": 161,
   "metadata": {},
   "outputs": [],
   "source": [
    "df[\"Upholstery\"] = [\"\".join(item).strip() if type(item) == list else item for item in df[\"Upholstery\"]]"
   ]
  },
  {
   "cell_type": "code",
   "execution_count": 162,
   "metadata": {
    "scrolled": true
   },
   "outputs": [
    {
     "data": {
      "text/plain": [
       "Cloth, Black           5821\n",
       "NaN                    3720\n",
       "Part leather, Black    1121\n",
       "Cloth                  1005\n",
       "Cloth, Grey             891\n",
       "Cloth, Other            639\n",
       "Full leather, Black     575\n",
       "Black                   491\n",
       "Grey                    273\n",
       "Other, Other            182\n",
       "Part leather            140\n",
       "Full leather            139\n",
       "Part leather, Grey      116\n",
       "Full leather, Brown     116\n",
       "Other, Black            110\n",
       "Full leather, Other      72\n",
       "Full leather, Grey       67\n",
       "Part leather, Other      65\n",
       "Other                    56\n",
       "Part leather, Brown      50\n",
       "alcantara, Black         47\n",
       "Velour, Black            36\n",
       "Full leather, Beige      36\n",
       "Cloth, Brown             28\n",
       "Velour                   16\n",
       "Other, Grey              15\n",
       "Cloth, Beige             13\n",
       "Brown                    12\n",
       "Cloth, Blue              12\n",
       "Cloth, White              8\n",
       "Velour, Grey              8\n",
       "alcantara, Grey           6\n",
       "Cloth, Red                5\n",
       "Other, Yellow             4\n",
       "Beige                     3\n",
       "Part leather, Red         3\n",
       "alcantara                 2\n",
       "Part leather, Beige       2\n",
       "Blue                      2\n",
       "Part leather, White       2\n",
       "alcantara, Other          2\n",
       "White                     2\n",
       "Full leather, Blue        2\n",
       "Cloth, Orange             1\n",
       "Other, Brown              1\n",
       "Full leather, Red         1\n",
       "Full leather, White       1\n",
       "Name: Upholstery, dtype: int64"
      ]
     },
     "execution_count": 162,
     "metadata": {},
     "output_type": "execute_result"
    }
   ],
   "source": [
    "df.Upholstery.value_counts(dropna=False)"
   ]
  },
  {
   "cell_type": "code",
   "execution_count": 163,
   "metadata": {},
   "outputs": [
    {
     "data": {
      "text/plain": [
       "0         True\n",
       "1         True\n",
       "2         True\n",
       "3          NaN\n",
       "4         True\n",
       "         ...  \n",
       "15914      NaN\n",
       "15915     True\n",
       "15916    False\n",
       "15917    False\n",
       "15918    False\n",
       "Name: Upholstery, Length: 15919, dtype: object"
      ]
     },
     "execution_count": 163,
     "metadata": {},
     "output_type": "execute_result"
    }
   ],
   "source": [
    "df.Upholstery.str.contains(\"cloth\", case =False)"
   ]
  },
  {
   "cell_type": "code",
   "execution_count": 164,
   "metadata": {},
   "outputs": [],
   "source": [
    "df[\"Upholstery\"].fillna(\"Other\",inplace=True)"
   ]
  },
  {
   "cell_type": "code",
   "execution_count": 165,
   "metadata": {},
   "outputs": [],
   "source": [
    "df.loc[df.Upholstery.str.contains(\"cloth\", case =False), \"Upholstery\"] = \"cloth\""
   ]
  },
  {
   "cell_type": "code",
   "execution_count": 166,
   "metadata": {},
   "outputs": [
    {
     "data": {
      "text/plain": [
       "cloth                  8423\n",
       "Other                  3776\n",
       "Part leather, Black    1121\n",
       "Full leather, Black     575\n",
       "Black                   491\n",
       "Grey                    273\n",
       "Other, Other            182\n",
       "Part leather            140\n",
       "Full leather            139\n",
       "Full leather, Brown     116\n",
       "Part leather, Grey      116\n",
       "Other, Black            110\n",
       "Full leather, Other      72\n",
       "Full leather, Grey       67\n",
       "Part leather, Other      65\n",
       "Part leather, Brown      50\n",
       "alcantara, Black         47\n",
       "Full leather, Beige      36\n",
       "Velour, Black            36\n",
       "Velour                   16\n",
       "Other, Grey              15\n",
       "Brown                    12\n",
       "Velour, Grey              8\n",
       "alcantara, Grey           6\n",
       "Other, Yellow             4\n",
       "Part leather, Red         3\n",
       "Beige                     3\n",
       "alcantara, Other          2\n",
       "Full leather, Blue        2\n",
       "White                     2\n",
       "alcantara                 2\n",
       "Part leather, Beige       2\n",
       "Part leather, White       2\n",
       "Blue                      2\n",
       "Other, Brown              1\n",
       "Full leather, Red         1\n",
       "Full leather, White       1\n",
       "Name: Upholstery, dtype: int64"
      ]
     },
     "execution_count": 166,
     "metadata": {},
     "output_type": "execute_result"
    }
   ],
   "source": [
    "df.Upholstery.value_counts(dropna=False)"
   ]
  },
  {
   "cell_type": "code",
   "execution_count": 167,
   "metadata": {},
   "outputs": [],
   "source": [
    "df.loc[df.Upholstery.str.contains(\"Full\", case =False), \"Upholstery\"] = \"full\""
   ]
  },
  {
   "cell_type": "code",
   "execution_count": 168,
   "metadata": {},
   "outputs": [],
   "source": [
    "df.loc[df.Upholstery.str.contains(\"Part\", case =False), \"Upholstery\"] = \"part\""
   ]
  },
  {
   "cell_type": "code",
   "execution_count": 169,
   "metadata": {},
   "outputs": [
    {
     "data": {
      "text/plain": [
       "cloth               8423\n",
       "Other               3776\n",
       "part                1499\n",
       "full                1009\n",
       "Black                491\n",
       "Grey                 273\n",
       "Other, Other         182\n",
       "Other, Black         110\n",
       "alcantara, Black      47\n",
       "Velour, Black         36\n",
       "Velour                16\n",
       "Other, Grey           15\n",
       "Brown                 12\n",
       "Velour, Grey           8\n",
       "alcantara, Grey        6\n",
       "Other, Yellow          4\n",
       "Beige                  3\n",
       "White                  2\n",
       "Blue                   2\n",
       "alcantara, Other       2\n",
       "alcantara              2\n",
       "Other, Brown           1\n",
       "Name: Upholstery, dtype: int64"
      ]
     },
     "execution_count": 169,
     "metadata": {},
     "output_type": "execute_result"
    }
   ],
   "source": [
    "df.Upholstery.value_counts(dropna=False)"
   ]
  },
  {
   "cell_type": "code",
   "execution_count": 170,
   "metadata": {},
   "outputs": [],
   "source": [
    "df.loc[df.Upholstery.str.contains(\"velour\", case =False), \"Upholstery\"] = \"cloth\""
   ]
  },
  {
   "cell_type": "code",
   "execution_count": 171,
   "metadata": {},
   "outputs": [
    {
     "data": {
      "text/plain": [
       "cloth               8483\n",
       "Other               3776\n",
       "part                1499\n",
       "full                1009\n",
       "Black                491\n",
       "Grey                 273\n",
       "Other, Other         182\n",
       "Other, Black         110\n",
       "alcantara, Black      47\n",
       "Other, Grey           15\n",
       "Brown                 12\n",
       "alcantara, Grey        6\n",
       "Other, Yellow          4\n",
       "Beige                  3\n",
       "White                  2\n",
       "Blue                   2\n",
       "alcantara, Other       2\n",
       "alcantara              2\n",
       "Other, Brown           1\n",
       "Name: Upholstery, dtype: int64"
      ]
     },
     "execution_count": 171,
     "metadata": {},
     "output_type": "execute_result"
    }
   ],
   "source": [
    "df.Upholstery.value_counts(dropna=False)"
   ]
  },
  {
   "cell_type": "code",
   "execution_count": 172,
   "metadata": {},
   "outputs": [],
   "source": [
    "not_other = df.Upholstery.str.contains(\"cloth|part|full\", case= False, regex=True)"
   ]
  },
  {
   "cell_type": "code",
   "execution_count": 173,
   "metadata": {},
   "outputs": [
    {
     "data": {
      "text/plain": [
       "Other               3776\n",
       "Black                491\n",
       "Grey                 273\n",
       "Other, Other         182\n",
       "Other, Black         110\n",
       "alcantara, Black      47\n",
       "Other, Grey           15\n",
       "Brown                 12\n",
       "alcantara, Grey        6\n",
       "Other, Yellow          4\n",
       "Beige                  3\n",
       "alcantara, Other       2\n",
       "Blue                   2\n",
       "alcantara              2\n",
       "White                  2\n",
       "Other, Brown           1\n",
       "Name: Upholstery, dtype: int64"
      ]
     },
     "execution_count": 173,
     "metadata": {},
     "output_type": "execute_result"
    }
   ],
   "source": [
    "df.loc[~not_other, \"Upholstery\"].value_counts()"
   ]
  },
  {
   "cell_type": "code",
   "execution_count": 174,
   "metadata": {},
   "outputs": [],
   "source": [
    "df.loc[~not_other, \"Upholstery\"] = np.nan"
   ]
  },
  {
   "cell_type": "code",
   "execution_count": 175,
   "metadata": {},
   "outputs": [
    {
     "data": {
      "text/plain": [
       "cloth    8483\n",
       "NaN      4928\n",
       "part     1499\n",
       "full     1009\n",
       "Name: Upholstery, dtype: int64"
      ]
     },
     "execution_count": 175,
     "metadata": {},
     "output_type": "execute_result"
    }
   ],
   "source": [
    "df.Upholstery.value_counts(dropna= False)  # /df.Upholstery.shape[0]"
   ]
  },
  {
   "cell_type": "code",
   "execution_count": 176,
   "metadata": {},
   "outputs": [
    {
     "data": {
      "text/plain": [
       "0.707447252105746"
      ]
     },
     "execution_count": 176,
     "metadata": {},
     "output_type": "execute_result"
    }
   ],
   "source": [
    "8483/11991"
   ]
  },
  {
   "cell_type": "code",
   "execution_count": 177,
   "metadata": {},
   "outputs": [
    {
     "data": {
      "text/plain": [
       "3486.3000583771163"
      ]
     },
     "execution_count": 177,
     "metadata": {},
     "output_type": "execute_result"
    }
   ],
   "source": [
    "4928*0.707447252105746"
   ]
  },
  {
   "cell_type": "code",
   "execution_count": 178,
   "metadata": {},
   "outputs": [],
   "source": [
    "fill_most(df,\"make_model\", \"Upholstery\")"
   ]
  },
  {
   "cell_type": "code",
   "execution_count": 179,
   "metadata": {},
   "outputs": [
    {
     "data": {
      "text/plain": [
       "cloth    8483\n",
       "NaN      4928\n",
       "part     1499\n",
       "full     1009\n",
       "Name: Upholstery, dtype: int64"
      ]
     },
     "execution_count": 179,
     "metadata": {},
     "output_type": "execute_result"
    }
   ],
   "source": [
    "df.Upholstery.value_counts(dropna= False)"
   ]
  },
  {
   "cell_type": "code",
   "execution_count": 180,
   "metadata": {},
   "outputs": [
    {
     "data": {
      "text/plain": [
       "0    cloth\n",
       "dtype: object"
      ]
     },
     "execution_count": 180,
     "metadata": {},
     "output_type": "execute_result"
    }
   ],
   "source": [
    "df[df[\"make_model\"]==\"Audi A1\"][\"Upholstery\"].mode()\n"
   ]
  },
  {
   "cell_type": "code",
   "execution_count": 181,
   "metadata": {},
   "outputs": [],
   "source": [
    "def fill_most1(df,group,target):\n",
    "    for i in list(df[group].unique()):\n",
    "        grp_inx = list(df[df[group]==i][target].index)\n",
    "        df[target].iloc[grp_inx] = df[target].iloc[grp_inx].fillna(df[df[group]==i][target].mode())"
   ]
  },
  {
   "cell_type": "code",
   "execution_count": 182,
   "metadata": {},
   "outputs": [],
   "source": [
    "fill_most1(df,\"make_model\",\"Upholstery\") # çalışmıyor"
   ]
  },
  {
   "cell_type": "code",
   "execution_count": 183,
   "metadata": {},
   "outputs": [],
   "source": [
    "df.Upholstery = df.Upholstery.bfill()"
   ]
  },
  {
   "cell_type": "code",
   "execution_count": 184,
   "metadata": {},
   "outputs": [
    {
     "data": {
      "text/plain": [
       "<AxesSubplot:>"
      ]
     },
     "execution_count": 184,
     "metadata": {},
     "output_type": "execute_result"
    },
    {
     "data": {
      "image/png": "[encoded data removed]",
      "text/plain": [
       "<Figure size 432x288 with 1 Axes>"
      ]
     },
     "metadata": {
      "needs_background": "light"
     },
     "output_type": "display_data"
    }
   ],
   "source": [
    "df.Upholstery.value_counts().plot.barh()"
   ]
  },
  {
   "cell_type": "code",
   "execution_count": 185,
   "metadata": {},
   "outputs": [
    {
     "data": {
      "text/html": [
       "<div>\n",
       "<style scoped>\n",
       "    .dataframe tbody tr th:only-of-type {\n",
       "        vertical-align: middle;\n",
       "    }\n",
       "\n",
       "    .dataframe tbody tr th {\n",
       "        vertical-align: top;\n",
       "    }\n",
       "\n",
       "    .dataframe thead th {\n",
       "        text-align: right;\n",
       "    }\n",
       "</style>\n",
       "<table border=\"1\" class=\"dataframe\">\n",
       "  <thead>\n",
       "    <tr style=\"text-align: right;\">\n",
       "      <th></th>\n",
       "      <th>make_model</th>\n",
       "      <th>body_type</th>\n",
       "      <th>price</th>\n",
       "      <th>vat</th>\n",
       "      <th>km</th>\n",
       "      <th>prev_owner</th>\n",
       "      <th>hp</th>\n",
       "      <th>Body Color</th>\n",
       "      <th>Paint Type</th>\n",
       "      <th>Upholstery</th>\n",
       "      <th>Nr. of Doors</th>\n",
       "      <th>Nr. of Seats</th>\n",
       "      <th>Gearing Type</th>\n",
       "      <th>Displacement</th>\n",
       "      <th>Cylinders</th>\n",
       "      <th>Drive chain</th>\n",
       "      <th>Fuel</th>\n",
       "      <th>Consumption</th>\n",
       "      <th>Emission Class</th>\n",
       "      <th>\\nComfort &amp; Convenience\\n</th>\n",
       "      <th>\\nEntertainment &amp; Media\\n</th>\n",
       "      <th>\\nExtras\\n</th>\n",
       "      <th>\\nSafety &amp; Security\\n</th>\n",
       "      <th>Gears</th>\n",
       "      <th>age</th>\n",
       "    </tr>\n",
       "  </thead>\n",
       "  <tbody>\n",
       "    <tr>\n",
       "      <th>0</th>\n",
       "      <td>Audi A1</td>\n",
       "      <td>Sedans</td>\n",
       "      <td>15770</td>\n",
       "      <td>True</td>\n",
       "      <td>56013</td>\n",
       "      <td>2</td>\n",
       "      <td>66</td>\n",
       "      <td>Black</td>\n",
       "      <td>Metallic</td>\n",
       "      <td>cloth</td>\n",
       "      <td>[\\n5\\n]</td>\n",
       "      <td>[\\n5\\n]</td>\n",
       "      <td>[\\n, Automatic, \\n]</td>\n",
       "      <td>[\\n1,422 cc\\n]</td>\n",
       "      <td>[\\n3\\n]</td>\n",
       "      <td>[\\nfront\\n]</td>\n",
       "      <td>[\\n, Diesel (Particulate Filter), \\n]</td>\n",
       "      <td>[[3.8 l/100 km (comb)], [4.3 l/100 km (city)],...</td>\n",
       "      <td>[\\nEuro 6\\n]</td>\n",
       "      <td>[Air conditioning, Armrest, Automatic climate ...</td>\n",
       "      <td>[Bluetooth, Hands-free equipment, On-board com...</td>\n",
       "      <td>[Alloy wheels, Catalytic Converter, Voice Cont...</td>\n",
       "      <td>[ABS, Central door lock, Daytime running light...</td>\n",
       "      <td>NaN</td>\n",
       "      <td>4</td>\n",
       "    </tr>\n",
       "    <tr>\n",
       "      <th>1</th>\n",
       "      <td>Audi A1</td>\n",
       "      <td>Sedans</td>\n",
       "      <td>14500</td>\n",
       "      <td>True</td>\n",
       "      <td>80000</td>\n",
       "      <td>1</td>\n",
       "      <td>141</td>\n",
       "      <td>Red</td>\n",
       "      <td>Metallic</td>\n",
       "      <td>cloth</td>\n",
       "      <td>[\\n3\\n]</td>\n",
       "      <td>[\\n4\\n]</td>\n",
       "      <td>[\\n, Automatic, \\n]</td>\n",
       "      <td>[\\n1,798 cc\\n]</td>\n",
       "      <td>[\\n4\\n]</td>\n",
       "      <td>[\\nfront\\n]</td>\n",
       "      <td>[\\n, Gasoline, \\n]</td>\n",
       "      <td>[[5.6 l/100 km (comb)], [7.1 l/100 km (city)],...</td>\n",
       "      <td>[\\nEuro 6\\n]</td>\n",
       "      <td>[Air conditioning, Automatic climate control, ...</td>\n",
       "      <td>[Bluetooth, Hands-free equipment, On-board com...</td>\n",
       "      <td>[Alloy wheels, Sport seats, Sport suspension, ...</td>\n",
       "      <td>[ABS, Central door lock, Central door lock wit...</td>\n",
       "      <td>[\\n7\\n]</td>\n",
       "      <td>3</td>\n",
       "    </tr>\n",
       "    <tr>\n",
       "      <th>2</th>\n",
       "      <td>Audi A1</td>\n",
       "      <td>Sedans</td>\n",
       "      <td>14640</td>\n",
       "      <td>True</td>\n",
       "      <td>83450</td>\n",
       "      <td>1</td>\n",
       "      <td>85</td>\n",
       "      <td>Black</td>\n",
       "      <td>Metallic</td>\n",
       "      <td>cloth</td>\n",
       "      <td>[\\n4\\n]</td>\n",
       "      <td>[\\n4\\n]</td>\n",
       "      <td>[\\n, Automatic, \\n]</td>\n",
       "      <td>[\\n1,598 cc\\n]</td>\n",
       "      <td>NaN</td>\n",
       "      <td>[\\nfront\\n]</td>\n",
       "      <td>[\\n, Diesel (Particulate Filter), \\n]</td>\n",
       "      <td>[[3.8 l/100 km (comb)], [4.4 l/100 km (city)],...</td>\n",
       "      <td>[\\nEuro 6\\n]</td>\n",
       "      <td>[Air conditioning, Cruise control, Electrical ...</td>\n",
       "      <td>[MP3, On-board computer]</td>\n",
       "      <td>[Alloy wheels, Voice Control]</td>\n",
       "      <td>[ABS, Central door lock, Daytime running light...</td>\n",
       "      <td>NaN</td>\n",
       "      <td>4</td>\n",
       "    </tr>\n",
       "    <tr>\n",
       "      <th>3</th>\n",
       "      <td>Audi A1</td>\n",
       "      <td>Sedans</td>\n",
       "      <td>14500</td>\n",
       "      <td>False</td>\n",
       "      <td>73000</td>\n",
       "      <td>1</td>\n",
       "      <td>66</td>\n",
       "      <td>Brown</td>\n",
       "      <td>Metallic</td>\n",
       "      <td>cloth</td>\n",
       "      <td>[\\n3\\n]</td>\n",
       "      <td>[\\n4\\n]</td>\n",
       "      <td>[\\n, Automatic, \\n]</td>\n",
       "      <td>[\\n1,422 cc\\n]</td>\n",
       "      <td>[\\n3\\n]</td>\n",
       "      <td>NaN</td>\n",
       "      <td>[\\n, Diesel (Particulate Filter), \\n]</td>\n",
       "      <td>[[3.8 l/100 km (comb)], [4.3 l/100 km (city)],...</td>\n",
       "      <td>[\\nEuro 6\\n]</td>\n",
       "      <td>[Air suspension, Armrest, Auxiliary heating, E...</td>\n",
       "      <td>[Bluetooth, CD player, Hands-free equipment, M...</td>\n",
       "      <td>[Alloy wheels, Sport seats, Voice Control]</td>\n",
       "      <td>[ABS, Alarm system, Central door lock with rem...</td>\n",
       "      <td>[\\n6\\n]</td>\n",
       "      <td>4</td>\n",
       "    </tr>\n",
       "    <tr>\n",
       "      <th>4</th>\n",
       "      <td>Audi A1</td>\n",
       "      <td>Sedans</td>\n",
       "      <td>16790</td>\n",
       "      <td>False</td>\n",
       "      <td>16200</td>\n",
       "      <td>1</td>\n",
       "      <td>66</td>\n",
       "      <td>Black</td>\n",
       "      <td>Metallic</td>\n",
       "      <td>cloth</td>\n",
       "      <td>[\\n5\\n]</td>\n",
       "      <td>[\\n5\\n]</td>\n",
       "      <td>[\\n, Automatic, \\n]</td>\n",
       "      <td>[\\n1,422 cc\\n]</td>\n",
       "      <td>[\\n3\\n]</td>\n",
       "      <td>[\\nfront\\n]</td>\n",
       "      <td>[\\n, Diesel (Particulate Filter), \\n]</td>\n",
       "      <td>[[4.1 l/100 km (comb)], [4.6 l/100 km (city)],...</td>\n",
       "      <td>[\\nEuro 6\\n]</td>\n",
       "      <td>[Air conditioning, Armrest, Automatic climate ...</td>\n",
       "      <td>[Bluetooth, CD player, Hands-free equipment, M...</td>\n",
       "      <td>[Alloy wheels, Sport package, Sport suspension...</td>\n",
       "      <td>[ABS, Central door lock, Driver-side airbag, E...</td>\n",
       "      <td>NaN</td>\n",
       "      <td>4</td>\n",
       "    </tr>\n",
       "  </tbody>\n",
       "</table>\n",
       "</div>"
      ],
      "text/plain": [
       "  make_model body_type  price    vat     km  prev_owner   hp Body Color  \\\n",
       "0    Audi A1    Sedans  15770   True  56013           2   66      Black   \n",
       "1    Audi A1    Sedans  14500   True  80000           1  141        Red   \n",
       "2    Audi A1    Sedans  14640   True  83450           1   85      Black   \n",
       "3    Audi A1    Sedans  14500  False  73000           1   66      Brown   \n",
       "4    Audi A1    Sedans  16790  False  16200           1   66      Black   \n",
       "\n",
       "  Paint Type Upholstery Nr. of Doors Nr. of Seats         Gearing Type  \\\n",
       "0   Metallic      cloth      [\\n5\\n]      [\\n5\\n]  [\\n, Automatic, \\n]   \n",
       "1   Metallic      cloth      [\\n3\\n]      [\\n4\\n]  [\\n, Automatic, \\n]   \n",
       "2   Metallic      cloth      [\\n4\\n]      [\\n4\\n]  [\\n, Automatic, \\n]   \n",
       "3   Metallic      cloth      [\\n3\\n]      [\\n4\\n]  [\\n, Automatic, \\n]   \n",
       "4   Metallic      cloth      [\\n5\\n]      [\\n5\\n]  [\\n, Automatic, \\n]   \n",
       "\n",
       "     Displacement Cylinders  Drive chain  \\\n",
       "0  [\\n1,422 cc\\n]   [\\n3\\n]  [\\nfront\\n]   \n",
       "1  [\\n1,798 cc\\n]   [\\n4\\n]  [\\nfront\\n]   \n",
       "2  [\\n1,598 cc\\n]       NaN  [\\nfront\\n]   \n",
       "3  [\\n1,422 cc\\n]   [\\n3\\n]          NaN   \n",
       "4  [\\n1,422 cc\\n]   [\\n3\\n]  [\\nfront\\n]   \n",
       "\n",
       "                                    Fuel  \\\n",
       "0  [\\n, Diesel (Particulate Filter), \\n]   \n",
       "1                     [\\n, Gasoline, \\n]   \n",
       "2  [\\n, Diesel (Particulate Filter), \\n]   \n",
       "3  [\\n, Diesel (Particulate Filter), \\n]   \n",
       "4  [\\n, Diesel (Particulate Filter), \\n]   \n",
       "\n",
       "                                         Consumption Emission Class  \\\n",
       "0  [[3.8 l/100 km (comb)], [4.3 l/100 km (city)],...   [\\nEuro 6\\n]   \n",
       "1  [[5.6 l/100 km (comb)], [7.1 l/100 km (city)],...   [\\nEuro 6\\n]   \n",
       "2  [[3.8 l/100 km (comb)], [4.4 l/100 km (city)],...   [\\nEuro 6\\n]   \n",
       "3  [[3.8 l/100 km (comb)], [4.3 l/100 km (city)],...   [\\nEuro 6\\n]   \n",
       "4  [[4.1 l/100 km (comb)], [4.6 l/100 km (city)],...   [\\nEuro 6\\n]   \n",
       "\n",
       "                           \\nComfort & Convenience\\n  \\\n",
       "0  [Air conditioning, Armrest, Automatic climate ...   \n",
       "1  [Air conditioning, Automatic climate control, ...   \n",
       "2  [Air conditioning, Cruise control, Electrical ...   \n",
       "3  [Air suspension, Armrest, Auxiliary heating, E...   \n",
       "4  [Air conditioning, Armrest, Automatic climate ...   \n",
       "\n",
       "                           \\nEntertainment & Media\\n  \\\n",
       "0  [Bluetooth, Hands-free equipment, On-board com...   \n",
       "1  [Bluetooth, Hands-free equipment, On-board com...   \n",
       "2                           [MP3, On-board computer]   \n",
       "3  [Bluetooth, CD player, Hands-free equipment, M...   \n",
       "4  [Bluetooth, CD player, Hands-free equipment, M...   \n",
       "\n",
       "                                          \\nExtras\\n  \\\n",
       "0  [Alloy wheels, Catalytic Converter, Voice Cont...   \n",
       "1  [Alloy wheels, Sport seats, Sport suspension, ...   \n",
       "2                      [Alloy wheels, Voice Control]   \n",
       "3         [Alloy wheels, Sport seats, Voice Control]   \n",
       "4  [Alloy wheels, Sport package, Sport suspension...   \n",
       "\n",
       "                               \\nSafety & Security\\n    Gears  age  \n",
       "0  [ABS, Central door lock, Daytime running light...      NaN    4  \n",
       "1  [ABS, Central door lock, Central door lock wit...  [\\n7\\n]    3  \n",
       "2  [ABS, Central door lock, Daytime running light...      NaN    4  \n",
       "3  [ABS, Alarm system, Central door lock with rem...  [\\n6\\n]    4  \n",
       "4  [ABS, Central door lock, Driver-side airbag, E...      NaN    4  "
      ]
     },
     "execution_count": 185,
     "metadata": {},
     "output_type": "execute_result"
    }
   ],
   "source": [
    "df.head() #sinan ile burada kaldık"
   ]
  },
  {
   "cell_type": "code",
   "execution_count": 186,
   "metadata": {},
   "outputs": [
    {
     "ename": "TypeError",
     "evalue": "unhashable type: 'list'",
     "output_type": "error",
     "traceback": [
      "\u001b[1;31m---------------------------------------------------------------------------\u001b[0m",
      "\u001b[1;31mTypeError\u001b[0m                                 Traceback (most recent call last)",
      "\u001b[1;32mpandas\\_libs\\hashtable_class_helper.pxi\u001b[0m in \u001b[0;36mpandas._libs.hashtable.PyObjectHashTable.map_locations\u001b[1;34m()\u001b[0m\n",
      "\u001b[1;31mTypeError\u001b[0m: unhashable type: 'list'"
     ]
    },
    {
     "name": "stderr",
     "output_type": "stream",
     "text": [
      "Exception ignored in: 'pandas._libs.index.IndexEngine._call_map_locations'\n",
      "Traceback (most recent call last):\n",
      "  File \"pandas\\_libs\\hashtable_class_helper.pxi\", line 1709, in pandas._libs.hashtable.PyObjectHashTable.map_locations\n",
      "TypeError: unhashable type: 'list'\n"
     ]
    },
    {
     "data": {
      "text/plain": [
       "[\\n5\\n]    11575\n",
       "[\\n4\\n]     3079\n",
       "[\\n3\\n]      832\n",
       "[\\n2\\n]      219\n",
       "NaN          212\n",
       "[\\n7\\n]        1\n",
       "[\\n1\\n]        1\n",
       "Name: Nr. of Doors, dtype: int64"
      ]
     },
     "execution_count": 186,
     "metadata": {},
     "output_type": "execute_result"
    }
   ],
   "source": [
    "df[\"Nr. of Doors\"].value_counts(dropna=False)"
   ]
  },
  {
   "cell_type": "code",
   "execution_count": 187,
   "metadata": {},
   "outputs": [
    {
     "data": {
      "text/plain": [
       "0        5\n",
       "1        3\n",
       "2        4\n",
       "3        3\n",
       "4        5\n",
       "        ..\n",
       "15914    5\n",
       "15915    5\n",
       "15916    5\n",
       "15917    5\n",
       "15918    5\n",
       "Name: Nr. of Doors, Length: 15919, dtype: object"
      ]
     },
     "execution_count": 187,
     "metadata": {},
     "output_type": "execute_result"
    }
   ],
   "source": [
    "df[\"Nr. of Doors\"].str[0].str[1]"
   ]
  },
  {
   "cell_type": "code",
   "execution_count": 188,
   "metadata": {},
   "outputs": [],
   "source": [
    "df[\"Nr. of Doors\"] = df[\"Nr. of Doors\"].str[0].str[1]"
   ]
  },
  {
   "cell_type": "code",
   "execution_count": 189,
   "metadata": {},
   "outputs": [
    {
     "data": {
      "text/plain": [
       "5      11575\n",
       "4       3079\n",
       "3        832\n",
       "2        219\n",
       "NaN      212\n",
       "1          1\n",
       "7          1\n",
       "Name: Nr. of Doors, dtype: int64"
      ]
     },
     "execution_count": 189,
     "metadata": {},
     "output_type": "execute_result"
    }
   ],
   "source": [
    "df[\"Nr. of Doors\"].value_counts(dropna=False)"
   ]
  },
  {
   "cell_type": "code",
   "execution_count": 190,
   "metadata": {},
   "outputs": [
    {
     "data": {
      "text/html": [
       "<div>\n",
       "<style scoped>\n",
       "    .dataframe tbody tr th:only-of-type {\n",
       "        vertical-align: middle;\n",
       "    }\n",
       "\n",
       "    .dataframe tbody tr th {\n",
       "        vertical-align: top;\n",
       "    }\n",
       "\n",
       "    .dataframe thead th {\n",
       "        text-align: right;\n",
       "    }\n",
       "</style>\n",
       "<table border=\"1\" class=\"dataframe\">\n",
       "  <thead>\n",
       "    <tr style=\"text-align: right;\">\n",
       "      <th></th>\n",
       "      <th>make_model</th>\n",
       "      <th>body_type</th>\n",
       "      <th>price</th>\n",
       "      <th>vat</th>\n",
       "      <th>km</th>\n",
       "      <th>prev_owner</th>\n",
       "      <th>hp</th>\n",
       "      <th>Body Color</th>\n",
       "      <th>Paint Type</th>\n",
       "      <th>Upholstery</th>\n",
       "      <th>Nr. of Doors</th>\n",
       "      <th>Nr. of Seats</th>\n",
       "      <th>Gearing Type</th>\n",
       "      <th>Displacement</th>\n",
       "      <th>Cylinders</th>\n",
       "      <th>Drive chain</th>\n",
       "      <th>Fuel</th>\n",
       "      <th>Consumption</th>\n",
       "      <th>Emission Class</th>\n",
       "      <th>\\nComfort &amp; Convenience\\n</th>\n",
       "      <th>\\nEntertainment &amp; Media\\n</th>\n",
       "      <th>\\nExtras\\n</th>\n",
       "      <th>\\nSafety &amp; Security\\n</th>\n",
       "      <th>Gears</th>\n",
       "      <th>age</th>\n",
       "    </tr>\n",
       "  </thead>\n",
       "  <tbody>\n",
       "    <tr>\n",
       "      <th>15202</th>\n",
       "      <td>Renault Espace</td>\n",
       "      <td>Van</td>\n",
       "      <td>21600</td>\n",
       "      <td>True</td>\n",
       "      <td>78000</td>\n",
       "      <td>1</td>\n",
       "      <td>118</td>\n",
       "      <td>Brown</td>\n",
       "      <td>Metallic</td>\n",
       "      <td>full</td>\n",
       "      <td>7</td>\n",
       "      <td>NaN</td>\n",
       "      <td>[\\n, Automatic, \\n]</td>\n",
       "      <td>[\\n1,598 cc\\n]</td>\n",
       "      <td>[\\n4\\n]</td>\n",
       "      <td>[\\nfront\\n]</td>\n",
       "      <td>[\\n, Diesel, \\n]</td>\n",
       "      <td>[[4.6 l/100 km (comb)], [5 l/100 km (city)], [...</td>\n",
       "      <td>[\\nEuro 6\\n]</td>\n",
       "      <td>[Air conditioning, Armrest, Automatic climate ...</td>\n",
       "      <td>[Bluetooth, Digital radio, MP3, On-board compu...</td>\n",
       "      <td>[Alloy wheels, Touch screen]</td>\n",
       "      <td>[ABS, Blind spot monitor, Central door lock, D...</td>\n",
       "      <td>[\\n6\\n]</td>\n",
       "      <td>4</td>\n",
       "    </tr>\n",
       "  </tbody>\n",
       "</table>\n",
       "</div>"
      ],
      "text/plain": [
       "           make_model body_type  price   vat     km  prev_owner   hp  \\\n",
       "15202  Renault Espace       Van  21600  True  78000           1  118   \n",
       "\n",
       "      Body Color Paint Type Upholstery Nr. of Doors Nr. of Seats  \\\n",
       "15202      Brown   Metallic       full            7          NaN   \n",
       "\n",
       "              Gearing Type    Displacement Cylinders  Drive chain  \\\n",
       "15202  [\\n, Automatic, \\n]  [\\n1,598 cc\\n]   [\\n4\\n]  [\\nfront\\n]   \n",
       "\n",
       "                   Fuel                                        Consumption  \\\n",
       "15202  [\\n, Diesel, \\n]  [[4.6 l/100 km (comb)], [5 l/100 km (city)], [...   \n",
       "\n",
       "      Emission Class                          \\nComfort & Convenience\\n  \\\n",
       "15202   [\\nEuro 6\\n]  [Air conditioning, Armrest, Automatic climate ...   \n",
       "\n",
       "                               \\nEntertainment & Media\\n  \\\n",
       "15202  [Bluetooth, Digital radio, MP3, On-board compu...   \n",
       "\n",
       "                         \\nExtras\\n  \\\n",
       "15202  [Alloy wheels, Touch screen]   \n",
       "\n",
       "                                   \\nSafety & Security\\n    Gears  age  \n",
       "15202  [ABS, Blind spot monitor, Central door lock, D...  [\\n6\\n]    4  "
      ]
     },
     "execution_count": 190,
     "metadata": {},
     "output_type": "execute_result"
    }
   ],
   "source": [
    "df[df[\"Nr. of Doors\"] == \"7\"]"
   ]
  },
  {
   "cell_type": "code",
   "execution_count": 191,
   "metadata": {},
   "outputs": [],
   "source": [
    "df.loc[df[\"Nr. of Doors\"] == \"7\", \"Nr. of Doors\"] = \"5\""
   ]
  },
  {
   "cell_type": "code",
   "execution_count": 192,
   "metadata": {},
   "outputs": [
    {
     "data": {
      "text/plain": [
       "5      11576\n",
       "4       3079\n",
       "3        832\n",
       "2        219\n",
       "NaN      212\n",
       "1          1\n",
       "Name: Nr. of Doors, dtype: int64"
      ]
     },
     "execution_count": 192,
     "metadata": {},
     "output_type": "execute_result"
    }
   ],
   "source": [
    "df[\"Nr. of Doors\"].value_counts(dropna=False)"
   ]
  },
  {
   "cell_type": "code",
   "execution_count": 193,
   "metadata": {},
   "outputs": [
    {
     "data": {
      "text/html": [
       "<div>\n",
       "<style scoped>\n",
       "    .dataframe tbody tr th:only-of-type {\n",
       "        vertical-align: middle;\n",
       "    }\n",
       "\n",
       "    .dataframe tbody tr th {\n",
       "        vertical-align: top;\n",
       "    }\n",
       "\n",
       "    .dataframe thead th {\n",
       "        text-align: right;\n",
       "    }\n",
       "</style>\n",
       "<table border=\"1\" class=\"dataframe\">\n",
       "  <thead>\n",
       "    <tr style=\"text-align: right;\">\n",
       "      <th></th>\n",
       "      <th>make_model</th>\n",
       "      <th>body_type</th>\n",
       "      <th>price</th>\n",
       "      <th>vat</th>\n",
       "      <th>km</th>\n",
       "      <th>prev_owner</th>\n",
       "      <th>hp</th>\n",
       "      <th>Body Color</th>\n",
       "      <th>Paint Type</th>\n",
       "      <th>Upholstery</th>\n",
       "      <th>Nr. of Doors</th>\n",
       "      <th>Nr. of Seats</th>\n",
       "      <th>Gearing Type</th>\n",
       "      <th>Displacement</th>\n",
       "      <th>Cylinders</th>\n",
       "      <th>Drive chain</th>\n",
       "      <th>Fuel</th>\n",
       "      <th>Consumption</th>\n",
       "      <th>Emission Class</th>\n",
       "      <th>\\nComfort &amp; Convenience\\n</th>\n",
       "      <th>\\nEntertainment &amp; Media\\n</th>\n",
       "      <th>\\nExtras\\n</th>\n",
       "      <th>\\nSafety &amp; Security\\n</th>\n",
       "      <th>Gears</th>\n",
       "      <th>age</th>\n",
       "    </tr>\n",
       "  </thead>\n",
       "  <tbody>\n",
       "    <tr>\n",
       "      <th>13782</th>\n",
       "      <td>Renault Clio</td>\n",
       "      <td>Compact</td>\n",
       "      <td>8500</td>\n",
       "      <td>True</td>\n",
       "      <td>41493</td>\n",
       "      <td>1</td>\n",
       "      <td>55</td>\n",
       "      <td>White</td>\n",
       "      <td>Metallic</td>\n",
       "      <td>cloth</td>\n",
       "      <td>1</td>\n",
       "      <td>NaN</td>\n",
       "      <td>[\\n, Manual, \\n]</td>\n",
       "      <td>[\\n1,461 cc\\n]</td>\n",
       "      <td>NaN</td>\n",
       "      <td>NaN</td>\n",
       "      <td>[\\n, Diesel, \\n]</td>\n",
       "      <td>NaN</td>\n",
       "      <td>NaN</td>\n",
       "      <td>NaN</td>\n",
       "      <td>NaN</td>\n",
       "      <td>NaN</td>\n",
       "      <td>NaN</td>\n",
       "      <td>NaN</td>\n",
       "      <td>4</td>\n",
       "    </tr>\n",
       "  </tbody>\n",
       "</table>\n",
       "</div>"
      ],
      "text/plain": [
       "         make_model body_type  price   vat     km  prev_owner  hp Body Color  \\\n",
       "13782  Renault Clio   Compact   8500  True  41493           1  55      White   \n",
       "\n",
       "      Paint Type Upholstery Nr. of Doors Nr. of Seats      Gearing Type  \\\n",
       "13782   Metallic      cloth            1          NaN  [\\n, Manual, \\n]   \n",
       "\n",
       "         Displacement Cylinders Drive chain              Fuel Consumption  \\\n",
       "13782  [\\n1,461 cc\\n]       NaN         NaN  [\\n, Diesel, \\n]         NaN   \n",
       "\n",
       "      Emission Class \\nComfort & Convenience\\n \\nEntertainment & Media\\n  \\\n",
       "13782            NaN                       NaN                       NaN   \n",
       "\n",
       "      \\nExtras\\n \\nSafety & Security\\n Gears  age  \n",
       "13782        NaN                   NaN   NaN    4  "
      ]
     },
     "execution_count": 193,
     "metadata": {},
     "output_type": "execute_result"
    }
   ],
   "source": [
    "df[df[\"Nr. of Doors\"] == \"1\"]"
   ]
  },
  {
   "cell_type": "code",
   "execution_count": 194,
   "metadata": {},
   "outputs": [],
   "source": [
    "df.loc[df[\"Nr. of Doors\"] == \"1\", \"Nr. of Doors\"] = \"5\""
   ]
  },
  {
   "cell_type": "code",
   "execution_count": 195,
   "metadata": {},
   "outputs": [
    {
     "data": {
      "text/plain": [
       "make_model      Nr. of Doors\n",
       "Audi A1         5               1741\n",
       "                4                536\n",
       "                3                211\n",
       "                2                 99\n",
       "                NaN               27\n",
       "Audi A2         5                  1\n",
       "Audi A3         5               2297\n",
       "                4                634\n",
       "                3                113\n",
       "                2                 27\n",
       "                NaN               26\n",
       "Opel Astra      5               1965\n",
       "                4                533\n",
       "                NaN               24\n",
       "                3                  4\n",
       "Opel Corsa      5               1277\n",
       "                3                504\n",
       "                4                291\n",
       "                2                 93\n",
       "                NaN               54\n",
       "Opel Insignia   5               1865\n",
       "                4                708\n",
       "                NaN               25\n",
       "Renault Clio    5               1523\n",
       "                4                272\n",
       "                NaN               44\n",
       "Renault Duster  5                 34\n",
       "Renault Espace  5                874\n",
       "                4                105\n",
       "                NaN               12\n",
       "Name: Nr. of Doors, dtype: int64"
      ]
     },
     "execution_count": 195,
     "metadata": {},
     "output_type": "execute_result"
    }
   ],
   "source": [
    "df.groupby(\"make_model\")[\"Nr. of Doors\"].value_counts(dropna=False)"
   ]
  },
  {
   "cell_type": "code",
   "execution_count": 196,
   "metadata": {
    "scrolled": true
   },
   "outputs": [
    {
     "data": {
      "text/plain": [
       "make_model      Nr. of Doors\n",
       "Audi A1         5               1741\n",
       "                4                536\n",
       "                3                211\n",
       "                2                 99\n",
       "Audi A2         5                  1\n",
       "Audi A3         5               2297\n",
       "                4                634\n",
       "                3                113\n",
       "                2                 27\n",
       "Opel Astra      5               1965\n",
       "                4                533\n",
       "                3                  4\n",
       "Opel Corsa      5               1277\n",
       "                3                504\n",
       "                4                291\n",
       "                2                 93\n",
       "Opel Insignia   5               1865\n",
       "                4                708\n",
       "Renault Clio    5               1523\n",
       "                4                272\n",
       "Renault Duster  5                 34\n",
       "Renault Espace  5                874\n",
       "                4                105\n",
       "Name: Nr. of Doors, dtype: int64"
      ]
     },
     "execution_count": 196,
     "metadata": {},
     "output_type": "execute_result"
    }
   ],
   "source": [
    "df.groupby(\"make_model\")[\"Nr. of Doors\"].value_counts()"
   ]
  },
  {
   "cell_type": "code",
   "execution_count": 197,
   "metadata": {},
   "outputs": [],
   "source": [
    "df[\"Nr. of Doors\"].ffill(inplace=True)"
   ]
  },
  {
   "cell_type": "code",
   "execution_count": 198,
   "metadata": {},
   "outputs": [
    {
     "data": {
      "text/plain": [
       "make_model      Nr. of Doors\n",
       "Audi A1         5               1759\n",
       "                4                543\n",
       "                3                213\n",
       "                2                 99\n",
       "Audi A2         5                  1\n",
       "Audi A3         5               2320\n",
       "                4                636\n",
       "                3                114\n",
       "                2                 27\n",
       "Opel Astra      5               1985\n",
       "                4                537\n",
       "                3                  4\n",
       "Opel Corsa      5               1303\n",
       "                3                517\n",
       "                4                302\n",
       "                2                 97\n",
       "Opel Insignia   5               1878\n",
       "                4                720\n",
       "Renault Clio    5               1564\n",
       "                4                275\n",
       "Renault Duster  5                 34\n",
       "Renault Espace  5                882\n",
       "                4                109\n",
       "Name: Nr. of Doors, dtype: int64"
      ]
     },
     "execution_count": 198,
     "metadata": {},
     "output_type": "execute_result"
    }
   ],
   "source": [
    "df.groupby(\"make_model\")[\"Nr. of Doors\"].value_counts(dropna=False)"
   ]
  },
  {
   "cell_type": "code",
   "execution_count": 199,
   "metadata": {},
   "outputs": [],
   "source": [
    "df[\"Nr. of Doors\"] = df[\"Nr. of Doors\"].astype(\"int\")"
   ]
  },
  {
   "cell_type": "code",
   "execution_count": 200,
   "metadata": {},
   "outputs": [
    {
     "data": {
      "text/plain": [
       "0        [\\n5\\n]\n",
       "1        [\\n4\\n]\n",
       "2        [\\n4\\n]\n",
       "3        [\\n4\\n]\n",
       "4        [\\n5\\n]\n",
       "          ...   \n",
       "15914    [\\n5\\n]\n",
       "15915    [\\n5\\n]\n",
       "15916    [\\n7\\n]\n",
       "15917    [\\n7\\n]\n",
       "15918    [\\n5\\n]\n",
       "Name: Nr. of Seats, Length: 15919, dtype: object"
      ]
     },
     "execution_count": 200,
     "metadata": {},
     "output_type": "execute_result"
    }
   ],
   "source": [
    "df[\"Nr. of Seats\"]"
   ]
  },
  {
   "cell_type": "code",
   "execution_count": 201,
   "metadata": {},
   "outputs": [
    {
     "data": {
      "text/plain": [
       "0        5\n",
       "1        4\n",
       "2        4\n",
       "3        4\n",
       "4        5\n",
       "        ..\n",
       "15914    5\n",
       "15915    5\n",
       "15916    7\n",
       "15917    7\n",
       "15918    5\n",
       "Name: Nr. of Seats, Length: 15919, dtype: object"
      ]
     },
     "execution_count": 201,
     "metadata": {},
     "output_type": "execute_result"
    }
   ],
   "source": [
    "df[\"Nr. of Seats\"].str[0].str[1]"
   ]
  },
  {
   "cell_type": "code",
   "execution_count": 202,
   "metadata": {},
   "outputs": [],
   "source": [
    "df[\"Nr. of Seats\"] = df[\"Nr. of Seats\"].str[0].str[1]"
   ]
  },
  {
   "cell_type": "code",
   "execution_count": 203,
   "metadata": {},
   "outputs": [
    {
     "data": {
      "text/plain": [
       "5      13336\n",
       "4       1125\n",
       "NaN      977\n",
       "7        362\n",
       "2        116\n",
       "6          2\n",
       "3          1\n",
       "Name: Nr. of Seats, dtype: int64"
      ]
     },
     "execution_count": 203,
     "metadata": {},
     "output_type": "execute_result"
    }
   ],
   "source": [
    "df[\"Nr. of Seats\"].value_counts(dropna=False)"
   ]
  },
  {
   "cell_type": "code",
   "execution_count": 204,
   "metadata": {},
   "outputs": [
    {
     "data": {
      "text/html": [
       "<div>\n",
       "<style scoped>\n",
       "    .dataframe tbody tr th:only-of-type {\n",
       "        vertical-align: middle;\n",
       "    }\n",
       "\n",
       "    .dataframe tbody tr th {\n",
       "        vertical-align: top;\n",
       "    }\n",
       "\n",
       "    .dataframe thead th {\n",
       "        text-align: right;\n",
       "    }\n",
       "</style>\n",
       "<table border=\"1\" class=\"dataframe\">\n",
       "  <thead>\n",
       "    <tr style=\"text-align: right;\">\n",
       "      <th></th>\n",
       "      <th>make_model</th>\n",
       "      <th>body_type</th>\n",
       "      <th>price</th>\n",
       "      <th>vat</th>\n",
       "      <th>km</th>\n",
       "      <th>prev_owner</th>\n",
       "      <th>hp</th>\n",
       "      <th>Body Color</th>\n",
       "      <th>Paint Type</th>\n",
       "      <th>Upholstery</th>\n",
       "      <th>Nr. of Doors</th>\n",
       "      <th>Nr. of Seats</th>\n",
       "      <th>Gearing Type</th>\n",
       "      <th>Displacement</th>\n",
       "      <th>Cylinders</th>\n",
       "      <th>Drive chain</th>\n",
       "      <th>Fuel</th>\n",
       "      <th>Consumption</th>\n",
       "      <th>Emission Class</th>\n",
       "      <th>\\nComfort &amp; Convenience\\n</th>\n",
       "      <th>\\nEntertainment &amp; Media\\n</th>\n",
       "      <th>\\nExtras\\n</th>\n",
       "      <th>\\nSafety &amp; Security\\n</th>\n",
       "      <th>Gears</th>\n",
       "      <th>age</th>\n",
       "    </tr>\n",
       "  </thead>\n",
       "  <tbody>\n",
       "    <tr>\n",
       "      <th>1636</th>\n",
       "      <td>Audi A1</td>\n",
       "      <td>Compact</td>\n",
       "      <td>23090</td>\n",
       "      <td>False</td>\n",
       "      <td>9821</td>\n",
       "      <td>1</td>\n",
       "      <td>141</td>\n",
       "      <td>Black</td>\n",
       "      <td>Metallic</td>\n",
       "      <td>part</td>\n",
       "      <td>2</td>\n",
       "      <td>3</td>\n",
       "      <td>[\\n, Automatic, \\n]</td>\n",
       "      <td>[\\n1,798 cc\\n]</td>\n",
       "      <td>[\\n4\\n]</td>\n",
       "      <td>[\\nfront\\n]</td>\n",
       "      <td>[\\n, Gasoline, \\n]</td>\n",
       "      <td>[[5.8 l/100 km (comb)], [7.4 l/100 km (city)],...</td>\n",
       "      <td>[\\nEuro 6\\n]</td>\n",
       "      <td>[Air conditioning, Armrest, Automatic climate ...</td>\n",
       "      <td>[Bluetooth, CD player, Digital radio, Hands-fr...</td>\n",
       "      <td>[Alloy wheels, Catalytic Converter, Sport pack...</td>\n",
       "      <td>[ABS, Central door lock, Daytime running light...</td>\n",
       "      <td>[\\n7\\n]</td>\n",
       "      <td>2</td>\n",
       "    </tr>\n",
       "  </tbody>\n",
       "</table>\n",
       "</div>"
      ],
      "text/plain": [
       "     make_model body_type  price    vat    km  prev_owner   hp Body Color  \\\n",
       "1636    Audi A1   Compact  23090  False  9821           1  141      Black   \n",
       "\n",
       "     Paint Type Upholstery  Nr. of Doors Nr. of Seats         Gearing Type  \\\n",
       "1636   Metallic       part             2            3  [\\n, Automatic, \\n]   \n",
       "\n",
       "        Displacement Cylinders  Drive chain                Fuel  \\\n",
       "1636  [\\n1,798 cc\\n]   [\\n4\\n]  [\\nfront\\n]  [\\n, Gasoline, \\n]   \n",
       "\n",
       "                                            Consumption Emission Class  \\\n",
       "1636  [[5.8 l/100 km (comb)], [7.4 l/100 km (city)],...   [\\nEuro 6\\n]   \n",
       "\n",
       "                              \\nComfort & Convenience\\n  \\\n",
       "1636  [Air conditioning, Armrest, Automatic climate ...   \n",
       "\n",
       "                              \\nEntertainment & Media\\n  \\\n",
       "1636  [Bluetooth, CD player, Digital radio, Hands-fr...   \n",
       "\n",
       "                                             \\nExtras\\n  \\\n",
       "1636  [Alloy wheels, Catalytic Converter, Sport pack...   \n",
       "\n",
       "                                  \\nSafety & Security\\n    Gears  age  \n",
       "1636  [ABS, Central door lock, Daytime running light...  [\\n7\\n]    2  "
      ]
     },
     "execution_count": 204,
     "metadata": {},
     "output_type": "execute_result"
    }
   ],
   "source": [
    "df[df[\"Nr. of Seats\"]==\"3\"]"
   ]
  },
  {
   "cell_type": "code",
   "execution_count": 205,
   "metadata": {},
   "outputs": [],
   "source": [
    "df.loc[df[\"Nr. of Seats\"]==\"3\",\"Nr. of Seats\"] = \"4\""
   ]
  },
  {
   "cell_type": "code",
   "execution_count": 206,
   "metadata": {},
   "outputs": [
    {
     "data": {
      "text/html": [
       "<div>\n",
       "<style scoped>\n",
       "    .dataframe tbody tr th:only-of-type {\n",
       "        vertical-align: middle;\n",
       "    }\n",
       "\n",
       "    .dataframe tbody tr th {\n",
       "        vertical-align: top;\n",
       "    }\n",
       "\n",
       "    .dataframe thead th {\n",
       "        text-align: right;\n",
       "    }\n",
       "</style>\n",
       "<table border=\"1\" class=\"dataframe\">\n",
       "  <thead>\n",
       "    <tr style=\"text-align: right;\">\n",
       "      <th></th>\n",
       "      <th>make_model</th>\n",
       "      <th>body_type</th>\n",
       "      <th>price</th>\n",
       "      <th>vat</th>\n",
       "      <th>km</th>\n",
       "      <th>prev_owner</th>\n",
       "      <th>hp</th>\n",
       "      <th>Body Color</th>\n",
       "      <th>Paint Type</th>\n",
       "      <th>Upholstery</th>\n",
       "      <th>Nr. of Doors</th>\n",
       "      <th>Nr. of Seats</th>\n",
       "      <th>Gearing Type</th>\n",
       "      <th>Displacement</th>\n",
       "      <th>Cylinders</th>\n",
       "      <th>Drive chain</th>\n",
       "      <th>Fuel</th>\n",
       "      <th>Consumption</th>\n",
       "      <th>Emission Class</th>\n",
       "      <th>\\nComfort &amp; Convenience\\n</th>\n",
       "      <th>\\nEntertainment &amp; Media\\n</th>\n",
       "      <th>\\nExtras\\n</th>\n",
       "      <th>\\nSafety &amp; Security\\n</th>\n",
       "      <th>Gears</th>\n",
       "      <th>age</th>\n",
       "    </tr>\n",
       "  </thead>\n",
       "  <tbody>\n",
       "    <tr>\n",
       "      <th>582</th>\n",
       "      <td>Audi A1</td>\n",
       "      <td>Compact</td>\n",
       "      <td>13500</td>\n",
       "      <td>True</td>\n",
       "      <td>100000</td>\n",
       "      <td>1</td>\n",
       "      <td>70</td>\n",
       "      <td>White</td>\n",
       "      <td>Metallic</td>\n",
       "      <td>cloth</td>\n",
       "      <td>5</td>\n",
       "      <td>6</td>\n",
       "      <td>[\\n, Manual, \\n]</td>\n",
       "      <td>[\\n1,000 cc\\n]</td>\n",
       "      <td>[\\n4\\n]</td>\n",
       "      <td>NaN</td>\n",
       "      <td>[\\n, Super 95, \\n]</td>\n",
       "      <td>NaN</td>\n",
       "      <td>[\\nEuro 6\\n]</td>\n",
       "      <td>[Air conditioning]</td>\n",
       "      <td>[On-board computer]</td>\n",
       "      <td>[Alloy wheels]</td>\n",
       "      <td>[ABS]</td>\n",
       "      <td>[\\n5\\n]</td>\n",
       "      <td>3</td>\n",
       "    </tr>\n",
       "    <tr>\n",
       "      <th>15890</th>\n",
       "      <td>Renault Espace</td>\n",
       "      <td>Van</td>\n",
       "      <td>42490</td>\n",
       "      <td>True</td>\n",
       "      <td>0</td>\n",
       "      <td>0</td>\n",
       "      <td>147</td>\n",
       "      <td>Black</td>\n",
       "      <td>Metallic</td>\n",
       "      <td>cloth</td>\n",
       "      <td>5</td>\n",
       "      <td>6</td>\n",
       "      <td>[\\n, Automatic, \\n]</td>\n",
       "      <td>[\\n1,997 cc\\n]</td>\n",
       "      <td>[\\n4\\n]</td>\n",
       "      <td>[\\nfront\\n]</td>\n",
       "      <td>[\\n, Diesel (Particulate Filter), \\n]</td>\n",
       "      <td>[[5.7 l/100 km (comb)], [6.1 l/100 km (city)],...</td>\n",
       "      <td>[\\nEuro 6d-TEMP\\n]</td>\n",
       "      <td>[Air conditioning, Armrest, Automatic climate ...</td>\n",
       "      <td>[Bluetooth, Hands-free equipment, On-board com...</td>\n",
       "      <td>[Alloy wheels, Touch screen]</td>\n",
       "      <td>[ABS, Blind spot monitor, Central door lock, D...</td>\n",
       "      <td>[\\n6\\n]</td>\n",
       "      <td>0</td>\n",
       "    </tr>\n",
       "  </tbody>\n",
       "</table>\n",
       "</div>"
      ],
      "text/plain": [
       "           make_model body_type  price   vat      km  prev_owner   hp  \\\n",
       "582           Audi A1   Compact  13500  True  100000           1   70   \n",
       "15890  Renault Espace       Van  42490  True       0           0  147   \n",
       "\n",
       "      Body Color Paint Type Upholstery  Nr. of Doors Nr. of Seats  \\\n",
       "582        White   Metallic      cloth             5            6   \n",
       "15890      Black   Metallic      cloth             5            6   \n",
       "\n",
       "              Gearing Type    Displacement Cylinders  Drive chain  \\\n",
       "582       [\\n, Manual, \\n]  [\\n1,000 cc\\n]   [\\n4\\n]          NaN   \n",
       "15890  [\\n, Automatic, \\n]  [\\n1,997 cc\\n]   [\\n4\\n]  [\\nfront\\n]   \n",
       "\n",
       "                                        Fuel  \\\n",
       "582                       [\\n, Super 95, \\n]   \n",
       "15890  [\\n, Diesel (Particulate Filter), \\n]   \n",
       "\n",
       "                                             Consumption      Emission Class  \\\n",
       "582                                                  NaN        [\\nEuro 6\\n]   \n",
       "15890  [[5.7 l/100 km (comb)], [6.1 l/100 km (city)],...  [\\nEuro 6d-TEMP\\n]   \n",
       "\n",
       "                               \\nComfort & Convenience\\n  \\\n",
       "582                                   [Air conditioning]   \n",
       "15890  [Air conditioning, Armrest, Automatic climate ...   \n",
       "\n",
       "                               \\nEntertainment & Media\\n  \\\n",
       "582                                  [On-board computer]   \n",
       "15890  [Bluetooth, Hands-free equipment, On-board com...   \n",
       "\n",
       "                         \\nExtras\\n  \\\n",
       "582                  [Alloy wheels]   \n",
       "15890  [Alloy wheels, Touch screen]   \n",
       "\n",
       "                                   \\nSafety & Security\\n    Gears  age  \n",
       "582                                                [ABS]  [\\n5\\n]    3  \n",
       "15890  [ABS, Blind spot monitor, Central door lock, D...  [\\n6\\n]    0  "
      ]
     },
     "execution_count": 206,
     "metadata": {},
     "output_type": "execute_result"
    }
   ],
   "source": [
    "df[df[\"Nr. of Seats\"]==\"6\"]"
   ]
  },
  {
   "cell_type": "code",
   "execution_count": 207,
   "metadata": {},
   "outputs": [
    {
     "data": {
      "text/plain": [
       "make_model      Nr. of Seats\n",
       "Audi A1         5               1392\n",
       "                4               1081\n",
       "                NaN              140\n",
       "                6                  1\n",
       "Audi A2         5                  1\n",
       "Audi A3         5               2951\n",
       "                NaN              121\n",
       "                4                 25\n",
       "Opel Astra      5               2357\n",
       "                NaN              164\n",
       "                4                  5\n",
       "Opel Corsa      5               2087\n",
       "                NaN              120\n",
       "                4                  7\n",
       "                2                  5\n",
       "Opel Insignia   5               2487\n",
       "                NaN              108\n",
       "                4                  2\n",
       "                2                  1\n",
       "Renault Clio    5               1520\n",
       "                NaN              204\n",
       "                2                110\n",
       "                4                  5\n",
       "Renault Duster  5                 34\n",
       "Renault Espace  5                507\n",
       "                7                362\n",
       "                NaN              120\n",
       "                4                  1\n",
       "                6                  1\n",
       "Name: Nr. of Seats, dtype: int64"
      ]
     },
     "execution_count": 207,
     "metadata": {},
     "output_type": "execute_result"
    }
   ],
   "source": [
    "df.groupby(\"make_model\")[\"Nr. of Seats\"].value_counts(dropna=False)"
   ]
  },
  {
   "cell_type": "code",
   "execution_count": 208,
   "metadata": {},
   "outputs": [],
   "source": [
    "df.iloc[582, 11] = \"4\""
   ]
  },
  {
   "cell_type": "code",
   "execution_count": 209,
   "metadata": {},
   "outputs": [],
   "source": [
    "df.iloc[15890, 11] = \"5\""
   ]
  },
  {
   "cell_type": "code",
   "execution_count": 210,
   "metadata": {},
   "outputs": [
    {
     "data": {
      "text/plain": [
       "make_model      Nr. of Seats\n",
       "Audi A1         5               1392\n",
       "                4               1082\n",
       "                NaN              140\n",
       "Audi A2         5                  1\n",
       "Audi A3         5               2951\n",
       "                NaN              121\n",
       "                4                 25\n",
       "Opel Astra      5               2357\n",
       "                NaN              164\n",
       "                4                  5\n",
       "Opel Corsa      5               2087\n",
       "                NaN              120\n",
       "                4                  7\n",
       "                2                  5\n",
       "Opel Insignia   5               2487\n",
       "                NaN              108\n",
       "                4                  2\n",
       "                2                  1\n",
       "Renault Clio    5               1520\n",
       "                NaN              204\n",
       "                2                110\n",
       "                4                  5\n",
       "Renault Duster  5                 34\n",
       "Renault Espace  5                508\n",
       "                7                362\n",
       "                NaN              120\n",
       "                4                  1\n",
       "Name: Nr. of Seats, dtype: int64"
      ]
     },
     "execution_count": 210,
     "metadata": {},
     "output_type": "execute_result"
    }
   ],
   "source": [
    "df.groupby(\"make_model\")[\"Nr. of Seats\"].value_counts(dropna=False)"
   ]
  },
  {
   "cell_type": "code",
   "execution_count": 211,
   "metadata": {},
   "outputs": [],
   "source": [
    "df[\"Nr. of Seats\"].ffill(inplace=True)"
   ]
  },
  {
   "cell_type": "code",
   "execution_count": 212,
   "metadata": {},
   "outputs": [
    {
     "data": {
      "text/plain": [
       "make_model      Nr. of Seats\n",
       "Audi A1         5               1468\n",
       "                4               1146\n",
       "Audi A2         5                  1\n",
       "Audi A3         5               3072\n",
       "                4                 25\n",
       "Opel Astra      5               2521\n",
       "                4                  5\n",
       "Opel Corsa      5               2207\n",
       "                4                  7\n",
       "                2                  5\n",
       "Opel Insignia   5               2595\n",
       "                4                  2\n",
       "                2                  1\n",
       "Renault Clio    5               1708\n",
       "                2                124\n",
       "                4                  7\n",
       "Renault Duster  5                 34\n",
       "Renault Espace  5                574\n",
       "                7                415\n",
       "                4                  2\n",
       "Name: Nr. of Seats, dtype: int64"
      ]
     },
     "execution_count": 212,
     "metadata": {},
     "output_type": "execute_result"
    }
   ],
   "source": [
    "df.groupby(\"make_model\")[\"Nr. of Seats\"].value_counts(dropna=False)"
   ]
  },
  {
   "cell_type": "code",
   "execution_count": 213,
   "metadata": {},
   "outputs": [
    {
     "data": {
      "text/plain": [
       "dtype('O')"
      ]
     },
     "execution_count": 213,
     "metadata": {},
     "output_type": "execute_result"
    }
   ],
   "source": [
    "df[\"Nr. of Seats\"].dtype"
   ]
  },
  {
   "cell_type": "code",
   "execution_count": 214,
   "metadata": {},
   "outputs": [],
   "source": [
    "df[\"Nr. of Seats\"] = df[\"Nr. of Seats\"].astype(\"int\")"
   ]
  },
  {
   "cell_type": "code",
   "execution_count": 215,
   "metadata": {
    "scrolled": true
   },
   "outputs": [
    {
     "name": "stdout",
     "output_type": "stream",
     "text": [
      "<class 'pandas.core.frame.DataFrame'>\n",
      "RangeIndex: 15919 entries, 0 to 15918\n",
      "Data columns (total 25 columns):\n",
      " #   Column                   Non-Null Count  Dtype \n",
      "---  ------                   --------------  ----- \n",
      " 0   make_model               15919 non-null  object\n",
      " 1   body_type                15919 non-null  object\n",
      " 2   price                    15919 non-null  int64 \n",
      " 3   vat                      15919 non-null  bool  \n",
      " 4   km                       15919 non-null  int64 \n",
      " 5   prev_owner               15919 non-null  int64 \n",
      " 6   hp                       15919 non-null  int32 \n",
      " 7   Body Color               15919 non-null  object\n",
      " 8   Paint Type               15919 non-null  object\n",
      " 9   Upholstery               15919 non-null  object\n",
      " 10  Nr. of Doors             15919 non-null  int32 \n",
      " 11  Nr. of Seats             15919 non-null  int32 \n",
      " 12  Gearing Type             15919 non-null  object\n",
      " 13  Displacement             15423 non-null  object\n",
      " 14  Cylinders                10239 non-null  object\n",
      " 15  Drive chain              9061 non-null   object\n",
      " 16  Fuel                     15919 non-null  object\n",
      " 17  Consumption              14013 non-null  object\n",
      " 18  Emission Class           12898 non-null  object\n",
      " 19  \n",
      "Comfort & Convenience\n",
      "  14999 non-null  object\n",
      " 20  \n",
      "Entertainment & Media\n",
      "  14545 non-null  object\n",
      " 21  \n",
      "Extras\n",
      "                 12957 non-null  object\n",
      " 22  \n",
      "Safety & Security\n",
      "      14937 non-null  object\n",
      " 23  Gears                    11207 non-null  object\n",
      " 24  age                      15919 non-null  int64 \n",
      "dtypes: bool(1), int32(3), int64(4), object(17)\n",
      "memory usage: 2.7+ MB\n"
     ]
    }
   ],
   "source": [
    "df.info()"
   ]
  },
  {
   "cell_type": "code",
   "execution_count": 216,
   "metadata": {},
   "outputs": [
    {
     "ename": "TypeError",
     "evalue": "unhashable type: 'list'",
     "output_type": "error",
     "traceback": [
      "\u001b[1;31m---------------------------------------------------------------------------\u001b[0m",
      "\u001b[1;31mTypeError\u001b[0m                                 Traceback (most recent call last)",
      "\u001b[1;32mpandas\\_libs\\hashtable_class_helper.pxi\u001b[0m in \u001b[0;36mpandas._libs.hashtable.PyObjectHashTable.map_locations\u001b[1;34m()\u001b[0m\n",
      "\u001b[1;31mTypeError\u001b[0m: unhashable type: 'list'"
     ]
    },
    {
     "name": "stderr",
     "output_type": "stream",
     "text": [
      "Exception ignored in: 'pandas._libs.index.IndexEngine._call_map_locations'\n",
      "Traceback (most recent call last):\n",
      "  File \"pandas\\_libs\\hashtable_class_helper.pxi\", line 1709, in pandas._libs.hashtable.PyObjectHashTable.map_locations\n",
      "TypeError: unhashable type: 'list'\n"
     ]
    },
    {
     "data": {
      "text/plain": [
       "[\\n, Manual, \\n]            8153\n",
       "[\\n, Automatic, \\n]         7297\n",
       "[\\n, Semi-automatic, \\n]     469\n",
       "Name: Gearing Type, dtype: int64"
      ]
     },
     "execution_count": 216,
     "metadata": {},
     "output_type": "execute_result"
    }
   ],
   "source": [
    "df[\"Gearing Type\"].value_counts(dropna=False)"
   ]
  },
  {
   "cell_type": "code",
   "execution_count": 217,
   "metadata": {},
   "outputs": [
    {
     "data": {
      "text/plain": [
       "Manual            8153\n",
       "Automatic         7297\n",
       "Semi-automatic     469\n",
       "Name: Gearing Type, dtype: int64"
      ]
     },
     "execution_count": 217,
     "metadata": {},
     "output_type": "execute_result"
    }
   ],
   "source": [
    "df[\"Gearing Type\"].str[1].value_counts()"
   ]
  },
  {
   "cell_type": "code",
   "execution_count": 218,
   "metadata": {},
   "outputs": [],
   "source": [
    "df[\"Gearing Type\"] = df[\"Gearing Type\"].str[1]"
   ]
  },
  {
   "cell_type": "code",
   "execution_count": 219,
   "metadata": {},
   "outputs": [
    {
     "data": {
      "text/plain": [
       "Manual            8153\n",
       "Automatic         7297\n",
       "Semi-automatic     469\n",
       "Name: Gearing Type, dtype: int64"
      ]
     },
     "execution_count": 219,
     "metadata": {},
     "output_type": "execute_result"
    }
   ],
   "source": [
    "df[\"Gearing Type\"].value_counts()"
   ]
  },
  {
   "cell_type": "code",
   "execution_count": 220,
   "metadata": {},
   "outputs": [
    {
     "ename": "TypeError",
     "evalue": "unhashable type: 'list'",
     "output_type": "error",
     "traceback": [
      "\u001b[1;31m---------------------------------------------------------------------------\u001b[0m",
      "\u001b[1;31mTypeError\u001b[0m                                 Traceback (most recent call last)",
      "\u001b[1;32mpandas\\_libs\\hashtable_class_helper.pxi\u001b[0m in \u001b[0;36mpandas._libs.hashtable.PyObjectHashTable.map_locations\u001b[1;34m()\u001b[0m\n",
      "\u001b[1;31mTypeError\u001b[0m: unhashable type: 'list'"
     ]
    },
    {
     "name": "stderr",
     "output_type": "stream",
     "text": [
      "Exception ignored in: 'pandas._libs.index.IndexEngine._call_map_locations'\n",
      "Traceback (most recent call last):\n",
      "  File \"pandas\\_libs\\hashtable_class_helper.pxi\", line 1709, in pandas._libs.hashtable.PyObjectHashTable.map_locations\n",
      "TypeError: unhashable type: 'list'\n"
     ]
    },
    {
     "data": {
      "text/plain": [
       "[\\n1,598 cc\\n]     4761\n",
       "[\\n999 cc\\n]       2438\n",
       "[\\n1,398 cc\\n]     1314\n",
       "[\\n1,399 cc\\n]      749\n",
       "[\\n1,229 cc\\n]      677\n",
       "                   ... \n",
       "[\\n1,800 cc\\n]        1\n",
       "[\\n140 cc\\n]          1\n",
       "[\\n15,898 cc\\n]       1\n",
       "[\\n1,686 cc\\n]        1\n",
       "[\\n1,368 cc\\n]        1\n",
       "Name: Displacement, Length: 78, dtype: int64"
      ]
     },
     "execution_count": 220,
     "metadata": {},
     "output_type": "execute_result"
    }
   ],
   "source": [
    "df.Displacement.value_counts(dropna=False)"
   ]
  },
  {
   "cell_type": "code",
   "execution_count": 221,
   "metadata": {},
   "outputs": [
    {
     "data": {
      "text/plain": [
       "0        1422 \n",
       "1        1798 \n",
       "2        1598 \n",
       "3        1422 \n",
       "4        1422 \n",
       "         ...  \n",
       "15914    1997 \n",
       "15915    1798 \n",
       "15916    1997 \n",
       "15917    1997 \n",
       "15918    1798 \n",
       "Name: Displacement, Length: 15919, dtype: object"
      ]
     },
     "execution_count": 221,
     "metadata": {},
     "output_type": "execute_result"
    }
   ],
   "source": [
    "df.Displacement.str[0].str.lstrip(\"\\n\").str.rstrip(\"cc\\n\").str.replace(\",\", \"\")"
   ]
  },
  {
   "cell_type": "code",
   "execution_count": 222,
   "metadata": {},
   "outputs": [],
   "source": [
    "df.Displacement = df.Displacement.str[0].str.lstrip(\"\\n\").str.rstrip(\"cc\\n\").str.replace(\",\", \"\")"
   ]
  },
  {
   "cell_type": "code",
   "execution_count": 223,
   "metadata": {},
   "outputs": [
    {
     "data": {
      "text/plain": [
       "1598      4761\n",
       "999       2438\n",
       "1398      1314\n",
       "1399       749\n",
       "1229       677\n",
       "          ... \n",
       "996          1\n",
       "16000        1\n",
       "1896         1\n",
       "1198         1\n",
       "1333         1\n",
       "Name: Displacement, Length: 78, dtype: int64"
      ]
     },
     "execution_count": 223,
     "metadata": {},
     "output_type": "execute_result"
    }
   ],
   "source": [
    "df.Displacement.value_counts(dropna=False)"
   ]
  },
  {
   "cell_type": "code",
   "execution_count": 224,
   "metadata": {},
   "outputs": [
    {
     "data": {
      "text/plain": [
       "496"
      ]
     },
     "execution_count": 224,
     "metadata": {},
     "output_type": "execute_result"
    }
   ],
   "source": [
    "df.Displacement.isnull().sum()"
   ]
  },
  {
   "cell_type": "code",
   "execution_count": 225,
   "metadata": {},
   "outputs": [],
   "source": [
    "df.Displacement = pd.to_numeric(df.Displacement)"
   ]
  },
  {
   "cell_type": "code",
   "execution_count": 226,
   "metadata": {},
   "outputs": [
    {
     "data": {
      "text/plain": [
       "1598.0    4761\n",
       "999.0     2438\n",
       "1398.0    1314\n",
       "1399.0     749\n",
       "1229.0     677\n",
       "          ... \n",
       "2967.0       1\n",
       "1390.0       1\n",
       "140.0        1\n",
       "1350.0       1\n",
       "1198.0       1\n",
       "Name: Displacement, Length: 78, dtype: int64"
      ]
     },
     "execution_count": 226,
     "metadata": {},
     "output_type": "execute_result"
    }
   ],
   "source": [
    "df.Displacement.value_counts(dropna=False)"
   ]
  },
  {
   "cell_type": "code",
   "execution_count": 227,
   "metadata": {},
   "outputs": [],
   "source": [
    "df.Displacement.ffill(inplace = True)"
   ]
  },
  {
   "cell_type": "code",
   "execution_count": 228,
   "metadata": {},
   "outputs": [
    {
     "data": {
      "text/plain": [
       "0"
      ]
     },
     "execution_count": 228,
     "metadata": {},
     "output_type": "execute_result"
    }
   ],
   "source": [
    "df.Displacement.isnull().sum()"
   ]
  },
  {
   "cell_type": "code",
   "execution_count": 229,
   "metadata": {},
   "outputs": [
    {
     "data": {
      "text/plain": [
       "Float64Index([    1.0,     2.0,    54.0,   122.0,   139.0,   140.0,   160.0,\n",
       "                890.0,   898.0,   899.0,   900.0,   929.0,   973.0,   995.0,\n",
       "                996.0,   997.0,   998.0,   999.0,  1000.0,  1100.0,  1149.0,\n",
       "               1195.0,  1197.0,  1198.0,  1199.0,  1200.0,  1229.0,  1239.0,\n",
       "               1248.0,  1300.0,  1333.0,  1350.0,  1364.0,  1368.0,  1369.0,\n",
       "               1390.0,  1395.0,  1396.0,  1397.0,  1398.0,  1399.0,  1400.0,\n",
       "               1422.0,  1461.0,  1490.0,  1495.0,  1496.0,  1498.0,  1499.0,\n",
       "               1500.0,  1533.0,  1568.0,  1580.0,  1584.0,  1589.0,  1596.0,\n",
       "               1598.0,  1599.0,  1600.0,  1618.0,  1686.0,  1696.0,  1798.0,\n",
       "               1800.0,  1856.0,  1896.0,  1956.0,  1968.0,  1984.0,  1995.0,\n",
       "               1997.0,  1998.0,  2000.0,  2480.0,  2967.0, 15898.0, 16000.0],\n",
       "             dtype='float64')"
      ]
     },
     "execution_count": 229,
     "metadata": {},
     "output_type": "execute_result"
    }
   ],
   "source": [
    "df.Displacement.value_counts(dropna=False).index.sort_values()"
   ]
  },
  {
   "cell_type": "code",
   "execution_count": 230,
   "metadata": {},
   "outputs": [
    {
     "data": {
      "text/html": [
       "<div>\n",
       "<style scoped>\n",
       "    .dataframe tbody tr th:only-of-type {\n",
       "        vertical-align: middle;\n",
       "    }\n",
       "\n",
       "    .dataframe tbody tr th {\n",
       "        vertical-align: top;\n",
       "    }\n",
       "\n",
       "    .dataframe thead th {\n",
       "        text-align: right;\n",
       "    }\n",
       "</style>\n",
       "<table border=\"1\" class=\"dataframe\">\n",
       "  <thead>\n",
       "    <tr style=\"text-align: right;\">\n",
       "      <th></th>\n",
       "      <th>make_model</th>\n",
       "      <th>body_type</th>\n",
       "      <th>price</th>\n",
       "      <th>vat</th>\n",
       "      <th>km</th>\n",
       "      <th>prev_owner</th>\n",
       "      <th>hp</th>\n",
       "      <th>Body Color</th>\n",
       "      <th>Paint Type</th>\n",
       "      <th>Upholstery</th>\n",
       "      <th>Nr. of Doors</th>\n",
       "      <th>Nr. of Seats</th>\n",
       "      <th>Gearing Type</th>\n",
       "      <th>Displacement</th>\n",
       "      <th>Cylinders</th>\n",
       "      <th>Drive chain</th>\n",
       "      <th>Fuel</th>\n",
       "      <th>Consumption</th>\n",
       "      <th>Emission Class</th>\n",
       "      <th>\\nComfort &amp; Convenience\\n</th>\n",
       "      <th>\\nEntertainment &amp; Media\\n</th>\n",
       "      <th>\\nExtras\\n</th>\n",
       "      <th>\\nSafety &amp; Security\\n</th>\n",
       "      <th>Gears</th>\n",
       "      <th>age</th>\n",
       "    </tr>\n",
       "  </thead>\n",
       "  <tbody>\n",
       "    <tr>\n",
       "      <th>7169</th>\n",
       "      <td>Opel Astra</td>\n",
       "      <td>Station wagon</td>\n",
       "      <td>18490</td>\n",
       "      <td>True</td>\n",
       "      <td>22327</td>\n",
       "      <td>1</td>\n",
       "      <td>100</td>\n",
       "      <td>Green</td>\n",
       "      <td>Metallic</td>\n",
       "      <td>cloth</td>\n",
       "      <td>5</td>\n",
       "      <td>5</td>\n",
       "      <td>Automatic</td>\n",
       "      <td>15898.0</td>\n",
       "      <td>[\\n4\\n]</td>\n",
       "      <td>[\\nfront\\n]</td>\n",
       "      <td>[\\n, Super 95 (Particulate Filter), \\n]</td>\n",
       "      <td>[[4.5 l/100 km (comb)], [5.7 l/100 km (city)],...</td>\n",
       "      <td>[\\nEuro 6\\n]</td>\n",
       "      <td>[Air conditioning, Armrest, Automatic climate ...</td>\n",
       "      <td>[Bluetooth, Hands-free equipment, MP3, On-boar...</td>\n",
       "      <td>[Alloy wheels, Touch screen, Voice Control]</td>\n",
       "      <td>[ABS, Central door lock, Daytime running light...</td>\n",
       "      <td>[\\n6\\n]</td>\n",
       "      <td>2</td>\n",
       "    </tr>\n",
       "  </tbody>\n",
       "</table>\n",
       "</div>"
      ],
      "text/plain": [
       "      make_model      body_type  price   vat     km  prev_owner   hp  \\\n",
       "7169  Opel Astra  Station wagon  18490  True  22327           1  100   \n",
       "\n",
       "     Body Color Paint Type Upholstery  Nr. of Doors  Nr. of Seats  \\\n",
       "7169      Green   Metallic      cloth             5             5   \n",
       "\n",
       "     Gearing Type  Displacement Cylinders  Drive chain  \\\n",
       "7169    Automatic       15898.0   [\\n4\\n]  [\\nfront\\n]   \n",
       "\n",
       "                                         Fuel  \\\n",
       "7169  [\\n, Super 95 (Particulate Filter), \\n]   \n",
       "\n",
       "                                            Consumption Emission Class  \\\n",
       "7169  [[4.5 l/100 km (comb)], [5.7 l/100 km (city)],...   [\\nEuro 6\\n]   \n",
       "\n",
       "                              \\nComfort & Convenience\\n  \\\n",
       "7169  [Air conditioning, Armrest, Automatic climate ...   \n",
       "\n",
       "                              \\nEntertainment & Media\\n  \\\n",
       "7169  [Bluetooth, Hands-free equipment, MP3, On-boar...   \n",
       "\n",
       "                                       \\nExtras\\n  \\\n",
       "7169  [Alloy wheels, Touch screen, Voice Control]   \n",
       "\n",
       "                                  \\nSafety & Security\\n    Gears  age  \n",
       "7169  [ABS, Central door lock, Daytime running light...  [\\n6\\n]    2  "
      ]
     },
     "execution_count": 230,
     "metadata": {},
     "output_type": "execute_result"
    }
   ],
   "source": [
    "df[df[\"Displacement\"] == 15898.0]"
   ]
  },
  {
   "cell_type": "code",
   "execution_count": 231,
   "metadata": {},
   "outputs": [],
   "source": [
    "df.Displacement.iloc[7169] = 1589"
   ]
  },
  {
   "cell_type": "code",
   "execution_count": 232,
   "metadata": {},
   "outputs": [
    {
     "data": {
      "text/html": [
       "<div>\n",
       "<style scoped>\n",
       "    .dataframe tbody tr th:only-of-type {\n",
       "        vertical-align: middle;\n",
       "    }\n",
       "\n",
       "    .dataframe tbody tr th {\n",
       "        vertical-align: top;\n",
       "    }\n",
       "\n",
       "    .dataframe thead th {\n",
       "        text-align: right;\n",
       "    }\n",
       "</style>\n",
       "<table border=\"1\" class=\"dataframe\">\n",
       "  <thead>\n",
       "    <tr style=\"text-align: right;\">\n",
       "      <th></th>\n",
       "      <th>make_model</th>\n",
       "      <th>body_type</th>\n",
       "      <th>price</th>\n",
       "      <th>vat</th>\n",
       "      <th>km</th>\n",
       "      <th>prev_owner</th>\n",
       "      <th>hp</th>\n",
       "      <th>Body Color</th>\n",
       "      <th>Paint Type</th>\n",
       "      <th>Upholstery</th>\n",
       "      <th>Nr. of Doors</th>\n",
       "      <th>Nr. of Seats</th>\n",
       "      <th>Gearing Type</th>\n",
       "      <th>Displacement</th>\n",
       "      <th>Cylinders</th>\n",
       "      <th>Drive chain</th>\n",
       "      <th>Fuel</th>\n",
       "      <th>Consumption</th>\n",
       "      <th>Emission Class</th>\n",
       "      <th>\\nComfort &amp; Convenience\\n</th>\n",
       "      <th>\\nEntertainment &amp; Media\\n</th>\n",
       "      <th>\\nExtras\\n</th>\n",
       "      <th>\\nSafety &amp; Security\\n</th>\n",
       "      <th>Gears</th>\n",
       "      <th>age</th>\n",
       "    </tr>\n",
       "  </thead>\n",
       "  <tbody>\n",
       "    <tr>\n",
       "      <th>10932</th>\n",
       "      <td>Opel Insignia</td>\n",
       "      <td>Station wagon</td>\n",
       "      <td>14300</td>\n",
       "      <td>True</td>\n",
       "      <td>76500</td>\n",
       "      <td>1</td>\n",
       "      <td>88</td>\n",
       "      <td>Grey</td>\n",
       "      <td>Metallic</td>\n",
       "      <td>full</td>\n",
       "      <td>5</td>\n",
       "      <td>5</td>\n",
       "      <td>Manual</td>\n",
       "      <td>16000.0</td>\n",
       "      <td>NaN</td>\n",
       "      <td>[\\nfront\\n]</td>\n",
       "      <td>[\\n, Diesel, \\n]</td>\n",
       "      <td>NaN</td>\n",
       "      <td>[[], [], []]</td>\n",
       "      <td>[Air conditioning, Automatic climate control, ...</td>\n",
       "      <td>[Bluetooth, Hands-free equipment, MP3, On-boar...</td>\n",
       "      <td>[Alloy wheels, Touch screen, Voice Control]</td>\n",
       "      <td>[ABS, Central door lock, Daytime running light...</td>\n",
       "      <td>[\\n6\\n]</td>\n",
       "      <td>4</td>\n",
       "    </tr>\n",
       "  </tbody>\n",
       "</table>\n",
       "</div>"
      ],
      "text/plain": [
       "          make_model      body_type  price   vat     km  prev_owner  hp  \\\n",
       "10932  Opel Insignia  Station wagon  14300  True  76500           1  88   \n",
       "\n",
       "      Body Color Paint Type Upholstery  Nr. of Doors  Nr. of Seats  \\\n",
       "10932       Grey   Metallic       full             5             5   \n",
       "\n",
       "      Gearing Type  Displacement Cylinders  Drive chain              Fuel  \\\n",
       "10932       Manual       16000.0       NaN  [\\nfront\\n]  [\\n, Diesel, \\n]   \n",
       "\n",
       "      Consumption Emission Class  \\\n",
       "10932         NaN   [[], [], []]   \n",
       "\n",
       "                               \\nComfort & Convenience\\n  \\\n",
       "10932  [Air conditioning, Automatic climate control, ...   \n",
       "\n",
       "                               \\nEntertainment & Media\\n  \\\n",
       "10932  [Bluetooth, Hands-free equipment, MP3, On-boar...   \n",
       "\n",
       "                                        \\nExtras\\n  \\\n",
       "10932  [Alloy wheels, Touch screen, Voice Control]   \n",
       "\n",
       "                                   \\nSafety & Security\\n    Gears  age  \n",
       "10932  [ABS, Central door lock, Daytime running light...  [\\n6\\n]    4  "
      ]
     },
     "execution_count": 232,
     "metadata": {},
     "output_type": "execute_result"
    }
   ],
   "source": [
    "df[df[\"Displacement\"] == 16000]"
   ]
  },
  {
   "cell_type": "code",
   "execution_count": 233,
   "metadata": {},
   "outputs": [],
   "source": [
    "df.Displacement.iloc[10932] = 1600"
   ]
  },
  {
   "cell_type": "code",
   "execution_count": 234,
   "metadata": {},
   "outputs": [],
   "source": [
    "df.loc[df[\"Displacement\"] < 890, \"Displacement\"] = np.nan"
   ]
  },
  {
   "cell_type": "code",
   "execution_count": 235,
   "metadata": {},
   "outputs": [
    {
     "data": {
      "text/plain": [
       "Float64Index([ 890.0,  898.0,  899.0,  900.0,  929.0,  973.0,  995.0,  996.0,\n",
       "               997.0,  998.0,  999.0, 1000.0, 1100.0, 1149.0, 1195.0, 1197.0,\n",
       "              1198.0, 1199.0, 1200.0, 1229.0, 1239.0, 1248.0, 1300.0, 1333.0,\n",
       "              1350.0, 1364.0, 1368.0, 1369.0, 1390.0, 1395.0, 1396.0, 1397.0,\n",
       "              1398.0, 1399.0, 1400.0, 1422.0, 1461.0, 1490.0, 1495.0, 1496.0,\n",
       "              1498.0, 1499.0, 1500.0, 1533.0, 1568.0, 1580.0, 1584.0, 1589.0,\n",
       "              1596.0, 1598.0, 1599.0, 1600.0, 1618.0, 1686.0, 1696.0, 1798.0,\n",
       "              1800.0, 1856.0, 1896.0, 1956.0, 1968.0, 1984.0, 1995.0, 1997.0,\n",
       "              1998.0, 2000.0, 2480.0, 2967.0,    nan],\n",
       "             dtype='float64')"
      ]
     },
     "execution_count": 235,
     "metadata": {},
     "output_type": "execute_result"
    }
   ],
   "source": [
    "df.Displacement.value_counts(dropna=False).index.sort_values()"
   ]
  },
  {
   "cell_type": "code",
   "execution_count": 236,
   "metadata": {},
   "outputs": [],
   "source": [
    "df.Displacement.ffill(inplace = True)"
   ]
  },
  {
   "cell_type": "code",
   "execution_count": 237,
   "metadata": {},
   "outputs": [
    {
     "data": {
      "text/plain": [
       "Float64Index([ 890.0,  898.0,  899.0,  900.0,  929.0,  973.0,  995.0,  996.0,\n",
       "               997.0,  998.0,  999.0, 1000.0, 1100.0, 1149.0, 1195.0, 1197.0,\n",
       "              1198.0, 1199.0, 1200.0, 1229.0, 1239.0, 1248.0, 1300.0, 1333.0,\n",
       "              1350.0, 1364.0, 1368.0, 1369.0, 1390.0, 1395.0, 1396.0, 1397.0,\n",
       "              1398.0, 1399.0, 1400.0, 1422.0, 1461.0, 1490.0, 1495.0, 1496.0,\n",
       "              1498.0, 1499.0, 1500.0, 1533.0, 1568.0, 1580.0, 1584.0, 1589.0,\n",
       "              1596.0, 1598.0, 1599.0, 1600.0, 1618.0, 1686.0, 1696.0, 1798.0,\n",
       "              1800.0, 1856.0, 1896.0, 1956.0, 1968.0, 1984.0, 1995.0, 1997.0,\n",
       "              1998.0, 2000.0, 2480.0, 2967.0],\n",
       "             dtype='float64')"
      ]
     },
     "execution_count": 237,
     "metadata": {},
     "output_type": "execute_result"
    }
   ],
   "source": [
    "df.Displacement.value_counts(dropna=False).index.sort_values()"
   ]
  },
  {
   "cell_type": "code",
   "execution_count": 238,
   "metadata": {},
   "outputs": [
    {
     "data": {
      "text/plain": [
       "<AxesSubplot:xlabel='Displacement'>"
      ]
     },
     "execution_count": 238,
     "metadata": {},
     "output_type": "execute_result"
    },
    {
     "data": {
      "image/png": "[encoded data removed]",
      "text/plain": [
       "<Figure size 432x288 with 1 Axes>"
      ]
     },
     "metadata": {
      "needs_background": "light"
     },
     "output_type": "display_data"
    }
   ],
   "source": [
    "sns.boxplot(df.Displacement)"
   ]
  },
  {
   "cell_type": "code",
   "execution_count": 239,
   "metadata": {},
   "outputs": [
    {
     "name": "stdout",
     "output_type": "stream",
     "text": [
      "<class 'pandas.core.frame.DataFrame'>\n",
      "RangeIndex: 15919 entries, 0 to 15918\n",
      "Data columns (total 25 columns):\n",
      " #   Column                   Non-Null Count  Dtype  \n",
      "---  ------                   --------------  -----  \n",
      " 0   make_model               15919 non-null  object \n",
      " 1   body_type                15919 non-null  object \n",
      " 2   price                    15919 non-null  int64  \n",
      " 3   vat                      15919 non-null  bool   \n",
      " 4   km                       15919 non-null  int64  \n",
      " 5   prev_owner               15919 non-null  int64  \n",
      " 6   hp                       15919 non-null  int32  \n",
      " 7   Body Color               15919 non-null  object \n",
      " 8   Paint Type               15919 non-null  object \n",
      " 9   Upholstery               15919 non-null  object \n",
      " 10  Nr. of Doors             15919 non-null  int32  \n",
      " 11  Nr. of Seats             15919 non-null  int32  \n",
      " 12  Gearing Type             15919 non-null  object \n",
      " 13  Displacement             15919 non-null  float64\n",
      " 14  Cylinders                10239 non-null  object \n",
      " 15  Drive chain              9061 non-null   object \n",
      " 16  Fuel                     15919 non-null  object \n",
      " 17  Consumption              14013 non-null  object \n",
      " 18  Emission Class           12898 non-null  object \n",
      " 19  \n",
      "Comfort & Convenience\n",
      "  14999 non-null  object \n",
      " 20  \n",
      "Entertainment & Media\n",
      "  14545 non-null  object \n",
      " 21  \n",
      "Extras\n",
      "                 12957 non-null  object \n",
      " 22  \n",
      "Safety & Security\n",
      "      14937 non-null  object \n",
      " 23  Gears                    11207 non-null  object \n",
      " 24  age                      15919 non-null  int64  \n",
      "dtypes: bool(1), float64(1), int32(3), int64(4), object(16)\n",
      "memory usage: 2.7+ MB\n"
     ]
    }
   ],
   "source": [
    "df.info()"
   ]
  },
  {
   "cell_type": "code",
   "execution_count": 240,
   "metadata": {},
   "outputs": [
    {
     "data": {
      "text/plain": [
       "0        [\\n3\\n]\n",
       "1        [\\n4\\n]\n",
       "2            NaN\n",
       "3        [\\n3\\n]\n",
       "4        [\\n3\\n]\n",
       "          ...   \n",
       "15914    [\\n4\\n]\n",
       "15915    [\\n4\\n]\n",
       "15916    [\\n4\\n]\n",
       "15917    [\\n4\\n]\n",
       "15918    [\\n4\\n]\n",
       "Name: Cylinders, Length: 15919, dtype: object"
      ]
     },
     "execution_count": 240,
     "metadata": {},
     "output_type": "execute_result"
    }
   ],
   "source": [
    "df.Cylinders"
   ]
  },
  {
   "cell_type": "code",
   "execution_count": 241,
   "metadata": {},
   "outputs": [
    {
     "data": {
      "text/plain": [
       "0.3568063320560337"
      ]
     },
     "execution_count": 241,
     "metadata": {},
     "output_type": "execute_result"
    }
   ],
   "source": [
    "df.Cylinders.isnull().sum()/15919"
   ]
  },
  {
   "cell_type": "code",
   "execution_count": 242,
   "metadata": {},
   "outputs": [
    {
     "ename": "TypeError",
     "evalue": "unhashable type: 'list'",
     "output_type": "error",
     "traceback": [
      "\u001b[1;31m---------------------------------------------------------------------------\u001b[0m",
      "\u001b[1;31mTypeError\u001b[0m                                 Traceback (most recent call last)",
      "\u001b[1;32mpandas\\_libs\\hashtable_class_helper.pxi\u001b[0m in \u001b[0;36mpandas._libs.hashtable.PyObjectHashTable.map_locations\u001b[1;34m()\u001b[0m\n",
      "\u001b[1;31mTypeError\u001b[0m: unhashable type: 'list'"
     ]
    },
    {
     "name": "stderr",
     "output_type": "stream",
     "text": [
      "Exception ignored in: 'pandas._libs.index.IndexEngine._call_map_locations'\n",
      "Traceback (most recent call last):\n",
      "  File \"pandas\\_libs\\hashtable_class_helper.pxi\", line 1709, in pandas._libs.hashtable.PyObjectHashTable.map_locations\n",
      "TypeError: unhashable type: 'list'\n"
     ]
    },
    {
     "data": {
      "text/plain": [
       "[\\n4\\n]    8105\n",
       "NaN        5680\n",
       "[\\n3\\n]    2104\n",
       "[\\n5\\n]      22\n",
       "[\\n6\\n]       3\n",
       "[\\n2\\n]       2\n",
       "[\\n8\\n]       2\n",
       "[\\n1\\n]       1\n",
       "Name: Cylinders, dtype: int64"
      ]
     },
     "execution_count": 242,
     "metadata": {},
     "output_type": "execute_result"
    }
   ],
   "source": [
    "df.Cylinders.value_counts(dropna=False)"
   ]
  },
  {
   "cell_type": "code",
   "execution_count": 244,
   "metadata": {},
   "outputs": [
    {
     "data": {
      "text/plain": [
       "0          3\n",
       "1          4\n",
       "2        NaN\n",
       "3          3\n",
       "4          3\n",
       "        ... \n",
       "15914      4\n",
       "15915      4\n",
       "15916      4\n",
       "15917      4\n",
       "15918      4\n",
       "Name: Cylinders, Length: 15919, dtype: object"
      ]
     },
     "execution_count": 244,
     "metadata": {},
     "output_type": "execute_result"
    }
   ],
   "source": [
    "df.Cylinders.str[0].str.strip(\"\\n\")"
   ]
  },
  {
   "cell_type": "code",
   "execution_count": 245,
   "metadata": {},
   "outputs": [],
   "source": [
    "df[\"Cylinders\"] = df.Cylinders.str[0].str.strip(\"\\n\")"
   ]
  },
  {
   "cell_type": "code",
   "execution_count": 246,
   "metadata": {},
   "outputs": [
    {
     "data": {
      "text/plain": [
       "4      8105\n",
       "NaN    5680\n",
       "3      2104\n",
       "5        22\n",
       "6         3\n",
       "2         2\n",
       "8         2\n",
       "1         1\n",
       "Name: Cylinders, dtype: int64"
      ]
     },
     "execution_count": 246,
     "metadata": {},
     "output_type": "execute_result"
    }
   ],
   "source": [
    "df.Cylinders.value_counts(dropna=False)"
   ]
  },
  {
   "cell_type": "code",
   "execution_count": 250,
   "metadata": {},
   "outputs": [
    {
     "data": {
      "text/html": [
       "<div>\n",
       "<style scoped>\n",
       "    .dataframe tbody tr th:only-of-type {\n",
       "        vertical-align: middle;\n",
       "    }\n",
       "\n",
       "    .dataframe tbody tr th {\n",
       "        vertical-align: top;\n",
       "    }\n",
       "\n",
       "    .dataframe thead th {\n",
       "        text-align: right;\n",
       "    }\n",
       "</style>\n",
       "<table border=\"1\" class=\"dataframe\">\n",
       "  <thead>\n",
       "    <tr style=\"text-align: right;\">\n",
       "      <th></th>\n",
       "      <th>make_model</th>\n",
       "      <th>body_type</th>\n",
       "      <th>price</th>\n",
       "      <th>vat</th>\n",
       "      <th>km</th>\n",
       "      <th>prev_owner</th>\n",
       "      <th>hp</th>\n",
       "      <th>Body Color</th>\n",
       "      <th>Paint Type</th>\n",
       "      <th>Upholstery</th>\n",
       "      <th>Nr. of Doors</th>\n",
       "      <th>Nr. of Seats</th>\n",
       "      <th>Gearing Type</th>\n",
       "      <th>Displacement</th>\n",
       "      <th>Cylinders</th>\n",
       "      <th>Drive chain</th>\n",
       "      <th>Fuel</th>\n",
       "      <th>Consumption</th>\n",
       "      <th>Emission Class</th>\n",
       "      <th>\\nComfort &amp; Convenience\\n</th>\n",
       "      <th>\\nEntertainment &amp; Media\\n</th>\n",
       "      <th>\\nExtras\\n</th>\n",
       "      <th>\\nSafety &amp; Security\\n</th>\n",
       "      <th>Gears</th>\n",
       "      <th>age</th>\n",
       "    </tr>\n",
       "  </thead>\n",
       "  <tbody>\n",
       "    <tr>\n",
       "      <th>9956</th>\n",
       "      <td>Opel Corsa</td>\n",
       "      <td>Compact</td>\n",
       "      <td>16625</td>\n",
       "      <td>True</td>\n",
       "      <td>100</td>\n",
       "      <td>1</td>\n",
       "      <td>66</td>\n",
       "      <td>Black</td>\n",
       "      <td>Metallic</td>\n",
       "      <td>cloth</td>\n",
       "      <td>3</td>\n",
       "      <td>5</td>\n",
       "      <td>Automatic</td>\n",
       "      <td>1398.0</td>\n",
       "      <td>1</td>\n",
       "      <td>[\\nfront\\n]</td>\n",
       "      <td>[\\n, Super 95, \\n]</td>\n",
       "      <td>[[6 l/100 km (comb)], [7.8 l/100 km (city)], [...</td>\n",
       "      <td>[\\nEuro 6d-TEMP\\n]</td>\n",
       "      <td>[Air conditioning, Automatic climate control, ...</td>\n",
       "      <td>[Bluetooth, Digital radio, Hands-free equipmen...</td>\n",
       "      <td>[Alloy wheels, Sport suspension]</td>\n",
       "      <td>[ABS, Central door lock, Daytime running light...</td>\n",
       "      <td>[\\n6\\n]</td>\n",
       "      <td>1</td>\n",
       "    </tr>\n",
       "  </tbody>\n",
       "</table>\n",
       "</div>"
      ],
      "text/plain": [
       "      make_model body_type  price   vat   km  prev_owner  hp Body Color  \\\n",
       "9956  Opel Corsa   Compact  16625  True  100           1  66      Black   \n",
       "\n",
       "     Paint Type Upholstery  Nr. of Doors  Nr. of Seats Gearing Type  \\\n",
       "9956   Metallic      cloth             3             5    Automatic   \n",
       "\n",
       "      Displacement Cylinders  Drive chain                Fuel  \\\n",
       "9956        1398.0         1  [\\nfront\\n]  [\\n, Super 95, \\n]   \n",
       "\n",
       "                                            Consumption      Emission Class  \\\n",
       "9956  [[6 l/100 km (comb)], [7.8 l/100 km (city)], [...  [\\nEuro 6d-TEMP\\n]   \n",
       "\n",
       "                              \\nComfort & Convenience\\n  \\\n",
       "9956  [Air conditioning, Automatic climate control, ...   \n",
       "\n",
       "                              \\nEntertainment & Media\\n  \\\n",
       "9956  [Bluetooth, Digital radio, Hands-free equipmen...   \n",
       "\n",
       "                            \\nExtras\\n  \\\n",
       "9956  [Alloy wheels, Sport suspension]   \n",
       "\n",
       "                                  \\nSafety & Security\\n    Gears  age  \n",
       "9956  [ABS, Central door lock, Daytime running light...  [\\n6\\n]    1  "
      ]
     },
     "execution_count": 250,
     "metadata": {},
     "output_type": "execute_result"
    }
   ],
   "source": [
    "df[df.Cylinders == \"1\"]"
   ]
  },
  {
   "cell_type": "code",
   "execution_count": 251,
   "metadata": {},
   "outputs": [],
   "source": [
    "df.loc[df.Cylinders == \"1\",\"Cylinders\"] = \"4\""
   ]
  },
  {
   "cell_type": "code",
   "execution_count": 253,
   "metadata": {},
   "outputs": [
    {
     "data": {
      "text/html": [
       "<div>\n",
       "<style scoped>\n",
       "    .dataframe tbody tr th:only-of-type {\n",
       "        vertical-align: middle;\n",
       "    }\n",
       "\n",
       "    .dataframe tbody tr th {\n",
       "        vertical-align: top;\n",
       "    }\n",
       "\n",
       "    .dataframe thead th {\n",
       "        text-align: right;\n",
       "    }\n",
       "</style>\n",
       "<table border=\"1\" class=\"dataframe\">\n",
       "  <thead>\n",
       "    <tr style=\"text-align: right;\">\n",
       "      <th></th>\n",
       "      <th>make_model</th>\n",
       "      <th>body_type</th>\n",
       "      <th>price</th>\n",
       "      <th>vat</th>\n",
       "      <th>km</th>\n",
       "      <th>prev_owner</th>\n",
       "      <th>hp</th>\n",
       "      <th>Body Color</th>\n",
       "      <th>Paint Type</th>\n",
       "      <th>Upholstery</th>\n",
       "      <th>Nr. of Doors</th>\n",
       "      <th>Nr. of Seats</th>\n",
       "      <th>Gearing Type</th>\n",
       "      <th>Displacement</th>\n",
       "      <th>Cylinders</th>\n",
       "      <th>Drive chain</th>\n",
       "      <th>Fuel</th>\n",
       "      <th>Consumption</th>\n",
       "      <th>Emission Class</th>\n",
       "      <th>\\nComfort &amp; Convenience\\n</th>\n",
       "      <th>\\nEntertainment &amp; Media\\n</th>\n",
       "      <th>\\nExtras\\n</th>\n",
       "      <th>\\nSafety &amp; Security\\n</th>\n",
       "      <th>Gears</th>\n",
       "      <th>age</th>\n",
       "    </tr>\n",
       "  </thead>\n",
       "  <tbody>\n",
       "    <tr>\n",
       "      <th>9956</th>\n",
       "      <td>Opel Corsa</td>\n",
       "      <td>Compact</td>\n",
       "      <td>16625</td>\n",
       "      <td>True</td>\n",
       "      <td>100</td>\n",
       "      <td>1</td>\n",
       "      <td>66</td>\n",
       "      <td>Black</td>\n",
       "      <td>Metallic</td>\n",
       "      <td>cloth</td>\n",
       "      <td>3</td>\n",
       "      <td>5</td>\n",
       "      <td>Automatic</td>\n",
       "      <td>1398.0</td>\n",
       "      <td>4</td>\n",
       "      <td>[\\nfront\\n]</td>\n",
       "      <td>[\\n, Super 95, \\n]</td>\n",
       "      <td>[[6 l/100 km (comb)], [7.8 l/100 km (city)], [...</td>\n",
       "      <td>[\\nEuro 6d-TEMP\\n]</td>\n",
       "      <td>[Air conditioning, Automatic climate control, ...</td>\n",
       "      <td>[Bluetooth, Digital radio, Hands-free equipmen...</td>\n",
       "      <td>[Alloy wheels, Sport suspension]</td>\n",
       "      <td>[ABS, Central door lock, Daytime running light...</td>\n",
       "      <td>[\\n6\\n]</td>\n",
       "      <td>1</td>\n",
       "    </tr>\n",
       "  </tbody>\n",
       "</table>\n",
       "</div>"
      ],
      "text/plain": [
       "      make_model body_type  price   vat   km  prev_owner  hp Body Color  \\\n",
       "9956  Opel Corsa   Compact  16625  True  100           1  66      Black   \n",
       "\n",
       "     Paint Type Upholstery  Nr. of Doors  Nr. of Seats Gearing Type  \\\n",
       "9956   Metallic      cloth             3             5    Automatic   \n",
       "\n",
       "      Displacement Cylinders  Drive chain                Fuel  \\\n",
       "9956        1398.0         4  [\\nfront\\n]  [\\n, Super 95, \\n]   \n",
       "\n",
       "                                            Consumption      Emission Class  \\\n",
       "9956  [[6 l/100 km (comb)], [7.8 l/100 km (city)], [...  [\\nEuro 6d-TEMP\\n]   \n",
       "\n",
       "                              \\nComfort & Convenience\\n  \\\n",
       "9956  [Air conditioning, Automatic climate control, ...   \n",
       "\n",
       "                              \\nEntertainment & Media\\n  \\\n",
       "9956  [Bluetooth, Digital radio, Hands-free equipmen...   \n",
       "\n",
       "                            \\nExtras\\n  \\\n",
       "9956  [Alloy wheels, Sport suspension]   \n",
       "\n",
       "                                  \\nSafety & Security\\n    Gears  age  \n",
       "9956  [ABS, Central door lock, Daytime running light...  [\\n6\\n]    1  "
      ]
     },
     "execution_count": 253,
     "metadata": {},
     "output_type": "execute_result"
    }
   ],
   "source": [
    "df.iloc[[9956]]"
   ]
  },
  {
   "cell_type": "code",
   "execution_count": 254,
   "metadata": {
    "collapsed": true
   },
   "outputs": [
    {
     "data": {
      "text/html": [
       "<div>\n",
       "<style scoped>\n",
       "    .dataframe tbody tr th:only-of-type {\n",
       "        vertical-align: middle;\n",
       "    }\n",
       "\n",
       "    .dataframe tbody tr th {\n",
       "        vertical-align: top;\n",
       "    }\n",
       "\n",
       "    .dataframe thead th {\n",
       "        text-align: right;\n",
       "    }\n",
       "</style>\n",
       "<table border=\"1\" class=\"dataframe\">\n",
       "  <thead>\n",
       "    <tr style=\"text-align: right;\">\n",
       "      <th></th>\n",
       "      <th>make_model</th>\n",
       "      <th>body_type</th>\n",
       "      <th>price</th>\n",
       "      <th>vat</th>\n",
       "      <th>km</th>\n",
       "      <th>prev_owner</th>\n",
       "      <th>hp</th>\n",
       "      <th>Body Color</th>\n",
       "      <th>Paint Type</th>\n",
       "      <th>Upholstery</th>\n",
       "      <th>Nr. of Doors</th>\n",
       "      <th>Nr. of Seats</th>\n",
       "      <th>Gearing Type</th>\n",
       "      <th>Displacement</th>\n",
       "      <th>Cylinders</th>\n",
       "      <th>Drive chain</th>\n",
       "      <th>Fuel</th>\n",
       "      <th>Consumption</th>\n",
       "      <th>Emission Class</th>\n",
       "      <th>\\nComfort &amp; Convenience\\n</th>\n",
       "      <th>\\nEntertainment &amp; Media\\n</th>\n",
       "      <th>\\nExtras\\n</th>\n",
       "      <th>\\nSafety &amp; Security\\n</th>\n",
       "      <th>Gears</th>\n",
       "      <th>age</th>\n",
       "    </tr>\n",
       "  </thead>\n",
       "  <tbody>\n",
       "    <tr>\n",
       "      <th>11342</th>\n",
       "      <td>Opel Insignia</td>\n",
       "      <td>Station wagon</td>\n",
       "      <td>21900</td>\n",
       "      <td>True</td>\n",
       "      <td>13600</td>\n",
       "      <td>1</td>\n",
       "      <td>100</td>\n",
       "      <td>Grey</td>\n",
       "      <td>Metallic</td>\n",
       "      <td>part</td>\n",
       "      <td>5</td>\n",
       "      <td>5</td>\n",
       "      <td>Automatic</td>\n",
       "      <td>1598.0</td>\n",
       "      <td>2</td>\n",
       "      <td>[\\nfront\\n]</td>\n",
       "      <td>[\\n, Diesel (Particulate Filter), \\n]</td>\n",
       "      <td>NaN</td>\n",
       "      <td>NaN</td>\n",
       "      <td>[Air conditioning, Armrest, Automatic climate ...</td>\n",
       "      <td>[Bluetooth, Digital radio, Hands-free equipmen...</td>\n",
       "      <td>[Alloy wheels, Catalytic Converter, Touch scre...</td>\n",
       "      <td>[ABS, Central door lock with remote control, D...</td>\n",
       "      <td>[\\n6\\n]</td>\n",
       "      <td>2</td>\n",
       "    </tr>\n",
       "    <tr>\n",
       "      <th>15835</th>\n",
       "      <td>Renault Espace</td>\n",
       "      <td>Van</td>\n",
       "      <td>47590</td>\n",
       "      <td>True</td>\n",
       "      <td>6000</td>\n",
       "      <td>1</td>\n",
       "      <td>147</td>\n",
       "      <td>Black</td>\n",
       "      <td>Metallic</td>\n",
       "      <td>full</td>\n",
       "      <td>5</td>\n",
       "      <td>7</td>\n",
       "      <td>Automatic</td>\n",
       "      <td>1997.0</td>\n",
       "      <td>2</td>\n",
       "      <td>[\\nfront\\n]</td>\n",
       "      <td>[\\n, Diesel (Particulate Filter), \\n]</td>\n",
       "      <td>[[5.3 l/100 km (comb)], [6.2 l/100 km (city)],...</td>\n",
       "      <td>[\\nEuro 6d-TEMP\\n]</td>\n",
       "      <td>[Air conditioning, Automatic climate control, ...</td>\n",
       "      <td>[Bluetooth, Hands-free equipment, On-board com...</td>\n",
       "      <td>[Voice Control]</td>\n",
       "      <td>[ABS, Alarm system, Blind spot monitor, Centra...</td>\n",
       "      <td>[\\n6\\n]</td>\n",
       "      <td>1</td>\n",
       "    </tr>\n",
       "  </tbody>\n",
       "</table>\n",
       "</div>"
      ],
      "text/plain": [
       "           make_model      body_type  price   vat     km  prev_owner   hp  \\\n",
       "11342   Opel Insignia  Station wagon  21900  True  13600           1  100   \n",
       "15835  Renault Espace            Van  47590  True   6000           1  147   \n",
       "\n",
       "      Body Color Paint Type Upholstery  Nr. of Doors  Nr. of Seats  \\\n",
       "11342       Grey   Metallic       part             5             5   \n",
       "15835      Black   Metallic       full             5             7   \n",
       "\n",
       "      Gearing Type  Displacement Cylinders  Drive chain  \\\n",
       "11342    Automatic        1598.0         2  [\\nfront\\n]   \n",
       "15835    Automatic        1997.0         2  [\\nfront\\n]   \n",
       "\n",
       "                                        Fuel  \\\n",
       "11342  [\\n, Diesel (Particulate Filter), \\n]   \n",
       "15835  [\\n, Diesel (Particulate Filter), \\n]   \n",
       "\n",
       "                                             Consumption      Emission Class  \\\n",
       "11342                                                NaN                 NaN   \n",
       "15835  [[5.3 l/100 km (comb)], [6.2 l/100 km (city)],...  [\\nEuro 6d-TEMP\\n]   \n",
       "\n",
       "                               \\nComfort & Convenience\\n  \\\n",
       "11342  [Air conditioning, Armrest, Automatic climate ...   \n",
       "15835  [Air conditioning, Automatic climate control, ...   \n",
       "\n",
       "                               \\nEntertainment & Media\\n  \\\n",
       "11342  [Bluetooth, Digital radio, Hands-free equipmen...   \n",
       "15835  [Bluetooth, Hands-free equipment, On-board com...   \n",
       "\n",
       "                                              \\nExtras\\n  \\\n",
       "11342  [Alloy wheels, Catalytic Converter, Touch scre...   \n",
       "15835                                    [Voice Control]   \n",
       "\n",
       "                                   \\nSafety & Security\\n    Gears  age  \n",
       "11342  [ABS, Central door lock with remote control, D...  [\\n6\\n]    2  \n",
       "15835  [ABS, Alarm system, Blind spot monitor, Centra...  [\\n6\\n]    1  "
      ]
     },
     "execution_count": 254,
     "metadata": {},
     "output_type": "execute_result"
    }
   ],
   "source": [
    "df[df.Cylinders == \"2\"]"
   ]
  },
  {
   "cell_type": "code",
   "execution_count": 255,
   "metadata": {},
   "outputs": [],
   "source": [
    "df.loc[df.Cylinders == \"2\",\"Cylinders\"] = \"4\""
   ]
  },
  {
   "cell_type": "code",
   "execution_count": 259,
   "metadata": {
    "collapsed": true
   },
   "outputs": [
    {
     "data": {
      "text/html": [
       "<div>\n",
       "<style scoped>\n",
       "    .dataframe tbody tr th:only-of-type {\n",
       "        vertical-align: middle;\n",
       "    }\n",
       "\n",
       "    .dataframe tbody tr th {\n",
       "        vertical-align: top;\n",
       "    }\n",
       "\n",
       "    .dataframe thead th {\n",
       "        text-align: right;\n",
       "    }\n",
       "</style>\n",
       "<table border=\"1\" class=\"dataframe\">\n",
       "  <thead>\n",
       "    <tr style=\"text-align: right;\">\n",
       "      <th></th>\n",
       "      <th>make_model</th>\n",
       "      <th>body_type</th>\n",
       "      <th>price</th>\n",
       "      <th>vat</th>\n",
       "      <th>km</th>\n",
       "      <th>prev_owner</th>\n",
       "      <th>hp</th>\n",
       "      <th>Body Color</th>\n",
       "      <th>Paint Type</th>\n",
       "      <th>Upholstery</th>\n",
       "      <th>Nr. of Doors</th>\n",
       "      <th>Nr. of Seats</th>\n",
       "      <th>Gearing Type</th>\n",
       "      <th>Displacement</th>\n",
       "      <th>Cylinders</th>\n",
       "      <th>Drive chain</th>\n",
       "      <th>Fuel</th>\n",
       "      <th>Consumption</th>\n",
       "      <th>Emission Class</th>\n",
       "      <th>\\nComfort &amp; Convenience\\n</th>\n",
       "      <th>\\nEntertainment &amp; Media\\n</th>\n",
       "      <th>\\nExtras\\n</th>\n",
       "      <th>\\nSafety &amp; Security\\n</th>\n",
       "      <th>Gears</th>\n",
       "      <th>age</th>\n",
       "    </tr>\n",
       "  </thead>\n",
       "  <tbody>\n",
       "    <tr>\n",
       "      <th>11342</th>\n",
       "      <td>Opel Insignia</td>\n",
       "      <td>Station wagon</td>\n",
       "      <td>21900</td>\n",
       "      <td>True</td>\n",
       "      <td>13600</td>\n",
       "      <td>1</td>\n",
       "      <td>100</td>\n",
       "      <td>Grey</td>\n",
       "      <td>Metallic</td>\n",
       "      <td>part</td>\n",
       "      <td>5</td>\n",
       "      <td>5</td>\n",
       "      <td>Automatic</td>\n",
       "      <td>1598.0</td>\n",
       "      <td>4</td>\n",
       "      <td>[\\nfront\\n]</td>\n",
       "      <td>[\\n, Diesel (Particulate Filter), \\n]</td>\n",
       "      <td>NaN</td>\n",
       "      <td>NaN</td>\n",
       "      <td>[Air conditioning, Armrest, Automatic climate ...</td>\n",
       "      <td>[Bluetooth, Digital radio, Hands-free equipmen...</td>\n",
       "      <td>[Alloy wheels, Catalytic Converter, Touch scre...</td>\n",
       "      <td>[ABS, Central door lock with remote control, D...</td>\n",
       "      <td>[\\n6\\n]</td>\n",
       "      <td>2</td>\n",
       "    </tr>\n",
       "    <tr>\n",
       "      <th>15835</th>\n",
       "      <td>Renault Espace</td>\n",
       "      <td>Van</td>\n",
       "      <td>47590</td>\n",
       "      <td>True</td>\n",
       "      <td>6000</td>\n",
       "      <td>1</td>\n",
       "      <td>147</td>\n",
       "      <td>Black</td>\n",
       "      <td>Metallic</td>\n",
       "      <td>full</td>\n",
       "      <td>5</td>\n",
       "      <td>7</td>\n",
       "      <td>Automatic</td>\n",
       "      <td>1997.0</td>\n",
       "      <td>4</td>\n",
       "      <td>[\\nfront\\n]</td>\n",
       "      <td>[\\n, Diesel (Particulate Filter), \\n]</td>\n",
       "      <td>[[5.3 l/100 km (comb)], [6.2 l/100 km (city)],...</td>\n",
       "      <td>[\\nEuro 6d-TEMP\\n]</td>\n",
       "      <td>[Air conditioning, Automatic climate control, ...</td>\n",
       "      <td>[Bluetooth, Hands-free equipment, On-board com...</td>\n",
       "      <td>[Voice Control]</td>\n",
       "      <td>[ABS, Alarm system, Blind spot monitor, Centra...</td>\n",
       "      <td>[\\n6\\n]</td>\n",
       "      <td>1</td>\n",
       "    </tr>\n",
       "  </tbody>\n",
       "</table>\n",
       "</div>"
      ],
      "text/plain": [
       "           make_model      body_type  price   vat     km  prev_owner   hp  \\\n",
       "11342   Opel Insignia  Station wagon  21900  True  13600           1  100   \n",
       "15835  Renault Espace            Van  47590  True   6000           1  147   \n",
       "\n",
       "      Body Color Paint Type Upholstery  Nr. of Doors  Nr. of Seats  \\\n",
       "11342       Grey   Metallic       part             5             5   \n",
       "15835      Black   Metallic       full             5             7   \n",
       "\n",
       "      Gearing Type  Displacement Cylinders  Drive chain  \\\n",
       "11342    Automatic        1598.0         4  [\\nfront\\n]   \n",
       "15835    Automatic        1997.0         4  [\\nfront\\n]   \n",
       "\n",
       "                                        Fuel  \\\n",
       "11342  [\\n, Diesel (Particulate Filter), \\n]   \n",
       "15835  [\\n, Diesel (Particulate Filter), \\n]   \n",
       "\n",
       "                                             Consumption      Emission Class  \\\n",
       "11342                                                NaN                 NaN   \n",
       "15835  [[5.3 l/100 km (comb)], [6.2 l/100 km (city)],...  [\\nEuro 6d-TEMP\\n]   \n",
       "\n",
       "                               \\nComfort & Convenience\\n  \\\n",
       "11342  [Air conditioning, Armrest, Automatic climate ...   \n",
       "15835  [Air conditioning, Automatic climate control, ...   \n",
       "\n",
       "                               \\nEntertainment & Media\\n  \\\n",
       "11342  [Bluetooth, Digital radio, Hands-free equipmen...   \n",
       "15835  [Bluetooth, Hands-free equipment, On-board com...   \n",
       "\n",
       "                                              \\nExtras\\n  \\\n",
       "11342  [Alloy wheels, Catalytic Converter, Touch scre...   \n",
       "15835                                    [Voice Control]   \n",
       "\n",
       "                                   \\nSafety & Security\\n    Gears  age  \n",
       "11342  [ABS, Central door lock with remote control, D...  [\\n6\\n]    2  \n",
       "15835  [ABS, Alarm system, Blind spot monitor, Centra...  [\\n6\\n]    1  "
      ]
     },
     "execution_count": 259,
     "metadata": {},
     "output_type": "execute_result"
    }
   ],
   "source": [
    "df.iloc[[11342,15835]]"
   ]
  },
  {
   "cell_type": "code",
   "execution_count": 260,
   "metadata": {},
   "outputs": [
    {
     "data": {
      "text/html": [
       "<div>\n",
       "<style scoped>\n",
       "    .dataframe tbody tr th:only-of-type {\n",
       "        vertical-align: middle;\n",
       "    }\n",
       "\n",
       "    .dataframe tbody tr th {\n",
       "        vertical-align: top;\n",
       "    }\n",
       "\n",
       "    .dataframe thead th {\n",
       "        text-align: right;\n",
       "    }\n",
       "</style>\n",
       "<table border=\"1\" class=\"dataframe\">\n",
       "  <thead>\n",
       "    <tr style=\"text-align: right;\">\n",
       "      <th></th>\n",
       "      <th>make_model</th>\n",
       "      <th>body_type</th>\n",
       "      <th>price</th>\n",
       "      <th>vat</th>\n",
       "      <th>km</th>\n",
       "      <th>prev_owner</th>\n",
       "      <th>hp</th>\n",
       "      <th>Body Color</th>\n",
       "      <th>Paint Type</th>\n",
       "      <th>Upholstery</th>\n",
       "      <th>Nr. of Doors</th>\n",
       "      <th>Nr. of Seats</th>\n",
       "      <th>Gearing Type</th>\n",
       "      <th>Displacement</th>\n",
       "      <th>Cylinders</th>\n",
       "      <th>Drive chain</th>\n",
       "      <th>Fuel</th>\n",
       "      <th>Consumption</th>\n",
       "      <th>Emission Class</th>\n",
       "      <th>\\nComfort &amp; Convenience\\n</th>\n",
       "      <th>\\nEntertainment &amp; Media\\n</th>\n",
       "      <th>\\nExtras\\n</th>\n",
       "      <th>\\nSafety &amp; Security\\n</th>\n",
       "      <th>Gears</th>\n",
       "      <th>age</th>\n",
       "    </tr>\n",
       "  </thead>\n",
       "  <tbody>\n",
       "    <tr>\n",
       "      <th>535</th>\n",
       "      <td>Audi A1</td>\n",
       "      <td>Compact</td>\n",
       "      <td>12990</td>\n",
       "      <td>False</td>\n",
       "      <td>41200</td>\n",
       "      <td>1</td>\n",
       "      <td>70</td>\n",
       "      <td>Silver</td>\n",
       "      <td>Metallic</td>\n",
       "      <td>cloth</td>\n",
       "      <td>5</td>\n",
       "      <td>4</td>\n",
       "      <td>Manual</td>\n",
       "      <td>999.0</td>\n",
       "      <td>8</td>\n",
       "      <td>[\\nfront\\n]</td>\n",
       "      <td>[\\n, Super 95, \\n]</td>\n",
       "      <td>[[13.8 l/100 km (comb)], [19.9 l/100 km (city)...</td>\n",
       "      <td>[\\nEuro 4\\n]</td>\n",
       "      <td>[Air conditioning, Automatic climate control, ...</td>\n",
       "      <td>NaN</td>\n",
       "      <td>[Ski bag, Sport suspension]</td>\n",
       "      <td>[ABS, Alarm system, Central door lock, Driver-...</td>\n",
       "      <td>NaN</td>\n",
       "      <td>4</td>\n",
       "    </tr>\n",
       "    <tr>\n",
       "      <th>15055</th>\n",
       "      <td>Renault Espace</td>\n",
       "      <td>Van</td>\n",
       "      <td>24990</td>\n",
       "      <td>False</td>\n",
       "      <td>47423</td>\n",
       "      <td>1</td>\n",
       "      <td>117</td>\n",
       "      <td>Black</td>\n",
       "      <td>Metallic</td>\n",
       "      <td>full</td>\n",
       "      <td>5</td>\n",
       "      <td>7</td>\n",
       "      <td>Automatic</td>\n",
       "      <td>1598.0</td>\n",
       "      <td>8</td>\n",
       "      <td>NaN</td>\n",
       "      <td>[\\n, Diesel, \\n]</td>\n",
       "      <td>NaN</td>\n",
       "      <td>NaN</td>\n",
       "      <td>[Park Distance Control]</td>\n",
       "      <td>NaN</td>\n",
       "      <td>[Alloy wheels]</td>\n",
       "      <td>NaN</td>\n",
       "      <td>NaN</td>\n",
       "      <td>3</td>\n",
       "    </tr>\n",
       "  </tbody>\n",
       "</table>\n",
       "</div>"
      ],
      "text/plain": [
       "           make_model body_type  price    vat     km  prev_owner   hp  \\\n",
       "535           Audi A1   Compact  12990  False  41200           1   70   \n",
       "15055  Renault Espace       Van  24990  False  47423           1  117   \n",
       "\n",
       "      Body Color Paint Type Upholstery  Nr. of Doors  Nr. of Seats  \\\n",
       "535       Silver   Metallic      cloth             5             4   \n",
       "15055      Black   Metallic       full             5             7   \n",
       "\n",
       "      Gearing Type  Displacement Cylinders  Drive chain                Fuel  \\\n",
       "535         Manual         999.0         8  [\\nfront\\n]  [\\n, Super 95, \\n]   \n",
       "15055    Automatic        1598.0         8          NaN    [\\n, Diesel, \\n]   \n",
       "\n",
       "                                             Consumption Emission Class  \\\n",
       "535    [[13.8 l/100 km (comb)], [19.9 l/100 km (city)...   [\\nEuro 4\\n]   \n",
       "15055                                                NaN            NaN   \n",
       "\n",
       "                               \\nComfort & Convenience\\n  \\\n",
       "535    [Air conditioning, Automatic climate control, ...   \n",
       "15055                            [Park Distance Control]   \n",
       "\n",
       "      \\nEntertainment & Media\\n                   \\nExtras\\n  \\\n",
       "535                         NaN  [Ski bag, Sport suspension]   \n",
       "15055                       NaN               [Alloy wheels]   \n",
       "\n",
       "                                   \\nSafety & Security\\n Gears  age  \n",
       "535    [ABS, Alarm system, Central door lock, Driver-...   NaN    4  \n",
       "15055                                                NaN   NaN    3  "
      ]
     },
     "execution_count": 260,
     "metadata": {},
     "output_type": "execute_result"
    }
   ],
   "source": [
    "df[df.Cylinders == \"8\"]"
   ]
  },
  {
   "cell_type": "code",
   "execution_count": 261,
   "metadata": {},
   "outputs": [],
   "source": [
    "df.loc[df.Cylinders == \"8\",\"Cylinders\"] = \"4\""
   ]
  },
  {
   "cell_type": "code",
   "execution_count": 262,
   "metadata": {
    "collapsed": true
   },
   "outputs": [
    {
     "data": {
      "text/html": [
       "<div>\n",
       "<style scoped>\n",
       "    .dataframe tbody tr th:only-of-type {\n",
       "        vertical-align: middle;\n",
       "    }\n",
       "\n",
       "    .dataframe tbody tr th {\n",
       "        vertical-align: top;\n",
       "    }\n",
       "\n",
       "    .dataframe thead th {\n",
       "        text-align: right;\n",
       "    }\n",
       "</style>\n",
       "<table border=\"1\" class=\"dataframe\">\n",
       "  <thead>\n",
       "    <tr style=\"text-align: right;\">\n",
       "      <th></th>\n",
       "      <th>make_model</th>\n",
       "      <th>body_type</th>\n",
       "      <th>price</th>\n",
       "      <th>vat</th>\n",
       "      <th>km</th>\n",
       "      <th>prev_owner</th>\n",
       "      <th>hp</th>\n",
       "      <th>Body Color</th>\n",
       "      <th>Paint Type</th>\n",
       "      <th>Upholstery</th>\n",
       "      <th>Nr. of Doors</th>\n",
       "      <th>Nr. of Seats</th>\n",
       "      <th>Gearing Type</th>\n",
       "      <th>Displacement</th>\n",
       "      <th>Cylinders</th>\n",
       "      <th>Drive chain</th>\n",
       "      <th>Fuel</th>\n",
       "      <th>Consumption</th>\n",
       "      <th>Emission Class</th>\n",
       "      <th>\\nComfort &amp; Convenience\\n</th>\n",
       "      <th>\\nEntertainment &amp; Media\\n</th>\n",
       "      <th>\\nExtras\\n</th>\n",
       "      <th>\\nSafety &amp; Security\\n</th>\n",
       "      <th>Gears</th>\n",
       "      <th>age</th>\n",
       "    </tr>\n",
       "  </thead>\n",
       "  <tbody>\n",
       "    <tr>\n",
       "      <th>10771</th>\n",
       "      <td>Opel Insignia</td>\n",
       "      <td>Station wagon</td>\n",
       "      <td>12000</td>\n",
       "      <td>True</td>\n",
       "      <td>185000</td>\n",
       "      <td>1</td>\n",
       "      <td>100</td>\n",
       "      <td>White</td>\n",
       "      <td>Metallic</td>\n",
       "      <td>cloth</td>\n",
       "      <td>5</td>\n",
       "      <td>5</td>\n",
       "      <td>Automatic</td>\n",
       "      <td>2967.0</td>\n",
       "      <td>6</td>\n",
       "      <td>NaN</td>\n",
       "      <td>[\\n, Diesel, \\n]</td>\n",
       "      <td>[[9.1 l/100 km (comb)], [11.3 l/100 km (city)]...</td>\n",
       "      <td>[\\nEuro 4\\n]</td>\n",
       "      <td>[Air conditioning, Armrest, Automatic climate ...</td>\n",
       "      <td>[Bluetooth, CD player, Digital radio, Hands-fr...</td>\n",
       "      <td>[Alloy wheels, Catalytic Converter, Roof rack,...</td>\n",
       "      <td>[ABS, Adaptive Cruise Control, Adaptive headli...</td>\n",
       "      <td>[\\n6\\n]</td>\n",
       "      <td>4</td>\n",
       "    </tr>\n",
       "    <tr>\n",
       "      <th>10826</th>\n",
       "      <td>Opel Insignia</td>\n",
       "      <td>Station wagon</td>\n",
       "      <td>12500</td>\n",
       "      <td>True</td>\n",
       "      <td>77500</td>\n",
       "      <td>1</td>\n",
       "      <td>100</td>\n",
       "      <td>Grey</td>\n",
       "      <td>Metallic</td>\n",
       "      <td>cloth</td>\n",
       "      <td>5</td>\n",
       "      <td>5</td>\n",
       "      <td>Automatic</td>\n",
       "      <td>1598.0</td>\n",
       "      <td>6</td>\n",
       "      <td>[\\nfront\\n]</td>\n",
       "      <td>[\\n, Diesel, \\n]</td>\n",
       "      <td>[[5.4 l/100 km (comb)], [7.4 l/100 km (city)],...</td>\n",
       "      <td>[\\nEuro 6\\n]</td>\n",
       "      <td>[Air conditioning, Armrest, Automatic climate ...</td>\n",
       "      <td>[Bluetooth, CD player, Digital radio, Hands-fr...</td>\n",
       "      <td>[Touch screen, Voice Control]</td>\n",
       "      <td>[ABS, Adaptive Cruise Control, Central door lo...</td>\n",
       "      <td>[\\n7\\n]</td>\n",
       "      <td>3</td>\n",
       "    </tr>\n",
       "    <tr>\n",
       "      <th>12897</th>\n",
       "      <td>Opel Insignia</td>\n",
       "      <td>Sedans</td>\n",
       "      <td>26500</td>\n",
       "      <td>True</td>\n",
       "      <td>5</td>\n",
       "      <td>1</td>\n",
       "      <td>100</td>\n",
       "      <td>Grey</td>\n",
       "      <td>Uni/basic</td>\n",
       "      <td>full</td>\n",
       "      <td>5</td>\n",
       "      <td>5</td>\n",
       "      <td>Manual</td>\n",
       "      <td>1600.0</td>\n",
       "      <td>6</td>\n",
       "      <td>NaN</td>\n",
       "      <td>[\\n, Diesel (Particulate Filter), \\n]</td>\n",
       "      <td>NaN</td>\n",
       "      <td>[[], [], []]</td>\n",
       "      <td>[Air conditioning, Automatic climate control, ...</td>\n",
       "      <td>[Bluetooth, On-board computer]</td>\n",
       "      <td>[Alloy wheels]</td>\n",
       "      <td>[ABS, Central door lock, Driver-side airbag, E...</td>\n",
       "      <td>[\\n6\\n]</td>\n",
       "      <td>1</td>\n",
       "    </tr>\n",
       "  </tbody>\n",
       "</table>\n",
       "</div>"
      ],
      "text/plain": [
       "          make_model      body_type  price   vat      km  prev_owner   hp  \\\n",
       "10771  Opel Insignia  Station wagon  12000  True  185000           1  100   \n",
       "10826  Opel Insignia  Station wagon  12500  True   77500           1  100   \n",
       "12897  Opel Insignia         Sedans  26500  True       5           1  100   \n",
       "\n",
       "      Body Color Paint Type Upholstery  Nr. of Doors  Nr. of Seats  \\\n",
       "10771      White   Metallic      cloth             5             5   \n",
       "10826       Grey   Metallic      cloth             5             5   \n",
       "12897       Grey  Uni/basic       full             5             5   \n",
       "\n",
       "      Gearing Type  Displacement Cylinders  Drive chain  \\\n",
       "10771    Automatic        2967.0         6          NaN   \n",
       "10826    Automatic        1598.0         6  [\\nfront\\n]   \n",
       "12897       Manual        1600.0         6          NaN   \n",
       "\n",
       "                                        Fuel  \\\n",
       "10771                       [\\n, Diesel, \\n]   \n",
       "10826                       [\\n, Diesel, \\n]   \n",
       "12897  [\\n, Diesel (Particulate Filter), \\n]   \n",
       "\n",
       "                                             Consumption Emission Class  \\\n",
       "10771  [[9.1 l/100 km (comb)], [11.3 l/100 km (city)]...   [\\nEuro 4\\n]   \n",
       "10826  [[5.4 l/100 km (comb)], [7.4 l/100 km (city)],...   [\\nEuro 6\\n]   \n",
       "12897                                                NaN   [[], [], []]   \n",
       "\n",
       "                               \\nComfort & Convenience\\n  \\\n",
       "10771  [Air conditioning, Armrest, Automatic climate ...   \n",
       "10826  [Air conditioning, Armrest, Automatic climate ...   \n",
       "12897  [Air conditioning, Automatic climate control, ...   \n",
       "\n",
       "                               \\nEntertainment & Media\\n  \\\n",
       "10771  [Bluetooth, CD player, Digital radio, Hands-fr...   \n",
       "10826  [Bluetooth, CD player, Digital radio, Hands-fr...   \n",
       "12897                     [Bluetooth, On-board computer]   \n",
       "\n",
       "                                              \\nExtras\\n  \\\n",
       "10771  [Alloy wheels, Catalytic Converter, Roof rack,...   \n",
       "10826                      [Touch screen, Voice Control]   \n",
       "12897                                     [Alloy wheels]   \n",
       "\n",
       "                                   \\nSafety & Security\\n    Gears  age  \n",
       "10771  [ABS, Adaptive Cruise Control, Adaptive headli...  [\\n6\\n]    4  \n",
       "10826  [ABS, Adaptive Cruise Control, Central door lo...  [\\n7\\n]    3  \n",
       "12897  [ABS, Central door lock, Driver-side airbag, E...  [\\n6\\n]    1  "
      ]
     },
     "execution_count": 262,
     "metadata": {},
     "output_type": "execute_result"
    }
   ],
   "source": [
    "df[df.Cylinders == \"6\"] # overfitting olmasın diye düzeltilmedi."
   ]
  },
  {
   "cell_type": "code",
   "execution_count": 267,
   "metadata": {},
   "outputs": [
    {
     "data": {
      "text/plain": [
       "4    12573\n",
       "3     3320\n",
       "5       23\n",
       "6        3\n",
       "Name: Cylinders, dtype: int64"
      ]
     },
     "execution_count": 267,
     "metadata": {},
     "output_type": "execute_result"
    }
   ],
   "source": [
    "df[\"Cylinders\"].fillna(method = \"ffill\").value_counts(dropna=False)"
   ]
  },
  {
   "cell_type": "code",
   "execution_count": 270,
   "metadata": {
    "collapsed": true
   },
   "outputs": [
    {
     "data": {
      "text/plain": [
       "Displacement  Cylinders\n",
       "890.0         3               1\n",
       "898.0         NaN           185\n",
       "              3             180\n",
       "              4               9\n",
       "899.0         NaN            11\n",
       "              3               1\n",
       "900.0         NaN             2\n",
       "              4               2\n",
       "929.0         NaN             5\n",
       "973.0         NaN             1\n",
       "995.0         NaN             2\n",
       "996.0         NaN             1\n",
       "997.0         3               4\n",
       "998.0         NaN            39\n",
       "              3              30\n",
       "              4               3\n",
       "999.0         3            1561\n",
       "              NaN           894\n",
       "              4              23\n",
       "1000.0        NaN            25\n",
       "              3              15\n",
       "              4               1\n",
       "1100.0        4               1\n",
       "1149.0        4             195\n",
       "              NaN           112\n",
       "              3               2\n",
       "              5               1\n",
       "1195.0        NaN             1\n",
       "1197.0        NaN           191\n",
       "              4             175\n",
       "1198.0        NaN             1\n",
       "1199.0        4               2\n",
       "              3               1\n",
       "1200.0        NaN            11\n",
       "              4               6\n",
       "              3               1\n",
       "1229.0        4             463\n",
       "              NaN           239\n",
       "              3               1\n",
       "1239.0        4               1\n",
       "Name: Cylinders, dtype: int64"
      ]
     },
     "execution_count": 270,
     "metadata": {},
     "output_type": "execute_result"
    }
   ],
   "source": [
    "df.groupby(\"Displacement\")[\"Cylinders\"].value_counts(dropna=False).head(40)"
   ]
  },
  {
   "cell_type": "code",
   "execution_count": 271,
   "metadata": {},
   "outputs": [],
   "source": [
    "df[\"Cylinders\"].fillna(method = \"ffill\", inplace=True)"
   ]
  },
  {
   "cell_type": "code",
   "execution_count": 273,
   "metadata": {
    "collapsed": true
   },
   "outputs": [
    {
     "data": {
      "text/plain": [
       "Displacement  Cylinders\n",
       "1498.0        3              23\n",
       "1499.0        4               3\n",
       "              3               2\n",
       "1500.0        4              52\n",
       "1533.0        4               1\n",
       "1568.0        4               1\n",
       "1580.0        4               1\n",
       "1584.0        4               1\n",
       "1589.0        4               3\n",
       "1596.0        3               2\n",
       "              4               2\n",
       "1598.0        4            4822\n",
       "              3             121\n",
       "              5               1\n",
       "              6               1\n",
       "1599.0        4               3\n",
       "1600.0        4             131\n",
       "              3               2\n",
       "              6               1\n",
       "1618.0        4             216\n",
       "1686.0        4               1\n",
       "1696.0        4               1\n",
       "1798.0        4             227\n",
       "              3               1\n",
       "1800.0        4               1\n",
       "1856.0        4               1\n",
       "1896.0        4               1\n",
       "1956.0        4             690\n",
       "1968.0        4             304\n",
       "              3               7\n",
       "1984.0        4              13\n",
       "              3               4\n",
       "              5               1\n",
       "1995.0        4               1\n",
       "1997.0        4             109\n",
       "1998.0        4              28\n",
       "2000.0        4              48\n",
       "              3               1\n",
       "2480.0        5              20\n",
       "2967.0        6               1\n",
       "Name: Cylinders, dtype: int64"
      ]
     },
     "execution_count": 273,
     "metadata": {},
     "output_type": "execute_result"
    }
   ],
   "source": [
    "df.groupby(\"Displacement\")[\"Cylinders\"].value_counts(dropna=False).tail(40)"
   ]
  },
  {
   "cell_type": "code",
   "execution_count": 276,
   "metadata": {},
   "outputs": [],
   "source": [
    "df.drop(columns = \"Cylinders\", axis=1, inplace= True) # fiyata etkisi olmadığını değerlendirdik ve çok fazla boş satır mevcut"
   ]
  },
  {
   "cell_type": "code",
   "execution_count": 277,
   "metadata": {},
   "outputs": [],
   "source": [
    "df.columns = df.columns.str.lower()  # sütunları kullanırken yazımı kolaylaştırıp stardartlaştırmak için "
   ]
  },
  {
   "cell_type": "code",
   "execution_count": 279,
   "metadata": {
    "collapsed": true
   },
   "outputs": [
    {
     "name": "stdout",
     "output_type": "stream",
     "text": [
      "<class 'pandas.core.frame.DataFrame'>\n",
      "RangeIndex: 15919 entries, 0 to 15918\n",
      "Data columns (total 24 columns):\n",
      " #   Column                   Non-Null Count  Dtype  \n",
      "---  ------                   --------------  -----  \n",
      " 0   make_model               15919 non-null  object \n",
      " 1   body_type                15919 non-null  object \n",
      " 2   price                    15919 non-null  int64  \n",
      " 3   vat                      15919 non-null  bool   \n",
      " 4   km                       15919 non-null  int64  \n",
      " 5   prev_owner               15919 non-null  int64  \n",
      " 6   hp                       15919 non-null  int32  \n",
      " 7   body color               15919 non-null  object \n",
      " 8   paint type               15919 non-null  object \n",
      " 9   upholstery               15919 non-null  object \n",
      " 10  nr. of doors             15919 non-null  int32  \n",
      " 11  nr. of seats             15919 non-null  int32  \n",
      " 12  gearing type             15919 non-null  object \n",
      " 13  displacement             15919 non-null  float64\n",
      " 14  drive chain              9061 non-null   object \n",
      " 15  fuel                     15919 non-null  object \n",
      " 16  consumption              14013 non-null  object \n",
      " 17  emission class           12898 non-null  object \n",
      " 18  \n",
      "comfort & convenience\n",
      "  14999 non-null  object \n",
      " 19  \n",
      "entertainment & media\n",
      "  14545 non-null  object \n",
      " 20  \n",
      "extras\n",
      "                 12957 non-null  object \n",
      " 21  \n",
      "safety & security\n",
      "      14937 non-null  object \n",
      " 22  gears                    11207 non-null  object \n",
      " 23  age                      15919 non-null  int64  \n",
      "dtypes: bool(1), float64(1), int32(3), int64(4), object(15)\n",
      "memory usage: 2.6+ MB\n"
     ]
    }
   ],
   "source": [
    "df.info()"
   ]
  },
  {
   "cell_type": "code",
   "execution_count": 281,
   "metadata": {
    "collapsed": true
   },
   "outputs": [
    {
     "ename": "TypeError",
     "evalue": "unhashable type: 'list'",
     "output_type": "error",
     "traceback": [
      "\u001b[1;31m---------------------------------------------------------------------------\u001b[0m",
      "\u001b[1;31mTypeError\u001b[0m                                 Traceback (most recent call last)",
      "\u001b[1;32mpandas\\_libs\\hashtable_class_helper.pxi\u001b[0m in \u001b[0;36mpandas._libs.hashtable.PyObjectHashTable.map_locations\u001b[1;34m()\u001b[0m\n",
      "\u001b[1;31mTypeError\u001b[0m: unhashable type: 'list'"
     ]
    },
    {
     "name": "stderr",
     "output_type": "stream",
     "text": [
      "Exception ignored in: 'pandas._libs.index.IndexEngine._call_map_locations'\n",
      "Traceback (most recent call last):\n",
      "  File \"pandas\\_libs\\hashtable_class_helper.pxi\", line 1709, in pandas._libs.hashtable.PyObjectHashTable.map_locations\n",
      "TypeError: unhashable type: 'list'\n"
     ]
    },
    {
     "data": {
      "text/plain": [
       "[\\nfront\\n]    8886\n",
       "NaN            6858\n",
       "[\\n4WD\\n]       171\n",
       "[\\nrear\\n]        4\n",
       "Name: drive chain, dtype: int64"
      ]
     },
     "execution_count": 281,
     "metadata": {},
     "output_type": "execute_result"
    }
   ],
   "source": [
    "df[\"drive chain\"].value_counts(dropna=False)"
   ]
  },
  {
   "cell_type": "code",
   "execution_count": 282,
   "metadata": {},
   "outputs": [
    {
     "data": {
      "text/plain": [
       "0.4308059551479364"
      ]
     },
     "execution_count": 282,
     "metadata": {},
     "output_type": "execute_result"
    }
   ],
   "source": [
    "df[\"drive chain\"].isnull().sum()/15919"
   ]
  },
  {
   "cell_type": "code",
   "execution_count": 283,
   "metadata": {},
   "outputs": [],
   "source": [
    "df.drop(columns = \"drive chain\", axis=1, inplace= True) # fiyata etkisi olmadığını değerlendirdik ve çok fazla boş satır mevcut"
   ]
  },
  {
   "cell_type": "code",
   "execution_count": 284,
   "metadata": {
    "collapsed": true
   },
   "outputs": [
    {
     "name": "stdout",
     "output_type": "stream",
     "text": [
      "<class 'pandas.core.frame.DataFrame'>\n",
      "RangeIndex: 15919 entries, 0 to 15918\n",
      "Data columns (total 23 columns):\n",
      " #   Column                   Non-Null Count  Dtype  \n",
      "---  ------                   --------------  -----  \n",
      " 0   make_model               15919 non-null  object \n",
      " 1   body_type                15919 non-null  object \n",
      " 2   price                    15919 non-null  int64  \n",
      " 3   vat                      15919 non-null  bool   \n",
      " 4   km                       15919 non-null  int64  \n",
      " 5   prev_owner               15919 non-null  int64  \n",
      " 6   hp                       15919 non-null  int32  \n",
      " 7   body color               15919 non-null  object \n",
      " 8   paint type               15919 non-null  object \n",
      " 9   upholstery               15919 non-null  object \n",
      " 10  nr. of doors             15919 non-null  int32  \n",
      " 11  nr. of seats             15919 non-null  int32  \n",
      " 12  gearing type             15919 non-null  object \n",
      " 13  displacement             15919 non-null  float64\n",
      " 14  fuel                     15919 non-null  object \n",
      " 15  consumption              14013 non-null  object \n",
      " 16  emission class           12898 non-null  object \n",
      " 17  \n",
      "comfort & convenience\n",
      "  14999 non-null  object \n",
      " 18  \n",
      "entertainment & media\n",
      "  14545 non-null  object \n",
      " 19  \n",
      "extras\n",
      "                 12957 non-null  object \n",
      " 20  \n",
      "safety & security\n",
      "      14937 non-null  object \n",
      " 21  gears                    11207 non-null  object \n",
      " 22  age                      15919 non-null  int64  \n",
      "dtypes: bool(1), float64(1), int32(3), int64(4), object(14)\n",
      "memory usage: 2.5+ MB\n"
     ]
    }
   ],
   "source": [
    "df.info()"
   ]
  },
  {
   "cell_type": "code",
   "execution_count": 287,
   "metadata": {},
   "outputs": [
    {
     "data": {
      "text/plain": [
       "0.0"
      ]
     },
     "execution_count": 287,
     "metadata": {},
     "output_type": "execute_result"
    }
   ],
   "source": [
    "df['fuel'].isnull().sum()/len(df['fuel'])*100"
   ]
  },
  {
   "cell_type": "code",
   "execution_count": 288,
   "metadata": {
    "collapsed": true
   },
   "outputs": [
    {
     "ename": "TypeError",
     "evalue": "unhashable type: 'list'",
     "output_type": "error",
     "traceback": [
      "\u001b[1;31m---------------------------------------------------------------------------\u001b[0m",
      "\u001b[1;31mTypeError\u001b[0m                                 Traceback (most recent call last)",
      "\u001b[1;32mpandas\\_libs\\hashtable_class_helper.pxi\u001b[0m in \u001b[0;36mpandas._libs.hashtable.PyObjectHashTable.map_locations\u001b[1;34m()\u001b[0m\n",
      "\u001b[1;31mTypeError\u001b[0m: unhashable type: 'list'"
     ]
    },
    {
     "name": "stderr",
     "output_type": "stream",
     "text": [
      "Exception ignored in: 'pandas._libs.index.IndexEngine._call_map_locations'\n",
      "Traceback (most recent call last):\n",
      "  File \"pandas\\_libs\\hashtable_class_helper.pxi\", line 1709, in pandas._libs.hashtable.PyObjectHashTable.map_locations\n",
      "TypeError: unhashable type: 'list'\n"
     ]
    },
    {
     "data": {
      "text/plain": [
       "[\\n, Diesel (Particulate Filter), \\n]                                                                                  4315\n",
       "[\\n, Super 95, \\n]                                                                                                     3338\n",
       "[\\n, Gasoline, \\n]                                                                                                     3175\n",
       "[\\n, Diesel, \\n]                                                                                                       2984\n",
       "[\\n, Super 95 / Regular/Benzine 91, \\n]                                                                                 424\n",
       "                                                                                                                       ... \n",
       "[\\n, Super Plus 98 / Super E10 95, \\n]                                                                                    1\n",
       "[\\n, Regular/Benzine 91 / Super 95 / Regular/Benzine E10 91 / Super E10 95 / Super Plus 98 / Super Plus E10 98, \\n]       1\n",
       "[\\n, Super 95 / Regular/Benzine 91 / Super Plus 98 / Regular/Benzine E10 91 / Super Plus E10 98 / Super E10 95, \\n]       1\n",
       "[\\n, Super 95 / Regular/Benzine 91 / Super E10 95 / Super Plus E10 98 / Super Plus 98, \\n]                                1\n",
       "[\\n, Domestic gas H, \\n]                                                                                                  1\n",
       "Name: fuel, Length: 77, dtype: int64"
      ]
     },
     "execution_count": 288,
     "metadata": {},
     "output_type": "execute_result"
    }
   ],
   "source": [
    "df.fuel.value_counts(dropna=False)"
   ]
  },
  {
   "cell_type": "code",
   "execution_count": 290,
   "metadata": {
    "collapsed": true
   },
   "outputs": [
    {
     "data": {
      "text/plain": [
       "<bound method Series.unique of 0                    [\\n, Diesel (Particulate Filter), \\n]\n",
       "1                                       [\\n, Gasoline, \\n]\n",
       "2                    [\\n, Diesel (Particulate Filter), \\n]\n",
       "3                    [\\n, Diesel (Particulate Filter), \\n]\n",
       "4                    [\\n, Diesel (Particulate Filter), \\n]\n",
       "                               ...                        \n",
       "15914                [\\n, Diesel (Particulate Filter), \\n]\n",
       "15915    [\\n, Super 95 / Super Plus 98 (Particulate Fil...\n",
       "15916                                     [\\n, Diesel, \\n]\n",
       "15917                                     [\\n, Diesel, \\n]\n",
       "15918                                   [\\n, Super 95, \\n]\n",
       "Name: fuel, Length: 15919, dtype: object>"
      ]
     },
     "execution_count": 290,
     "metadata": {},
     "output_type": "execute_result"
    }
   ],
   "source": [
    "df.fuel.unique"
   ]
  },
  {
   "cell_type": "code",
   "execution_count": 292,
   "metadata": {
    "collapsed": true
   },
   "outputs": [
    {
     "data": {
      "text/plain": [
       "0                          Diesel (Particulate Filter)\n",
       "1                                             Gasoline\n",
       "2                          Diesel (Particulate Filter)\n",
       "3                          Diesel (Particulate Filter)\n",
       "4                          Diesel (Particulate Filter)\n",
       "                             ...                      \n",
       "15914                      Diesel (Particulate Filter)\n",
       "15915    Super 95 / Super Plus 98 (Particulate Filter)\n",
       "15916                                           Diesel\n",
       "15917                                           Diesel\n",
       "15918                                         Super 95\n",
       "Name: fuel, Length: 15919, dtype: object"
      ]
     },
     "execution_count": 292,
     "metadata": {},
     "output_type": "execute_result"
    }
   ],
   "source": [
    "df.fuel.str[1]"
   ]
  },
  {
   "cell_type": "code",
   "execution_count": 293,
   "metadata": {},
   "outputs": [],
   "source": [
    "df[\"fuel_type\"] = df.fuel.str[1]"
   ]
  },
  {
   "cell_type": "code",
   "execution_count": 300,
   "metadata": {},
   "outputs": [],
   "source": [
    "diesel_bool = df[\"fuel_type\"].str.contains(\"diesel\", case = False, regex = True)\n"
   ]
  },
  {
   "cell_type": "code",
   "execution_count": 295,
   "metadata": {},
   "outputs": [],
   "source": [
    "lpg_bool = df[\"fuel_type\"].str.contains(\"lpg|cng|bio|domestic|electric\", case = False, regex = True)"
   ]
  },
  {
   "cell_type": "code",
   "execution_count": 296,
   "metadata": {},
   "outputs": [],
   "source": [
    "df.loc[diesel_bool, \"fuel_type\"] = \"Diesel\""
   ]
  },
  {
   "cell_type": "code",
   "execution_count": 297,
   "metadata": {},
   "outputs": [],
   "source": [
    "df.loc[lpg_bool, \"fuel_type\"] = \"LPG/CNG\""
   ]
  },
  {
   "cell_type": "code",
   "execution_count": 305,
   "metadata": {
    "collapsed": true
   },
   "outputs": [
    {
     "data": {
      "text/plain": [
       "[1,\n",
       " 9,\n",
       " 11,\n",
       " 12,\n",
       " 13,\n",
       " 14,\n",
       " 18,\n",
       " 21,\n",
       " 22,\n",
       " 24,\n",
       " 25,\n",
       " 26,\n",
       " 27,\n",
       " 29,\n",
       " 32,\n",
       " 35,\n",
       " 36,\n",
       " 38,\n",
       " 40,\n",
       " 45,\n",
       " 48,\n",
       " 49,\n",
       " 51,\n",
       " 52,\n",
       " 55,\n",
       " 56,\n",
       " 57,\n",
       " 59,\n",
       " 61,\n",
       " 62,\n",
       " 65,\n",
       " 67,\n",
       " 68,\n",
       " 69,\n",
       " 70,\n",
       " 71,\n",
       " 72,\n",
       " 73,\n",
       " 74,\n",
       " 76,\n",
       " 77,\n",
       " 78,\n",
       " 82,\n",
       " 86,\n",
       " 88,\n",
       " 89,\n",
       " 90,\n",
       " 92,\n",
       " 93,\n",
       " 94,\n",
       " 99,\n",
       " 109,\n",
       " 112,\n",
       " 114,\n",
       " 115,\n",
       " 116,\n",
       " 117,\n",
       " 119,\n",
       " 121,\n",
       " 122,\n",
       " 124,\n",
       " 125,\n",
       " 127,\n",
       " 128,\n",
       " 129,\n",
       " 132,\n",
       " 133,\n",
       " 134,\n",
       " 135,\n",
       " 136,\n",
       " 137,\n",
       " 139,\n",
       " 140,\n",
       " 144,\n",
       " 146,\n",
       " 147,\n",
       " 149,\n",
       " 150,\n",
       " 151,\n",
       " 153,\n",
       " 155,\n",
       " 156,\n",
       " 159,\n",
       " 160,\n",
       " 161,\n",
       " 163,\n",
       " 164,\n",
       " 165,\n",
       " 168,\n",
       " 169,\n",
       " 173,\n",
       " 174,\n",
       " 177,\n",
       " 178,\n",
       " 179,\n",
       " 180,\n",
       " 181,\n",
       " 182,\n",
       " 183,\n",
       " 184,\n",
       " 185,\n",
       " 186,\n",
       " 190,\n",
       " 192,\n",
       " 194,\n",
       " 195,\n",
       " 196,\n",
       " 197,\n",
       " 199,\n",
       " 200,\n",
       " 201,\n",
       " 202,\n",
       " 203,\n",
       " 204,\n",
       " 208,\n",
       " 210,\n",
       " 211,\n",
       " 212,\n",
       " 213,\n",
       " 214,\n",
       " 215,\n",
       " 216,\n",
       " 217,\n",
       " 220,\n",
       " 221,\n",
       " 222,\n",
       " 223,\n",
       " 224,\n",
       " 225,\n",
       " 228,\n",
       " 231,\n",
       " 234,\n",
       " 235,\n",
       " 236,\n",
       " 237,\n",
       " 238,\n",
       " 239,\n",
       " 241,\n",
       " 242,\n",
       " 243,\n",
       " 245,\n",
       " 246,\n",
       " 249,\n",
       " 252,\n",
       " 253,\n",
       " 255,\n",
       " 256,\n",
       " 257,\n",
       " 258,\n",
       " 263,\n",
       " 265,\n",
       " 266,\n",
       " 267,\n",
       " 269,\n",
       " 272,\n",
       " 273,\n",
       " 274,\n",
       " 276,\n",
       " 277,\n",
       " 278,\n",
       " 279,\n",
       " 281,\n",
       " 282,\n",
       " 284,\n",
       " 286,\n",
       " 299,\n",
       " 303,\n",
       " 305,\n",
       " 309,\n",
       " 323,\n",
       " 330,\n",
       " 334,\n",
       " 335,\n",
       " 348,\n",
       " 353,\n",
       " 363,\n",
       " 364,\n",
       " 365,\n",
       " 366,\n",
       " 368,\n",
       " 370,\n",
       " 372,\n",
       " 380,\n",
       " 381,\n",
       " 382,\n",
       " 386,\n",
       " 387,\n",
       " 390,\n",
       " 392,\n",
       " 396,\n",
       " 399,\n",
       " 401,\n",
       " 403,\n",
       " 406,\n",
       " 408,\n",
       " 409,\n",
       " 411,\n",
       " 414,\n",
       " 415,\n",
       " 416,\n",
       " 420,\n",
       " 421,\n",
       " 423,\n",
       " 424,\n",
       " 427,\n",
       " 429,\n",
       " 430,\n",
       " 431,\n",
       " 432,\n",
       " 433,\n",
       " 436,\n",
       " 439,\n",
       " 440,\n",
       " 442,\n",
       " 445,\n",
       " 447,\n",
       " 448,\n",
       " 451,\n",
       " 452,\n",
       " 453,\n",
       " 455,\n",
       " 456,\n",
       " 457,\n",
       " 458,\n",
       " 460,\n",
       " 461,\n",
       " 462,\n",
       " 463,\n",
       " 466,\n",
       " 475,\n",
       " 476,\n",
       " 477,\n",
       " 481,\n",
       " 482,\n",
       " 487,\n",
       " 489,\n",
       " 491,\n",
       " 493,\n",
       " 494,\n",
       " 495,\n",
       " 496,\n",
       " 500,\n",
       " 502,\n",
       " 505,\n",
       " 507,\n",
       " 508,\n",
       " 509,\n",
       " 510,\n",
       " 511,\n",
       " 513,\n",
       " 515,\n",
       " 516,\n",
       " 519,\n",
       " 520,\n",
       " 521,\n",
       " 522,\n",
       " 523,\n",
       " 525,\n",
       " 526,\n",
       " 527,\n",
       " 533,\n",
       " 534,\n",
       " 535,\n",
       " 537,\n",
       " 538,\n",
       " 539,\n",
       " 540,\n",
       " 541,\n",
       " 542,\n",
       " 543,\n",
       " 544,\n",
       " 545,\n",
       " 549,\n",
       " 550,\n",
       " 552,\n",
       " 555,\n",
       " 556,\n",
       " 559,\n",
       " 561,\n",
       " 567,\n",
       " 568,\n",
       " 571,\n",
       " 574,\n",
       " 576,\n",
       " 578,\n",
       " 579,\n",
       " 582,\n",
       " 583,\n",
       " 584,\n",
       " 585,\n",
       " 586,\n",
       " 587,\n",
       " 589,\n",
       " 591,\n",
       " 592,\n",
       " 594,\n",
       " 597,\n",
       " 599,\n",
       " 600,\n",
       " 603,\n",
       " 604,\n",
       " 606,\n",
       " 607,\n",
       " 608,\n",
       " 610,\n",
       " 611,\n",
       " 612,\n",
       " 614,\n",
       " 615,\n",
       " 617,\n",
       " 618,\n",
       " 620,\n",
       " 621,\n",
       " 622,\n",
       " 623,\n",
       " 624,\n",
       " 625,\n",
       " 627,\n",
       " 628,\n",
       " 631,\n",
       " 634,\n",
       " 635,\n",
       " 637,\n",
       " 639,\n",
       " 640,\n",
       " 643,\n",
       " 645,\n",
       " 649,\n",
       " 650,\n",
       " 651,\n",
       " 652,\n",
       " 654,\n",
       " 657,\n",
       " 658,\n",
       " 659,\n",
       " 660,\n",
       " 663,\n",
       " 664,\n",
       " 668,\n",
       " 673,\n",
       " 674,\n",
       " 675,\n",
       " 676,\n",
       " 677,\n",
       " 679,\n",
       " 683,\n",
       " 685,\n",
       " 686,\n",
       " 687,\n",
       " 688,\n",
       " 690,\n",
       " 691,\n",
       " 693,\n",
       " 694,\n",
       " 696,\n",
       " 697,\n",
       " 699,\n",
       " 700,\n",
       " 701,\n",
       " 702,\n",
       " 704,\n",
       " 706,\n",
       " 707,\n",
       " 709,\n",
       " 710,\n",
       " 713,\n",
       " 714,\n",
       " 717,\n",
       " 718,\n",
       " 721,\n",
       " 722,\n",
       " 723,\n",
       " 724,\n",
       " 725,\n",
       " 726,\n",
       " 727,\n",
       " 728,\n",
       " 731,\n",
       " 732,\n",
       " 733,\n",
       " 734,\n",
       " 736,\n",
       " 737,\n",
       " 738,\n",
       " 739,\n",
       " 740,\n",
       " 741,\n",
       " 742,\n",
       " 743,\n",
       " 744,\n",
       " 750,\n",
       " 753,\n",
       " 754,\n",
       " 755,\n",
       " 756,\n",
       " 757,\n",
       " 758,\n",
       " 761,\n",
       " 763,\n",
       " 764,\n",
       " 765,\n",
       " 767,\n",
       " 769,\n",
       " 771,\n",
       " 778,\n",
       " 783,\n",
       " 785,\n",
       " 792,\n",
       " 798,\n",
       " 799,\n",
       " 803,\n",
       " 806,\n",
       " 807,\n",
       " 808,\n",
       " 809,\n",
       " 812,\n",
       " 814,\n",
       " 815,\n",
       " 816,\n",
       " 819,\n",
       " 820,\n",
       " 823,\n",
       " 827,\n",
       " 829,\n",
       " 830,\n",
       " 831,\n",
       " 834,\n",
       " 835,\n",
       " 836,\n",
       " 837,\n",
       " 839,\n",
       " 840,\n",
       " 841,\n",
       " 842,\n",
       " 843,\n",
       " 845,\n",
       " 846,\n",
       " 847,\n",
       " 851,\n",
       " 852,\n",
       " 853,\n",
       " 855,\n",
       " 856,\n",
       " 857,\n",
       " 858,\n",
       " 859,\n",
       " 862,\n",
       " 863,\n",
       " 864,\n",
       " 865,\n",
       " 867,\n",
       " 869,\n",
       " 870,\n",
       " 871,\n",
       " 872,\n",
       " 874,\n",
       " 875,\n",
       " 879,\n",
       " 880,\n",
       " 882,\n",
       " 883,\n",
       " 884,\n",
       " 886,\n",
       " 887,\n",
       " 889,\n",
       " 891,\n",
       " 892,\n",
       " 893,\n",
       " 894,\n",
       " 896,\n",
       " 897,\n",
       " 898,\n",
       " 899,\n",
       " 902,\n",
       " 903,\n",
       " 905,\n",
       " 906,\n",
       " 907,\n",
       " 908,\n",
       " 910,\n",
       " 911,\n",
       " 912,\n",
       " 913,\n",
       " 914,\n",
       " 915,\n",
       " 916,\n",
       " 917,\n",
       " 919,\n",
       " 923,\n",
       " 924,\n",
       " 927,\n",
       " 928,\n",
       " 929,\n",
       " 930,\n",
       " 933,\n",
       " 939,\n",
       " 940,\n",
       " 941,\n",
       " 942,\n",
       " 943,\n",
       " 944,\n",
       " 945,\n",
       " 946,\n",
       " 947,\n",
       " 948,\n",
       " 949,\n",
       " 950,\n",
       " 952,\n",
       " 953,\n",
       " 954,\n",
       " 955,\n",
       " 956,\n",
       " 957,\n",
       " 958,\n",
       " 959,\n",
       " 960,\n",
       " 961,\n",
       " 963,\n",
       " 964,\n",
       " 965,\n",
       " 966,\n",
       " 967,\n",
       " 968,\n",
       " 969,\n",
       " 970,\n",
       " 971,\n",
       " 972,\n",
       " 973,\n",
       " 974,\n",
       " 975,\n",
       " 976,\n",
       " 977,\n",
       " 978,\n",
       " 980,\n",
       " 982,\n",
       " 984,\n",
       " 985,\n",
       " 986,\n",
       " 987,\n",
       " 988,\n",
       " 989,\n",
       " 990,\n",
       " 991,\n",
       " 992,\n",
       " 994,\n",
       " 995,\n",
       " 996,\n",
       " 1002,\n",
       " 1004,\n",
       " 1005,\n",
       " 1006,\n",
       " 1008,\n",
       " 1009,\n",
       " 1010,\n",
       " 1012,\n",
       " 1013,\n",
       " 1014,\n",
       " 1015,\n",
       " 1016,\n",
       " 1017,\n",
       " 1018,\n",
       " 1020,\n",
       " 1022,\n",
       " 1023,\n",
       " 1024,\n",
       " 1026,\n",
       " 1027,\n",
       " 1028,\n",
       " 1029,\n",
       " 1033,\n",
       " 1036,\n",
       " 1038,\n",
       " 1039,\n",
       " 1042,\n",
       " 1043,\n",
       " 1048,\n",
       " 1050,\n",
       " 1051,\n",
       " 1052,\n",
       " 1053,\n",
       " 1054,\n",
       " 1055,\n",
       " 1056,\n",
       " 1057,\n",
       " 1058,\n",
       " 1059,\n",
       " 1060,\n",
       " 1061,\n",
       " 1062,\n",
       " 1063,\n",
       " 1064,\n",
       " 1066,\n",
       " 1067,\n",
       " 1069,\n",
       " 1070,\n",
       " 1071,\n",
       " 1072,\n",
       " 1076,\n",
       " 1077,\n",
       " 1079,\n",
       " 1080,\n",
       " 1081,\n",
       " 1082,\n",
       " 1083,\n",
       " 1084,\n",
       " 1085,\n",
       " 1086,\n",
       " 1087,\n",
       " 1088,\n",
       " 1089,\n",
       " 1090,\n",
       " 1091,\n",
       " 1092,\n",
       " 1093,\n",
       " 1094,\n",
       " 1098,\n",
       " 1100,\n",
       " 1101,\n",
       " 1102,\n",
       " 1103,\n",
       " 1105,\n",
       " 1106,\n",
       " 1107,\n",
       " 1109,\n",
       " 1110,\n",
       " 1111,\n",
       " 1112,\n",
       " 1113,\n",
       " 1114,\n",
       " 1115,\n",
       " 1116,\n",
       " 1117,\n",
       " 1118,\n",
       " 1120,\n",
       " 1122,\n",
       " 1125,\n",
       " 1126,\n",
       " 1128,\n",
       " 1129,\n",
       " 1130,\n",
       " 1134,\n",
       " 1135,\n",
       " 1136,\n",
       " 1138,\n",
       " 1139,\n",
       " 1140,\n",
       " 1141,\n",
       " 1142,\n",
       " 1143,\n",
       " 1145,\n",
       " 1148,\n",
       " 1149,\n",
       " 1150,\n",
       " 1151,\n",
       " 1153,\n",
       " 1154,\n",
       " 1155,\n",
       " 1156,\n",
       " 1157,\n",
       " 1158,\n",
       " 1159,\n",
       " 1161,\n",
       " 1162,\n",
       " 1167,\n",
       " 1169,\n",
       " 1172,\n",
       " 1175,\n",
       " 1177,\n",
       " 1178,\n",
       " 1182,\n",
       " 1183,\n",
       " 1184,\n",
       " 1186,\n",
       " 1187,\n",
       " 1188,\n",
       " 1195,\n",
       " 1199,\n",
       " 1200,\n",
       " 1201,\n",
       " 1209,\n",
       " 1211,\n",
       " 1212,\n",
       " 1213,\n",
       " 1215,\n",
       " 1216,\n",
       " 1217,\n",
       " 1219,\n",
       " 1221,\n",
       " 1225,\n",
       " 1226,\n",
       " 1227,\n",
       " 1228,\n",
       " 1229,\n",
       " 1230,\n",
       " 1231,\n",
       " 1232,\n",
       " 1233,\n",
       " 1234,\n",
       " 1235,\n",
       " 1236,\n",
       " 1237,\n",
       " 1238,\n",
       " 1239,\n",
       " 1240,\n",
       " 1241,\n",
       " 1242,\n",
       " 1243,\n",
       " 1244,\n",
       " 1245,\n",
       " 1246,\n",
       " 1247,\n",
       " 1248,\n",
       " 1254,\n",
       " 1255,\n",
       " 1256,\n",
       " 1258,\n",
       " 1259,\n",
       " 1260,\n",
       " 1261,\n",
       " 1262,\n",
       " 1264,\n",
       " 1265,\n",
       " 1266,\n",
       " 1268,\n",
       " 1270,\n",
       " 1271,\n",
       " 1272,\n",
       " 1273,\n",
       " 1274,\n",
       " 1275,\n",
       " 1276,\n",
       " 1278,\n",
       " 1279,\n",
       " 1281,\n",
       " 1282,\n",
       " 1290,\n",
       " 1291,\n",
       " 1294,\n",
       " 1295,\n",
       " 1301,\n",
       " 1303,\n",
       " 1304,\n",
       " 1306,\n",
       " 1307,\n",
       " 1312,\n",
       " 1313,\n",
       " 1314,\n",
       " 1315,\n",
       " 1317,\n",
       " 1319,\n",
       " 1320,\n",
       " 1321,\n",
       " 1324,\n",
       " 1325,\n",
       " 1326,\n",
       " 1327,\n",
       " 1328,\n",
       " 1329,\n",
       " 1330,\n",
       " 1331,\n",
       " 1332,\n",
       " 1333,\n",
       " 1334,\n",
       " 1337,\n",
       " 1339,\n",
       " 1340,\n",
       " 1343,\n",
       " 1347,\n",
       " 1349,\n",
       " 1351,\n",
       " 1352,\n",
       " 1353,\n",
       " 1354,\n",
       " 1355,\n",
       " 1358,\n",
       " 1359,\n",
       " 1361,\n",
       " 1362,\n",
       " 1363,\n",
       " 1365,\n",
       " 1366,\n",
       " 1367,\n",
       " 1368,\n",
       " 1369,\n",
       " 1370,\n",
       " 1371,\n",
       " 1372,\n",
       " 1373,\n",
       " 1374,\n",
       " 1375,\n",
       " 1376,\n",
       " 1379,\n",
       " 1380,\n",
       " 1381,\n",
       " 1383,\n",
       " 1386,\n",
       " 1388,\n",
       " 1390,\n",
       " 1391,\n",
       " 1392,\n",
       " 1393,\n",
       " 1394,\n",
       " 1395,\n",
       " 1398,\n",
       " 1399,\n",
       " 1400,\n",
       " 1401,\n",
       " 1402,\n",
       " 1405,\n",
       " 1406,\n",
       " 1407,\n",
       " 1410,\n",
       " 1411,\n",
       " 1412,\n",
       " 1413,\n",
       " 1416,\n",
       " 1417,\n",
       " 1418,\n",
       " 1419,\n",
       " 1420,\n",
       " 1421,\n",
       " 1422,\n",
       " 1423,\n",
       " 1424,\n",
       " 1425,\n",
       " 1427,\n",
       " 1429,\n",
       " 1430,\n",
       " 1431,\n",
       " 1432,\n",
       " 1433,\n",
       " 1434,\n",
       " 1438,\n",
       " 1440,\n",
       " 1441,\n",
       " 1442,\n",
       " 1443,\n",
       " 1445,\n",
       " 1453,\n",
       " 1456,\n",
       " 1457,\n",
       " 1458,\n",
       " 1459,\n",
       " 1460,\n",
       " 1461,\n",
       " 1462,\n",
       " 1463,\n",
       " 1464,\n",
       " 1465,\n",
       " 1466,\n",
       " 1467,\n",
       " 1471,\n",
       " 1472,\n",
       " 1473,\n",
       " 1474,\n",
       " 1476,\n",
       " 1477,\n",
       " 1479,\n",
       " 1480,\n",
       " 1481,\n",
       " 1491,\n",
       " 1496,\n",
       " 1497,\n",
       " 1499,\n",
       " 1500,\n",
       " 1502,\n",
       " 1503,\n",
       " 1504,\n",
       " 1515,\n",
       " 1516,\n",
       " 1517,\n",
       " 1518,\n",
       " 1520,\n",
       " 1523,\n",
       " 1527,\n",
       " 1528,\n",
       " 1529,\n",
       " 1530,\n",
       " 1533,\n",
       " 1537,\n",
       " 1543,\n",
       " 1545,\n",
       " 1546,\n",
       " 1547,\n",
       " 1549,\n",
       " 1550,\n",
       " 1551,\n",
       " 1552,\n",
       " 1553,\n",
       " 1560,\n",
       " 1561,\n",
       " 1562,\n",
       " 1563,\n",
       " 1564,\n",
       " 1565,\n",
       " 1566,\n",
       " 1567,\n",
       " 1568,\n",
       " 1569,\n",
       " 1570,\n",
       " 1571,\n",
       " 1572,\n",
       " 1573,\n",
       " 1574,\n",
       " 1575,\n",
       " 1576,\n",
       " 1580,\n",
       " 1581,\n",
       " 1582,\n",
       " 1584,\n",
       " 1585,\n",
       " 1586,\n",
       " 1587,\n",
       " 1588,\n",
       " 1589,\n",
       " 1590,\n",
       " 1591,\n",
       " 1593,\n",
       " 1594,\n",
       " 1595,\n",
       " 1596,\n",
       " 1597,\n",
       " 1598,\n",
       " 1599,\n",
       " 1600,\n",
       " 1601,\n",
       " 1602,\n",
       " 1603,\n",
       " 1604,\n",
       " 1605,\n",
       " 1606,\n",
       " 1607,\n",
       " 1608,\n",
       " 1609,\n",
       " 1610,\n",
       " 1611,\n",
       " 1612,\n",
       " 1613,\n",
       " 1614,\n",
       " 1615,\n",
       " 1616,\n",
       " 1617,\n",
       " 1618,\n",
       " 1619,\n",
       " 1620,\n",
       " 1621,\n",
       " 1623,\n",
       " 1624,\n",
       " 1625,\n",
       " 1627,\n",
       " 1629,\n",
       " 1630,\n",
       " 1631,\n",
       " 1632,\n",
       " 1633,\n",
       " 1634,\n",
       " 1635,\n",
       " 1636,\n",
       " 1637,\n",
       " 1638,\n",
       " 1639,\n",
       " 1640,\n",
       " 1641,\n",
       " 1642,\n",
       " 1643,\n",
       " 1644,\n",
       " 1645,\n",
       " 1646,\n",
       " 1647,\n",
       " 1648,\n",
       " 1649,\n",
       " 1650,\n",
       " 1651,\n",
       " 1652,\n",
       " 1653,\n",
       " 1654,\n",
       " 1655,\n",
       " 1656,\n",
       " 1657,\n",
       " 1658,\n",
       " 1659,\n",
       " 1660,\n",
       " 1662,\n",
       " 1663,\n",
       " 1666,\n",
       " 1667,\n",
       " 1668,\n",
       " 1669,\n",
       " 1670,\n",
       " 1671,\n",
       " 1672,\n",
       " 1673,\n",
       " 1677,\n",
       " 1678,\n",
       " 1680,\n",
       " 1682,\n",
       " 1683,\n",
       " 1684,\n",
       " 1685,\n",
       " 1686,\n",
       " ...]"
      ]
     },
     "execution_count": 305,
     "metadata": {},
     "output_type": "execute_result"
    }
   ],
   "source": [
    "benz_list = list(df.fuel_type.loc[~diesel_bool].loc[~lpg_bool].index)\n",
    "benz_list"
   ]
  },
  {
   "cell_type": "code",
   "execution_count": 306,
   "metadata": {},
   "outputs": [],
   "source": [
    "df.fuel_type.iloc[benz_list] = \"Benzine\""
   ]
  },
  {
   "cell_type": "code",
   "execution_count": 307,
   "metadata": {},
   "outputs": [
    {
     "data": {
      "text/plain": [
       "Benzine    8550\n",
       "Diesel     7299\n",
       "LPG/CNG      70\n",
       "Name: fuel_type, dtype: int64"
      ]
     },
     "execution_count": 307,
     "metadata": {},
     "output_type": "execute_result"
    }
   ],
   "source": [
    "df.fuel_type.value_counts(dropna=False)"
   ]
  },
  {
   "cell_type": "code",
   "execution_count": 309,
   "metadata": {},
   "outputs": [],
   "source": [
    "df.drop(columns=\"fuel\", axis=1, inplace=True)"
   ]
  },
  {
   "cell_type": "code",
   "execution_count": 311,
   "metadata": {},
   "outputs": [
    {
     "name": "stdout",
     "output_type": "stream",
     "text": [
      "<class 'pandas.core.frame.DataFrame'>\n",
      "RangeIndex: 15919 entries, 0 to 15918\n",
      "Data columns (total 23 columns):\n",
      " #   Column                   Non-Null Count  Dtype  \n",
      "---  ------                   --------------  -----  \n",
      " 0   make_model               15919 non-null  object \n",
      " 1   body_type                15919 non-null  object \n",
      " 2   price                    15919 non-null  int64  \n",
      " 3   vat                      15919 non-null  bool   \n",
      " 4   km                       15919 non-null  int64  \n",
      " 5   prev_owner               15919 non-null  int64  \n",
      " 6   hp                       15919 non-null  int32  \n",
      " 7   body color               15919 non-null  object \n",
      " 8   paint type               15919 non-null  object \n",
      " 9   upholstery               15919 non-null  object \n",
      " 10  nr. of doors             15919 non-null  int32  \n",
      " 11  nr. of seats             15919 non-null  int32  \n",
      " 12  gearing type             15919 non-null  object \n",
      " 13  displacement             15919 non-null  float64\n",
      " 14  consumption              14013 non-null  object \n",
      " 15  emission class           12898 non-null  object \n",
      " 16  \n",
      "comfort & convenience\n",
      "  14999 non-null  object \n",
      " 17  \n",
      "entertainment & media\n",
      "  14545 non-null  object \n",
      " 18  \n",
      "extras\n",
      "                 12957 non-null  object \n",
      " 19  \n",
      "safety & security\n",
      "      14937 non-null  object \n",
      " 20  gears                    11207 non-null  object \n",
      " 21  age                      15919 non-null  int64  \n",
      " 22  fuel_type                15919 non-null  object \n",
      "dtypes: bool(1), float64(1), int32(3), int64(4), object(14)\n",
      "memory usage: 2.5+ MB\n"
     ]
    }
   ],
   "source": [
    "df.info() #sina ile burada kaldık\n"
   ]
  },
  {
   "cell_type": "code",
   "execution_count": null,
   "metadata": {},
   "outputs": [],
   "source": []
  },
  {
   "cell_type": "code",
   "execution_count": null,
   "metadata": {},
   "outputs": [],
   "source": []
  },
  {
   "cell_type": "code",
   "execution_count": null,
   "metadata": {},
   "outputs": [],
   "source": []
  },
  {
   "cell_type": "code",
   "execution_count": null,
   "metadata": {},
   "outputs": [],
   "source": []
  },
  {
   "cell_type": "code",
   "execution_count": null,
   "metadata": {},
   "outputs": [],
   "source": []
  },
  {
   "cell_type": "code",
   "execution_count": null,
   "metadata": {},
   "outputs": [],
   "source": []
  }
 ],
 "metadata": {
  "kernelspec": {
   "display_name": "Python 3",
   "language": "python",
   "name": "python3"
  },
  "language_info": {
   "codemirror_mode": {
    "name": "ipython",
    "version": 3
   },
   "file_extension": ".py",
   "mimetype": "text/x-python",
   "name": "python",
   "nbconvert_exporter": "python",
   "pygments_lexer": "ipython3",
   "version": "3.8.5"
  }
 },
 "nbformat": 4,
 "nbformat_minor": 4
}
